{
 "cells": [
  {
   "cell_type": "markdown",
   "metadata": {},
   "source": [
    "## Open notebook in: \n",
    "| Colab                                 | Kaggle                                        | Gradient                                                                                                                                         |\n",
    "|:-------------------------------------------------------------------------------------------------------------------------------------------------------------------------------------------------------------------|:-------------------------------------------------------------------------------------------------------------------------------------------------------------------------------------------------|:-----------------------------------------------------------------------------------------------------------------------------------------------------------------------------------------------------------------------|\n",
    "[![Open In Colab](https://colab.research.google.com/assets/colab-badge.svg)](https://colab.research.google.com/github/Nicolepcx/Transformers-in-Action/blob/main/CH02/chapter_02_code_examples.ipynb)                       | [![Kaggle](https://kaggle.com/static/images/open-in-kaggle.svg)](https://kaggle.com/kernels/welcome?src=https://github.com//Nicolepcx/Transformers-in-Action/blob/main/CH02/chapter_02_code_examples.ipynb)                       | [![Gradient](https://assets.paperspace.io/img/gradient-badge.svg)](https://console.paperspace.com/github/Nicolepcx/Transformers-in-Action/blob/main/CH02/chapter_02_code_examples.ipynb)|             "
   ]
  },
  {
   "cell_type": "markdown",
   "metadata": {
    "id": "EX7XaDkqM_c7"
   },
   "source": [
    "# About this Notebook\n",
    "\n",
    "This jupyter notebook is the accompanying notebook for chapter 2 of the book \"Transformers in Action\". Where we look more closely at the Transformer architecture: \n",
    "\n",
    "![Transformer architecture](https://drive.google.com/uc?id=1-PKs-MiqCc59EIObZ6BwMh73NvyqH2cq)\n",
    "\n",
    "The notebook provides code for: \n",
    "\n",
    "- Gradient-comparison of an RNN and Transformer model\n",
    "- A simplified encoder layer\n",
    "- Future masking example\n",
    "- Softmax scaling example\n",
    "- A simple position-wise feed-forward network\n",
    "- Positional encoding implementation and plotting function\n",
    "- Additive and multiplicative attention implementation and plotting function\n",
    "- Self-attention implementation and plotting function \n",
    "- Function to plot the computational graphs of an LSTM and Transformer model\n"
   ]
  },
  {
   "cell_type": "markdown",
   "metadata": {
    "id": "yzqaYPnPBwXh"
   },
   "source": [
    "# imports"
   ]
  },
  {
   "cell_type": "code",
   "execution_count": 1,
   "metadata": {
    "colab": {
     "base_uri": "https://localhost:8080/"
    },
    "id": "xsl7GackD-3g",
    "outputId": "366f8470-696f-468f-8992-31ffb4224c9a"
   },
   "outputs": [
    {
     "name": "stdout",
     "output_type": "stream",
     "text": [
      "Looking in indexes: https://pypi.org/simple, https://us-python.pkg.dev/colab-wheels/public/simple/\n",
      "Requirement already satisfied: torchviz in /usr/local/lib/python3.8/dist-packages (0.0.2)\n",
      "Requirement already satisfied: graphviz in /usr/local/lib/python3.8/dist-packages (from torchviz) (0.10.1)\n",
      "Requirement already satisfied: torch in /usr/local/lib/python3.8/dist-packages (from torchviz) (1.13.1+cu116)\n",
      "Requirement already satisfied: typing-extensions in /usr/local/lib/python3.8/dist-packages (from torch->torchviz) (4.5.0)\n"
     ]
    }
   ],
   "source": [
    "# Uncomment to install library\n",
    "!pip install torchviz"
   ]
  },
  {
   "cell_type": "code",
   "execution_count": 2,
   "metadata": {
    "id": "fzeja22lB073"
   },
   "outputs": [],
   "source": [
    "import torch\n",
    "import torch.nn as nn\n",
    "import math\n",
    "import torch.nn.functional as F\n",
    "import matplotlib.pyplot as plt\n",
    "import numpy as np\n",
    "from torchviz import make_dot\n",
    "from graphviz import Digraph\n",
    "import torch.optim as optim\n",
    "import torchtext\n",
    "import spacy\n",
    "from matplotlib.colors import ListedColormap\n",
    "\n",
    "\n",
    "# Ignore warnings\n",
    "import warnings \n",
    "warnings.filterwarnings('ignore')"
   ]
  },
  {
   "cell_type": "markdown",
   "metadata": {
    "id": "ZMKGmDZKO-FK"
   },
   "source": [
    "## Gradient-comparison of an RNN and Transformer model"
   ]
  },
  {
   "cell_type": "markdown",
   "metadata": {
    "id": "v_xK1p9dQ1vl"
   },
   "source": [
    "This code defines two models: a simple RNN model with a single LSTM layer and a self-attention model. It then creates a sentence and converts it to a tensor of word embeddings using pre-trained GloVe embeddings. The RNN and self-attention models are then applied to this tensor, and the gradients of the input sequence are computed for both models.\n",
    "\n",
    "The code demonstrates how the gradients for the RNN model and self-attention model differ. The gradients for the RNN model are computed by summing the gradients of each word in the input sequence, while the gradients for the self-attention model are computed directly from the attention weights. This illustrates how the self-attention mechanism in the Transformer architecture can help to mitigate the vanishing gradient problem in RNNs."
   ]
  },
  {
   "cell_type": "code",
   "execution_count": 3,
   "metadata": {
    "id": "DF1XCbsiwy0s"
   },
   "outputs": [],
   "source": [
    "# Load a pre-trained word embedding model\n",
    "glove_vectors = torchtext.vocab.GloVe(name='6B', dim=100)\n",
    "\n",
    "# Define a simple RNN model with a single LSTM layer\n",
    "class SimpleRNN(nn.Module):\n",
    "    \"\"\"\n",
    "    A simple RNN model with a single LSTM layer.\n",
    "\n",
    "    Args:\n",
    "        input_size (int): The size of the input.\n",
    "        hidden_size (int): The size of the hidden layer.\n",
    "        num_layers (int): The number of layers in the LSTM.\n",
    "\n",
    "    Attributes:\n",
    "        rnn (nn.LSTM): The LSTM layer.\n",
    "        fc (nn.Linear): The fully connected output layer.\n",
    "\n",
    "    Methods:\n",
    "        forward(x): Forward pass of the model.\n",
    "\n",
    "    Returns:\n",
    "        torch.Tensor: Output tensor of the model.\n",
    "\n",
    "    \"\"\"\n",
    "    def __init__(self, input_size, hidden_size, num_layers):\n",
    "        super(SimpleRNN, self).__init__()\n",
    "        self.rnn = nn.LSTM(input_size, hidden_size, num_layers)\n",
    "        self.fc = nn.Linear(hidden_size, 1)\n",
    "    \n",
    "    def forward(self, x):\n",
    "        h0 = torch.zeros(self.rnn.num_layers, x.size(1), self.rnn.hidden_size).to(x.device)\n",
    "        c0 = torch.zeros(self.rnn.num_layers, x.size(1), self.rnn.hidden_size).to(x.device)\n",
    "        out, _ = self.rnn(x, (h0, c0))  # Output of shape (seq_len, batch_size, hidden_size)\n",
    "        out = out[-1, :, :]  # Take the last hidden state as the output\n",
    "        out = self.fc(out)\n",
    "        return out\n",
    "\n",
    "# Define a self-attention model\n",
    "class SelfAttention(nn.Module):\n",
    "    \"\"\"\n",
    "    Self-attention model.\n",
    "\n",
    "    Args:\n",
    "        input_size (int): The size of the input.\n",
    "        hidden_size (int): The size of the hidden layer.\n",
    "\n",
    "    Attributes:\n",
    "        query (nn.Linear): The query linear layer.\n",
    "        key (nn.Linear): The key linear layer.\n",
    "        value (nn.Linear): The value linear layer.\n",
    "        softmax (nn.Softmax): The softmax activation function.\n",
    "\n",
    "    Methods:\n",
    "        forward(x): Forward pass of the model.\n",
    "\n",
    "    Returns:\n",
    "        torch.Tensor: Output tensor of the model.\n",
    "\n",
    "    \"\"\"\n",
    "    def __init__(self, input_size, hidden_size):\n",
    "        super(SelfAttention, self).__init__()\n",
    "        self.query = nn.Linear(input_size, hidden_size)\n",
    "        self.key = nn.Linear(input_size, hidden_size)\n",
    "        self.value = nn.Linear(input_size, hidden_size)\n",
    "        self.softmax = nn.Softmax(dim=-1)\n",
    "    \n",
    "    def forward(self, x):\n",
    "        Q = self.query(x)  # Query tensor of shape (seq_len, hidden_size)\n",
    "        K = self.key(x)  # Key tensor of shape (seq_len, hidden_size)\n",
    "        V = self.value(x)  # Value tensor of shape (seq_len, hidden_size)\n",
    "        attention_weights = self.softmax(torch.matmul(Q, K.transpose(-1, -2)) / torch.sqrt(torch.tensor(K.size(-1), dtype=torch.float)))  # Attention weights of shape (seq_len, seq_len)\n",
    "        out = torch.matmul(attention_weights, V)  # Output of shape (seq_len, hidden_size)\n",
    "        return out\n",
    "\n",
    "\n"
   ]
  },
  {
   "cell_type": "code",
   "execution_count": 4,
   "metadata": {
    "colab": {
     "base_uri": "https://localhost:8080/"
    },
    "id": "X-Od0diJy_vn",
    "outputId": "5ff9f2d6-0acd-4c87-8345-975785d12019"
   },
   "outputs": [
    {
     "name": "stdout",
     "output_type": "stream",
     "text": [
      "Gradients for RNN model:\n",
      "tensor([ 1.8642e-06,  2.9300e-06,  2.2280e-06,  3.5569e-06,  9.8836e-06,\n",
      "         1.0310e-05,  9.9921e-06,  2.2174e-05,  2.6846e-05,  2.6116e-05,\n",
      "         8.7927e-05,  8.5729e-05,  1.3431e-04,  1.8049e-04,  2.2535e-04,\n",
      "         1.7213e-04,  4.8340e-04,  7.1175e-04,  9.9857e-04,  1.6600e-03,\n",
      "         2.1433e-03,  3.7129e-03,  4.0189e-03,  5.7624e-03,  1.7868e-02,\n",
      "         6.9307e-03,  3.2868e-02,  1.0413e-01,  3.0542e-01, -1.1142e-02])\n",
      "\n",
      "Gradients for self-attention model:\n",
      "tensor([-0.0035, -0.0042, -0.0024, -0.0028, -0.0044, -0.0039, -0.0035, -0.0033,\n",
      "        -0.0038, -0.0037, -0.0034, -0.0040, -0.0035, -0.0037, -0.0038, -0.0035,\n",
      "        -0.0033, -0.0038, -0.0034, -0.0029, -0.0037, -0.0038, -0.0037, -0.0035,\n",
      "        -0.0042, -0.0024, -0.0028, -0.0040, -0.0035,  0.0049])\n"
     ]
    }
   ],
   "source": [
    "# Define a simple sentence\n",
    "nlp = spacy.load('en_core_web_sm')\n",
    "sentence = nlp(\"The quick brown fox jumps over the lazy dog and runs through the fields, the lazy dog barks loudly and then chases the quick brown fox through the forest\")\n",
    "\n",
    "# Convert the sentence to a tensor of word embeddings\n",
    "x = torch.stack([glove_vectors[word.text.lower()].to(torch.float) for word in sentence], dim=0)\n",
    "x.requires_grad = True\n",
    "\n",
    "# Create an instance of the RNN model and compute the output\n",
    "rnn_model = SimpleRNN(input_size=glove_vectors.dim, hidden_size=16, num_layers=1)\n",
    "rnn_optimizer = optim.SGD(rnn_model.parameters(), lr=0.1)\n",
    "rnn_criterion = nn.MSELoss()\n",
    "rnn_output = rnn_model(x.unsqueeze(1))\n",
    "\n",
    "# Compute the loss and gradients for the RNN model\n",
    "rnn_target = torch.tensor([1.0])\n",
    "rnn_loss = rnn_criterion(rnn_output, rnn_target)\n",
    "rnn_loss.backward(retain_graph=True)\n",
    "\n",
    "# Print the gradients of the input sequence for the RNN model\n",
    "print(\"Gradients for RNN model:\")\n",
    "rnn_grad = x.grad\n",
    "rnn_grad_sum = rnn_grad.sum(dim=1)\n",
    "print(rnn_grad_sum)\n",
    "\n",
    "# Reset gradients to zero before computing gradients for self-attention model\n",
    "x.grad.zero_()\n",
    "\n",
    "# Create an instance of the self-attention model and compute the output\n",
    "attention_model = SelfAttention(input_size=glove_vectors.dim, hidden_size=16)\n",
    "attention_optimizer = optim.SGD(attention_model.parameters(), lr=0.1)\n",
    "attention_criterion = nn.MSELoss()\n",
    "attention_output = attention_model(x)\n",
    "\n",
    "# Compute the loss and gradients for the self-attention model\n",
    "attention_target = torch.tensor([1.0])\n",
    "attention_loss = attention_criterion(attention_output[-1, :], attention_target)\n",
    "attention_loss.backward(retain_graph=True)\n",
    "\n",
    "# Print the gradients of the input sequence for the self-attention model\n",
    "print(\"\\nGradients for self-attention model:\")\n",
    "attention_grad = x.grad\n",
    "attention_grad_sum = attention_grad.sum(dim=1)\n",
    "print(attention_grad_sum)\n"
   ]
  },
  {
   "cell_type": "markdown",
   "metadata": {
    "id": "ss-L-_Hj3f-d"
   },
   "source": [
    "## Encoder Layer"
   ]
  },
  {
   "cell_type": "markdown",
   "metadata": {
    "id": "-V03_70P26n1"
   },
   "source": [
    "\n",
    "![Encoder](https://drive.google.com/uc?id=1imI0se1JFWDDGTD1aQ0bNzHAH--21Uy0)\n",
    "\n",
    "\n",
    "The `EncoderLayer` class represents a single layer in the Transformer encoder architecture. It consists of two sub-layers: a multi-head self-attention mechanism and a position-wise fully connected feedforward network. The self-attention mechanism attends to all positions in the input sequence and computes a weighted sum of the values at each position, where the weights are determined by a dot product between the query and key vectors. The feedforward network consists of two linear transformations with a Gated Linear Unit (GLU) activation function in between. The layer also includes two residual connections and layer normalization for each sub-layer, as well as dropout regularization. The `EncoderLayer` class takes as input the number of features in the input, the number of attention heads, the dimension of the feedforward network, and an optional dropout probability.\n",
    "\n",
    "\n",
    "\n",
    "\n"
   ]
  },
  {
   "cell_type": "code",
   "execution_count": 5,
   "metadata": {
    "id": "quA0HGfn1geR"
   },
   "outputs": [],
   "source": [
    "class EncoderLayer(nn.Module):\n",
    "    \"\"\"\n",
    "    A single encoder layer in the Transformer architecture.\n",
    "\n",
    "    Args:\n",
    "    d_model (int): The number of expected features in the input.\n",
    "    nhead (int): The number of attention heads.\n",
    "    dim_feedforward (int): The dimension of the feedforward network model.\n",
    "    dropout (float, optional): The dropout probability applied to the output. Default: 0.1.\n",
    "\n",
    "    Attributes:\n",
    "    self_attn (nn.MultiheadAttention): The self-attention layer.\n",
    "    feed_forward (nn.Sequential): The feedforward network model.\n",
    "    norm1 (LayerNorm): The first normalization layer.\n",
    "    norm2 (LayerNorm): The second normalization layer.\n",
    "    dropout1 (nn.Dropout): The first dropout layer.\n",
    "    dropout2 (nn.Dropout): The second dropout layer.\n",
    "\n",
    "    Methods:\n",
    "    forward(x, mask=None): Forward pass of the encoder layer.\n",
    "\n",
    "    Returns:\n",
    "    torch.Tensor: Output tensor of the encoder layer.\n",
    "\n",
    "    Examples:\n",
    "    >>> encoder_layer = EncoderLayer(512, 8, 2048, 0.1)\n",
    "    >>> x = torch.randn(32, 100, 512)\n",
    "    >>> output = encoder_layer(x)\n",
    "    \"\"\"\n",
    "    def __init__(self, d_model, nhead, dim_feedforward, dropout=0.1):\n",
    "        super().__init__()\n",
    "        self.self_attn = nn.MultiheadAttention(d_model, nhead, dropout=dropout)        \n",
    "        self.feed_forward = nn.Sequential( \n",
    "            nn.Linear(d_model, 2 * dim_feedforward),\n",
    "            GLU(input_size=dim_feedforward, output_size=d_model),\n",
    "            nn.Dropout(dropout)\n",
    "            )\n",
    "        self.norm1 = LayerNorm(d_model) \n",
    "        self.norm2 = LayerNorm(d_model)\n",
    "        self.dropout1 = nn.Dropout(dropout) \n",
    "        self.dropout2 = nn.Dropout(dropout)\n",
    "\n",
    "    def forward(self, x, mask=None):\n",
    "        \"\"\"\n",
    "        Forward pass of the encoder layer.\n",
    "\n",
    "        Args:\n",
    "            x (torch.Tensor): The input tensor of shape (batch_size, seq_len, d_model).\n",
    "            mask (torch.Tensor, optional): The mask tensor of shape (seq_len, seq_len). Default: None.\n",
    "\n",
    "        Returns:\n",
    "            torch.Tensor: Output tensor of the encoder layer.\n",
    "\n",
    "        \"\"\"\n",
    "        # self-attention layer \n",
    "        attn_output, _ = self.self_attn(x, x, x, attn_mask=mask)\n",
    "        x = x + self.dropout1(attn_output)\n",
    "        x = self.norm1(x)\n",
    "\n",
    "        # feed-forward layer  \n",
    "        ff_output = self.feed_forward(x)\n",
    "        x = x + self.dropout2(ff_output)\n",
    "        x = self.norm2(x)\n",
    "\n",
    "        return x"
   ]
  },
  {
   "cell_type": "markdown",
   "metadata": {
    "id": "MBnaUyWBIiBv"
   },
   "source": [
    "## Future-Masking"
   ]
  },
  {
   "cell_type": "markdown",
   "metadata": {
    "id": "8OlxbyQuRaCw"
   },
   "source": [
    "The following code defines a function called plot_mask that takes an integer n as input and generates a plot of future masking for a sequence of length n. Remember, future masking is a technique used in the Transformer architecture to prevent each position in the output sequence from attending to positions after itself during the self-attention step. The function uses numpy to create a lower triangular matrix of ones and zeros, where the ones correspond to the positions that should be masked to demonstrate this behavior. \n",
    "\n",
    "Mathematical representation of future masking:\n",
    "\n",
    "Given a sequence of tokens $X = [x_1, x_2, ..., x_n]$, we want to apply a mask $M$ such that:\n",
    "\n",
    "$$M_{i,j} = \\begin{cases}0 & \\text{if } j \\geq i \\ -\\infty & \\text{otherwise} \\end{cases}$$\n",
    "\n",
    "where $M$ is an $n \\times n$ matrix.\n",
    "\n",
    "In other words, the mask sets all values in the upper triangle (including the diagonal) to $-\\infty$, preventing the model from attending to any tokens beyond the current position during self-attention. This ensures that the model cannot cheat by attending to future information during training. The idea of future masking was introduced in the paper [\"Attention Is All You Need\" by Vaswani et al.](http://arxiv.org/abs/1706.03762)."
   ]
  },
  {
   "cell_type": "code",
   "execution_count": 6,
   "metadata": {
    "id": "U9PnaJ3RbMU5"
   },
   "outputs": [],
   "source": [
    "def plot_mask(n, save_path=None):\n",
    "    \"\"\"\n",
    "    Plots a binary mask for future masking in sequence-to-sequence models.\n",
    "\n",
    "    Args:\n",
    "        n (int): The size of the mask to plot.\n",
    "        save_path (str): The file path to save the plot as a PNG image. If None, \n",
    "        the plot is not saved.\n",
    "\n",
    "    Returns:\n",
    "        None\n",
    "    \"\"\"\n",
    "    mask = np.tril(np.ones((n, n)), k=0)\n",
    "    cmap = ListedColormap(['#c0c0c0','#ffffff'])\n",
    "    plt.figure(figsize=(6,6))\n",
    "    plt.imshow(mask, cmap=cmap)\n",
    "    plt.xlabel('Sequence position', fontsize=18)\n",
    "    plt.ylabel('Sequence position',fontsize=18)\n",
    "    if save_path is not None:\n",
    "        plt.savefig(save_path, dpi=300)\n",
    "    plt.show()"
   ]
  },
  {
   "cell_type": "code",
   "execution_count": 7,
   "metadata": {
    "colab": {
     "base_uri": "https://localhost:8080/",
     "height": 396
    },
    "id": "o_OVfMy9VW7w",
    "outputId": "08e93816-7fdb-4046-e364-743c917991fd"
   },
   "outputs": [
    {
     "data": {
      "image/png": "[encoded data removed]",
      "text/plain": [
       "<Figure size 432x432 with 1 Axes>"
      ]
     },
     "metadata": {
      "needs_background": "light"
     },
     "output_type": "display_data"
    }
   ],
   "source": [
    "plot_mask(10, 'CH02_mask_example.png')"
   ]
  },
  {
   "cell_type": "markdown",
   "metadata": {
    "id": "xnDOgrtGIoec"
   },
   "source": [
    "## Scaling example"
   ]
  },
  {
   "cell_type": "markdown",
   "metadata": {
    "id": "ssiFqxJwSRok"
   },
   "source": [
    "This function plots the effect of scaling on softmax probabilities for a range of dot product values. The function computes softmax probabilities without scaling and with scaling, where the scaling factor is the square root of the dimension of the dot product matrix. The function then computes the variances of the dot product values and plots the results. The scaling factor is:\n",
    "\n",
    "$$\\frac{1}{\\sqrt{d_k}}$$\n",
    "\n",
    "were $d_k$ refers to the dimension of the key vectors. The scaling factor used in the Transformer architecture is the square root of the dimension of the feature space (e.g., 512 for a 512-dimensional feature space), which has been found to perform well in practice.\n",
    "The idea of scaled dot attention was introduced in the paper [\"Attention Is All You Need\" by Vaswani et al.](http://arxiv.org/abs/1706.03762)."
   ]
  },
  {
   "cell_type": "code",
   "execution_count": 8,
   "metadata": {
    "id": "9MO17kmqSXEP"
   },
   "outputs": [],
   "source": [
    "def plot_softmax_scaling():\n",
    "    \"\"\"\n",
    "    This function generates a plot that illustrates the effect of scaling on \n",
    "    softmax probabilities. It computes the softmax probabilities for a range of \n",
    "    dot product values, with and without scaling, and plots the results. The plot\n",
    "    also shows the variances of the dot product values for both cases.\n",
    "    Returns: None\n",
    "    \n",
    "    \"\"\"\n",
    "    # Define a range of values for the dot product matrix\n",
    "    x = np.linspace(-5, 5, 1000)\n",
    "\n",
    "    # Compute the softmax probabilities without scaling\n",
    "    y1 = np.exp(x) / np.sum(np.exp(x))\n",
    "\n",
    "    # Compute the softmax probabilities with scaling\n",
    "    y2 = np.exp(x / np.sqrt(512)) / np.sum(np.exp(x / np.sqrt(512)))\n",
    "\n",
    "    # Compute the variances of the dot product values\n",
    "    var1 = np.var(x)\n",
    "    var2 = np.var(x / np.sqrt(512))\n",
    "\n",
    "    # Plot the results\n",
    "    fig, ax = plt.subplots(figsize=(8, 6))\n",
    "    ax.plot(x, y1, label='Unscaled', c=\"lightgrey\")\n",
    "    ax.plot(x, y2, label='Scaled', c=\"#58A3B3\")\n",
    "    ax.set_xlabel('Dot product values',fontsize=12)\n",
    "    ax.set_ylabel('Softmax probabilities',fontsize=12)\n",
    "    ax.set_title('Effect of scaling softmax probabilities', fontsize=14)\n",
    "    ax.annotate(f'Variance (Unscaled) = {var1:.3f}', xy=(0.5, 0.008), xytext=(0.5, 0.0085),\n",
    "                fontsize=12)\n",
    "    ax.annotate(f'Variance (Scaled) = {var2:.3f}', xy=(-2.5, 0.0014), xytext=(-2.5, 0.0014),\n",
    "                fontsize=12)\n",
    "    ax.legend()\n",
    "    # Save the figure as a PNG image\n",
    "    plt.savefig('CH02_softmax_scaling.png', dpi=300, bbox_inches='tight')\n",
    "\n"
   ]
  },
  {
   "cell_type": "code",
   "execution_count": 9,
   "metadata": {
    "colab": {
     "base_uri": "https://localhost:8080/",
     "height": 408
    },
    "id": "nmuftIsnVU8G",
    "outputId": "09876ea6-cb57-461b-e0f7-2b5239d31f39"
   },
   "outputs": [
    {
     "data": {
      "image/png": "[encoded data removed]",
      "text/plain": [
       "<Figure size 576x432 with 1 Axes>"
      ]
     },
     "metadata": {
      "needs_background": "light"
     },
     "output_type": "display_data"
    }
   ],
   "source": [
    "plot_softmax_scaling()"
   ]
  },
  {
   "cell_type": "markdown",
   "metadata": {
    "id": "DeywjINzDeyS"
   },
   "source": [
    "## Position-wise feed-foward networks"
   ]
  },
  {
   "cell_type": "markdown",
   "metadata": {
    "id": "T3qbr8TErHB2"
   },
   "source": [
    "In this implementation, PositionwiseFeedforward is a class that inherits from nn.Module. The __init__ function initializes the input and hidden dimensions of the network, as well as a dropout rate. The forward function takes an input tensor x and passes it through two fully connected layers with ReLU activation, followed by a dropout layer. The output of the second fully connected layer is returned as the final output of the network.\n",
    "\n",
    "To use this network, you can simply create an instance of PositionwiseFeedforward with the desired input and hidden dimensions, and call the forward method with your input tensor."
   ]
  },
  {
   "cell_type": "markdown",
   "metadata": {
    "id": "4Tnz6ub1ktyQ"
   },
   "source": [
    "The mathematical formula for position-wise feedforward networks is:\n",
    "\n",
    "$$ FFN(x) = max(0, xW_1 + b_1)W_2 + b_2 $$\n",
    "\n",
    "where $x$ is the input tensor of shape (batch_size, seq_len, embedding_dim), $W_1$ is the weight matrix of the first linear layer of shape (embedding_dim, ff_hidden_dim), $b_1$ is the bias term of the first linear layer of shape (ff_hidden_dim,), $W_2$ is the weight matrix of the second linear layer of shape (ff_hidden_dim, embedding_dim), and $b_2$ is the bias term of the second linear layer of shape (embedding_dim,).\n",
    "\n",
    "This formula computes a position-wise feedforward transformation on the input tensor $x$, where each element in the sequence is transformed independently of the others. The input tensor is first transformed by a linear layer with weight matrix $W_1$ and bias term $b_1$, followed by the application of the ReLU activation function. The result is then transformed again by another linear layer with weight matrix $W_2$ and bias term $b_2$. Finally, the output is returned as the transformed tensor."
   ]
  },
  {
   "cell_type": "code",
   "execution_count": 10,
   "metadata": {
    "id": "8-bBlR0kTPCP"
   },
   "outputs": [],
   "source": [
    "class PositionwiseFeedforward(nn.Module):\n",
    "\n",
    "    \"\"\"\n",
    "    Position-wise feedforward network used in the Transformer architecture.\n",
    "\n",
    "    Args:\n",
    "    input_dim (int): The input dimension of the network.\n",
    "    hidden_dim (int): The hidden dimension of the network.\n",
    "    dropout (float, optional): The dropout probability applied to the network. Default: 0.1.\n",
    "\n",
    "    Attributes:\n",
    "    input_dim (int): The input dimension of the network.\n",
    "    hidden_dim (int): The hidden dimension of the network.\n",
    "    dropout (nn.Dropout): A dropout layer applied to the network.\n",
    "    fc1 (nn.Linear): The first fully connected layer of the network.\n",
    "    fc2 (nn.Linear): The second fully connected layer of the network.\n",
    "\n",
    "    Methods:\n",
    "    forward(x): Forward pass of the network.\n",
    "\n",
    "    Returns:\n",
    "    torch.Tensor: Output tensor of the network.\n",
    "\n",
    "    Examples:\n",
    "    >>> feedforward = PositionwiseFeedforward(512, 2048, 0.1)\n",
    "    >>> x = torch.randn(32, 100, 512)\n",
    "    >>> output = feedforward(x)\n",
    "    \"\"\"\n",
    "\n",
    "    def __init__(self, input_dim, hidden_dim, dropout=0.1):\n",
    "        super(PositionwiseFeedforward, self).__init__()\n",
    "        self.input_dim = input_dim\n",
    "        self.hidden_dim = hidden_dim\n",
    "        self.dropout = nn.Dropout(dropout)\n",
    "        self.fc1 = nn.Linear(input_dim, hidden_dim)\n",
    "        self.fc2 = nn.Linear(hidden_dim, input_dim)\n",
    "\n",
    "    def forward(self, x):\n",
    "        x = self.dropout(torch.relu(self.fc1(x)))\n",
    "        x = self.fc2(x)\n",
    "        return x\n"
   ]
  },
  {
   "cell_type": "markdown",
   "metadata": {
    "id": "3gPLKYO5CM_o"
   },
   "source": [
    "## Positional encoding"
   ]
  },
  {
   "cell_type": "markdown",
   "metadata": {
    "id": "YOg7SRfpmbpP"
   },
   "source": [
    "The following code defines a module for positional encoding, which is an important component of the Transformer architecture used in natural language processing tasks. The purpose of positional encoding is to inject positional information into the input embeddings of the model, which allows the model to differentiate between words that have the same embedding but appear in different positions in the sequence.\n",
    "\n",
    "The PositionalEncoding module takes in the number of hidden units (`num_hiddens`) and the maximum sequence length (`max_len`) as arguments. It creates a positional embedding matrix using a mathematical formula that uses sinusoidal functions to encode position information. The resulting positional embedding tensor (`pe`) is then registered as a buffer in the module.\n",
    "\n",
    "During the forward pass, the module takes in an input tensor $X$, which is the sequence of word embeddings. It adds the positional embedding tensor `pe` to the input tensor $X$, broadcasting the positional embedding tensor along the sequence length dimension. The resulting tensor contains both word embeddings and positional embeddings.\n",
    "\n",
    "Finally, the `plot_embeddings` function can be used to visualize an example of the positional encoding. It takes in the positional encoding tensor `P` and plots the embeddings of several dimensions against the sequence position. This can help to see how the positional encoding varies across the sequence. The formula for computing the positional encoding is as follows:\n",
    "\n",
    "$$\n",
    "\\begin{aligned}\n",
    "P E_{(p o s, 2 i)} & =\\sin \\left(p o s / 10000^{2 i / d_{\\text {model }}}\\right) \\\\\n",
    "P E_{(p o s, 2 i+1)} & =\\cos \\left(p o s / 10000^{2 i / d_{\\text {model }}}\\right)\n",
    "\\end{aligned}\n",
    "$$\n",
    "\n",
    "The idea of positional encoding was introduced in the paper [\"Attention Is All You Need\" by Vaswani et al.](http://arxiv.org/abs/1706.03762)"
   ]
  },
  {
   "cell_type": "code",
   "execution_count": 11,
   "metadata": {
    "id": "yRAKksI9m1wF"
   },
   "outputs": [],
   "source": [
    "class PositionalEncoding(nn.Module):  \n",
    "    \"\"\"\n",
    "    Positional encoding module for transformer architecture.\n",
    "\n",
    "    Args:\n",
    "        num_hiddens (int): Number of hidden units.\n",
    "        max_len (int): Maximum sequence length.\n",
    "\n",
    "    Attributes:\n",
    "        dropout (nn.Dropout): Dropout layer.\n",
    "        pe (torch.Tensor): Positional encoding tensor.\n",
    "\n",
    "    \"\"\"\n",
    "    def __init__(self, num_hiddens, max_len=1000):\n",
    "        super().__init__()\n",
    "        self.dropout = nn.Dropout(0.1)\n",
    "        # Create a positional embedding matrix\n",
    "        position = torch.arange(max_len, dtype=torch.float32).reshape(-1, 1)\n",
    "        div_term = torch.exp(torch.arange(0, num_hiddens, 2, dtype=torch.float32) * \n",
    "                             -(math.log(10000.0) / num_hiddens))\n",
    "        pe = torch.zeros((1, max_len, num_hiddens))\n",
    "        pe[0, :, 0::2] = torch.sin(position * div_term)\n",
    "        pe[0, :, 1::2] = torch.cos(position * div_term)\n",
    "        self.register_buffer('pe', pe)\n",
    "\n",
    "    def forward(self, X):\n",
    "        \"\"\"\n",
    "        Forward pass of positional encoding.\n",
    "\n",
    "        Args:\n",
    "            X (torch.Tensor): Input tensor.\n",
    "\n",
    "        Returns:\n",
    "            torch.Tensor: Encoded tensor with positional information.\n",
    "\n",
    "        \"\"\"\n",
    "        X = X + self.pe[:, :X.shape[1], :].to(X.device)\n",
    "        return self.dropout(X)\n",
    "\n",
    "\n",
    "def plot_embeddings(P):\n",
    "    \"\"\"\n",
    "    Function to plot example positional encoding.\n",
    "\n",
    "    Args:\n",
    "        P (torch.Tensor): Positional encoding tensor.\n",
    "\n",
    "    \"\"\"\n",
    "    fig, ax = plt.subplots(figsize=(8, 5))\n",
    "    for i, shape in zip(range(6, 10), ['-', '--', '-.', ':']):\n",
    "        ax.plot(P[0, :, i], label=f\"Dimension {i}\", linestyle=shape)\n",
    "    ax.set_xlabel(\"Sequence position\")\n",
    "    ax.set_ylabel(\"Embedding\")\n",
    "    plt.title(\"Example positional encoding\")\n",
    "    ax.legend()\n",
    "    plt.savefig('CH02_positional_encoding.png', dpi=300, bbox_inches='tight')\n"
   ]
  },
  {
   "cell_type": "markdown",
   "metadata": {
    "id": "IFraDDeGniOD"
   },
   "source": [
    "You can modify the parameters `encoding_dim` and `num_steps` in the following code to see how the positional encoding matrix changes. `encoding_dim` determines the dimension of each embedding and `num_steps` determines the length of the sequence to be encoded. Once you modify these parameters and run the code, the resulting positional encodings get plotted using the `plot_embeddings` function.\n",
    "Here we do the following:\n",
    "<br><br>\n",
    "\n",
    "1. Defining the dimensions of the positional encoding (encoding_dim) and the length of the sequence (num_steps).\n",
    "2. Creating a PositionalEncoding object with the specified dimensions and sequence length.\n",
    "3. Generating an input tensor of zeros with shape (1, num_steps, encoding_dim).\n",
    "4. Passing the input tensor through the pos_encoding layer to obtain a tensor with positional information.\n",
    "5. Extracting the positional encoding matrix pe from the pos_encoding object and slice it to include only the embeddings for the same sequence length as the input tensor.\n",
    "6. Plotting the embeddings for dimensions 6 to 9 using the plot_embeddings function."
   ]
  },
  {
   "cell_type": "code",
   "execution_count": 12,
   "metadata": {
    "colab": {
     "base_uri": "https://localhost:8080/",
     "height": 350
    },
    "id": "YEenFtotVOBW",
    "outputId": "24f95b90-7bc8-46ba-f6df-ce0e4ea5b697"
   },
   "outputs": [
    {
     "data": {
      "image/png": "[encoded data removed]",
      "text/plain": [
       "<Figure size 576x360 with 1 Axes>"
      ]
     },
     "metadata": {
      "needs_background": "light"
     },
     "output_type": "display_data"
    }
   ],
   "source": [
    "# Define the dimensions of the positional encoding and the length of the sequence\n",
    "encoding_dim, num_steps = 32, 60\n",
    "\n",
    "# Create a positional encoding object\n",
    "pos_encoding = PositionalEncoding(encoding_dim, num_steps)\n",
    "\n",
    "# Generate an input tensor of zeros and pass it through the positional encoding layer\n",
    "X = pos_encoding(torch.zeros((1, num_steps, encoding_dim)))\n",
    "\n",
    "# Extract the positional encoding matrix and plot the embeddings for dimensions 6 to 9\n",
    "P = pos_encoding.pe[:, :X.shape[1], :]\n",
    "plot_embeddings(P)\n"
   ]
  },
  {
   "cell_type": "markdown",
   "metadata": {
    "id": "TqMJJ6z5CdSF"
   },
   "source": [
    "## Attention mechanisms variations"
   ]
  },
  {
   "cell_type": "markdown",
   "metadata": {
    "id": "-NcudHgUm3wy"
   },
   "source": [
    "In the case of additive attention, dot-product attention, and multiplicative attention, the attention mechanism computes a score between each query and key pair, which is then used to compute the final attention weights. Therefore, when visualizing the attention weights, it is sufficient to plot only the queries and keys, as the weights are computed based on the similarity between them.\n",
    "\n",
    "<br>\n",
    "\n",
    "###Additive attention\n",
    "\n",
    "The formula for additive attention in the original paper \"Neural Machine Translation by Jointly Learning to Align and Translate\" by [Bahdanau et al.](http://arxiv.org/abs/1409.0473) is as follows:\n",
    "\n",
    "Given a query vector $\\mathbf{q} \\in \\mathbb{R}^{d_q}$ and a set of key vectors $K = {\\mathbf{k}_1, \\mathbf{k}_2, \\dots, \\mathbf{k}_n} \\in \\mathbb{R}^{d_k}$, the attention scores $e_i$ for each key vector $\\mathbf{k}_i$ are computed as follows:\n",
    "\n",
    "$$e_i = \\text{score}(\\mathbf{q}, \\mathbf{k}_i) = \\mathbf{v}^T \\tanh(\\mathbf{W}_1 \\mathbf{q} + \\mathbf{W}_2 \\mathbf{k}_i)$$\n",
    "\n",
    "where $\\mathbf{W}_1 \\in \\mathbb{R}^{h \\times d_q}$, $\\mathbf{W}_2 \\in \\mathbb{R}^{h \\times d_k}$, and $\\mathbf{v} \\in \\mathbb{R}^h$ are learnable weight matrices.\n",
    "\n",
    "The attention weights $\\alpha_i$ are then computed by applying the softmax function to the attention scores:\n",
    "\n",
    "$$\\alpha_i = \\frac{\\exp(e_i)}{\\sum_{j=1}^n \\exp(e_j)}$$\n",
    "\n",
    "The context vector $\\mathbf{c}$ is then obtained as the weighted sum of the values $V = {\\mathbf{v}_1, \\mathbf{v}_2, \\dots, \\mathbf{v}_n} \\in \\mathbb{R}^{d_v}$ corresponding to the attention weights $\\alpha_i$:\n",
    "\n",
    "$$\\mathbf{c} = \\sum_{i=1}^n \\alpha_i \\mathbf{v}_i$$\n",
    "\n",
    "where $\\alpha_i$ is the attention weight for key vector $\\mathbf{k}_i$ and $\\mathbf{v}_i$ is the value corresponding to $\\mathbf{k}_i$.\n",
    "\n",
    "<br>\n",
    "\n",
    "### Multiplicative attention\n",
    "The formula for multiplicative attention based on the original paper by [Luong et al. (2015)](http://arxiv.org/abs/1508.04025) is as follows:\n",
    "\n",
    "Given a query vector $\\boldsymbol{q} \\in \\mathbb{R}^{d_q}$ and a set of key vectors $K = {\\boldsymbol{k}_1, \\boldsymbol{k}_2, ..., \\boldsymbol{k}_n} \\in \\mathbb{R}^{d_k \\times n}$, the attention scores $e_i$ for each key vector $\\boldsymbol{k}_i$ are computed as follows:\n",
    "\n",
    "$$e_i = \\boldsymbol{q}^T \\boldsymbol{k}_i$$\n",
    "\n",
    "The attention weights $\\alpha$ are then computed by applying the softmax function to the attention scores:\n",
    "\n",
    "$$\\alpha_i = \\frac{\\exp(e_i)}{\\sum_j \\exp(e_j)}$$\n",
    "\n",
    "The context vector $\\boldsymbol{c}$ is then obtained as the weighted sum of the values $V = {\\boldsymbol{v}_1, \\boldsymbol{v}_2, ..., \\boldsymbol{v}_n} \\in \\mathbb{R}^{d_v \\times n}$ corresponding to the attention weights $\\alpha_i$:\n",
    "\n",
    "$$\\boldsymbol{c} = \\sum_i \\alpha_i \\boldsymbol{v}_i$$\n",
    "\n",
    "where $\\alpha_i$ is the attention weight for key vector $\\boldsymbol{k}_i$ and $\\boldsymbol{v}_i$ is the value corresponding to $\\boldsymbol{k}_i$.\n",
    "\n"
   ]
  },
  {
   "cell_type": "markdown",
   "metadata": {
    "id": "-lQqrbE2Jie7"
   },
   "source": [
    "### Additive and multiplicative attention"
   ]
  },
  {
   "cell_type": "code",
   "execution_count": 13,
   "metadata": {
    "id": "3kE02vGVmLce"
   },
   "outputs": [],
   "source": [
    "# Additive Attention\n",
    "class AdditiveAttention(nn.Module):\n",
    "    \"\"\"\n",
    "    Additive attention mechanism.\n",
    "\n",
    "    Given a query tensor and a set of key tensors, computes a weight for each key\n",
    "    that indicates its relevance to the query. The attention weights are computed\n",
    "    as the softmax of the output of a linear layer applied to the element-wise sum\n",
    "    of the query and key representations.\n",
    "\n",
    "    Args:\n",
    "        query_dim (int): The size of the query tensor.\n",
    "        key_dim (int): The size of each key tensor.\n",
    "        hidden_dim (int): The size of the hidden layer used to compute the attention scores.\n",
    "\n",
    "    Inputs:\n",
    "        - query (torch.Tensor): A tensor of shape (batch_size, query_dim) representing the query.\n",
    "        - keys (torch.Tensor): A tensor of shape (batch_size, num_keys, key_dim) representing the keys.\n",
    "\n",
    "    Outputs:\n",
    "        - attention (torch.Tensor): A tensor of shape (batch_size, num_keys) representing the attention weights.\n",
    "\n",
    "    \"\"\"\n",
    "    def __init__(self, query_dim, key_dim, hidden_dim):\n",
    "        super().__init__()\n",
    "        self.query_dim = query_dim\n",
    "        self.key_dim = key_dim\n",
    "        self.hidden_dim = hidden_dim\n",
    "        self.query_layer = nn.Linear(query_dim, hidden_dim)\n",
    "        self.key_layer = nn.Linear(key_dim, hidden_dim)\n",
    "        self.energy_layer = nn.Linear(hidden_dim, 1)\n",
    "\n",
    "    def forward(self, query, keys):\n",
    "        query = self.query_layer(query)\n",
    "        keys = self.key_layer(keys)\n",
    "        energy = torch.tanh(query[:, None, :] + keys)\n",
    "        attention = torch.softmax(self.energy_layer(energy).squeeze(2), dim=1)\n",
    "        return attention\n",
    "\n",
    "\n",
    "# Multiplicative Attention\n",
    "class MultiplicativeAttention(nn.Module):\n",
    "\n",
    "    \"\"\"\n",
    "    Multiplicative attention mechanism.\n",
    "\n",
    "    Given a query tensor and a set of key tensors, computes a weight for each key\n",
    "    that indicates its relevance to the query. The attention weights are computed\n",
    "    as the softmax of the dot product between the query and key representations.\n",
    "\n",
    "    Args:\n",
    "        query_dim (int): The size of the query tensor.\n",
    "        key_dim (int): The size of each key tensor.\n",
    "\n",
    "    Inputs:\n",
    "        - query (torch.Tensor): A tensor of shape (batch_size, query_dim) representing the query.\n",
    "        - keys (torch.Tensor): A tensor of shape (batch_size, num_keys, key_dim) representing the keys.\n",
    "\n",
    "    Outputs:\n",
    "        - attention (torch.Tensor): A tensor of shape (batch_size, num_keys) representing the attention weights.\n",
    "\n",
    "    \"\"\"\n",
    "    \n",
    "    def __init__(self, query_dim, key_dim):\n",
    "        super().__init__()\n",
    "        self.query_dim = query_dim\n",
    "        self.key_dim = key_dim\n",
    "        self.scale = 1 / (key_dim ** 0.5)\n",
    "        self.linear = nn.Linear(query_dim, key_dim, bias=False)\n",
    "\n",
    "    def forward(self, query, keys):\n",
    "        query = self.linear(query)\n",
    "        energy = torch.bmm(query.unsqueeze(1), keys.transpose(1, 2))\n",
    "        attention = torch.softmax(self.scale * energy.squeeze(1), dim=1)\n",
    "        return attention"
   ]
  },
  {
   "cell_type": "markdown",
   "metadata": {
    "id": "1fvJvKdnME4l"
   },
   "source": [
    "### Plot attention weights"
   ]
  },
  {
   "cell_type": "markdown",
   "metadata": {
    "id": "Bc_kSOCDmPfb"
   },
   "source": [
    "This will create two plots, one for each type of attention, where the x-axis shows the words in the sentence and the y-axis shows the attention weights. The weights for each word are visualized as a heatmap where darker colors indicate higher weights. The query is shown on the y-axis with the words on the x-axis."
   ]
  },
  {
   "cell_type": "code",
   "execution_count": 14,
   "metadata": {
    "id": "Mkirn3D_GqLN"
   },
   "outputs": [],
   "source": [
    "def plot_attention_weights(additive_weights, multiplicative_weights, sentence):\n",
    "    \"\"\"\n",
    "    Plots the attention weights obtained with additive and multiplicative attention mechanisms, side by side.\n",
    "\n",
    "    Args:\n",
    "        additive_weights (torch.Tensor): attention weights obtained with additive attention mechanism.\n",
    "        multiplicative_weights (torch.Tensor): attention weights obtained with multiplicative attention mechanism.\n",
    "        sentence (List[str]): list of words in the input sentence.\n",
    "\n",
    "    Returns:\n",
    "        None.\n",
    "    \"\"\"\n",
    "\n",
    "    fig, axes = plt.subplots(1, 2, figsize=(10, 3))\n",
    "\n",
    "    weights = [additive_weights, multiplicative_weights]\n",
    "    titles = ['Additive Attention','Multiplicative Attention']\n",
    "\n",
    "    # loop over the different attention mechanisms and create the subplots\n",
    "    for i, ax in enumerate(axes):\n",
    "        weights_normalized = (weights[i] - weights[i].min()) / (weights[i].max() - weights[i].min())  # normalize the weights\n",
    "        im = ax.imshow(weights_normalized.detach().numpy(), cmap='GnBu')\n",
    "        ax.set_xticks(range(len(sentence)))\n",
    "        ax.set_xticklabels(sentence)\n",
    "        ax.set_yticks([0])\n",
    "        ax.set_yticklabels(['query'])\n",
    "        ax.set_title(titles[i])\n",
    "\n",
    "    cbar = fig.colorbar(im, ax=axes, orientation='horizontal', pad=0.1)\n",
    "    cbar.ax.set_xlabel('Attention weights')\n",
    "\n",
    "    fig.suptitle('Attention Mechanisms for Sentence: \"' + ' '.join(sentence) + '\"', y=0.85, fontsize=18)\n",
    "    plt.savefig('CH02_additive_vs_multiplicative_attention.png', dpi=300, bbox_inches='tight')\n"
   ]
  },
  {
   "cell_type": "code",
   "execution_count": 15,
   "metadata": {
    "id": "pzXHzBKw8OtN"
   },
   "outputs": [],
   "source": [
    "# Create a query tensor with shape (1, 5)\n",
    "query = torch.randn(1, 5, requires_grad=True)\n",
    "\n",
    "# Create a key tensor with shape (1, 5, 3)\n",
    "keys = torch.randn(1, 5, 3, requires_grad=True)\n",
    "\n",
    "# Instantiate an additive attention module with input dimension 5, key dimension 3, and hidden dimension 10\n",
    "additive_attention = AdditiveAttention(5, 3, 10)\n",
    "\n",
    "# Compute additive attention weights for the given query and key tensors\n",
    "additive_weights = additive_attention(query, keys)\n",
    "\n",
    "\n",
    "# Create another query tensor with shape (1, 5)\n",
    "query = torch.randn(1, 5, requires_grad=True)\n",
    "\n",
    "# Create another key tensor with shape (1, 3, 5)\n",
    "keys = torch.randn(1, 3, 5, requires_grad=True)\n",
    "\n",
    "# Instantiate a multiplicative attention module with input and key dimension 5\n",
    "multiplicative_attention = MultiplicativeAttention(5, 5)\n",
    "\n",
    "# Compute multiplicative attention weights for the given query and key tensors\n",
    "multiplicative_weights = multiplicative_attention(query, keys)\n"
   ]
  },
  {
   "cell_type": "code",
   "execution_count": 16,
   "metadata": {
    "colab": {
     "base_uri": "https://localhost:8080/",
     "height": 219
    },
    "id": "LdF2QTGHGuIr",
    "outputId": "61bdaf32-531d-4644-f51b-f288dc95d95a"
   },
   "outputs": [
    {
     "data": {
      "image/png": "[encoded data removed]",
      "text/plain": [
       "<Figure size 720x216 with 3 Axes>"
      ]
     },
     "metadata": {
      "needs_background": "light"
     },
     "output_type": "display_data"
    }
   ],
   "source": [
    "# Create the sentence\n",
    "sentence = ['the', 'movie', 'was', 'not', 'bad']\n",
    "\n",
    "# Plot the weights\n",
    "plot_attention_weights(additive_weights, multiplicative_weights, sentence)"
   ]
  },
  {
   "cell_type": "markdown",
   "metadata": {
    "id": "j55KL5pzm_dS"
   },
   "source": [
    "### Self-attention"
   ]
  },
  {
   "cell_type": "markdown",
   "metadata": {
    "id": "ybnNRnF6qn0i"
   },
   "source": [
    "In contrast, in self-attention, which is used in [Attention Is All You Need](http://arxiv.org/abs/1706.03762),  each input token is both a query, key, and value, and the attention weights are computed based on the similarity between all input tokens. Therefore, when visualizing self-attention, it is useful to plot the entire input sequence, along with the attention weights for each token in the sequence.\n",
    "\n",
    "The mathematical formula for self-attention using scaled dot attention is as follows:\n",
    "\n",
    "Given a sequence of input vectors $x_1, x_2, ..., x_n \\in \\mathbb{R}^d$, we compute the self-attention matrix $A \\in \\mathbb{R}^{n \\times n}$ as follows:\n",
    "\n",
    "$$A = softmax(\\frac{XW_Q(W_K)^T}{\\sqrt{d_k}})$$\n",
    "\n",
    "where $W_Q, W_K \\in \\mathbb{R}^{d \\times d_k}$ are learnable weight matrices and $\\sqrt{d_k}$ is a scaling factor. The matrix $X \\in \\mathbb{R}^{n \\times d}$ is obtained by multiplying the input sequence with a weight matrix $W_X \\in \\mathbb{R}^{d \\times d}$, i.e., $X = (x_1W_X, x_2W_X, ..., x_nW_X)$.\n",
    "\n",
    "The output of the self-attention layer is then computed as a weighted sum of the input vectors, using the attention matrix $A$:\n",
    "\n",
    "$$y = AXW_V$$\n",
    "\n",
    "where $W_V \\in \\mathbb{R}^{d \\times d_v}$ is another learnable weight matrix and $y \\in \\mathbb{R}^{n \\times d_v}$ is the output sequence. "
   ]
  },
  {
   "cell_type": "code",
   "execution_count": 17,
   "metadata": {
    "id": "F0WM_J_LmXxh"
   },
   "outputs": [],
   "source": [
    "class SelfAttention(torch.nn.Module):\n",
    "    \"\"\"\n",
    "    A self-attention module that takes an input tensor and returns a tensor with self-attention applied.\n",
    "\n",
    "    Args:\n",
    "        d_model (int): The input dimensionality.\n",
    "\n",
    "    Attributes:\n",
    "        d_model (int): The input dimensionality.\n",
    "        q_linear (torch.nn.Linear): A linear layer applied to the query.\n",
    "        k_linear (torch.nn.Linear): A linear layer applied to the key.\n",
    "        v_linear (torch.nn.Linear): A linear layer applied to the value.\n",
    "\n",
    "    Methods:\n",
    "        forward(x): Forward pass of the self-attention module.\n",
    "\n",
    "    Returns:\n",
    "        torch.Tensor: The output tensor of the self-attention module.\n",
    "        torch.Tensor: The attention weights.\n",
    "\n",
    "    \"\"\"\n",
    "    def __init__(self, d_model):\n",
    "        super(SelfAttention, self).__init__()\n",
    "        self.d_model = d_model\n",
    "        self.q_linear = torch.nn.Linear(d_model, d_model)\n",
    "        self.k_linear = torch.nn.Linear(d_model, d_model)\n",
    "        self.v_linear = torch.nn.Linear(d_model, d_model)\n",
    "    \n",
    "    def forward(self, x):\n",
    "        q = self.q_linear(x)\n",
    "        k = self.k_linear(x)\n",
    "        v = self.v_linear(x)\n",
    "        attn_weights = F.softmax(torch.matmul(q, k.transpose(-2, -1)) / torch.sqrt(torch.tensor(self.d_model)), dim=-1)\n",
    "        attn_output = torch.matmul(attn_weights, v)\n",
    "        return attn_output, attn_weights\n",
    "\n",
    "\n",
    "class SelfAttentionModel(torch.nn.Module):\n",
    "    \"\"\"\n",
    "    A self-attention model that applies self-attention to the input tensor and returns a tensor of output size.\n",
    "\n",
    "    Args:\n",
    "        d_model (int): The input dimensionality.\n",
    "        output_size (int): The output dimensionality.\n",
    "\n",
    "    Attributes:\n",
    "        self_attn (SelfAttention): A self-attention module applied to the input.\n",
    "        fc (torch.nn.Linear): A linear layer applied to the output of the self-attention module.\n",
    "\n",
    "    Methods:\n",
    "        forward(x): Forward pass of the self-attention model.\n",
    "\n",
    "    Returns:\n",
    "        torch.Tensor: The output tensor of the self-attention model.\n",
    "        torch.Tensor: The attention weights.\n",
    "\n",
    "    \"\"\"\n",
    "    def __init__(self, d_model, output_size):\n",
    "        super(SelfAttentionModel, self).__init__()\n",
    "        self.self_attn = SelfAttention(d_model)\n",
    "        self.fc = torch.nn.Linear(d_model, output_size)\n",
    "    \n",
    "    def forward(self, x):\n",
    "        x, attn_weights = self.self_attn(x)\n",
    "        x = self.fc(x.mean(dim=1))\n",
    "        return x, attn_weights\n",
    "\n",
    "\n"
   ]
  },
  {
   "cell_type": "code",
   "execution_count": 18,
   "metadata": {
    "id": "12AV659XUMp7"
   },
   "outputs": [],
   "source": [
    "def plot_attention_weights(attn_weights, tokens):\n",
    "    \"\"\"\n",
    "    Plots the attention weights of a self-attention model given a list of tokens.\n",
    "\n",
    "    Args:\n",
    "        attn_weights (torch.Tensor): A tensor of shape (batch_size, num_heads, seq_length, seq_length)\n",
    "            representing the attention weights of a self-attention model.\n",
    "        tokens (List[str]): A list of strings representing the tokens in the input sequence.\n",
    "\n",
    "    Returns:\n",
    "        None. This function does not return any value. It displays a plot of the attention weights.\n",
    "\n",
    "    Example:    tokens = ['The', 'quick', 'brown', 'fox', 'jumped', 'over', 'the', 'lazy', 'dog']\n",
    "                attn_weights = torch.randn(1, 8, len(tokens), len(tokens))\n",
    "                plot_attention_weights(attn_weights, tokens)\n",
    "\n",
    "    \"\"\"\n",
    "    fig, ax = plt.subplots()\n",
    "    im = ax.imshow(attn_weights.squeeze(0).detach().numpy(), cmap='GnBu')\n",
    "\n",
    "    # Set ticks and labels\n",
    "    ax.set_xticks(range(len(tokens)))\n",
    "    ax.set_yticks(range(len(tokens)))\n",
    "    ax.set_xticklabels(tokens)\n",
    "    ax.set_yticklabels(tokens)\n",
    "\n",
    "    # Rotate tick labels and set label for color bar\n",
    "    plt.setp(ax.get_xticklabels(), rotation=45, ha=\"right\", rotation_mode=\"anchor\")\n",
    "    cbar = ax.figure.colorbar(im, ax=ax)\n",
    "\n",
    "    # Add title and show plot\n",
    "    ax.set_title(\"Self-Attention Weights\")\n",
    "    fig.tight_layout()\n",
    "    plt.savefig('CH02_self_attention.png', dpi=300, bbox_inches='tight')\n",
    "\n"
   ]
  },
  {
   "cell_type": "code",
   "execution_count": 19,
   "metadata": {
    "colab": {
     "base_uri": "https://localhost:8080/",
     "height": 297
    },
    "id": "F3kQZTKAUP1J",
    "outputId": "7848719b-afa5-47fc-e033-121ff583922c"
   },
   "outputs": [
    {
     "data": {
      "image/png": "[encoded data removed]",
      "text/plain": [
       "<Figure size 432x288 with 2 Axes>"
      ]
     },
     "metadata": {
      "needs_background": "light"
     },
     "output_type": "display_data"
    }
   ],
   "source": [
    "# initialize the sentence\n",
    "sentence = \"the movie was not bad\"\n",
    "tokens = sentence.split()\n",
    "\n",
    "# Create word embeddings\n",
    "embeddings = torch.nn.Embedding(len(tokens), 8)\n",
    "inputs = embeddings(torch.tensor([i for i in range(len(tokens))]).long())\n",
    "\n",
    "\n",
    "# Pass through self-attention model\n",
    "model = SelfAttentionModel(d_model=8, output_size=1)\n",
    "out, attn_weights = model(inputs.unsqueeze(0))\n",
    "\n",
    "# Plot attention weights\n",
    "plot_attention_weights(attn_weights, tokens)\n"
   ]
  },
  {
   "cell_type": "markdown",
   "metadata": {
    "id": "e451xVxWDyKY"
   },
   "source": [
    "## Computational graph comparison"
   ]
  },
  {
   "cell_type": "markdown",
   "metadata": {
    "id": "_wIHl7AJS6Av"
   },
   "source": [
    "Here we define two classes for a simple LSTM model and a simple Transformer model, we then create an example input tensor. The computational graph for each model is then visualized using the make_dot function from the PyTorch library, which allows us to compare the computational graphs of the two models. This comparison can help us to better understand the differences between LSTM and Transformer architectures in terms of how they process input data."
   ]
  },
  {
   "cell_type": "code",
   "execution_count": 20,
   "metadata": {
    "id": "HzK4mgaeztEK"
   },
   "outputs": [],
   "source": [
    "# Define a simple LSTM model\n",
    "class LSTMModel(nn.Module):\n",
    "    \"\"\"\n",
    "    Simple LSTM model with one layer.\n",
    "\n",
    "    Args:\n",
    "    None\n",
    "\n",
    "    Returns:\n",
    "    None\n",
    "\n",
    "    \"\"\"\n",
    "    def __init__(self):\n",
    "        super(LSTMModel, self).__init__()\n",
    "        self.lstm = nn.LSTM(input_size=1, hidden_size=1, num_layers=1)\n",
    "\n",
    "    def forward(self, x):\n",
    "        \"\"\"\n",
    "        Forward pass of the LSTM model.\n",
    "\n",
    "        Args:\n",
    "        x (torch.Tensor): Input tensor of shape (seq_len, batch_size, input_size).\n",
    "\n",
    "        Returns:\n",
    "        torch.Tensor: Output tensor of the LSTM model.\n",
    "\n",
    "        \"\"\"\n",
    "        out, _ = self.lstm(x)\n",
    "        return out\n",
    "\n",
    "# Define a simple Transformer model\n",
    "class TransformerModel(nn.Module):\n",
    "    \"\"\"\n",
    "    Simple Transformer model with one encoder and decoder layer.\n",
    "\n",
    "    Args:\n",
    "    None\n",
    "\n",
    "    Returns:\n",
    "    None\n",
    "\n",
    "    \"\"\"\n",
    "    def __init__(self):\n",
    "        super(TransformerModel, self).__init__()\n",
    "        self.transformer = nn.Transformer(d_model=1, nhead=1, num_encoder_layers=1, num_decoder_layers=1)\n",
    "\n",
    "    def forward(self, x):\n",
    "        \"\"\"\n",
    "        Forward pass of the Transformer model.\n",
    "\n",
    "        Args:\n",
    "        x (torch.Tensor): Input tensor of shape (seq_len, batch_size, input_size).\n",
    "\n",
    "        Returns:\n",
    "        torch.Tensor: Output tensor of the Transformer model.\n",
    "\n",
    "        \"\"\"\n",
    "        out = self.transformer(x, x)\n",
    "        return out\n"
   ]
  },
  {
   "cell_type": "code",
   "execution_count": 21,
   "metadata": {
    "colab": {
     "base_uri": "https://localhost:8080/",
     "height": 35
    },
    "id": "8vlf5hhD7TiG",
    "outputId": "bfa665b1-c269-4629-db3f-282040b3fd26"
   },
   "outputs": [
    {
     "data": {
      "application/vnd.google.colaboratory.intrinsic+json": {
       "type": "string"
      },
      "text/plain": [
       "'transformer.pdf'"
      ]
     },
     "execution_count": 21,
     "metadata": {},
     "output_type": "execute_result"
    }
   ],
   "source": [
    "# Create an example input tensor\n",
    "x = torch.randn(10, 1, 1)\n",
    "\n",
    "# Create a simple LSTM model and visualize the computational graph\n",
    "lstm_model = LSTMModel()\n",
    "out = lstm_model(x)\n",
    "make_dot(out, params=dict(lstm_model.named_parameters())).render(\"lstm\", format=\"pdf\")\n",
    "\n",
    "# Create a simple Transformer model and visualize the computational graph\n",
    "transformer_model = TransformerModel()\n",
    "out = transformer_model(x)\n",
    "make_dot(out, params=dict(transformer_model.named_parameters())).render(\"transformer\", format=\"pdf\")\n"
   ]
  }
 ],
 "metadata": {
  "accelerator": "GPU",
  "colab": {
   "provenance": []
  },
  "gpuClass": "standard",
  "kernelspec": {
   "display_name": "Python 3",
   "language": "python",
   "name": "python3"
  },
  "language_info": {
   "codemirror_mode": {
    "name": "ipython",
    "version": 3
   },
   "file_extension": ".py",
   "mimetype": "text/x-python",
   "name": "python",
   "nbconvert_exporter": "python",
   "pygments_lexer": "ipython3",
   "version": "3.7.3"
  },
  "toc": {
   "base_numbering": 1,
   "nav_menu": {},
   "number_sections": false,
   "sideBar": true,
   "skip_h1_title": false,
   "title_cell": "Table of Contents",
   "title_sidebar": "Contents",
   "toc_cell": false,
   "toc_position": {},
   "toc_section_display": true,
   "toc_window_display": true
  },
  "varInspector": {
   "cols": {
    "lenName": 16,
    "lenType": 16,
    "lenVar": 40
   },
   "kernels_config": {
    "python": {
     "delete_cmd_postfix": "",
     "delete_cmd_prefix": "del ",
     "library": "var_list.py",
     "varRefreshCmd": "print(var_dic_list())"
    },
    "r": {
     "delete_cmd_postfix": ") ",
     "delete_cmd_prefix": "rm(",
     "library": "var_list.r",
     "varRefreshCmd": "cat(var_dic_list()) "
    }
   },
   "types_to_exclude": [
    "module",
    "function",
    "builtin_function_or_method",
    "instance",
    "_Feature"
   ],
   "window_display": false
  }
 },
 "nbformat": 4,
 "nbformat_minor": 1
}
