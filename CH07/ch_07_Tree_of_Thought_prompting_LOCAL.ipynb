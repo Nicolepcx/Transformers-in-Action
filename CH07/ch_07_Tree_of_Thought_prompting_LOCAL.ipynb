{
 "cells": [
  {
   "cell_type": "markdown",
   "metadata": {
    "id": "tbX2Jhn-bZlT"
   },
   "source": [
    "# About this notebook\n",
    "\n",
    "In this notebook you will use tree of thoughts to prompt ChatGPT with a math problem. __NOTE:__ You need an [API from OpenAI] (https://platform.openai.com/api-keys) and you will have to increase your limit in your API account and add some funds and credit card to your API account [here](https://platform.openai.com/usage). Running this short experiment will amount for about $1.5.  "
   ]
  },
  {
   "cell_type": "code",
   "execution_count": null,
   "metadata": {},
   "outputs": [],
   "source": [
    "!pip install tree-of-thoughts-llm"
   ]
  },
  {
   "cell_type": "markdown",
   "metadata": {
    "id": "mTXoxyv7oNu3"
   },
   "source": [
    "# Imports"
   ]
  },
  {
   "cell_type": "code",
   "execution_count": null,
   "metadata": {
    "id": "8K64IJb0oLVn"
   },
   "outputs": [],
   "source": [
    "import os\n",
    "import argparse\n",
    "from tot.methods.bfs import solve\n",
    "from tot.tasks.game24 import Game24Task"
   ]
  },
  {
   "cell_type": "markdown",
   "metadata": {
    "id": "14cT0JOGoTmm"
   },
   "source": [
    "# Set up OpenAI API key and store it in the environment variable"
   ]
  },
  {
   "cell_type": "code",
   "execution_count": null,
   "metadata": {
    "id": "pIQxLVQkFUXT"
   },
   "outputs": [],
   "source": [
    "# Replace 'your-api-key' with your actual OpenAI API key.\n",
    "os.environ['OPENAI_API_KEY'] = 'your-api-key'"
   ]
  },
  {
   "cell_type": "markdown",
   "metadata": {
    "id": "9HwZ5XpKoVz8"
   },
   "source": [
    "# Run the experiment"
   ]
  },
  {
   "cell_type": "code",
   "execution_count": null,
   "metadata": {
    "colab": {
     "base_uri": "https://localhost:8080/"
    },
    "id": "Lo8vDDD0FihU",
    "outputId": "8b00f095-00e0-409a-e246-182f4060fd9a"
   },
   "outputs": [
    {
     "name": "stdout",
     "output_type": "stream",
     "text": [
      "functools.partial(<function gpt at 0x7d32a9644310>, model='gpt-4', temperature=0.7)\n",
      "-- new_ys --: ('13 - 9 = 4 (left: 4 4 10)\\n', '13 / 4 = 3.25 (left: 3.25 9 10)\\n', '10 - 4 = 6 (left: 6 9 13)\\n', '13 - 4 = 9 (left: 9 9 10)\\n', '9 - 4 = 5 (left: 5 10 13)\\n', '10 - 9 = 1 (left: 1 4 13)\\n', '4 + 9 = 13 (left: 10 13 13)\\n', '4 * 9 = 36 (left: 10 13 36)\\n')\n",
      "-- sol values --: (60.0, 3.0, 2.001, 2.001, 2.001, 1.002, 0.003, 0.003)\n",
      "-- choices --: ['13 - 9 = 4 (left: 4 4 10)\\n', '13 / 4 = 3.25 (left: 3.25 9 10)\\n', '10 - 4 = 6 (left: 6 9 13)\\n', '13 - 4 = 9 (left: 9 9 10)\\n', '9 - 4 = 5 (left: 5 10 13)\\n']\n",
      "\n",
      "-- new_ys --: ('13 - 9 = 4 (left: 4 4 10)\\n10 - 4 = 6 (left: 4 6)\\n', '10 - 4 = 6 (left: 6 9 13)\\n13 - 9 = 4 (left: 4 6)\\n', '13 / 4 = 3.25 (left: 3.25 9 10)\\n10 / 3.25 = 3.08 (approx) (left: 3.08 9)\\n', '9 - 4 = 5 (left: 5 10 13)\\n13 / 5 = 2.6 (left: 2.6 10)\\n', '13 / 4 = 3.25 (left: 3.25 9 10)\\n10 - 3.25 = 6.75 (left: 6.75 9)\\n', '13 / 4 = 3.25 (left: 3.25 9 10)\\n9 / 3.25 = 2.77 (approx) (left: 2.77 10)\\n', '10 - 4 = 6 (left: 6 9 13)\\n9 / 6 = 1.5 (left: 1.5 13)\\n', '13 - 9 = 4 (left: 4 4 10)\\n4 + 4 = 8 (left: 8 10)\\n', '13 - 9 = 4 (left: 4 4 10)\\n4 * 4 = 16 (left: 10 16)\\n', '13 - 9 = 4 (left: 4 4 10)\\n10 / 4 = 2.5 (left: 2.5 4)\\n', '13 - 9 = 4 (left: 4 4 10)\\n4 - 4 = 0 (left: 0 10)\\n', '13 / 4 = 3.25 (left: 3.25 9 10)\\n3.25 + 9 = 12.25 (left: 10 12.25)\\n', '13 / 4 = 3.25 (left: 3.25 9 10)\\n9 - 3.25 = 5.75 (left: 5.75 10)\\n', '13 / 4 = 3.25 (left: 3.25 9 10)\\n10 * 3.25 = 32.5 (left: 9 32.5)\\n', '13 / 4 = 3.25 (left: 3.25 9 10)\\n10 + 9 = 19 (left: 3.25 19)\\n', '13 / 4 = 3.25 (left: 3.25 9 10)\\n9 + 3.25 = 12.25 (left: 10 12.25)\\n', '13 / 4 = 3.25 (left: 3.25 9 10)\\n3.25 * 9 = 29.25 (left: 10 29.25)\\n', '10 - 4 = 6 (left: 6 9 13)\\n6 + 9 = 15 (left: 13 15)\\n', '10 - 4 = 6 (left: 6 9 13)\\n9 - 6 = 3 (left: 3 13)\\n', '10 - 4 = 6 (left: 6 9 13)\\n13 - 6 = 7 (left: 7 9)\\n', '10 - 4 = 6 (left: 6 9 13)\\n9 * 6 = 54 (left: 13 54)\\n', '10 - 4 = 6 (left: 6 9 13)\\n13 / 6 = 2.17 (approx) (left: 2.17 9)\\n', '10 - 4 = 6 (left: 6 9 13)\\n6 * 13 = 78 (left: 9 78)\\n', '10 - 4 = 6 (left: 6 9 13)\\n13 + 6 = 19 (left: 9 19)\\n', '13 - 4 = 9 (left: 9 9 10)\\n9 + 9 = 18 (left: 10 18)\\n', '13 - 4 = 9 (left: 9 9 10)\\n9 - 9 = 0 (left: 0 10)\\n', '13 - 4 = 9 (left: 9 9 10)\\n10 - 9 = 1 (left: 1 9)\\n', '13 - 4 = 9 (left: 9 9 10)\\n10 + 9 = 19 (left: 9 19)\\n', '13 - 4 = 9 (left: 9 9 10)\\n9 / 9 = 1 (left: 1 10)\\n', '13 - 4 = 9 (left: 9 9 10)\\n10 / 9 = 1.11 (approximately, left: 1.11 9)\\n', '9 - 4 = 5 (left: 5 10 13)\\n5 + 10 = 15 (left: 13 15)\\n', '9 - 4 = 5 (left: 5 10 13)\\n10 - 5 = 5 (left: 5 13)\\n', '9 - 4 = 5 (left: 5 10 13)\\n13 - 5 = 8 (left: 8 10)\\n', '9 - 4 = 5 (left: 5 10 13)\\n13 - 10 = 3 (left: 3 5)\\n', '9 - 4 = 5 (left: 5 10 13)\\n10 / 5 = 2 (left: 2 13)\\n', '9 - 4 = 5 (left: 5 10 13)\\n5 * 10 = 50 (left: 13 50)\\n')\n",
      "-- sol values --: (60.0, 60.0, 2.001, 2.001, 1.002, 1.002, 1.002, 0.003, 0.003, 0.003, 0.003, 0.003, 0.003, 0.003, 0.003, 0.003, 0.003, 0.003, 0.003, 0.003, 0.003, 0.003, 0.003, 0.003, 0.003, 0.003, 0.003, 0.003, 0.003, 0.003, 0.003, 0.003, 0.003, 0.003, 0.003, 0.003)\n",
      "-- choices --: ['13 - 9 = 4 (left: 4 4 10)\\n10 - 4 = 6 (left: 4 6)\\n', '10 - 4 = 6 (left: 6 9 13)\\n13 - 9 = 4 (left: 4 6)\\n', '13 / 4 = 3.25 (left: 3.25 9 10)\\n10 / 3.25 = 3.08 (approx) (left: 3.08 9)\\n', '9 - 4 = 5 (left: 5 10 13)\\n13 / 5 = 2.6 (left: 2.6 10)\\n', '13 / 4 = 3.25 (left: 3.25 9 10)\\n10 - 3.25 = 6.75 (left: 6.75 9)\\n']\n",
      "\n",
      "-- new_ys --: ('13 - 9 = 4 (left: 4 4 10)\\n10 - 4 = 6 (left: 4 6)\\n4 * 6 = 24 (left: 24)\\n', '10 - 4 = 6 (left: 6 9 13)\\n13 - 9 = 4 (left: 4 6)\\n4 * 6 = 24 (left: 24)\\n', '13 / 4 = 3.25 (left: 3.25 9 10)\\n10 / 3.25 = 3.08 (approx) (left: 3.08 9)\\n9 - 3.08 = 5.92 (left: 5.92)\\n', '13 - 9 = 4 (left: 4 4 10)\\n10 - 4 = 6 (left: 4 6)\\n4 + 6 = 10 (left: 10)\\n', '13 - 9 = 4 (left: 4 4 10)\\n10 - 4 = 6 (left: 4 6)\\n6 - 4 = 2 (left: 2)\\n', '10 - 4 = 6 (left: 6 9 13)\\n13 - 9 = 4 (left: 4 6)\\n4 + 6 = 10 (left: 10)\\n', '10 - 4 = 6 (left: 6 9 13)\\n13 - 9 = 4 (left: 4 6)\\n6 - 4 = 2 (left: 2)\\n', '13 / 4 = 3.25 (left: 3.25 9 10)\\n10 / 3.25 = 3.08 (approx) (left: 3.08 9)\\n9 / 3.08 = 2.92 (approximation) (left: 2.92)\\n', '9 - 4 = 5 (left: 5 10 13)\\n13 / 5 = 2.6 (left: 2.6 10)\\n2.6 + 10 = 12.6 (left: 12.6)\\n', '9 - 4 = 5 (left: 5 10 13)\\n13 / 5 = 2.6 (left: 2.6 10)\\n2.6 * 10 = 26 (left: 26)\\n', '13 / 4 = 3.25 (left: 3.25 9 10)\\n10 - 3.25 = 6.75 (left: 6.75 9)\\n6.75 + 9 = 15.75 (left: 15.75)\\n', '13 / 4 = 3.25 (left: 3.25 9 10)\\n10 - 3.25 = 6.75 (left: 6.75 9)\\n6.75 * 9 = 60.75 (left: 60.75)\\n', '13 / 4 = 3.25 (left: 3.25 9 10)\\n10 - 3.25 = 6.75 (left: 6.75 9)\\n9 / 6.75 = 1.33 (left: 1.33)\\n', '13 - 9 = 4 (left: 4 4 10)\\n10 - 4 = 6 (left: 4 6)\\n6 / 4 = 1.5 (left: 1.5)\\n', '10 - 4 = 6 (left: 6 9 13)\\n13 - 9 = 4 (left: 4 6)\\n6 / 4 = 1.5 (left: 1.5)\\n', '9 - 4 = 5 (left: 5 10 13)\\n13 / 5 = 2.6 (left: 2.6 10)\\n10 - 2.6 = 7.4 (left: 7.4)\\n', '13 / 4 = 3.25 (left: 3.25 9 10)\\n10 - 3.25 = 6.75 (left: 6.75 9)\\n9 - 6.75 = 2.25 (left: 2.25)\\n', '13 / 4 = 3.25 (left: 3.25 9 10)\\n10 / 3.25 = 3.08 (approx) (left: 3.08 9)\\n3.08 + 9 = 12.08 (left: 12.08)\\n', '13 / 4 = 3.25 (left: 3.25 9 10)\\n10 / 3.25 = 3.08 (approx) (left: 3.08 9)\\n3.08 * 9 = 27.72 (left: 27.72)\\n', '9 - 4 = 5 (left: 5 10 13)\\n13 / 5 = 2.6 (left: 2.6 10)\\n10 / 2.6 ≈ 3.85 (left: 3.85)\\n')\n",
      "-- sol values --: (40.0, 40.0, 1.001, 0.003, 0.003, 0.003, 0.003, 0.003, 0.003, 0.003, 0.003, 0.003, 0.003, 0.002, 0.002, 0.002, 0.002, 0.001, 0.001, 0.001)\n",
      "-- choices --: ['13 - 9 = 4 (left: 4 4 10)\\n10 - 4 = 6 (left: 4 6)\\n4 * 6 = 24 (left: 24)\\n', '10 - 4 = 6 (left: 6 9 13)\\n13 - 9 = 4 (left: 4 6)\\n4 * 6 = 24 (left: 24)\\n', '13 / 4 = 3.25 (left: 3.25 9 10)\\n10 / 3.25 = 3.08 (approx) (left: 3.08 9)\\n9 - 3.08 = 5.92 (left: 5.92)\\n', '13 - 9 = 4 (left: 4 4 10)\\n10 - 4 = 6 (left: 4 6)\\n4 + 6 = 10 (left: 10)\\n', '13 - 9 = 4 (left: 4 4 10)\\n10 - 4 = 6 (left: 4 6)\\n6 - 4 = 2 (left: 2)\\n']\n",
      "\n",
      "-- new_ys --: ('13 - 9 = 4 (left: 4 4 10)\\n10 - 4 = 6 (left: 4 6)\\n4 * 6 = 24 (left: 24)\\nAnswer: 4 * (10 - (13 - 9)) = 24\\n', '10 - 4 = 6 (left: 6 9 13)\\n13 - 9 = 4 (left: 4 6)\\n4 * 6 = 24 (left: 24)\\nAnswer: (10 - 4) * (13 - 9) = 24\\n', '13 / 4 = 3.25 (left: 3.25 9 10)\\n10 / 3.25 = 3.08 (approx) (left: 3.08 9)\\n9 - 3.08 = 5.92 (left: 5.92)\\n5.92 * 2 = 11.84 (left: 8 8 11.84 14)\\n', '13 / 4 = 3.25 (left: 3.25 9 10)\\n10 / 3.25 = 3.08 (approx) (left: 3.08 9)\\n9 - 3.08 = 5.92 (left: 5.92)\\n5.92 + 2 = 7.92 (left: 7.92 8 8 14)\\n', '13 / 4 = 3.25 (left: 3.25 9 10)\\n10 / 3.25 = 3.08 (approx) (left: 3.08 9)\\n9 - 3.08 = 5.92 (left: 5.92)\\n14 - 5.92 = 8.08 (left: 2 8 8 8.08)\\n', '13 / 4 = 3.25 (left: 3.25 9 10)\\n10 / 3.25 = 3.08 (approx) (left: 3.08 9)\\n9 - 3.08 = 5.92 (left: 5.92)\\n5.92 / 2 = 2.96 (left: 2.96 8 8 14)\\n', '13 / 4 = 3.25 (left: 3.25 9 10)\\n10 / 3.25 = 3.08 (approx) (left: 3.08 9)\\n9 - 3.08 = 5.92 (left: 5.92)\\n2 / 5.92 = 0.3378 (left: 0.3378 8 8 14)\\n', '13 / 4 = 3.25 (left: 3.25 9 10)\\n10 / 3.25 = 3.08 (approx) (left: 3.08 9)\\n9 - 3.08 = 5.92 (left: 5.92)\\n14 / 5.92 = 2.3648 (left: 2 2.3648 8 8)\\n', '13 - 9 = 4 (left: 4 4 10)\\n10 - 4 = 6 (left: 4 6)\\n4 + 6 = 10 (left: 10)\\n10 * 2 = 20 (left: 8 14 20)\\n', '13 - 9 = 4 (left: 4 4 10)\\n10 - 4 = 6 (left: 4 6)\\n4 + 6 = 10 (left: 10)\\n14 - 10 = 4 (left: 4 8 8)\\n', '13 - 9 = 4 (left: 4 4 10)\\n10 - 4 = 6 (left: 4 6)\\n4 + 6 = 10 (left: 10)\\n10 - 8 = 2 (left: 2 8 14)\\n', '13 - 9 = 4 (left: 4 4 10)\\n10 - 4 = 6 (left: 4 6)\\n4 + 6 = 10 (left: 10)\\n14 - 10 = 4 (left: 4 8 8)\\n', '13 - 9 = 4 (left: 4 4 10)\\n10 - 4 = 6 (left: 4 6)\\n4 + 6 = 10 (left: 10)\\n10 / 2 = 5 (left: 5 8 14)\\n', '13 - 9 = 4 (left: 4 4 10)\\n10 - 4 = 6 (left: 4 6)\\n4 + 6 = 10 (left: 10)\\n14 + 10 = 24 (left: 8 8 24)\\n', '13 - 9 = 4 (left: 4 4 10)\\n10 - 4 = 6 (left: 4 6)\\n4 + 6 = 10 (left: 10)\\n10 + 8 = 18 (left: 8 14 18)\\n', '13 - 9 = 4 (left: 4 4 10)\\n10 - 4 = 6 (left: 4 6)\\n6 - 4 = 2 (left: 2)\\nThere are no possible next steps as there is only one number.\\n')\n",
      "-- sol values --: (60.0, 60.0, 0, 0, 0, 0, 0, 0, 0, 0, 0, 0, 0, 0, 0, 0)\n",
      "-- choices --: ['13 - 9 = 4 (left: 4 4 10)\\n10 - 4 = 6 (left: 4 6)\\n4 * 6 = 24 (left: 24)\\nAnswer: 4 * (10 - (13 - 9)) = 24\\n', '10 - 4 = 6 (left: 6 9 13)\\n13 - 9 = 4 (left: 4 6)\\n4 * 6 = 24 (left: 24)\\nAnswer: (10 - 4) * (13 - 9) = 24\\n', '13 / 4 = 3.25 (left: 3.25 9 10)\\n10 / 3.25 = 3.08 (approx) (left: 3.08 9)\\n9 - 3.08 = 5.92 (left: 5.92)\\n5.92 * 2 = 11.84 (left: 8 8 11.84 14)\\n', '13 / 4 = 3.25 (left: 3.25 9 10)\\n10 / 3.25 = 3.08 (approx) (left: 3.08 9)\\n9 - 3.08 = 5.92 (left: 5.92)\\n5.92 + 2 = 7.92 (left: 7.92 8 8 14)\\n', '13 / 4 = 3.25 (left: 3.25 9 10)\\n10 / 3.25 = 3.08 (approx) (left: 3.08 9)\\n9 - 3.08 = 5.92 (left: 5.92)\\n14 - 5.92 = 8.08 (left: 2 8 8 8.08)\\n']\n",
      "\n",
      "['13 - 9 = 4 (left: 4 4 10)\\n10 - 4 = 6 (left: 4 6)\\n4 * 6 = 24 (left: 24)\\nAnswer: 4 * (10 - (13 - 9)) = 24\\n', '10 - 4 = 6 (left: 6 9 13)\\n13 - 9 = 4 (left: 4 6)\\n4 * 6 = 24 (left: 24)\\nAnswer: (10 - 4) * (13 - 9) = 24\\n', '13 / 4 = 3.25 (left: 3.25 9 10)\\n10 / 3.25 = 3.08 (approx) (left: 3.08 9)\\n9 - 3.08 = 5.92 (left: 5.92)\\n5.92 * 2 = 11.84 (left: 8 8 11.84 14)\\n', '13 / 4 = 3.25 (left: 3.25 9 10)\\n10 / 3.25 = 3.08 (approx) (left: 3.08 9)\\n9 - 3.08 = 5.92 (left: 5.92)\\n5.92 + 2 = 7.92 (left: 7.92 8 8 14)\\n', '13 / 4 = 3.25 (left: 3.25 9 10)\\n10 / 3.25 = 3.08 (approx) (left: 3.08 9)\\n9 - 3.08 = 5.92 (left: 5.92)\\n14 - 5.92 = 8.08 (left: 2 8 8 8.08)\\n']\n",
      "13 - 9 = 4 (left: 4 4 10)\n",
      "10 - 4 = 6 (left: 4 6)\n",
      "4 * 6 = 24 (left: 24)\n",
      "Answer: 4 * (10 - (13 - 9)) = 24\n",
      "\n"
     ]
    }
   ],
   "source": [
    "# Parse the arguments to run the experiment\n",
    "args = argparse.Namespace(backend='gpt-4', temperature=0.7, task='game24', naive_run=False, prompt_sample=None, method_generate='propose', method_evaluate='value', method_select='greedy', n_generate_sample=1, n_evaluate_sample=3, n_select_sample=5)\n",
    "\n",
    "# Call the functions to run the experiment\n",
    "task = Game24Task()\n",
    "\n",
    "# 999 is the index from the repo's CSV file to select the number input: 4 9 10 13\n",
    "ys, infos = solve(args, task, 999)\n",
    "print(ys[0])"
   ]
  }
 ],
 "metadata": {
  "colab": {
   "provenance": [],
   "toc_visible": true
  },
  "kernelspec": {
   "display_name": "Python 3 (ipykernel)",
   "language": "python",
   "name": "python3"
  },
  "language_info": {
   "codemirror_mode": {
    "name": "ipython",
    "version": 3
   },
   "file_extension": ".py",
   "mimetype": "text/x-python",
   "name": "python",
   "nbconvert_exporter": "python",
   "pygments_lexer": "ipython3",
   "version": "3.10.12"
  }
 },
 "nbformat": 4,
 "nbformat_minor": 4
}
