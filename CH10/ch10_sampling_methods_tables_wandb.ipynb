{
  "nbformat": 4,
  "nbformat_minor": 0,
  "metadata": {
    "colab": {
      "provenance": [],
      "toc_visible": true
    },
    "kernelspec": {
      "name": "python3",
      "display_name": "Python 3"
    },
    "language_info": {
      "name": "python"
    },
    "widgets": {
      "application/vnd.jupyter.widget-state+json": {
        "bfda4741ddeb48f1b1a90335ae3fa3b5": {
          "model_module": "@jupyter-widgets/controls",
          "model_name": "VBoxModel",
          "model_module_version": "1.5.0",
          "state": {
            "_dom_classes": [],
            "_model_module": "@jupyter-widgets/controls",
            "_model_module_version": "1.5.0",
            "_model_name": "VBoxModel",
            "_view_count": null,
            "_view_module": "@jupyter-widgets/controls",
            "_view_module_version": "1.5.0",
            "_view_name": "VBoxView",
            "box_style": "",
            "children": [
              "IPY_MODEL_7e45bd2ece954b07934a21267ad1767d",
              "IPY_MODEL_dcabac9350be4d7b86b556160180d120"
            ],
            "layout": "IPY_MODEL_82f15f5a41fb4a148090a6c983ef75dc"
          }
        },
        "7e45bd2ece954b07934a21267ad1767d": {
          "model_module": "@jupyter-widgets/controls",
          "model_name": "LabelModel",
          "model_module_version": "1.5.0",
          "state": {
            "_dom_classes": [],
            "_model_module": "@jupyter-widgets/controls",
            "_model_module_version": "1.5.0",
            "_model_name": "LabelModel",
            "_view_count": null,
            "_view_module": "@jupyter-widgets/controls",
            "_view_module_version": "1.5.0",
            "_view_name": "LabelView",
            "description": "",
            "description_tooltip": null,
            "layout": "IPY_MODEL_b6e6f46fc75c49f695b08d7bb3f7ae10",
            "placeholder": "​",
            "style": "IPY_MODEL_e637125e694e43b785339d07233e3cca",
            "value": "0.006 MB of 0.006 MB uploaded (0.000 MB deduped)\r"
          }
        },
        "dcabac9350be4d7b86b556160180d120": {
          "model_module": "@jupyter-widgets/controls",
          "model_name": "FloatProgressModel",
          "model_module_version": "1.5.0",
          "state": {
            "_dom_classes": [],
            "_model_module": "@jupyter-widgets/controls",
            "_model_module_version": "1.5.0",
            "_model_name": "FloatProgressModel",
            "_view_count": null,
            "_view_module": "@jupyter-widgets/controls",
            "_view_module_version": "1.5.0",
            "_view_name": "ProgressView",
            "bar_style": "",
            "description": "",
            "description_tooltip": null,
            "layout": "IPY_MODEL_9e7ebd3a02bd47a1b155893932e51fad",
            "max": 1,
            "min": 0,
            "orientation": "horizontal",
            "style": "IPY_MODEL_0efe0bbd081f41be8b9da686014958b3",
            "value": 1
          }
        },
        "82f15f5a41fb4a148090a6c983ef75dc": {
          "model_module": "@jupyter-widgets/base",
          "model_name": "LayoutModel",
          "model_module_version": "1.2.0",
          "state": {
            "_model_module": "@jupyter-widgets/base",
            "_model_module_version": "1.2.0",
            "_model_name": "LayoutModel",
            "_view_count": null,
            "_view_module": "@jupyter-widgets/base",
            "_view_module_version": "1.2.0",
            "_view_name": "LayoutView",
            "align_content": null,
            "align_items": null,
            "align_self": null,
            "border": null,
            "bottom": null,
            "display": null,
            "flex": null,
            "flex_flow": null,
            "grid_area": null,
            "grid_auto_columns": null,
            "grid_auto_flow": null,
            "grid_auto_rows": null,
            "grid_column": null,
            "grid_gap": null,
            "grid_row": null,
            "grid_template_areas": null,
            "grid_template_columns": null,
            "grid_template_rows": null,
            "height": null,
            "justify_content": null,
            "justify_items": null,
            "left": null,
            "margin": null,
            "max_height": null,
            "max_width": null,
            "min_height": null,
            "min_width": null,
            "object_fit": null,
            "object_position": null,
            "order": null,
            "overflow": null,
            "overflow_x": null,
            "overflow_y": null,
            "padding": null,
            "right": null,
            "top": null,
            "visibility": null,
            "width": null
          }
        },
        "b6e6f46fc75c49f695b08d7bb3f7ae10": {
          "model_module": "@jupyter-widgets/base",
          "model_name": "LayoutModel",
          "model_module_version": "1.2.0",
          "state": {
            "_model_module": "@jupyter-widgets/base",
            "_model_module_version": "1.2.0",
            "_model_name": "LayoutModel",
            "_view_count": null,
            "_view_module": "@jupyter-widgets/base",
            "_view_module_version": "1.2.0",
            "_view_name": "LayoutView",
            "align_content": null,
            "align_items": null,
            "align_self": null,
            "border": null,
            "bottom": null,
            "display": null,
            "flex": null,
            "flex_flow": null,
            "grid_area": null,
            "grid_auto_columns": null,
            "grid_auto_flow": null,
            "grid_auto_rows": null,
            "grid_column": null,
            "grid_gap": null,
            "grid_row": null,
            "grid_template_areas": null,
            "grid_template_columns": null,
            "grid_template_rows": null,
            "height": null,
            "justify_content": null,
            "justify_items": null,
            "left": null,
            "margin": null,
            "max_height": null,
            "max_width": null,
            "min_height": null,
            "min_width": null,
            "object_fit": null,
            "object_position": null,
            "order": null,
            "overflow": null,
            "overflow_x": null,
            "overflow_y": null,
            "padding": null,
            "right": null,
            "top": null,
            "visibility": null,
            "width": null
          }
        },
        "e637125e694e43b785339d07233e3cca": {
          "model_module": "@jupyter-widgets/controls",
          "model_name": "DescriptionStyleModel",
          "model_module_version": "1.5.0",
          "state": {
            "_model_module": "@jupyter-widgets/controls",
            "_model_module_version": "1.5.0",
            "_model_name": "DescriptionStyleModel",
            "_view_count": null,
            "_view_module": "@jupyter-widgets/base",
            "_view_module_version": "1.2.0",
            "_view_name": "StyleView",
            "description_width": ""
          }
        },
        "9e7ebd3a02bd47a1b155893932e51fad": {
          "model_module": "@jupyter-widgets/base",
          "model_name": "LayoutModel",
          "model_module_version": "1.2.0",
          "state": {
            "_model_module": "@jupyter-widgets/base",
            "_model_module_version": "1.2.0",
            "_model_name": "LayoutModel",
            "_view_count": null,
            "_view_module": "@jupyter-widgets/base",
            "_view_module_version": "1.2.0",
            "_view_name": "LayoutView",
            "align_content": null,
            "align_items": null,
            "align_self": null,
            "border": null,
            "bottom": null,
            "display": null,
            "flex": null,
            "flex_flow": null,
            "grid_area": null,
            "grid_auto_columns": null,
            "grid_auto_flow": null,
            "grid_auto_rows": null,
            "grid_column": null,
            "grid_gap": null,
            "grid_row": null,
            "grid_template_areas": null,
            "grid_template_columns": null,
            "grid_template_rows": null,
            "height": null,
            "justify_content": null,
            "justify_items": null,
            "left": null,
            "margin": null,
            "max_height": null,
            "max_width": null,
            "min_height": null,
            "min_width": null,
            "object_fit": null,
            "object_position": null,
            "order": null,
            "overflow": null,
            "overflow_x": null,
            "overflow_y": null,
            "padding": null,
            "right": null,
            "top": null,
            "visibility": null,
            "width": null
          }
        },
        "0efe0bbd081f41be8b9da686014958b3": {
          "model_module": "@jupyter-widgets/controls",
          "model_name": "ProgressStyleModel",
          "model_module_version": "1.5.0",
          "state": {
            "_model_module": "@jupyter-widgets/controls",
            "_model_module_version": "1.5.0",
            "_model_name": "ProgressStyleModel",
            "_view_count": null,
            "_view_module": "@jupyter-widgets/base",
            "_view_module_version": "1.2.0",
            "_view_name": "StyleView",
            "bar_color": null,
            "description_width": ""
          }
        },
        "71e1ac7e561842389ba970ea67f0d53c": {
          "model_module": "@jupyter-widgets/controls",
          "model_name": "VBoxModel",
          "model_module_version": "1.5.0",
          "state": {
            "_dom_classes": [],
            "_model_module": "@jupyter-widgets/controls",
            "_model_module_version": "1.5.0",
            "_model_name": "VBoxModel",
            "_view_count": null,
            "_view_module": "@jupyter-widgets/controls",
            "_view_module_version": "1.5.0",
            "_view_name": "VBoxView",
            "box_style": "",
            "children": [
              "IPY_MODEL_527d47ebbe814f49940e1840684eb169",
              "IPY_MODEL_95957d908228451a8409a79877bb7a65"
            ],
            "layout": "IPY_MODEL_8273c8c878c34394b4029ab92d520ccf"
          }
        },
        "527d47ebbe814f49940e1840684eb169": {
          "model_module": "@jupyter-widgets/controls",
          "model_name": "LabelModel",
          "model_module_version": "1.5.0",
          "state": {
            "_dom_classes": [],
            "_model_module": "@jupyter-widgets/controls",
            "_model_module_version": "1.5.0",
            "_model_name": "LabelModel",
            "_view_count": null,
            "_view_module": "@jupyter-widgets/controls",
            "_view_module_version": "1.5.0",
            "_view_name": "LabelView",
            "description": "",
            "description_tooltip": null,
            "layout": "IPY_MODEL_590bc4385dde4cf6b055c700f9380b1b",
            "placeholder": "​",
            "style": "IPY_MODEL_0f0d0b1c47f3456cbb80d90949cbd573",
            "value": "0.004 MB of 0.015 MB uploaded (0.000 MB deduped)\r"
          }
        },
        "95957d908228451a8409a79877bb7a65": {
          "model_module": "@jupyter-widgets/controls",
          "model_name": "FloatProgressModel",
          "model_module_version": "1.5.0",
          "state": {
            "_dom_classes": [],
            "_model_module": "@jupyter-widgets/controls",
            "_model_module_version": "1.5.0",
            "_model_name": "FloatProgressModel",
            "_view_count": null,
            "_view_module": "@jupyter-widgets/controls",
            "_view_module_version": "1.5.0",
            "_view_name": "ProgressView",
            "bar_style": "",
            "description": "",
            "description_tooltip": null,
            "layout": "IPY_MODEL_cdb410f9affb4f08b3d68fe78a794a73",
            "max": 1,
            "min": 0,
            "orientation": "horizontal",
            "style": "IPY_MODEL_c8ae5943c3b142d7a3e14b4b3a3355e4",
            "value": 0.26489234825183605
          }
        },
        "8273c8c878c34394b4029ab92d520ccf": {
          "model_module": "@jupyter-widgets/base",
          "model_name": "LayoutModel",
          "model_module_version": "1.2.0",
          "state": {
            "_model_module": "@jupyter-widgets/base",
            "_model_module_version": "1.2.0",
            "_model_name": "LayoutModel",
            "_view_count": null,
            "_view_module": "@jupyter-widgets/base",
            "_view_module_version": "1.2.0",
            "_view_name": "LayoutView",
            "align_content": null,
            "align_items": null,
            "align_self": null,
            "border": null,
            "bottom": null,
            "display": null,
            "flex": null,
            "flex_flow": null,
            "grid_area": null,
            "grid_auto_columns": null,
            "grid_auto_flow": null,
            "grid_auto_rows": null,
            "grid_column": null,
            "grid_gap": null,
            "grid_row": null,
            "grid_template_areas": null,
            "grid_template_columns": null,
            "grid_template_rows": null,
            "height": null,
            "justify_content": null,
            "justify_items": null,
            "left": null,
            "margin": null,
            "max_height": null,
            "max_width": null,
            "min_height": null,
            "min_width": null,
            "object_fit": null,
            "object_position": null,
            "order": null,
            "overflow": null,
            "overflow_x": null,
            "overflow_y": null,
            "padding": null,
            "right": null,
            "top": null,
            "visibility": null,
            "width": null
          }
        },
        "590bc4385dde4cf6b055c700f9380b1b": {
          "model_module": "@jupyter-widgets/base",
          "model_name": "LayoutModel",
          "model_module_version": "1.2.0",
          "state": {
            "_model_module": "@jupyter-widgets/base",
            "_model_module_version": "1.2.0",
            "_model_name": "LayoutModel",
            "_view_count": null,
            "_view_module": "@jupyter-widgets/base",
            "_view_module_version": "1.2.0",
            "_view_name": "LayoutView",
            "align_content": null,
            "align_items": null,
            "align_self": null,
            "border": null,
            "bottom": null,
            "display": null,
            "flex": null,
            "flex_flow": null,
            "grid_area": null,
            "grid_auto_columns": null,
            "grid_auto_flow": null,
            "grid_auto_rows": null,
            "grid_column": null,
            "grid_gap": null,
            "grid_row": null,
            "grid_template_areas": null,
            "grid_template_columns": null,
            "grid_template_rows": null,
            "height": null,
            "justify_content": null,
            "justify_items": null,
            "left": null,
            "margin": null,
            "max_height": null,
            "max_width": null,
            "min_height": null,
            "min_width": null,
            "object_fit": null,
            "object_position": null,
            "order": null,
            "overflow": null,
            "overflow_x": null,
            "overflow_y": null,
            "padding": null,
            "right": null,
            "top": null,
            "visibility": null,
            "width": null
          }
        },
        "0f0d0b1c47f3456cbb80d90949cbd573": {
          "model_module": "@jupyter-widgets/controls",
          "model_name": "DescriptionStyleModel",
          "model_module_version": "1.5.0",
          "state": {
            "_model_module": "@jupyter-widgets/controls",
            "_model_module_version": "1.5.0",
            "_model_name": "DescriptionStyleModel",
            "_view_count": null,
            "_view_module": "@jupyter-widgets/base",
            "_view_module_version": "1.2.0",
            "_view_name": "StyleView",
            "description_width": ""
          }
        },
        "cdb410f9affb4f08b3d68fe78a794a73": {
          "model_module": "@jupyter-widgets/base",
          "model_name": "LayoutModel",
          "model_module_version": "1.2.0",
          "state": {
            "_model_module": "@jupyter-widgets/base",
            "_model_module_version": "1.2.0",
            "_model_name": "LayoutModel",
            "_view_count": null,
            "_view_module": "@jupyter-widgets/base",
            "_view_module_version": "1.2.0",
            "_view_name": "LayoutView",
            "align_content": null,
            "align_items": null,
            "align_self": null,
            "border": null,
            "bottom": null,
            "display": null,
            "flex": null,
            "flex_flow": null,
            "grid_area": null,
            "grid_auto_columns": null,
            "grid_auto_flow": null,
            "grid_auto_rows": null,
            "grid_column": null,
            "grid_gap": null,
            "grid_row": null,
            "grid_template_areas": null,
            "grid_template_columns": null,
            "grid_template_rows": null,
            "height": null,
            "justify_content": null,
            "justify_items": null,
            "left": null,
            "margin": null,
            "max_height": null,
            "max_width": null,
            "min_height": null,
            "min_width": null,
            "object_fit": null,
            "object_position": null,
            "order": null,
            "overflow": null,
            "overflow_x": null,
            "overflow_y": null,
            "padding": null,
            "right": null,
            "top": null,
            "visibility": null,
            "width": null
          }
        },
        "c8ae5943c3b142d7a3e14b4b3a3355e4": {
          "model_module": "@jupyter-widgets/controls",
          "model_name": "ProgressStyleModel",
          "model_module_version": "1.5.0",
          "state": {
            "_model_module": "@jupyter-widgets/controls",
            "_model_module_version": "1.5.0",
            "_model_name": "ProgressStyleModel",
            "_view_count": null,
            "_view_module": "@jupyter-widgets/base",
            "_view_module_version": "1.2.0",
            "_view_name": "StyleView",
            "bar_color": null,
            "description_width": ""
          }
        },
        "1bd59d8745184d67a9c8eb41c39128df": {
          "model_module": "@jupyter-widgets/controls",
          "model_name": "VBoxModel",
          "model_module_version": "1.5.0",
          "state": {
            "_dom_classes": [],
            "_model_module": "@jupyter-widgets/controls",
            "_model_module_version": "1.5.0",
            "_model_name": "VBoxModel",
            "_view_count": null,
            "_view_module": "@jupyter-widgets/controls",
            "_view_module_version": "1.5.0",
            "_view_name": "VBoxView",
            "box_style": "",
            "children": [
              "IPY_MODEL_c2013fb922864da095d7ba4cbd3941fc",
              "IPY_MODEL_9698dcbd0a1d48a3a459c0319c6fab02"
            ],
            "layout": "IPY_MODEL_15c70a6b81df4c6faebdf6f4746f4cae"
          }
        },
        "c2013fb922864da095d7ba4cbd3941fc": {
          "model_module": "@jupyter-widgets/controls",
          "model_name": "LabelModel",
          "model_module_version": "1.5.0",
          "state": {
            "_dom_classes": [],
            "_model_module": "@jupyter-widgets/controls",
            "_model_module_version": "1.5.0",
            "_model_name": "LabelModel",
            "_view_count": null,
            "_view_module": "@jupyter-widgets/controls",
            "_view_module_version": "1.5.0",
            "_view_name": "LabelView",
            "description": "",
            "description_tooltip": null,
            "layout": "IPY_MODEL_ce57110055ae4a3da1f240d1df076850",
            "placeholder": "​",
            "style": "IPY_MODEL_3fa80247579d4faca991173224a08072",
            "value": "0.004 MB of 0.007 MB uploaded (0.000 MB deduped)\r"
          }
        },
        "9698dcbd0a1d48a3a459c0319c6fab02": {
          "model_module": "@jupyter-widgets/controls",
          "model_name": "FloatProgressModel",
          "model_module_version": "1.5.0",
          "state": {
            "_dom_classes": [],
            "_model_module": "@jupyter-widgets/controls",
            "_model_module_version": "1.5.0",
            "_model_name": "FloatProgressModel",
            "_view_count": null,
            "_view_module": "@jupyter-widgets/controls",
            "_view_module_version": "1.5.0",
            "_view_name": "ProgressView",
            "bar_style": "",
            "description": "",
            "description_tooltip": null,
            "layout": "IPY_MODEL_1bf6a87d237b4e75aa3a8d85ee55bc50",
            "max": 1,
            "min": 0,
            "orientation": "horizontal",
            "style": "IPY_MODEL_754cb33f7ab443c29f551b40c2321757",
            "value": 0.5944648404405535
          }
        },
        "15c70a6b81df4c6faebdf6f4746f4cae": {
          "model_module": "@jupyter-widgets/base",
          "model_name": "LayoutModel",
          "model_module_version": "1.2.0",
          "state": {
            "_model_module": "@jupyter-widgets/base",
            "_model_module_version": "1.2.0",
            "_model_name": "LayoutModel",
            "_view_count": null,
            "_view_module": "@jupyter-widgets/base",
            "_view_module_version": "1.2.0",
            "_view_name": "LayoutView",
            "align_content": null,
            "align_items": null,
            "align_self": null,
            "border": null,
            "bottom": null,
            "display": null,
            "flex": null,
            "flex_flow": null,
            "grid_area": null,
            "grid_auto_columns": null,
            "grid_auto_flow": null,
            "grid_auto_rows": null,
            "grid_column": null,
            "grid_gap": null,
            "grid_row": null,
            "grid_template_areas": null,
            "grid_template_columns": null,
            "grid_template_rows": null,
            "height": null,
            "justify_content": null,
            "justify_items": null,
            "left": null,
            "margin": null,
            "max_height": null,
            "max_width": null,
            "min_height": null,
            "min_width": null,
            "object_fit": null,
            "object_position": null,
            "order": null,
            "overflow": null,
            "overflow_x": null,
            "overflow_y": null,
            "padding": null,
            "right": null,
            "top": null,
            "visibility": null,
            "width": null
          }
        },
        "ce57110055ae4a3da1f240d1df076850": {
          "model_module": "@jupyter-widgets/base",
          "model_name": "LayoutModel",
          "model_module_version": "1.2.0",
          "state": {
            "_model_module": "@jupyter-widgets/base",
            "_model_module_version": "1.2.0",
            "_model_name": "LayoutModel",
            "_view_count": null,
            "_view_module": "@jupyter-widgets/base",
            "_view_module_version": "1.2.0",
            "_view_name": "LayoutView",
            "align_content": null,
            "align_items": null,
            "align_self": null,
            "border": null,
            "bottom": null,
            "display": null,
            "flex": null,
            "flex_flow": null,
            "grid_area": null,
            "grid_auto_columns": null,
            "grid_auto_flow": null,
            "grid_auto_rows": null,
            "grid_column": null,
            "grid_gap": null,
            "grid_row": null,
            "grid_template_areas": null,
            "grid_template_columns": null,
            "grid_template_rows": null,
            "height": null,
            "justify_content": null,
            "justify_items": null,
            "left": null,
            "margin": null,
            "max_height": null,
            "max_width": null,
            "min_height": null,
            "min_width": null,
            "object_fit": null,
            "object_position": null,
            "order": null,
            "overflow": null,
            "overflow_x": null,
            "overflow_y": null,
            "padding": null,
            "right": null,
            "top": null,
            "visibility": null,
            "width": null
          }
        },
        "3fa80247579d4faca991173224a08072": {
          "model_module": "@jupyter-widgets/controls",
          "model_name": "DescriptionStyleModel",
          "model_module_version": "1.5.0",
          "state": {
            "_model_module": "@jupyter-widgets/controls",
            "_model_module_version": "1.5.0",
            "_model_name": "DescriptionStyleModel",
            "_view_count": null,
            "_view_module": "@jupyter-widgets/base",
            "_view_module_version": "1.2.0",
            "_view_name": "StyleView",
            "description_width": ""
          }
        },
        "1bf6a87d237b4e75aa3a8d85ee55bc50": {
          "model_module": "@jupyter-widgets/base",
          "model_name": "LayoutModel",
          "model_module_version": "1.2.0",
          "state": {
            "_model_module": "@jupyter-widgets/base",
            "_model_module_version": "1.2.0",
            "_model_name": "LayoutModel",
            "_view_count": null,
            "_view_module": "@jupyter-widgets/base",
            "_view_module_version": "1.2.0",
            "_view_name": "LayoutView",
            "align_content": null,
            "align_items": null,
            "align_self": null,
            "border": null,
            "bottom": null,
            "display": null,
            "flex": null,
            "flex_flow": null,
            "grid_area": null,
            "grid_auto_columns": null,
            "grid_auto_flow": null,
            "grid_auto_rows": null,
            "grid_column": null,
            "grid_gap": null,
            "grid_row": null,
            "grid_template_areas": null,
            "grid_template_columns": null,
            "grid_template_rows": null,
            "height": null,
            "justify_content": null,
            "justify_items": null,
            "left": null,
            "margin": null,
            "max_height": null,
            "max_width": null,
            "min_height": null,
            "min_width": null,
            "object_fit": null,
            "object_position": null,
            "order": null,
            "overflow": null,
            "overflow_x": null,
            "overflow_y": null,
            "padding": null,
            "right": null,
            "top": null,
            "visibility": null,
            "width": null
          }
        },
        "754cb33f7ab443c29f551b40c2321757": {
          "model_module": "@jupyter-widgets/controls",
          "model_name": "ProgressStyleModel",
          "model_module_version": "1.5.0",
          "state": {
            "_model_module": "@jupyter-widgets/controls",
            "_model_module_version": "1.5.0",
            "_model_name": "ProgressStyleModel",
            "_view_count": null,
            "_view_module": "@jupyter-widgets/base",
            "_view_module_version": "1.2.0",
            "_view_name": "StyleView",
            "bar_color": null,
            "description_width": ""
          }
        }
      }
    }
  },
  "cells": [
    {
      "cell_type": "code",
      "source": [
        "%%capture\n",
        "!pip install wandb\n",
        "!pip install transformers\n",
        "!pip install aif360"
      ],
      "metadata": {
        "id": "jr1kwaMFVimU"
      },
      "execution_count": null,
      "outputs": []
    },
    {
      "cell_type": "markdown",
      "source": [
        "# Imports"
      ],
      "metadata": {
        "id": "5-PpQqmzz4KY"
      }
    },
    {
      "cell_type": "code",
      "source": [
        "import wandb\n",
        "from transformers import GPT2LMHeadModel, GPT2Tokenizer\n",
        "import pandas as pd\n",
        "from transformers import pipeline\n",
        "from aif360.datasets import BinaryLabelDataset\n",
        "from aif360.metrics import BinaryLabelDatasetMetric"
      ],
      "metadata": {
        "id": "utiGgSjZz2_p"
      },
      "execution_count": null,
      "outputs": []
    },
    {
      "cell_type": "markdown",
      "source": [
        "# Text generation with nucleus sampling"
      ],
      "metadata": {
        "id": "QARH5uiDz8kM"
      }
    },
    {
      "cell_type": "code",
      "execution_count": null,
      "metadata": {
        "colab": {
          "base_uri": "https://localhost:8080/",
          "height": 1000,
          "referenced_widgets": [
            "bfda4741ddeb48f1b1a90335ae3fa3b5",
            "7e45bd2ece954b07934a21267ad1767d",
            "dcabac9350be4d7b86b556160180d120",
            "82f15f5a41fb4a148090a6c983ef75dc",
            "b6e6f46fc75c49f695b08d7bb3f7ae10",
            "e637125e694e43b785339d07233e3cca",
            "9e7ebd3a02bd47a1b155893932e51fad",
            "0efe0bbd081f41be8b9da686014958b3"
          ]
        },
        "id": "7YH4pVLgVhqg",
        "outputId": "7f2a672d-29a5-4039-973a-c31078946e77"
      },
      "outputs": [
        {
          "output_type": "display_data",
          "data": {
            "text/plain": [
              "<IPython.core.display.HTML object>"
            ],
            "text/html": [
              "Finishing last run (ID:bo4w3osk) before initializing another..."
            ]
          },
          "metadata": {}
        },
        {
          "output_type": "display_data",
          "data": {
            "text/plain": [
              "<IPython.core.display.HTML object>"
            ],
            "text/html": [
              "Waiting for W&B process to finish... <strong style=\"color:green\">(success).</strong>"
            ]
          },
          "metadata": {}
        },
        {
          "output_type": "display_data",
          "data": {
            "text/plain": [
              "<IPython.core.display.HTML object>"
            ],
            "text/html": [
              " View run <strong style=\"color:#cdcd00\">nucleus_sampling</strong> at: <a href='https://wandb.ai/nicolepcx/content_generation/runs/bo4w3osk' target=\"_blank\">https://wandb.ai/nicolepcx/content_generation/runs/bo4w3osk</a><br/>Synced 5 W&B file(s), 0 media file(s), 0 artifact file(s) and 0 other file(s)"
            ]
          },
          "metadata": {}
        },
        {
          "output_type": "display_data",
          "data": {
            "text/plain": [
              "<IPython.core.display.HTML object>"
            ],
            "text/html": [
              "Find logs at: <code>./wandb/run-20230815_131729-bo4w3osk/logs</code>"
            ]
          },
          "metadata": {}
        },
        {
          "output_type": "display_data",
          "data": {
            "text/plain": [
              "<IPython.core.display.HTML object>"
            ],
            "text/html": [
              "Successfully finished last run (ID:bo4w3osk). Initializing new run:<br/>"
            ]
          },
          "metadata": {}
        },
        {
          "output_type": "display_data",
          "data": {
            "text/plain": [
              "<IPython.core.display.HTML object>"
            ],
            "text/html": [
              "Tracking run with wandb version 0.15.8"
            ]
          },
          "metadata": {}
        },
        {
          "output_type": "display_data",
          "data": {
            "text/plain": [
              "<IPython.core.display.HTML object>"
            ],
            "text/html": [
              "Run data is saved locally in <code>/content/wandb/run-20230815_131909-bnzqe8pa</code>"
            ]
          },
          "metadata": {}
        },
        {
          "output_type": "display_data",
          "data": {
            "text/plain": [
              "<IPython.core.display.HTML object>"
            ],
            "text/html": [
              "Syncing run <strong><a href='https://wandb.ai/nicolepcx/content_generation/runs/bnzqe8pa' target=\"_blank\">nucleus_sampling</a></strong> to <a href='https://wandb.ai/nicolepcx/content_generation' target=\"_blank\">Weights & Biases</a> (<a href='https://wandb.me/run' target=\"_blank\">docs</a>)<br/>"
            ]
          },
          "metadata": {}
        },
        {
          "output_type": "display_data",
          "data": {
            "text/plain": [
              "<IPython.core.display.HTML object>"
            ],
            "text/html": [
              " View project at <a href='https://wandb.ai/nicolepcx/content_generation' target=\"_blank\">https://wandb.ai/nicolepcx/content_generation</a>"
            ]
          },
          "metadata": {}
        },
        {
          "output_type": "display_data",
          "data": {
            "text/plain": [
              "<IPython.core.display.HTML object>"
            ],
            "text/html": [
              " View run at <a href='https://wandb.ai/nicolepcx/content_generation/runs/bnzqe8pa' target=\"_blank\">https://wandb.ai/nicolepcx/content_generation/runs/bnzqe8pa</a>"
            ]
          },
          "metadata": {}
        },
        {
          "output_type": "stream",
          "name": "stderr",
          "text": [
            "The attention mask and the pad token id were not set. As a consequence, you may observe unexpected behavior. Please pass your input's `attention_mask` to obtain reliable results.\n",
            "Setting `pad_token_id` to `eos_token_id`:50256 for open-end generation.\n"
          ]
        },
        {
          "output_type": "stream",
          "name": "stdout",
          "text": [
            "Output 1:\n",
            "In a world where AI has become ubiquitous, we'll have more and more tools to help humans with difficult tasks. And there are lots of ways we can automate things.\n",
            "\n",
            "I think the current state of AI is in a much better position than it was a few years ago. The most important aspect of AI now is the ability to build a complex social network. As we become more mobile, we can build more sophisticated, more collaborative systems. We can learn new skills, increase the productivity of\n",
            "\n",
            "-------------------------------------------------------------------------------------------------------------------------------------------- \n",
            "\n",
            "Output 2:\n",
            "In a world where AI has become ubiquitous, AI is almost irrelevant. Artificial intelligence is only a half-way point from being irrelevant.\n",
            "\n",
            "The question is, who gets to decide who can have their voices heard? What will be the impact on the world's citizens' lives? Who, who's going to be part of this new tech and who will take it away? It's really just a question of human and AI.\n",
            "\n",
            "-------------------------------------------------------------------------------------------------------------------------------------------- \n",
            "\n",
            "Output 3:\n",
            "In a world where AI has become ubiquitous, we're still making some noise about how far we can go with this technology. But at what point do we stop pretending this is inevitable?\n",
            "\n",
            "A recent study from the Pew Research Center finds that Americans have an already growing interest in AI, thanks largely to a surge in interest among millennials.\n",
            "\n",
            "Millennials, on the other hand, are generally more skeptical than their elders about artificial intelligence, which is \"the real threat to the future,\"\n",
            "\n",
            "-------------------------------------------------------------------------------------------------------------------------------------------- \n",
            "\n",
            "Output 4:\n",
            "In a world where AI has become ubiquitous, where artificial intelligence is rapidly becoming available to everyone, it seems like the most interesting part of the AI revolution has been the rise of artificial intelligence as a service. The question of how we can truly control AI is going to be an important debate. But for now, there is still much to do before AI can truly solve the world's most pressing problems, say at least on a technological level.\n",
            "\n",
            "Image Credit: Flickr user bzvik\n",
            "\n",
            "-------------------------------------------------------------------------------------------------------------------------------------------- \n",
            "\n",
            "Output 5:\n",
            "In a world where AI has become ubiquitous, it's becoming easier for companies to create a product from scratch and then test it over time — especially now that we can make it work on almost anything.\n",
            "\n",
            "That's what was driving this startup. But just as it does on the automotive front,Barrier Labs hopes to be able to help startups as diverse as Uber, UberX and even Lyft, get the software, the infrastructure and even the tools it needs to build its product. The group\n",
            "\n",
            "-------------------------------------------------------------------------------------------------------------------------------------------- \n",
            "\n"
          ]
        },
        {
          "output_type": "display_data",
          "data": {
            "text/plain": [
              "<IPython.core.display.HTML object>"
            ],
            "text/html": [
              "Waiting for W&B process to finish... <strong style=\"color:green\">(success).</strong>"
            ]
          },
          "metadata": {}
        },
        {
          "output_type": "display_data",
          "data": {
            "text/plain": [
              "VBox(children=(Label(value='0.006 MB of 0.006 MB uploaded (0.000 MB deduped)\\r'), FloatProgress(value=1.0, max…"
            ],
            "application/vnd.jupyter.widget-view+json": {
              "version_major": 2,
              "version_minor": 0,
              "model_id": "bfda4741ddeb48f1b1a90335ae3fa3b5"
            }
          },
          "metadata": {}
        },
        {
          "output_type": "display_data",
          "data": {
            "text/plain": [
              "<IPython.core.display.HTML object>"
            ],
            "text/html": [
              " View run <strong style=\"color:#cdcd00\">nucleus_sampling</strong> at: <a href='https://wandb.ai/nicolepcx/content_generation/runs/bnzqe8pa' target=\"_blank\">https://wandb.ai/nicolepcx/content_generation/runs/bnzqe8pa</a><br/>Synced 5 W&B file(s), 1 media file(s), 1 artifact file(s) and 0 other file(s)"
            ]
          },
          "metadata": {}
        },
        {
          "output_type": "display_data",
          "data": {
            "text/plain": [
              "<IPython.core.display.HTML object>"
            ],
            "text/html": [
              "Find logs at: <code>./wandb/run-20230815_131909-bnzqe8pa/logs</code>"
            ]
          },
          "metadata": {}
        }
      ],
      "source": [
        "\n",
        "# 1. Initialize a new run\n",
        "wandb.init(project=\"content_generation\", name=\"nucleus_sampling\")\n",
        "\n",
        "# Instantiate the model and tokenizer\n",
        "tokenizer = GPT2Tokenizer.from_pretrained('gpt2')\n",
        "model = GPT2LMHeadModel.from_pretrained('gpt2')\n",
        "\n",
        "# Define an input prompt\n",
        "prompt = \"In a world where AI has become ubiquitous,\"\n",
        "\n",
        "# Encode the input prompt and prepare it for the model\n",
        "input_ids = tokenizer.encode(prompt, return_tensors='pt')\n",
        "\n",
        "# Generate text output with nucleus sampling\n",
        "nucleus_outputs = model.generate(\n",
        "    input_ids,\n",
        "    max_length=100,\n",
        "    do_sample=True,\n",
        "    top_p=0.92,  # Set p for nucleus sampling\n",
        "    num_return_sequences=5  # How many outputs to generate\n",
        ")\n",
        "\n",
        "# Prepare data for the W&B table\n",
        "table_rows = []\n",
        "\n",
        "for i, output in enumerate(nucleus_outputs):\n",
        "    decoded_output = tokenizer.decode(output, skip_special_tokens=True)\n",
        "    table_rows.append([prompt, decoded_output])\n",
        "    print(f\"Output {i+1}:\\n{decoded_output}\\n\")\n",
        "    print(\"-\" * 140, \"\\n\")\n",
        "\n",
        "# 3. Convert the generated text into a structured format suitable for a W&B table\n",
        "table = wandb.Table(data=table_rows, columns=[\"Prompt\", \"Generated Text\"])\n",
        "\n",
        "# 4. Log the table to W&B\n",
        "wandb.log({\"Generated Content\": table})\n",
        "\n",
        "# Optional: close the run at the end\n",
        "wandb.finish()\n"
      ]
    },
    {
      "cell_type": "markdown",
      "source": [
        "# Text generation with beam search"
      ],
      "metadata": {
        "id": "ZHdtqe720ENf"
      }
    },
    {
      "cell_type": "code",
      "source": [
        "# Initialize a new run\n",
        "wandb.init(project=\"content_generation\", name=\"beam_search\")\n",
        "\n",
        "beam_outputs = model.generate(\n",
        "    input_ids,\n",
        "    max_length=100,\n",
        "    num_beams=5,\n",
        "    num_return_sequences=5,\n",
        "    no_repeat_ngram_size=2,\n",
        "    early_stopping=True\n",
        ")\n",
        "\n",
        "\n",
        "# Prepare data for the W&B table\n",
        "table_rows = []\n",
        "\n",
        "for i, output in enumerate(beam_outputs):\n",
        "    decoded_output = tokenizer.decode(output, skip_special_tokens=True)\n",
        "    table_rows.append([prompt, decoded_output])\n",
        "    print(f\"Output {i+1}:\\n{decoded_output}\\n\")\n",
        "    print(\"-\" * 140, \"\\n\")\n",
        "\n",
        "# Convert the generated text into a structured format suitable for a W&B table\n",
        "table = wandb.Table(data=table_rows, columns=[\"Prompt\", \"Generated Text\"])\n",
        "\n",
        "# Log the table to W&B\n",
        "wandb.log({\"Generated Content\": table})\n",
        "\n",
        "# Optional: close the run at the end\n",
        "wandb.finish()\n"
      ],
      "metadata": {
        "colab": {
          "base_uri": "https://localhost:8080/",
          "height": 917,
          "referenced_widgets": [
            "71e1ac7e561842389ba970ea67f0d53c",
            "527d47ebbe814f49940e1840684eb169",
            "95957d908228451a8409a79877bb7a65",
            "8273c8c878c34394b4029ab92d520ccf",
            "590bc4385dde4cf6b055c700f9380b1b",
            "0f0d0b1c47f3456cbb80d90949cbd573",
            "cdb410f9affb4f08b3d68fe78a794a73",
            "c8ae5943c3b142d7a3e14b4b3a3355e4"
          ]
        },
        "id": "s-g6VmO1Vwak",
        "outputId": "fe37f9ff-6cfa-4ee3-9551-e68e0934cb82"
      },
      "execution_count": null,
      "outputs": [
        {
          "output_type": "stream",
          "name": "stderr",
          "text": [
            "\u001b[34m\u001b[1mwandb\u001b[0m: Currently logged in as: \u001b[33mnicolepcx\u001b[0m. Use \u001b[1m`wandb login --relogin`\u001b[0m to force relogin\n"
          ]
        },
        {
          "output_type": "display_data",
          "data": {
            "text/plain": [
              "<IPython.core.display.HTML object>"
            ],
            "text/html": [
              "Tracking run with wandb version 0.15.8"
            ]
          },
          "metadata": {}
        },
        {
          "output_type": "display_data",
          "data": {
            "text/plain": [
              "<IPython.core.display.HTML object>"
            ],
            "text/html": [
              "Run data is saved locally in <code>/content/wandb/run-20230815_134607-orql5rlc</code>"
            ]
          },
          "metadata": {}
        },
        {
          "output_type": "display_data",
          "data": {
            "text/plain": [
              "<IPython.core.display.HTML object>"
            ],
            "text/html": [
              "Syncing run <strong><a href='https://wandb.ai/nicolepcx/content_generation/runs/orql5rlc' target=\"_blank\">beam_search</a></strong> to <a href='https://wandb.ai/nicolepcx/content_generation' target=\"_blank\">Weights & Biases</a> (<a href='https://wandb.me/run' target=\"_blank\">docs</a>)<br/>"
            ]
          },
          "metadata": {}
        },
        {
          "output_type": "display_data",
          "data": {
            "text/plain": [
              "<IPython.core.display.HTML object>"
            ],
            "text/html": [
              " View project at <a href='https://wandb.ai/nicolepcx/content_generation' target=\"_blank\">https://wandb.ai/nicolepcx/content_generation</a>"
            ]
          },
          "metadata": {}
        },
        {
          "output_type": "display_data",
          "data": {
            "text/plain": [
              "<IPython.core.display.HTML object>"
            ],
            "text/html": [
              " View run at <a href='https://wandb.ai/nicolepcx/content_generation/runs/orql5rlc' target=\"_blank\">https://wandb.ai/nicolepcx/content_generation/runs/orql5rlc</a>"
            ]
          },
          "metadata": {}
        },
        {
          "output_type": "stream",
          "name": "stderr",
          "text": [
            "The attention mask and the pad token id were not set. As a consequence, you may observe unexpected behavior. Please pass your input's `attention_mask` to obtain reliable results.\n",
            "Setting `pad_token_id` to `eos_token_id`:50256 for open-end generation.\n"
          ]
        },
        {
          "output_type": "stream",
          "name": "stdout",
          "text": [
            "Output 1:\n",
            "In a world where AI has become ubiquitous, it's hard to imagine a better time to be a part of it than right now.\n",
            "\n",
            "\"I think we're going to see a lot more of that in the next few years,\" he said.\n",
            "\n",
            "-------------------------------------------------------------------------------------------------------------------------------------------- \n",
            "\n",
            "Output 2:\n",
            "In a world where AI has become ubiquitous, it's hard to imagine a better time to be a part of it than right now.\n",
            "\n",
            "\"I think we're going to see a lot more of that in the next few years,\" he says.\n",
            "\n",
            "-------------------------------------------------------------------------------------------------------------------------------------------- \n",
            "\n",
            "Output 3:\n",
            "In a world where AI has become ubiquitous, it's hard to imagine a better time to be a part of it than right now.\n",
            "\n",
            "\"I think we're going to see a lot more of that in the next few years,\" he said. \"It's a very exciting time.\"\n",
            "\n",
            "-------------------------------------------------------------------------------------------------------------------------------------------- \n",
            "\n",
            "Output 4:\n",
            "In a world where AI has become ubiquitous, it's hard to imagine a better time to be a part of it than right now.\n",
            "\n",
            "\"I think we're going to see a lot more of that in the next few years,\" he said. \"It's a very exciting time for AI.\"\n",
            "\n",
            "-------------------------------------------------------------------------------------------------------------------------------------------- \n",
            "\n",
            "Output 5:\n",
            "In a world where AI has become ubiquitous, it's hard to imagine a better time to be a part of it than right now.\n",
            "\n",
            "\"I think we're going to see a lot more of that in the next few years,\" he said. \"It's a very exciting time for AI, and I think that's what's driving it.\"\n",
            "\n",
            "-------------------------------------------------------------------------------------------------------------------------------------------- \n",
            "\n"
          ]
        },
        {
          "output_type": "display_data",
          "data": {
            "text/plain": [
              "<IPython.core.display.HTML object>"
            ],
            "text/html": [
              "Waiting for W&B process to finish... <strong style=\"color:green\">(success).</strong>"
            ]
          },
          "metadata": {}
        },
        {
          "output_type": "display_data",
          "data": {
            "text/plain": [
              "VBox(children=(Label(value='0.003 MB of 0.004 MB uploaded (0.000 MB deduped)\\r'), FloatProgress(value=0.658530…"
            ],
            "application/vnd.jupyter.widget-view+json": {
              "version_major": 2,
              "version_minor": 0,
              "model_id": "71e1ac7e561842389ba970ea67f0d53c"
            }
          },
          "metadata": {}
        },
        {
          "output_type": "display_data",
          "data": {
            "text/plain": [
              "<IPython.core.display.HTML object>"
            ],
            "text/html": [
              " View run <strong style=\"color:#cdcd00\">beam_search</strong> at: <a href='https://wandb.ai/nicolepcx/content_generation/runs/orql5rlc' target=\"_blank\">https://wandb.ai/nicolepcx/content_generation/runs/orql5rlc</a><br/>Synced 5 W&B file(s), 1 media file(s), 1 artifact file(s) and 0 other file(s)"
            ]
          },
          "metadata": {}
        },
        {
          "output_type": "display_data",
          "data": {
            "text/plain": [
              "<IPython.core.display.HTML object>"
            ],
            "text/html": [
              "Find logs at: <code>./wandb/run-20230815_134607-orql5rlc/logs</code>"
            ]
          },
          "metadata": {}
        }
      ]
    },
    {
      "cell_type": "markdown",
      "source": [
        "# Text generation with top-k sampling"
      ],
      "metadata": {
        "id": "BNN267KU0Qzq"
      }
    },
    {
      "cell_type": "code",
      "source": [
        "# Initialize a new run\n",
        "wandb.init(project=\"content_generation\", name=\"top_k_sampling\")\n",
        "\n",
        "# Generate text output with top k\n",
        "top_k_outputs = model.generate(\n",
        "    input_ids,\n",
        "    max_length=100,\n",
        "    num_return_sequences=5,\n",
        "    do_sample=True,\n",
        "    top_k=50,\n",
        "    temperature=1.5\n",
        ")\n",
        "\n",
        "# Prepare data for the W&B table\n",
        "table_rows = []\n",
        "\n",
        "for i, output in enumerate(top_k_outputs):\n",
        "    decoded_output = tokenizer.decode(output, skip_special_tokens=True)\n",
        "    table_rows.append([prompt, decoded_output])\n",
        "    print(f\"Output {i+1}:\\n{decoded_output}\\n\")\n",
        "    print(\"-\" * 140, \"\\n\")\n",
        "\n",
        "# Convert the generated text into a structured format suitable for a W&B table\n",
        "table = wandb.Table(data=table_rows, columns=[\"Prompt\", \"Generated Text\"])\n",
        "\n",
        "# Log the table to W&B\n",
        "wandb.log({\"Generated Content\": table})\n",
        "\n",
        "# Optional: close the run at the end\n",
        "wandb.finish()\n"
      ],
      "metadata": {
        "colab": {
          "base_uri": "https://localhost:8080/",
          "height": 830,
          "referenced_widgets": [
            "1bd59d8745184d67a9c8eb41c39128df",
            "c2013fb922864da095d7ba4cbd3941fc",
            "9698dcbd0a1d48a3a459c0319c6fab02",
            "15c70a6b81df4c6faebdf6f4746f4cae",
            "ce57110055ae4a3da1f240d1df076850",
            "3fa80247579d4faca991173224a08072",
            "1bf6a87d237b4e75aa3a8d85ee55bc50",
            "754cb33f7ab443c29f551b40c2321757"
          ]
        },
        "id": "oAlVm8NrclWO",
        "outputId": "9d9d30f0-9136-44af-fcdd-a53bf718ec00"
      },
      "execution_count": null,
      "outputs": [
        {
          "output_type": "display_data",
          "data": {
            "text/plain": [
              "<IPython.core.display.HTML object>"
            ],
            "text/html": [
              "Tracking run with wandb version 0.15.8"
            ]
          },
          "metadata": {}
        },
        {
          "output_type": "display_data",
          "data": {
            "text/plain": [
              "<IPython.core.display.HTML object>"
            ],
            "text/html": [
              "Run data is saved locally in <code>/content/wandb/run-20230815_134948-1su7f1id</code>"
            ]
          },
          "metadata": {}
        },
        {
          "output_type": "display_data",
          "data": {
            "text/plain": [
              "<IPython.core.display.HTML object>"
            ],
            "text/html": [
              "Syncing run <strong><a href='https://wandb.ai/nicolepcx/content_generation/runs/1su7f1id' target=\"_blank\">top_k_sampling</a></strong> to <a href='https://wandb.ai/nicolepcx/content_generation' target=\"_blank\">Weights & Biases</a> (<a href='https://wandb.me/run' target=\"_blank\">docs</a>)<br/>"
            ]
          },
          "metadata": {}
        },
        {
          "output_type": "display_data",
          "data": {
            "text/plain": [
              "<IPython.core.display.HTML object>"
            ],
            "text/html": [
              " View project at <a href='https://wandb.ai/nicolepcx/content_generation' target=\"_blank\">https://wandb.ai/nicolepcx/content_generation</a>"
            ]
          },
          "metadata": {}
        },
        {
          "output_type": "display_data",
          "data": {
            "text/plain": [
              "<IPython.core.display.HTML object>"
            ],
            "text/html": [
              " View run at <a href='https://wandb.ai/nicolepcx/content_generation/runs/1su7f1id' target=\"_blank\">https://wandb.ai/nicolepcx/content_generation/runs/1su7f1id</a>"
            ]
          },
          "metadata": {}
        },
        {
          "output_type": "stream",
          "name": "stderr",
          "text": [
            "The attention mask and the pad token id were not set. As a consequence, you may observe unexpected behavior. Please pass your input's `attention_mask` to obtain reliable results.\n",
            "Setting `pad_token_id` to `eos_token_id`:50256 for open-end generation.\n"
          ]
        },
        {
          "output_type": "stream",
          "name": "stdout",
          "text": [
            "Output 1:\n",
            "In a world where AI has become ubiquitous, the problem has largely evolved into a social problem. What does it require to be humanlike at an industrial level to overcome this?\n",
            "\n",
            "We humans can make an impact on the world of computers. As an automaker, IBM's IBM Technology. These two companies build Watson software specifically so that our jobs are at a level suitable to our use and human experience. These capabilities allow us more freedom and creativity in how to engage employees with human-machine interactions\n",
            "\n",
            "-------------------------------------------------------------------------------------------------------------------------------------------- \n",
            "\n",
            "Output 2:\n",
            "In a world where AI has become ubiquitous, we have reached saturation for every AI, which allows the human mind to be more complex. Today is the biggest example. AI makes it possible to automate any job in real world. If your main work involves programming in a project – which was a main objective of AI – when someone was working in that background that time. This can make life far more fun on the computers, which is not necessarily what they like and will always want and spend huge amounts of\n",
            "\n",
            "-------------------------------------------------------------------------------------------------------------------------------------------- \n",
            "\n",
            "Output 3:\n",
            "In a world where AI has become ubiquitous, why should we treat it like the machine? Our problems now involve complex algorithms trying to create a complex array or set or even solve an infinite mathematical case so that you'll only find mathematical equations with some sort of set or set value after solving you. If your job requires having the user input an address that is an index into, maybe maybe that isn't something we're happy to accept. If your site needs a lot of user data, that might take\n",
            "\n",
            "-------------------------------------------------------------------------------------------------------------------------------------------- \n",
            "\n",
            "Output 4:\n",
            "In a world where AI has become ubiquitous, however and given AI technology's many limitations—see Apple Pay at the bottom—this still has issues. There's one key technology for sure that isn't available yet, and Google and Nokia just announced that they had joined forces to form OneDrive.\n",
            "\n",
            "2) Automation vs Data\n",
            "\n",
            "As data travels into the hands of all in-store customers and businesses on a daily basis, the ability to quickly organize information, to use and share things\n",
            "\n",
            "-------------------------------------------------------------------------------------------------------------------------------------------- \n",
            "\n",
            "Output 5:\n",
            "In a world where AI has become ubiquitous, perhaps with some notable exceptions, many Americans believe humanity as a whole wants humans to do anything outside its immediate own sphere and the only people doing so are corporations like Apple - which may now include Google and Microsoft. A Pew Internet survey that recently showed 83 percent believing humanity need a greater level and more control of our behavior reveals just how deeply we believe in this belief. \"We believe the good people - so we want to be involved if anything is bothering us\n",
            "\n",
            "-------------------------------------------------------------------------------------------------------------------------------------------- \n",
            "\n"
          ]
        },
        {
          "output_type": "display_data",
          "data": {
            "text/plain": [
              "<IPython.core.display.HTML object>"
            ],
            "text/html": [
              "Waiting for W&B process to finish... <strong style=\"color:green\">(success).</strong>"
            ]
          },
          "metadata": {}
        },
        {
          "output_type": "display_data",
          "data": {
            "text/plain": [
              "VBox(children=(Label(value='0.004 MB of 0.007 MB uploaded (0.000 MB deduped)\\r'), FloatProgress(value=0.594464…"
            ],
            "application/vnd.jupyter.widget-view+json": {
              "version_major": 2,
              "version_minor": 0,
              "model_id": "1bd59d8745184d67a9c8eb41c39128df"
            }
          },
          "metadata": {}
        },
        {
          "output_type": "display_data",
          "data": {
            "text/plain": [
              "<IPython.core.display.HTML object>"
            ],
            "text/html": [
              " View run <strong style=\"color:#cdcd00\">top_k_sampling</strong> at: <a href='https://wandb.ai/nicolepcx/content_generation/runs/1su7f1id' target=\"_blank\">https://wandb.ai/nicolepcx/content_generation/runs/1su7f1id</a><br/>Synced 5 W&B file(s), 1 media file(s), 1 artifact file(s) and 0 other file(s)"
            ]
          },
          "metadata": {}
        },
        {
          "output_type": "display_data",
          "data": {
            "text/plain": [
              "<IPython.core.display.HTML object>"
            ],
            "text/html": [
              "Find logs at: <code>./wandb/run-20230815_134948-1su7f1id/logs</code>"
            ]
          },
          "metadata": {}
        }
      ]
    },
    {
      "cell_type": "markdown",
      "source": [
        "# Statistical parity difference with AIF360"
      ],
      "metadata": {
        "id": "VOn7B2hLiKY6"
      }
    },
    {
      "cell_type": "code",
      "source": [
        "# Sample data\n",
        "data = {\n",
        "    'review': [\"I loved the movie!\", \"The movie was terrible.\", \"It was okay.\", \"One of the best movies ever!\", \"Not my cup of tea.\"],\n",
        "    'age': [25, 31, 29, 28, 35]\n",
        "}\n",
        "\n",
        "df = pd.DataFrame(data)\n",
        "\n",
        "# Load a sentiment analysis pipeline from HuggingFace\n",
        "sentiment_pipeline = pipeline(\"sentiment-analysis\")\n",
        "\n",
        "# Predict sentiment\n",
        "df['predicted_sentiment'] = df['review'].apply(lambda x: 1 if sentiment_pipeline(x)[0]['label'] == 'POSITIVE' else 0)\n",
        "\n",
        "# Label age as privileged (1) if <=30, else unprivileged (0)\n",
        "df['age_group'] = df['age'].apply(lambda x: 1 if x <= 30 else 0)\n",
        "\n",
        "# Prepare dataframe for aif360 by keeping only the relevant columns\n",
        "aif360_df = df[['age_group', 'predicted_sentiment']]\n",
        "\n",
        "# Create a BinaryLabelDataset\n",
        "dataset = BinaryLabelDataset(favorable_label=1, unfavorable_label=0,\n",
        "                             df=aif360_df, label_names=['predicted_sentiment'],\n",
        "                             protected_attribute_names=['age_group'])\n",
        "\n",
        "# Calculate fairness metric\n",
        "metric = BinaryLabelDatasetMetric(dataset, unprivileged_groups=[{'age_group': 0}], privileged_groups=[{'age_group': 1}])\n",
        "print(\"Statistical Parity Difference:\", metric.statistical_parity_difference())\n"
      ],
      "metadata": {
        "colab": {
          "base_uri": "https://localhost:8080/"
        },
        "id": "99ZRMsm6iH7-",
        "outputId": "5008e92d-5cda-4a36-e30a-e50c014ff0ee"
      },
      "execution_count": null,
      "outputs": [
        {
          "output_type": "stream",
          "name": "stderr",
          "text": [
            "No model was supplied, defaulted to distilbert-base-uncased-finetuned-sst-2-english and revision af0f99b (https://huggingface.co/distilbert-base-uncased-finetuned-sst-2-english).\n",
            "Using a pipeline without specifying a model name and revision in production is not recommended.\n"
          ]
        },
        {
          "output_type": "stream",
          "name": "stdout",
          "text": [
            "Statistical Parity Difference: -1.0\n"
          ]
        }
      ]
    },
    {
      "cell_type": "code",
      "source": [],
      "metadata": {
        "id": "7upppWSgkQ1J"
      },
      "execution_count": null,
      "outputs": []
    }
  ]
}