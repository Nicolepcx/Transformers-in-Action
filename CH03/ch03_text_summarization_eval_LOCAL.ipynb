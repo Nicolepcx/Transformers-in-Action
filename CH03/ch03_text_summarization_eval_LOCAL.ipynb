{
 "cells": [
  {
   "cell_type": "markdown",
   "metadata": {
    "id": "R7UpXj4bEXRi"
   },
   "source": [
    "# About this notebook\n",
    "\n",
    "In this notebook, we will explore and evaluate various text summarization models on the [BillSum dataset](https://huggingface.co/datasets/billsum). We will compare several state-of-the-art Transformer-based models, such as BART, T5, and Pegasus, as well as a TextRank-based baseline model. Our goal is to determine their performance and suitability for summarizing legislative text data.\n",
    "\n",
    "The BillSum dataset is a collection of U.S. Congressional and California state bills with their corresponding summaries. It is an interesting use case for text summarization because legislative documents tend to be lengthy, complex, and written in a formal style. Moreover, they often contain domain-specific terminology and jargon, making it challenging to generate concise and accurate summaries.\n",
    "\n",
    "In this notebook, we will:\n",
    "\n",
    "1. Provide an overview of the different summarization models, including their strengths and limitations.\n",
    "2. Implement and demonstrate the use of these models to generate summaries of the legislative text.\n",
    "3. Evaluate the models on multiple samples from the BillSum dataset, considering both ROUGE and BLEU metrics for a comprehensive comparison.\n",
    "4. Discuss the importance of evaluating models on a diverse set of samples to ensure a more reliable and generalizable performance assessment.\n",
    "5. Provide insights into the BillSum dataset and why it is an interesting use case for text summarization.\n",
    "\n",
    "By the end of this notebook, you will gain a better understanding of the various text summarization models, their performance on legislative text data, and the challenges associated with evaluating models on complex and domain-specific datasets like BillSum."
   ]
  },
  {
   "cell_type": "markdown",
   "metadata": {
    "id": "LXhy8Pu_lVcN"
   },
   "source": [
    "# Imports"
   ]
  },
  {
   "cell_type": "code",
   "execution_count": null,
   "metadata": {},
   "outputs": [],
   "source": [
    "# Load setup.py file\n",
    "%load ../utils/setup.py\n",
    "%run ../utils/setup.py\n",
    "\n",
    "# Load utils.py file\n",
    "%load ../utils/utils.py\n",
    "%run ../utils/utils.py\n",
    "\n",
    "# Load textrank.py file\n",
    "%load ../utils/textrank.py\n",
    "%run ../utils/textrank.py"
   ]
  },
  {
   "cell_type": "code",
   "execution_count": 57,
   "metadata": {
    "colab": {
     "base_uri": "https://localhost:8080/"
    },
    "id": "fVN6H8w-lcz8",
    "outputId": "5628934d-f15b-41c6-bca8-412a0c92a41a"
   },
   "outputs": [
    {
     "name": "stdout",
     "output_type": "stream",
     "text": [
      "Have fun with this chapter!🥳\n"
     ]
    }
   ],
   "source": [
    "useGPU()"
   ]
  },
  {
   "cell_type": "code",
   "execution_count": 58,
   "metadata": {
    "id": "DUwB04DBJVf3"
   },
   "outputs": [],
   "source": [
    "import pandas as pd\n",
    "import numpy as np\n",
    "from functools import partial\n",
    "import logging\n",
    "\n",
    "import nltk\n",
    "from nltk.tokenize import sent_tokenize\n",
    "from sklearn.feature_extraction.text import CountVectorizer\n",
    "from sklearn.feature_extraction.text import TfidfTransformer\n",
    "\n",
    "from summa import summarizer\n",
    "from transformers import AutoTokenizer, AutoModelForSeq2SeqLM, pipeline, GenerationConfig, set_seed\n",
    "from transformers import BigBirdPegasusForConditionalGeneration, AutoTokenizer\n",
    "from transformers import LEDForConditionalGeneration, LEDTokenizer\n",
    "import torch\n",
    "from datasets import load_dataset\n",
    "\n",
    "from multiprocessing import Pool\n",
    "import evaluate\n",
    "from tqdm import tqdm\n",
    "\n",
    "import matplotlib.pyplot as plt\n",
    "\n",
    "from textwrap import TextWrapper\n",
    "\n",
    "set_seed(42)"
   ]
  },
  {
   "cell_type": "markdown",
   "metadata": {
    "id": "vazshSUmPs-s"
   },
   "source": [
    "# Allocate enough RAM"
   ]
  },
  {
   "cell_type": "markdown",
   "metadata": {
    "id": "KEBmtiOeOOV5"
   },
   "source": [
    "Let us try to get a __GPU__ with at least __15GB RAM__ for our notebook."
   ]
  },
  {
   "cell_type": "code",
   "execution_count": 59,
   "metadata": {
    "id": "dqsj2G_XOV5M"
   },
   "outputs": [],
   "source": [
    "# crash colab to get more RAM -> uncomment to use\n",
    "# !kill -9 -1"
   ]
  },
  {
   "cell_type": "markdown",
   "metadata": {
    "id": "RMzVL7cLObmK"
   },
   "source": [
    "We can execute the following command `!free -h`  to see if we have enough RAM and `!nvidia-smi` to get more info about our GPU type we got assigned.\n",
    "If the allocated GPU is too small, the above cell can be used to run the command to crash the notebook hoping to get a better GPU after the crash, since the GPU is randomly allocated."
   ]
  },
  {
   "cell_type": "code",
   "execution_count": 60,
   "metadata": {
    "colab": {
     "base_uri": "https://localhost:8080/"
    },
    "id": "uRFOnJzIhLFR",
    "outputId": "51429888-79cd-4aba-b7aa-4285655876ff"
   },
   "outputs": [
    {
     "name": "stdout",
     "output_type": "stream",
     "text": [
      "               total        used        free      shared  buff/cache   available\n",
      "Mem:            50Gi       6.4Gi       5.8Gi       2.0Mi        38Gi        44Gi\n",
      "Swap:             0B          0B          0B\n"
     ]
    }
   ],
   "source": [
    "!free -h"
   ]
  },
  {
   "cell_type": "code",
   "execution_count": 61,
   "metadata": {
    "colab": {
     "base_uri": "https://localhost:8080/"
    },
    "id": "LKRiHlhcOgMR",
    "outputId": "571e8203-fa9b-4296-b52d-86900d06e7a4"
   },
   "outputs": [
    {
     "name": "stdout",
     "output_type": "stream",
     "text": [
      "Wed Jan 17 15:32:14 2024       \n",
      "+---------------------------------------------------------------------------------------+\n",
      "| NVIDIA-SMI 535.104.05             Driver Version: 535.104.05   CUDA Version: 12.2     |\n",
      "|-----------------------------------------+----------------------+----------------------+\n",
      "| GPU  Name                 Persistence-M | Bus-Id        Disp.A | Volatile Uncorr. ECC |\n",
      "| Fan  Temp   Perf          Pwr:Usage/Cap |         Memory-Usage | GPU-Util  Compute M. |\n",
      "|                                         |                      |               MIG M. |\n",
      "|=========================================+======================+======================|\n",
      "|   0  Tesla T4                       Off | 00000000:00:04.0 Off |                    0 |\n",
      "| N/A   35C    P8               9W /  70W |      3MiB / 15360MiB |      0%      Default |\n",
      "|                                         |                      |                  N/A |\n",
      "+-----------------------------------------+----------------------+----------------------+\n",
      "                                                                                         \n",
      "+---------------------------------------------------------------------------------------+\n",
      "| Processes:                                                                            |\n",
      "|  GPU   GI   CI        PID   Type   Process name                            GPU Memory |\n",
      "|        ID   ID                                                             Usage      |\n",
      "|=======================================================================================|\n",
      "|  No running processes found                                                           |\n",
      "+---------------------------------------------------------------------------------------+\n"
     ]
    }
   ],
   "source": [
    "!nvidia-smi"
   ]
  },
  {
   "cell_type": "code",
   "execution_count": 62,
   "metadata": {
    "colab": {
     "base_uri": "https://localhost:8080/"
    },
    "id": "XuwH1xvZviMy",
    "outputId": "ddb93a8a-053e-4a08-e0b8-209fdb943e38"
   },
   "outputs": [
    {
     "name": "stdout",
     "output_type": "stream",
     "text": [
      "GPU: Tesla T4, Total Memory: 15.84 GB\n"
     ]
    }
   ],
   "source": [
    "if torch.cuda.is_available():\n",
    "    gpu_device = torch.device('cuda')\n",
    "    gpu_info = torch.cuda.get_device_properties(gpu_device)\n",
    "    gpu_memory = gpu_info.total_memory / 1e9  # Convert bytes to gigabytes\n",
    "    print(f\"GPU: {gpu_info.name}, Total Memory: {gpu_memory:.2f} GB\")\n",
    "else:\n",
    "    print(\"No GPU detected.\")\n"
   ]
  },
  {
   "cell_type": "markdown",
   "metadata": {
    "id": "Zsqe0wSIm1on"
   },
   "source": [
    "# Use case BillSum dataset"
   ]
  },
  {
   "cell_type": "markdown",
   "metadata": {
    "id": "b7tR4s4AnBLq"
   },
   "source": [
    "## Load the BillSum dataset"
   ]
  },
  {
   "cell_type": "code",
   "execution_count": 63,
   "metadata": {
    "colab": {
     "base_uri": "https://localhost:8080/",
     "height": 86,
     "referenced_widgets": [
      "95636e27788a42bb956277754119de3c",
      "4193d4a9d30f483a9ac7e7de2321659c",
      "0458f06434d0423292f3e900a7644085",
      "f12c83e5682747f99fe9d201d9a91df1",
      "2258216fed674b5c994f6a7614a806c5",
      "a5ab9bf1cd9d4982a7114f1ebb64c604",
      "e1a62d96648f431baff1d4539f68bd0d",
      "46689cccec994c6d95245b29788ce71b",
      "33ac1be49fb645e9812e709c2ce7496e",
      "5edcc604831b42dcb9c20b81a7aae44f",
      "ec30904800c447149397063ae62c4057"
     ]
    },
    "id": "05A_omTEridT",
    "outputId": "060934c5-cddd-4ec4-8595-d0415c5c467a"
   },
   "outputs": [
    {
     "name": "stderr",
     "output_type": "stream",
     "text": [
      "WARNING:datasets.builder:Found cached dataset parquet (/root/.cache/huggingface/datasets/parquet/billsum-d6385d39b82c4300/0.0.0/2a3b91fbd88a2c90d1dbbb32b460cf621d31bd5b05b934492fdef7d8d6f236ec)\n"
     ]
    },
    {
     "data": {
      "application/vnd.jupyter.widget-view+json": {
       "model_id": "95636e27788a42bb956277754119de3c",
       "version_major": 2,
       "version_minor": 0
      },
      "text/plain": [
       "  0%|          | 0/3 [00:00<?, ?it/s]"
      ]
     },
     "metadata": {},
     "output_type": "display_data"
    }
   ],
   "source": [
    "# Load the dataset\n",
    "dataset = load_dataset(\"billsum\")\n",
    "#test_dataset.set_format(type='pandas', columns=['article', 'abstract'])"
   ]
  },
  {
   "cell_type": "code",
   "execution_count": 64,
   "metadata": {
    "colab": {
     "base_uri": "https://localhost:8080/"
    },
    "id": "ptnAT3cJJAlb",
    "outputId": "e7f24e80-b2b2-4627-fe4f-9e2e4ec52f98"
   },
   "outputs": [
    {
     "data": {
      "text/plain": [
       "DatasetDict({\n",
       "    ca_test: Dataset({\n",
       "        features: ['text', 'summary', 'title'],\n",
       "        num_rows: 1237\n",
       "    })\n",
       "    train: Dataset({\n",
       "        features: ['text', 'summary', 'title'],\n",
       "        num_rows: 18949\n",
       "    })\n",
       "    test: Dataset({\n",
       "        features: ['text', 'summary', 'title'],\n",
       "        num_rows: 3269\n",
       "    })\n",
       "})"
      ]
     },
     "execution_count": 64,
     "metadata": {},
     "output_type": "execute_result"
    }
   ],
   "source": [
    "dataset"
   ]
  },
  {
   "cell_type": "code",
   "execution_count": 65,
   "metadata": {
    "colab": {
     "base_uri": "https://localhost:8080/"
    },
    "id": "bCfJOZ_t72Ne",
    "outputId": "6f90a045-927f-4ea5-cdb3-3649d2825e0d"
   },
   "outputs": [
    {
     "name": "stderr",
     "output_type": "stream",
     "text": [
      "WARNING:datasets.builder:Found cached dataset parquet (/root/.cache/huggingface/datasets/parquet/billsum-d6385d39b82c4300/0.0.0/2a3b91fbd88a2c90d1dbbb32b460cf621d31bd5b05b934492fdef7d8d6f236ec)\n"
     ]
    }
   ],
   "source": [
    "# Get the test split of the dataset\n",
    "dataset_test = load_dataset(\"billsum\", split=\"ca_test\")\n",
    "dataset_test.set_format(type=\"pandas\", columns=['text', 'summary'])"
   ]
  },
  {
   "cell_type": "code",
   "execution_count": 66,
   "metadata": {
    "id": "7VMWmWT_Wzg8"
   },
   "outputs": [],
   "source": [
    "# Convert to pandas DataFrame\n",
    "df = dataset_test.to_pandas()"
   ]
  },
  {
   "cell_type": "markdown",
   "metadata": {
    "id": "tbJHhoVjnLj6"
   },
   "source": [
    "## Excerpt of article and ground truth of summary\n",
    "\n",
    "\n"
   ]
  },
  {
   "cell_type": "code",
   "execution_count": 67,
   "metadata": {
    "colab": {
     "base_uri": "https://localhost:8080/"
    },
    "id": "asiwMOOC7_O5",
    "outputId": "452b96fa-eaf8-45f7-e824-bba8fa2af60d"
   },
   "outputs": [
    {
     "name": "stdout",
     "output_type": "stream",
     "text": [
      "\u001b[1mExcerpt of 1000 characters, total length of article: 8203:\u001b[0m\n",
      "\n",
      "The people of the State of California do enact as follows:\n",
      "\n",
      "\n",
      "SECTION 1.\n",
      "The Legislature finds and declares all of the following:\n",
      "(a) (1) Since 1899 congressionally chartered veterans’ organizations\n",
      "have provided a valuable service to our nation’s returning service\n",
      "members. These organizations help preserve the memories and incidents\n",
      "of the great hostilities fought by our nation, and preserve and\n",
      "strengthen comradeship among members.\n",
      "(2) These veterans’ organizations also own and manage various\n",
      "properties including lodges, posts, and fraternal halls. These\n",
      "properties act as a safe haven where veterans of all ages and their\n",
      "families can gather together to find camaraderie and fellowship, share\n",
      "stories, and seek support from people who understand their unique\n",
      "experiences. This aids in the healing process for these returning\n",
      "veterans, and ensures their health and happiness.\n",
      "(b) As a result of congressional chartering of these veterans’\n",
      "organizations, the United States Internal Revenue Serv\n",
      "\u001b[1m\n",
      "\n",
      "Summary (length: 1181):\u001b[0m\n",
      "\n",
      "Existing property tax law establishes a veterans’ organization\n",
      "exemption under which property is exempt from taxation if, among other\n",
      "things, that property is used exclusively for charitable purposes and\n",
      "is owned by a veterans’ organization.\n",
      "This bill would provide that the veterans’ organization exemption\n",
      "shall not be denied to a property on the basis that the property is\n",
      "used for fraternal, lodge, or social club purposes, and would make\n",
      "specific findings and declarations in that regard. The bill would also\n",
      "provide that the exemption shall not apply to any portion of a\n",
      "property that consists of a bar where alcoholic beverages are served.\n",
      "Section 2229 of the Revenue and Taxation Code requires the Legislature\n",
      "to reimburse local agencies annually for certain property tax revenues\n",
      "lost as a result of any exemption or classification of property for\n",
      "purposes of ad valorem property taxation.\n",
      "This bill would provide that, notwithstanding Section 2229 of the\n",
      "Revenue and Taxation Code, no appropriation is made and the state\n",
      "shall not reimburse local agencies for property tax revenues lost by\n",
      "them pursuant to the bill.\n",
      "This bill would take effect immediately as a tax levy.\n"
     ]
    }
   ],
   "source": [
    "# Access first row using iloc\n",
    "sample = df.iloc[0]\n",
    "\n",
    "excerpt = 1000\n",
    "\n",
    "print(f\"\\033[1mExcerpt of {excerpt} characters, total length of article: \\\n",
    "{len(sample['text'])}:\\033[0m\\n\")\n",
    "\n",
    "print(sample[\"text\"][:excerpt])\n",
    "print(f\"\\033[1m\\n\\nSummary (length: {len(sample['summary'])}):\\033[0m\\n\")\n",
    "print(sample[\"summary\"])\n"
   ]
  },
  {
   "cell_type": "code",
   "execution_count": 68,
   "metadata": {
    "colab": {
     "base_uri": "https://localhost:8080/"
    },
    "id": "U8mQZi889ban",
    "outputId": "1062d18d-ff3d-43f7-d97d-392395bfbd26"
   },
   "outputs": [
    {
     "data": {
      "text/plain": [
       "(1237,)"
      ]
     },
     "execution_count": 68,
     "metadata": {},
     "output_type": "execute_result"
    }
   ],
   "source": [
    "articles_np= np.array(dataset_test['text'])\n",
    "articles_np.shape"
   ]
  },
  {
   "cell_type": "code",
   "execution_count": 69,
   "metadata": {
    "colab": {
     "base_uri": "https://localhost:8080/"
    },
    "id": "6Fq9mjuZ8d3E",
    "outputId": "74b3d255-16c7-46e8-9211-792fb3014663"
   },
   "outputs": [
    {
     "data": {
      "text/plain": [
       "(1,)"
      ]
     },
     "execution_count": 69,
     "metadata": {},
     "output_type": "execute_result"
    }
   ],
   "source": [
    "articles_np_1 = articles_np[:1]\n",
    "articles_np_1.shape"
   ]
  },
  {
   "cell_type": "code",
   "execution_count": 70,
   "metadata": {
    "colab": {
     "base_uri": "https://localhost:8080/"
    },
    "id": "zz3rwLgS9qa5",
    "outputId": "97017077-b484-4649-f136-60e69ce63a32"
   },
   "outputs": [
    {
     "name": "stdout",
     "output_type": "stream",
     "text": [
      "['The people of the State of California do enact as\n",
      "follows:\\n\\n\\nSECTION 1.\\nThe Legislature finds and declares all of\n",
      "the following:\\n(a) (1) Since 1899 congressionally chartered veterans’\n",
      "organizations have provided a valuable service to our nation’s\n",
      "returning service members. These organizations help preserve the\n",
      "memories and incidents of the great hostilities fought by our nation,\n",
      "and preserve and strengthen comradeship among members.\\n(2) These\n",
      "veterans’ organizations also own and manage various properties\n",
      "including lodges, posts, and fraternal halls. These properties act as\n",
      "a safe haven where veterans of all ages and their families can gather\n",
      "together to find camaraderie and fellowship, share stories, and seek\n",
      "support from people who understand their unique experiences. This aids\n",
      "in the healing process for these returning veterans, and ensures their\n",
      "health and happiness.\\n(b) As a result of congressional chartering of\n",
      "these veterans’ organizations, the United States Internal Revenue\n",
      "Service created a special tax exemption for these organizations under\n",
      "Section 501(c)(19) of the Internal Revenue Code.\\n(c) Section\n",
      "501(c)(19) of the Internal Revenue Code and related federal\n",
      "regulations provide for the exemption for posts or organizations of\n",
      "war veterans, or an auxiliary unit or society of, or a trust or\n",
      "foundation for, any such post or organization that, among other\n",
      "attributes, carries on programs to perpetuate the memory of deceased\n",
      "veterans and members of the Armed Forces and to comfort their\n",
      "survivors, conducts programs for religious, charitable, scientific,\n",
      "literary, or educational purposes, sponsors or participates in\n",
      "activities of a patriotic nature, and provides social and recreational\n",
      "activities for their members.\\n(d) Section 215.1 of the Revenue and\n",
      "Taxation Code stipulates that all buildings, support and so much of\n",
      "the real property on which the buildings are situated as may be\n",
      "required for the convenient use and occupation of the buildings, used\n",
      "exclusively for charitable purposes, owned by a veterans’ organization\n",
      "that has been chartered by the Congress of the United States,\n",
      "organized and operated for charitable purposes, when the same are used\n",
      "solely and exclusively for the purpose of the organization, if not\n",
      "conducted for profit and no part of the net earnings of which ensures\n",
      "to the benefit of any private individual or member thereof, are exempt\n",
      "from taxation.\\n(e) The Chief Counsel of the State Board of\n",
      "Equalization concluded, based on a 1979 appellate court decision, that\n",
      "only parts of American Legion halls are exempt from property taxation\n",
      "and that other parts, such as billiard rooms, card rooms, and similar\n",
      "areas, are not exempt.\\n(f) In a 1994 memorandum, the State Board of\n",
      "Equalization’s legal division further concluded that the areas\n",
      "normally considered eligible for exemptions are the office areas used\n",
      "to counsel veterans and the area used to store veterans’ records, but\n",
      "that the meeting hall and bar found in most of the facilities are not\n",
      "considered used for charitable purposes.\\n(g) Tax-exempt status is\n",
      "intended to provide economic incentive and support to veterans’\n",
      "organizations to provide for the social welfare of the community of\n",
      "current and former military personnel.\\n(h) The State Board of\n",
      "Equalization’s constriction of the tax exemption has resulted in an\n",
      "onerous tax burden on California veteran service organizations posts\n",
      "or halls, hinders the posts’ ability to provide facilities for\n",
      "veterans, and threatens the economic viability of many local\n",
      "organizations.\\n(i) The charitable activities of a veteran service\n",
      "organizations post or hall are much more than the counseling of\n",
      "veterans. The requirements listed for qualification for the federal\n",
      "tax exemption clearly dictate a need for more than just an\n",
      "office.\\n(j) Programs to perpetuate the memory of deceased veterans\n",
      "and members of the Armed Forces and to comfort their survivors require\n",
      "the use of facilities for funerals and receptions.\\n(k) Programs for\n",
      "religious, charitable, scientific, literary, or educational purposes\n",
      "require space for more than 50 attendees.\\n(l) Activities of a\n",
      "patriotic nature need facilities to accommodate hundreds of\n",
      "people.\\n(m) Social and recreational activities for members require\n",
      "precisely those areas considered “not used for charitable purposes” by\n",
      "the State Board of Equalization.\\n(n) The State Board of\n",
      "Equalization’s interpretation of the Revenue and Taxation Code\n",
      "reflects a lack of understanding of the purpose and programs of the\n",
      "veterans service organizations posts or halls and is detrimental to\n",
      "the good works performed in support of our veteran community.\\nSECTION\n",
      "1.\\nSEC. 2.\\nSection 215.1 of the Revenue and Taxation Code is amended\n",
      "to read:\\n215.1.\\n(a) All buildings, and so much of the real property\n",
      "on which the buildings are situated as may be required for the\n",
      "convenient use and occupation of the buildings, used exclusively for\n",
      "charitable purposes, owned by a veterans’ organization that has been\n",
      "chartered by the Congress of the United States, organized and operated\n",
      "for charitable purposes, and exempt from federal income tax as an\n",
      "organization described in Section 501(c)(19) of the Internal Revenue\n",
      "Code when the same are used solely and exclusively for the purpose of\n",
      "the organization, if not conducted for profit and no part of the net\n",
      "earnings of which inures to the benefit of any private individual or\n",
      "member thereof, shall be exempt from taxation.\\n(b) The exemption\n",
      "provided for in this section shall apply to the property of all\n",
      "organizations meeting the requirements of this section, subdivision\n",
      "(b) of Section 4 of Article XIII of the California Constitution, and\n",
      "paragraphs (1) to (4), inclusive, (6), and (7) of subdivision (a) of\n",
      "Section 214.\\n(c) (1) The exemption specified by subdivision (a) shall\n",
      "not be denied to a property on the basis that the property is used for\n",
      "fraternal, lodge, or social club purposes.\\n(2) With regard to this\n",
      "subdivision, the Legislature finds and declares all of the\n",
      "following:\\n(A) The exempt activities of a veterans’ organization as\n",
      "described in subdivision (a) qualitatively differ from the exempt\n",
      "activities of other nonprofit entities that use property for\n",
      "fraternal, lodge, or social club purposes in that the exempt purpose\n",
      "of the veterans’ organization is to conduct programs to perpetuate the\n",
      "memory of deceased veterans and members of the Armed Forces and to\n",
      "comfort their survivors, to conduct programs for religious,\n",
      "charitable, scientific, literary, or educational purposes, to sponsor\n",
      "or participate in activities of a patriotic nature, and to provide\n",
      "social and recreational activities for their members.\\n(B) In light of\n",
      "this distinction, the use of real property by a veterans’ organization\n",
      "as described in subdivision (a), for fraternal, lodge, or social club\n",
      "purposes is central to that organization’s exempt purposes and\n",
      "activities.\\n(C) In light of the factors set forth in subparagraphs\n",
      "(A) and (B), the use of real property by a veterans’ organization as\n",
      "described in subdivision (a) for fraternal, lodge, or social club\n",
      "purposes, constitutes the exclusive use of that property for a\n",
      "charitable purpose within the meaning of subdivision (b) of Section 4\n",
      "of Article XIII of the California Constitution.\\n(d) The exemption\n",
      "provided for in this section shall not apply to any portion of a\n",
      "property that consists of a bar where alcoholic beverages are served.\n",
      "The portion of the property ineligible for the veterans’ organization\n",
      "exemption shall be that area used primarily to prepare and serve\n",
      "alcoholic beverages.\\n(e) An organization that files a claim for the\n",
      "exemption provided for in this section shall file with the assessor a\n",
      "valid organizational clearance certificate issued pursuant to Section\n",
      "254.6.\\n(f) This exemption shall be known as the “veterans’\n",
      "organization exemption.”\\nSEC. 2.\\nSEC. 3.\\nNotwithstanding Section\n",
      "2229 of the Revenue and Taxation Code, no appropriation is made by\n",
      "this act and the state shall not reimburse any local agency for any\n",
      "property tax revenues lost by it pursuant to this act.\\nSEC. 3.\\nSEC.\n",
      "4.\\nThis act provides for a tax levy within the meaning of Article IV\n",
      "of the Constitution and shall go into immediate effect.']\n"
     ]
    }
   ],
   "source": [
    "print(articles_np_1)"
   ]
  },
  {
   "cell_type": "markdown",
   "metadata": {
    "id": "TbuQUiFHnhmM"
   },
   "source": [
    "## Applying TextRank algorithm to BillSum dataset"
   ]
  },
  {
   "cell_type": "markdown",
   "metadata": {
    "id": "-59vmQm2HD5S"
   },
   "source": [
    "This code snippet is used to generate summaries for a collection of texts (in this case, legislative documents) using the TextRank algorithm. The TextRank summarization is implemented with the summa library, which is available on [PyPI](https://pypi.org/project/summa/). The implementation is based on the paper Mihalcea, R., Tarau, P.: [“TextRank: Bringing order into texts”](https://aclanthology.org/W04-3252/)\n",
    "\n",
    "A `summarize_text` function is defined, which takes in two arguments - text and words. text is the input text to be summarized, and words is an optional parameter to specify the target number of words in the generated summary (default is 250 words). The `summarizer.summarize()` function from the summa library is used to generate the summary.\n",
    "\n",
    "The code then employs the multiprocessing Pool class to parallelize the summarization process. This speeds up the computation by taking advantage of multiple CPU cores available on the system. The `Pool()` context manager creates a pool of worker processes, and the `pool.map()` function is used to apply the `summarize_text` function to each element of the `articles_np_1` array (which contains the input articles).\n",
    "\n",
    "The `pool.map()` function distributes the articles across the available worker processes, and each process applies the summarize_text function independently. Once all the summaries are generated, they are collected and stored in the `summarized_articles` list. This parallelization can significantly improve the performance of the TextRank summarization, especially when working with large datasets."
   ]
  },
  {
   "cell_type": "code",
   "execution_count": 71,
   "metadata": {
    "id": "QVuIQytjsEU7"
   },
   "outputs": [],
   "source": [
    "# Define the function to summarize the text\n",
    "def summarize_text(text, words=250):\n",
    "    summary = summarizer.summarize(text, words=words)\n",
    "    return summary\n",
    "\n",
    "# Parallelize the TextRank summarization\n",
    "with Pool() as pool:\n",
    "    summarized_articles = pool.map(summarize_text, articles_np_1)\n"
   ]
  },
  {
   "cell_type": "markdown",
   "metadata": {
    "id": "GkUYrYNwnzG7"
   },
   "source": [
    "### Get summarized article"
   ]
  },
  {
   "cell_type": "code",
   "execution_count": 72,
   "metadata": {
    "colab": {
     "base_uri": "https://localhost:8080/"
    },
    "id": "Du-G1Yz29wYL",
    "outputId": "8fc99321-94d8-4d9b-8637-fdf796fa2e23"
   },
   "outputs": [
    {
     "name": "stdout",
     "output_type": "stream",
     "text": [
      "['(c) Section 501(c)(19) of the Internal Revenue Code and related\n",
      "federal regulations provide for the exemption for posts or\n",
      "organizations of war veterans, or an auxiliary unit or society of, or\n",
      "a trust or foundation for, any such post or organization that, among\n",
      "other attributes, carries on programs to perpetuate the memory of\n",
      "deceased veterans and members of the Armed Forces and to comfort their\n",
      "survivors, conducts programs for religious, charitable, scientific,\n",
      "literary, or educational purposes, sponsors or participates in\n",
      "activities of a patriotic nature, and provides social and recreational\n",
      "activities for their members.\\n(a) All buildings, and so much of the\n",
      "real property on which the buildings are situated as may be required\n",
      "for the convenient use and occupation of the buildings, used\n",
      "exclusively for charitable purposes, owned by a veterans’ organization\n",
      "that has been chartered by the Congress of the United States,\n",
      "organized and operated for charitable purposes, and exempt from\n",
      "federal income tax as an organization described in Section 501(c)(19)\n",
      "of the Internal Revenue Code when the same are used solely and\n",
      "exclusively for the purpose of the organization, if not conducted for\n",
      "profit and no part of the net earnings of which inures to the benefit\n",
      "of any private individual or member thereof, shall be exempt from\n",
      "taxation.']\n"
     ]
    }
   ],
   "source": [
    "print(summarized_articles)"
   ]
  },
  {
   "cell_type": "code",
   "execution_count": 73,
   "metadata": {
    "id": "1cYq9QIPDey9"
   },
   "outputs": [],
   "source": [
    "references = np.array(dataset_test['summary'])"
   ]
  },
  {
   "cell_type": "code",
   "execution_count": 74,
   "metadata": {
    "colab": {
     "base_uri": "https://localhost:8080/"
    },
    "id": "cguTgWVxBZCy",
    "outputId": "e20e2767-5b57-4599-d7ee-92510ae1a70d"
   },
   "outputs": [
    {
     "name": "stdout",
     "output_type": "stream",
     "text": [
      "['Existing property tax law establishes a veterans’ organization\n",
      "exemption under which property is exempt from taxation if, among other\n",
      "things, that property is used exclusively for charitable purposes and\n",
      "is owned by a veterans’ organization.\\nThis bill would provide that\n",
      "the veterans’ organization exemption shall not be denied to a property\n",
      "on the basis that the property is used for fraternal, lodge, or social\n",
      "club purposes, and would make specific findings and declarations in\n",
      "that regard. The bill would also provide that the exemption shall not\n",
      "apply to any portion of a property that consists of a bar where\n",
      "alcoholic beverages are served.\\nSection 2229 of the Revenue and\n",
      "Taxation Code requires the Legislature to reimburse local agencies\n",
      "annually for certain property tax revenues lost as a result of any\n",
      "exemption or classification of property for purposes of ad valorem\n",
      "property taxation.\\nThis bill would provide that, notwithstanding\n",
      "Section 2229 of the Revenue and Taxation Code, no appropriation is\n",
      "made and the state shall not reimburse local agencies for property tax\n",
      "revenues lost by them pursuant to the bill.\\nThis bill would take\n",
      "effect immediately as a tax levy.']\n"
     ]
    }
   ],
   "source": [
    "references_np = np.array(references)\n",
    "print(references_np[:1])"
   ]
  },
  {
   "cell_type": "code",
   "execution_count": 75,
   "metadata": {
    "id": "0HFQvehJ-Ej_"
   },
   "outputs": [],
   "source": [
    "reference = references[0]"
   ]
  },
  {
   "cell_type": "code",
   "execution_count": 76,
   "metadata": {
    "colab": {
     "base_uri": "https://localhost:8080/"
    },
    "id": "RXMcOiNvWz_7",
    "outputId": "be8f60da-b005-4efa-fdcc-e26ca06b34ef"
   },
   "outputs": [
    {
     "name": "stdout",
     "output_type": "stream",
     "text": [
      "(c) Section 501(c)(19) of the Internal Revenue Code and related\n",
      "federal regulations provide for the exemption for posts or\n",
      "organizations of war veterans, or an auxiliary unit or society of, or\n",
      "a trust or foundation for, any such post or organization that, among\n",
      "other attributes, carries on programs to perpetuate the memory of\n",
      "deceased veterans and members of the Armed Forces and to comfort their\n",
      "survivors, conducts programs for religious, charitable, scientific,\n",
      "literary, or educational purposes, sponsors or participates in\n",
      "activities of a patriotic nature, and provides social and recreational\n",
      "activities for their members.\n",
      "(a) All buildings, and so much of the real property on which the\n",
      "buildings are situated as may be required for the convenient use and\n",
      "occupation of the buildings, used exclusively for charitable purposes,\n",
      "owned by a veterans’ organization that has been chartered by the\n",
      "Congress of the United States, organized and operated for charitable\n",
      "purposes, and exempt from federal income tax as an organization\n",
      "described in Section 501(c)(19) of the Internal Revenue Code when the\n",
      "same are used solely and exclusively for the purpose of the\n",
      "organization, if not conducted for profit and no part of the net\n",
      "earnings of which inures to the benefit of any private individual or\n",
      "member thereof, shall be exempt from taxation.\n"
     ]
    }
   ],
   "source": [
    "print(summarized_articles[0])"
   ]
  },
  {
   "cell_type": "code",
   "execution_count": 77,
   "metadata": {
    "id": "jANpwhitKuD4"
   },
   "outputs": [],
   "source": [
    "# Create a dict to hold our summaries\n",
    "summaries = {}\n",
    "summaries['TextRank (Baseline)'] = summarized_articles"
   ]
  },
  {
   "cell_type": "code",
   "execution_count": 78,
   "metadata": {
    "colab": {
     "base_uri": "https://localhost:8080/"
    },
    "id": "BtSqhykcg-XG",
    "outputId": "1c3679cd-b78f-4e48-ed0b-9b9bb3c7a75f"
   },
   "outputs": [
    {
     "name": "stdout",
     "output_type": "stream",
     "text": [
      "(c) Section 501(c)(19) of the Internal Revenue Code and related\n",
      "federal regulations provide for the exemption for posts or\n",
      "organizations of war veterans, or an auxiliary unit or society of, or\n",
      "a trust or foundation for, any such post or organization that, among\n",
      "other attributes, carries on programs to perpetuate the memory of\n",
      "deceased veterans and members of the Armed Forces and to comfort their\n",
      "survivors, conducts programs for religious, charitable, scientific,\n",
      "literary, or educational purposes, sponsors or participates in\n",
      "activities of a patriotic nature, and provides social and recreational\n",
      "activities for their members.\n",
      "(a) All buildings, and so much of the real property on which the\n",
      "buildings are situated as may be required for the convenient use and\n",
      "occupation of the buildings, used exclusively for charitable purposes,\n",
      "owned by a veterans’ organization that has been chartered by the\n",
      "Congress of the United States, organized and operated for charitable\n",
      "purposes, and exempt from federal income tax as an organization\n",
      "described in Section 501(c)(19) of the Internal Revenue Code when the\n",
      "same are used solely and exclusively for the purpose of the\n",
      "organization, if not conducted for profit and no part of the net\n",
      "earnings of which inures to the benefit of any private individual or\n",
      "member thereof, shall be exempt from taxation.\n"
     ]
    }
   ],
   "source": [
    "print(summaries['TextRank (Baseline)'][0])"
   ]
  },
  {
   "cell_type": "markdown",
   "metadata": {
    "id": "56n0hJw3oHrs"
   },
   "source": [
    "# Appyling various Transformer models to the BillSum dataset"
   ]
  },
  {
   "cell_type": "markdown",
   "metadata": {
    "id": "Bb4L2bik2mhO"
   },
   "source": [
    "Here we introduce a function called `generate_summary` that allows you to generate a summary of a given input text using various pre-trained transformer models. The function supports the following models:\n",
    "\n",
    "- BART [Modelcard](https://huggingface.co/facebook/bart-large-cnn), [Paper](https://arxiv.org/abs/1910.13461)\n",
    "- T5 [Modelcard](https://huggingface.co/sysresearch101/t5-large-finetuned-xsum-cnn), [Paper](https://arxiv.org/abs/1910.10683)\n",
    "- ProphetNet [Modelcard](), [Paper](https://arxiv.org/abs/2001.04063)\n",
    "- Pegasus [Modelcard](https://huggingface.co/google/pegasus-cnn_dailymail), [Paper](https://arxiv.org/abs/1912.08777)\n",
    "\n",
    "__Function: generate_summary__ <br>\n",
    "The `generate_summary` function takes two arguments: `model_name` and `sample_text`. The model_name argument is a string that specifies the transformer model to use for summarization, while the `sample_text` argument is the input text to be summarized.\n",
    "\n",
    "__Usage__\n",
    "\n",
    "To use the generate_summary function, simply call it with the desired model name and the input text:\n",
    "\n",
    "`summary = generate_summary(\"BART\", \"This is an example text to summarize using BART.\")\n",
    "print(summary)\n",
    "`\n",
    "\n",
    "__Models and Tokenizers__\n",
    "\n",
    "The function sets up the tokenizer and model using the `AutoTokenizer` and `AutoModelForSeq2SeqLM` classes from the Hugging Face Transformers library. The model and tokenizer are specified in the `model_dict` dictionary:\n",
    "\n",
    "`model_dict = {\n",
    "    \"BART\": \"facebook/bart-large-cnn\",\n",
    "    \"T5\": \"sysresearch101/t5-large-finetuned-xsum-cnn\",\n",
    "    \"ProphetNet\": \"microsoft/prophetnet-large-uncased-cnndm\"\n",
    "}\n",
    "`\n",
    "\n",
    "__Handling Text Chunks__\n",
    "\n",
    "Some transformer models have a __maximum input length constraint__. To handle this, the input text is broken down into smaller chunks before being passed to the pipeline. The chunks are processed one by one, and the generated summaries are concatenated to form the final summary.\n",
    "\n",
    "\n",
    "__Error Handling__\n",
    "\n",
    "If the specified model_name is not supported, the function raises a ValueError.\n",
    "\n",
    "__Example__\n",
    "\n",
    "Here's an example of how to use the generate_summary function:\n",
    "\n",
    "`summary = generate_summary(\"BART\", \"This is an example text to summarize using BART.\")\n",
    "print(summary)\n",
    "`"
   ]
  },
  {
   "cell_type": "code",
   "execution_count": 79,
   "metadata": {
    "id": "iCDTR7w5tTnF"
   },
   "outputs": [],
   "source": [
    "def generate_summary(model_name, sample_text):\n",
    "    \"\"\"\n",
    "    Generate a summary of the input text using a specified model.\n",
    "\n",
    "    Args:\n",
    "        model_name (str): The name of the model to use for summarization. Supported values are \"BART\", \"T5\",\n",
    "            \"ProphetNet\", \"Pegasus\", and \"GPT-2\".\n",
    "        sample_text (str): The input text to summarize.\n",
    "\n",
    "    Returns:\n",
    "        str: The summary generated by the specified model.\n",
    "\n",
    "    Raises:\n",
    "        ValueError: If the specified model is not supported.\n",
    "\n",
    "    Notes:\n",
    "        - If `model_name` is \"Pegasus\", the `google/pegasus-cnn_dailymail` model will be used for summarization.\n",
    "          This model doesn't require a tokenizer or a maximum length.\n",
    "        - If `model_name` is \"GPT-2\", the `gpt2-xl` model will be used for text generation. The summary will be\n",
    "          generated by extracting the first paragraph from the generated text that follows the \"TL;DR:\" token.\n",
    "\n",
    "        - For other models, the `generate_summary` function uses the `pipeline` method from the transformers library to\n",
    "          generate the summary. Since some of these models have a maximum input length constraint, the input text needs to\n",
    "          be broken down into smaller chunks before being passed to the `pipeline`. The size of the chunks is determined\n",
    "          by the `max_length` parameter of the tokenizer used for the specified model. The chunks are processed one by one,\n",
    "          and the generated summaries are concatenated to form the final summary.\n",
    "\n",
    "    Example:\n",
    "        >>> generate_summary(\"BART\", \"This is an example text to summarize using BART.\")\n",
    "        'BART is used to summarize the input text.'\n",
    "    \"\"\"\n",
    "\n",
    "    # Set up tokenizer and model\n",
    "    model_dict = {\n",
    "        \"BART\": \"facebook/bart-large-cnn\",\n",
    "        \"T5\": \"sysresearch101/t5-large-finetuned-xsum-cnn\",\n",
    "        \"ProphetNet\": \"microsoft/prophetnet-large-uncased-cnndm\"\n",
    "    }\n",
    "\n",
    "    if model_name == \"Pegasus\":\n",
    "        # Generate summary using the specified model\n",
    "        summarization_pipeline = pipeline(\"summarization\", model=\"google/pegasus-cnn_dailymail\")\n",
    "        chunks = [sample_text[i:i+2048] for i in range(0, len(sample_text), 2048)]\n",
    "        summaries = []\n",
    "        for chunk in chunks:\n",
    "            summarization_output = summarization_pipeline(chunk, max_length=512)\n",
    "            summaries.append(summarization_output[0][\"summary_text\"].replace(\" .<n>\", \".\\n\"))\n",
    "        summary = \" \".join(summaries)\n",
    "    elif model_name in model_dict.keys():\n",
    "        tokenizer = AutoTokenizer.from_pretrained(model_dict[model_name], max_length=1024, truncation=True)\n",
    "        model = AutoModelForSeq2SeqLM.from_pretrained(model_dict[model_name])\n",
    "        gen_config = GenerationConfig(max_length=512)\n",
    "        summarization_pipeline = pipeline(\"summarization\", tokenizer=tokenizer, model=model, config=gen_config)\n",
    "        # Generate summary using the specified model\n",
    "        chunks = [sample_text[i:i+1024] for i in range(0, len(sample_text), 1024)]\n",
    "        summaries = []\n",
    "        for chunk in chunks:\n",
    "            summarization_output = summarization_pipeline(chunk)\n",
    "            summaries.append(summarization_output[0][\"summary_text\"])\n",
    "        summary = \" \".join(summaries)\n",
    "    else:\n",
    "        raise ValueError(f\"Model {model_name} is not supported.\")\n",
    "\n",
    "    return summary\n"
   ]
  },
  {
   "cell_type": "code",
   "execution_count": 80,
   "metadata": {
    "id": "QbVz3rGQvEzi"
   },
   "outputs": [],
   "source": [
    "# Hide transformers output\n",
    "logging.getLogger(\"transformers\").setLevel(logging.ERROR)"
   ]
  },
  {
   "cell_type": "markdown",
   "metadata": {
    "id": "B8pgp9hRoVMi"
   },
   "source": [
    "## Generate summary from  <font color='red'>\"Pegasus\"</font> model"
   ]
  },
  {
   "cell_type": "code",
   "execution_count": 81,
   "metadata": {
    "id": "7gbyu2T1BkoO"
   },
   "outputs": [],
   "source": [
    "sample_text = sample[0]\n",
    "summaries[\"Pegasus\"] = generate_summary(\"Pegasus\", sample_text)"
   ]
  },
  {
   "cell_type": "markdown",
   "metadata": {
    "id": "I_7HQQKepVrw"
   },
   "source": [
    "## Generate summary from  <font color='red'>\"BART\"</font> model"
   ]
  },
  {
   "cell_type": "code",
   "execution_count": 82,
   "metadata": {
    "id": "_GbRC8FX0Fgd"
   },
   "outputs": [],
   "source": [
    "summaries[\"BART\"] = generate_summary(\"BART\", sample_text)"
   ]
  },
  {
   "cell_type": "markdown",
   "metadata": {
    "id": "wYV1aTalpeMq"
   },
   "source": [
    "## Generate summary from  <font color='red'>\"T5\"</font> model"
   ]
  },
  {
   "cell_type": "code",
   "execution_count": 83,
   "metadata": {
    "colab": {
     "base_uri": "https://localhost:8080/"
    },
    "id": "bxuDO-sl0GJF",
    "outputId": "8f9c51d7-4baf-46bc-b75c-56cb223e6909"
   },
   "outputs": [
    {
     "name": "stderr",
     "output_type": "stream",
     "text": [
      "/usr/local/lib/python3.10/dist-packages/transformers/generation/utils.py:1186: UserWarning: You have modified the pretrained model configuration to control generation. This is a deprecated strategy to control generation and will be removed soon, in a future version. Please use a generation configuration file (see https://huggingface.co/docs/transformers/main_classes/text_generation)\n",
      "  warnings.warn(\n"
     ]
    }
   ],
   "source": [
    "summaries[\"T5\"] = generate_summary(\"T5\", sample_text)"
   ]
  },
  {
   "cell_type": "markdown",
   "metadata": {
    "id": "aXdzjMvqpihJ"
   },
   "source": [
    "## Generate summary from  <font color='red'>\"ProphetNet\"</font> model"
   ]
  },
  {
   "cell_type": "code",
   "execution_count": 84,
   "metadata": {
    "id": "hve3X4st0fQa"
   },
   "outputs": [],
   "source": [
    "summaries[\"ProphetNet\"] = generate_summary(\"ProphetNet\", sample_text)"
   ]
  },
  {
   "cell_type": "markdown",
   "metadata": {
    "id": "dZRMfTHGWJV7"
   },
   "source": [
    "## Generate summary from  <font color='red'>\"BigBirdPegasus\"</font> model"
   ]
  },
  {
   "cell_type": "markdown",
   "metadata": {
    "id": "ePiFNa8mWjaN"
   },
   "source": [
    "BigBird, is a sparse-attention based transformer which extends Transformer based models, such as BERT to much longer sequences. Moreover, BigBird comes along with a theoretical understanding of the capabilities of a complete transformer that the sparse model can handle. BigBird was introduced in this [paper](https://arxiv.org/abs/2007.14062), [Modelcard](https://huggingface.co/google/bigbird-pegasus-large-arxiv).\n",
    "<br><br>\n",
    "\n",
    "__Model description__\n",
    "\n",
    "BigBird relies on block sparse attention instead of normal attention (i.e. BERT's attention) and can handle sequences up to a length of 4096 at a much lower compute cost compared to BERT. It has achieved SOTA on various tasks involving very long sequences such as long documents summarization, question-answering with long contexts.\n",
    "\n",
    "The models checkpoint is obtained after fine-tuning BigBirdPegasusForConditionalGeneration for summarization on arxiv dataset from scientific papers."
   ]
  },
  {
   "cell_type": "code",
   "execution_count": 85,
   "metadata": {
    "id": "Zx_YFmpIKVON"
   },
   "outputs": [],
   "source": [
    "\n",
    "tokenizer = AutoTokenizer.from_pretrained(\"google/bigbird-pegasus-large-arxiv\")\n",
    "model = BigBirdPegasusForConditionalGeneration.from_pretrained(\"google/bigbird-pegasus-large-arxiv\", attention_type=\"original_full\", block_size=16, num_random_blocks=2)\n",
    "\n",
    "text = sample_text\n",
    "inputs = tokenizer.encode_plus(text, return_tensors='pt', max_length=4096, truncation=True)\n",
    "prediction = model.generate(**inputs, max_length=512)  # Set max_length here\n",
    "prediction = tokenizer.batch_decode(prediction)\n"
   ]
  },
  {
   "cell_type": "code",
   "execution_count": 86,
   "metadata": {
    "id": "jXm6KAvZMzOm"
   },
   "outputs": [],
   "source": [
    "summaries['bigbird-pegasus'] = prediction"
   ]
  },
  {
   "cell_type": "code",
   "execution_count": 87,
   "metadata": {
    "id": "Xu663-Y-UrIv"
   },
   "outputs": [],
   "source": [
    "summaries['bigbird-pegasus'] = summaries['bigbird-pegasus'][0]"
   ]
  },
  {
   "cell_type": "code",
   "execution_count": 88,
   "metadata": {
    "colab": {
     "base_uri": "https://localhost:8080/"
    },
    "id": "SCKXQBmLEJ9Z",
    "outputId": "ce5c88c5-3e91-4884-f3e4-fac52bb8b91a"
   },
   "outputs": [
    {
     "name": "stdout",
     "output_type": "stream",
     "text": [
      "\u001b[1mGround truth\u001b[0m\n",
      "Existing property tax law establishes a veterans’ organization\n",
      "exemption under which property is exempt from taxation if, among other\n",
      "things, that property is used exclusively for charitable purposes and\n",
      "is owned by a veterans’ organization.\n",
      "This bill would provide that the veterans’ organization exemption\n",
      "shall not be denied to a property on the basis that the property is\n",
      "used for fraternal, lodge, or social club purposes, and would make\n",
      "specific findings and declarations in that regard. The bill would also\n",
      "provide that the exemption shall not apply to any portion of a\n",
      "property that consists of a bar where alcoholic beverages are served.\n",
      "Section 2229 of the Revenue and Taxation Code requires the Legislature\n",
      "to reimburse local agencies annually for certain property tax revenues\n",
      "lost as a result of any exemption or classification of property for\n",
      "purposes of ad valorem property taxation.\n",
      "This bill would provide that, notwithstanding Section 2229 of the\n",
      "Revenue and Taxation Code, no appropriation is made and the state\n",
      "shall not reimburse local agencies for property tax revenues lost by\n",
      "them pursuant to the bill.\n",
      "This bill would take effect immediately as a tax levy.\n",
      "\n",
      "====================================================================\n",
      "\n",
      "\u001b[1mTextRank (Baseline)\u001b[0m\n",
      "['(c) Section 501(c)(19) of the Internal Revenue Code and related\n",
      "federal regulations provide for the exemption for posts or\n",
      "organizations of war veterans, or an auxiliary unit or society of, or\n",
      "a trust or foundation for, any such post or organization that, among\n",
      "other attributes, carries on programs to perpetuate the memory of\n",
      "deceased veterans and members of the Armed Forces and to comfort their\n",
      "survivors, conducts programs for religious, charitable, scientific,\n",
      "literary, or educational purposes, sponsors or participates in\n",
      "activities of a patriotic nature, and provides social and recreational\n",
      "activities for their members.\\n(a) All buildings, and so much of the\n",
      "real property on which the buildings are situated as may be required\n",
      "for the convenient use and occupation of the buildings, used\n",
      "exclusively for charitable purposes, owned by a veterans’ organization\n",
      "that has been chartered by the Congress of the United States,\n",
      "organized and operated for charitable purposes, and exempt from\n",
      "federal income tax as an organization described in Section 501(c)(19)\n",
      "of the Internal Revenue Code when the same are used solely and\n",
      "exclusively for the purpose of the organization, if not conducted for\n",
      "profit and no part of the net earnings of which inures to the benefit\n",
      "of any private individual or member thereof, shall be exempt from\n",
      "taxation.']\n",
      "\n",
      "--------------------------------------------------------------------\n",
      "\n",
      "\u001b[1mPegasus\u001b[0m\n",
      "Since 1899 congressionally chartered veterans’ organizations have\n",
      "provided a valuable service to our nation’s returning service members.\n",
      "These organizations help preserve the memories and incidents of the\n",
      "great hostilities fought by our nation, and preserve and strengthen\n",
      "comradeship among members . Part of American Legion halls are exempt\n",
      "from property taxation.\n",
      "Other parts, such as billiard rooms, card rooms, and similar areas,\n",
      "are not exempt.\n",
      "The State Board of Equalization’s constriction of the tax exemption\n",
      "has resulted in an onerous tax burden on California veteran service\n",
      "organizations posts or halls . The State Board of Equalization’s\n",
      "interpretation of the Revenue and Taxation Code reflects a lack of\n",
      "understanding of the purpose and programs of the veterans service\n",
      "organizations posts or halls.\n",
      "All buildings, and so much of the real property on which the buildings\n",
      "are situated as may be required for the convenient use and occupation\n",
      "of the buildings, used exclusively for charitable purposes.\n",
      "The exemption specified by subdivision (a) shall not be denied to a\n",
      "property on the basis that the property is used for fraternal, lodge,\n",
      "or social club purposes . An organization that files a claim for the\n",
      "exemption shall file with the assessor a valid organizational\n",
      "clearance certificate issued pursuant to Section 254.6.<n>No\n",
      "appropriation is made by this act and the state shall not reimburse\n",
      "any local agency for any property tax revenues lost by it pursuant to\n",
      "this act. ate effect.\n",
      "ate effect.\n",
      "ate effect.\n",
      "ate effect.\n",
      "ate effect.\n",
      "ate effect .\n",
      "\n",
      "--------------------------------------------------------------------\n",
      "\n",
      "\u001b[1mBART\u001b[0m\n",
      "Since 1899 congressionally chartered veterans’ organizations have\n",
      "provided a valuable service to our nation’s returning service members.\n",
      "These organizations help preserve the memories and incidents of the\n",
      "great hostilities fought by our nation. This aids in the healing\n",
      "process for these returning veterans, and ensures their health and\n",
      "happiness. Section 501(c)(19) of the Internal Revenue Code and related\n",
      "federal regulations provide for the exemption for posts or\n",
      "organizations of war veterans. Section 215.1 of the Revenue and\n",
      "Taxation Code stipulates that all buildings, support and so much of\n",
      "the real property on which the buildings are situated as may be\n",
      "required for the convenient use and occupation of the buildings. Only\n",
      "parts of American Legion halls are exempt from property taxation.\n",
      "Other parts, such as billiard rooms, card rooms, and similar areas,\n",
      "are not exempt. Areas normally considered eligible for exemptions are\n",
      "the office areas used to counsel veterans and the area used to store\n",
      "veterans’ records. Meeting hall and bar found in most of the\n",
      "facilities are not considered used for charity. The State Board of\n",
      "Equalization’s constriction of the tax exemption has resulted in an\n",
      "onerous tax burden on California veteran service organizations posts\n",
      "or halls. The tax burden hinders the posts’ ability to provide\n",
      "facilities for veterans, and threatens the economic viability of many\n",
      "local organizations. The State Board of Equalization’s interpretation\n",
      "of the Revenue and Taxation Code reflects a lack of understanding of\n",
      "the purpose and programs of the veterans service organizations posts\n",
      "or halls. Activities of a patriotic nature need facilities to\n",
      "accommodate hundreds of people. Social and recreational activities for\n",
      "members require precisely those areas considered “not used for\n",
      "charitable purposes” The exemption provided for in this section shall\n",
      "apply to the property of all organizations meeting the requirements of\n",
      "this section. The exemption specified by subdivision (a) shall not be\n",
      "denied to a property on the basis that the property is used for\n",
      "fraternal, lodge, or club purposes. The use of real property by a\n",
      "veterans’ organization as described in subdivision (a) for fraternal,\n",
      "lodge, or social club purposes is central to that organization’s\n",
      "exempt purposes and activities. The use of that property for a\n",
      "charitable purpose within the  charitable purpose of a veterans'\n",
      "organization is not required. The exemption does not apply to any\n",
      "portion of a property that consists of a bar where alcoholic beverages\n",
      "are served. The portion of the property ineligible for the veterans’\n",
      "organization exemption shall be that area used primarily to prepare\n",
      "and serve alcoholic beverages. An organization that files a claim for\n",
      "the exemption provided for in this section shall file with the\n",
      "assessor a valid organizational clearance certificate.  effect effect.\n",
      "ate effect. The effect of eating out on a person's health. The effects\n",
      "of eating in a restaurant on the health of a person. The Effect of\n",
      "Eating Out on a Person's Health. The Effects of Eating In A Restaurant\n",
      "On The Health Of A Person.\n",
      "\n",
      "--------------------------------------------------------------------\n",
      "\n",
      "\u001b[1mT5\u001b[0m\n",
      "the people of the State of California do enact a law establishing a\n",
      "special tax on veterans’ organizations, and a veterans’ pension fund,\n",
      "for the benefit of veterans. veterans' organizations are exempt from\n",
      "federal income tax if they carry on programs to perpetuate the memory\n",
      "of deceased veterans and members of the Armed Forces and to comfort\n",
      "their survivors. an organization chartered by the congress of the\n",
      "united states and used solely and exclusively for the purpose of the\n",
      "organization are exempt from property taxation. s intended to provide\n",
      "economic incentive and support to veterans’ organizations to provide\n",
      "for the social welfare of the community of current and former military\n",
      "personnel . the state board of equalization has interpreted the\n",
      "revenue and taxation code in a way that is contrary to the purpose and\n",
      "programs of veterans service organizations. 501(c)(19) of the Internal\n",
      "Revenue Code provides that the property of veterans’ organizations in\n",
      "the state of california is exempt from taxation. the use of real\n",
      "property by a veterans’ organization for fraternal, lodge, or social\n",
      "club purposes constitutes the exclusive use of that property for a\n",
      "charitable purpose within the meaning of section 501(c)(3). a\n",
      "veterans’ organization exemption shall not apply to any portion of a\n",
      "property where alcoholic beverages are served unless an organization\n",
      "has a clearance certificate issued pursuant to Section 254.6. ate\n",
      "effect is a reversal of the effects of adrenergic neurotransmitters on\n",
      "the central nervous system (cds).\n",
      "\n",
      "--------------------------------------------------------------------\n",
      "\n",
      "\u001b[1mProphetNet\u001b[0m\n",
      "veterans ' organizations have provided a valuable service to our\n",
      "nation ' s returning service members . [X_SEP] these section 501 ( c )\n",
      "( 19 ) of the internal revenue code and related federal regulations\n",
      "provide for only parts of american legion halls are exempt from\n",
      "property taxation . [X_SEP] other parts , such as bill state board of\n",
      "equalization ' s constriction of the tax exemption has resulted in an\n",
      "state board of equalization ' s interpretation of the revenue and\n",
      "taxation code reflects a lack of understanding the exemption provided\n",
      "for in this section shall apply to the property of all organizations\n",
      "meeting the requirements of the use of real property by a veterans '\n",
      "organization for fraternal , lodge , or social section 4 of article\n",
      "xiii of the california constitution applies to a bar where alcoholic\n",
      "beverages are served . [X_SEP] . . . [X_SEP] . [X_SEP] [X_SEP] [X_SEP]\n",
      "a . [X_SEP]\n",
      "\n",
      "--------------------------------------------------------------------\n",
      "\n",
      "\u001b[1mbigbird-pegasus\u001b[0m\n",
      "<s> the fundamental difference between a circulant and a non -\n",
      "circulant club is that a circulant club is a non - circulant club if\n",
      "and only if it admits at least one non - circulant member.<n> a non -\n",
      "circulant club is a non - circulant club if and only if it admits at\n",
      "least one non - circulant member.<n> a circulant club is a non -\n",
      "circulant club if and only if it admits at least one non - circulant\n",
      "member.<n> a circulant club is a non - circulant club if and only if\n",
      "it admits at least one non - circulant member.<n> a circulant club is\n",
      "a non - circulant club if and only if it admits at least one non -\n",
      "circulant member.<n> a circulant club is a non - circulant club if and\n",
      "only if it admits at least one non - circulant member.<n> a circulant\n",
      "club is a non - circulant club if and only if it admits at least one\n",
      "non - circulant member.<n> a circulant club is a non - circulant club\n",
      "if and only if it admits at least one non - circulant member.</s>\n",
      "\n",
      "--------------------------------------------------------------------\n",
      "\n"
     ]
    }
   ],
   "source": [
    "print_summaries(summaries, reference)"
   ]
  },
  {
   "cell_type": "markdown",
   "metadata": {
    "id": "KI4QFvDd9KE5"
   },
   "source": [
    "### Evaluating Summarization Models using ROUGE and BLEU Metrics\n",
    "\n",
    "In this section, we demonstrate how to evaluate the summarization models using both the ROUGE and BLEU metrics. We use the Hugging Face's implementation of these metrics.\n",
    "\n",
    "ROUGE, or Recall-Oriented Understudy for Gisting Evaluation, is a set of metrics and a software package used for evaluating automatic summarization and machine translation software in natural language processing. The metrics compare an automatically produced summary or translation against a reference or a set of references (human-produced) summary or translation. Note that ROUGE is case insensitive, meaning that upper case letters are treated the same way as lower case letters.\n",
    "[Link](https://huggingface.co/spaces/evaluate-metric/rouge)\n",
    "\n",
    "BLEU, or Bilingual Evaluation Understudy, is an evaluation metric used primarily for machine translation. It measures the similarity between a candidate translation and a set of reference translations, considering both the n-gram precision and a brevity penalty factor.\n",
    "[Link](https://huggingface.co/spaces/evaluate-metric/google_bleu)\n",
    "\n",
    "[Info about Huggingface evaluate](https://huggingface.co/docs/evaluate/v0.4.0/en/package_reference/loading_methods#evaluate.load)\n",
    "<br> <br>\n",
    "\n",
    "__Note:__ It can be beneficial to use both ROUGE and BLEU metrics for evaluation, as they focus on different aspects of the generated summaries. ROUGE is recall-oriented and mainly focuses on the coverage of important content, while BLEU is precision-oriented and evaluates the fluency and correctness of the generated text.\n",
    "\n",
    "It is important to have an understanding of what constitutes a \"good\" score when evaluating summarization models. Here are some guidelines for interpreting the ROUGE and BLEU scores:\n",
    "\n",
    "__ROUGE Scores__\n",
    "\n",
    "ROUGE scores usually range from 0 to 1, with 1 being a perfect match between the generated summary and the reference summary. In practice, scores closer to 1 are rare, especially for abstractive summarization tasks.\n",
    "\n",
    "For a simple baseline model like TextRank or LSA, a \"good\" ROUGE score can be around 0.3 to 0.4. For more advanced Transformer-based models like BART, T5, or Pegasus, a \"good\" ROUGE score can range from 0.4 to 0.6, depending on the task and dataset. State-of-the-art models can achieve even higher scores, but it's important to keep in mind that ROUGE scores are just one aspect of evaluating the quality of generated summaries.\n",
    "\n",
    "__BLEU Scores__\n",
    "\n",
    "BLEU scores also range from 0 to 1, with 1 indicating a perfect match between the generated text and the reference text. However, BLEU scores tend to be lower compared to ROUGE scores, as they are more sensitive to the differences in word order and phrasing.\n",
    "\n",
    "For a simple baseline model, a \"good\" BLEU score could be around 0.1 to 0.2. For Transformer-based models, a \"good\" BLEU score might range from 0.2 to 0.4, again depending on the task and dataset. State-of-the-art models can achieve higher scores, but just like with ROUGE, it's essential to consider other factors when evaluating the quality of generated summaries.\n",
    "\n",
    "Keep in mind that these are rough guidelines, and the definition of a \"good\" score can vary depending on the specific domain, dataset, and evaluation criteria. It is always a good idea to compare your model's scores with scores from existing state-of-the-art models on the same dataset to get a better understanding of its performance.\n",
    "\n",
    "__Defining the SummarizationMetrics Class__\n",
    "\n",
    "The SummarizationMetrics class is defined with methods for computing the ROUGE and BLEU metrics, as well as a method to compute both metrics together:\n",
    "\n",
    "`class SummarizationMetrics:\n",
    "    ...\n",
    "`\n",
    "\n",
    "This class is located in the `utils.py` file, feel free to look it up to get a better understanding how the mectrics are computed.\n",
    "\n",
    "__Computing Metrics__\n",
    "\n",
    "To compute the metrics, we first instantiate the SummarizationMetrics class:\n",
    "`evaluator = SummarizationMetrics()\n",
    "`\n",
    "\n",
    "Then, we call the compute_sum_metric method on the evaluator object, passing the generated summaries and the reference summary:\n",
    "`metrics_df = evaluator.compute_sum_metric(summaries, reference)\n",
    "`\n",
    "\n",
    "The compute_sum_metric method computes both the ROUGE and BLEU metrics by calling the `compute_rouge_metrics` and `compute_google_bleu_metrics` methods, respectively. The resulting metrics are combined into a single DataFrame and returned.\n",
    "\n",
    "__Viewing the Metrics__\n",
    "\n",
    "We can display the resulting metrics DataFrame to see the evaluation scores for each model:\n",
    "`metrics_df\n",
    "`\n",
    "\n",
    "This DataFrame shows the ROUGE and BLEU scores for each summarization model, allowing for an easy comparison of their performance.\n",
    "\n",
    "\n",
    "__Note:__ It's crucial to understand that evaluating a summarization model based on just one text example from a testing dataset is not enough to determine its overall performance. The reason behind this is that the complexity of the text samples can vary significantly within a dataset. Some text samples might be easier for a model to summarize, while others could be more challenging, containing complex sentence structures, domain-specific jargon, or long and convoluted narratives.\n",
    "\n",
    "To get a more comprehensive sense of a model's performance, it is essential to evaluate it on a larger number of samples from the testing dataset. By doing so, we can ensure that we're assessing the model's ability to handle a diverse set of inputs, including those that differ in complexity, topic, and structure. This approach provides a more reliable and generalizable evaluation of the model's performance, helping us to better understand its strengths and weaknesses.\n",
    "\n",
    "In the next section of this notebook, we will expand our evaluation to include multiple text samples from the testing dataset. This will give us a better understanding of how well the model performs across a variety of inputs and allow us to make more informed decisions about its applicability to real-world use cases."
   ]
  },
  {
   "cell_type": "code",
   "execution_count": 89,
   "metadata": {
    "colab": {
     "base_uri": "https://localhost:8080/",
     "height": 272
    },
    "id": "1ajjw6rcKyQ7",
    "outputId": "4bd26169-7ead-4026-8766-7ad797720bb0"
   },
   "outputs": [
    {
     "name": "stderr",
     "output_type": "stream",
     "text": [
      "100%|██████████| 6/6 [00:01<00:00,  5.51it/s]\n",
      "100%|██████████| 6/6 [00:00<00:00, 222.32it/s]\n"
     ]
    },
    {
     "data": {
      "text/html": [
       "\n",
       "  <div id=\"df-008511c4-adf3-4545-9eab-4e42394fbacd\" class=\"colab-df-container\">\n",
       "    <div>\n",
       "<style scoped>\n",
       "    .dataframe tbody tr th:only-of-type {\n",
       "        vertical-align: middle;\n",
       "    }\n",
       "\n",
       "    .dataframe tbody tr th {\n",
       "        vertical-align: top;\n",
       "    }\n",
       "\n",
       "    .dataframe thead th {\n",
       "        text-align: right;\n",
       "    }\n",
       "</style>\n",
       "<table border=\"1\" class=\"dataframe\">\n",
       "  <thead>\n",
       "    <tr style=\"text-align: right;\">\n",
       "      <th></th>\n",
       "      <th>rouge1</th>\n",
       "      <th>rouge2</th>\n",
       "      <th>rougeL</th>\n",
       "      <th>rougeLsum</th>\n",
       "      <th>google_bleu</th>\n",
       "    </tr>\n",
       "  </thead>\n",
       "  <tbody>\n",
       "    <tr>\n",
       "      <th>TextRank (Baseline)</th>\n",
       "      <td>0.414815</td>\n",
       "      <td>0.094293</td>\n",
       "      <td>0.177778</td>\n",
       "      <td>0.340741</td>\n",
       "      <td>0.128283</td>\n",
       "    </tr>\n",
       "    <tr>\n",
       "      <th>Pegasus</th>\n",
       "      <td>0.493151</td>\n",
       "      <td>0.224771</td>\n",
       "      <td>0.287671</td>\n",
       "      <td>0.438356</td>\n",
       "      <td>0.218349</td>\n",
       "    </tr>\n",
       "    <tr>\n",
       "      <th>BART</th>\n",
       "      <td>0.374456</td>\n",
       "      <td>0.197962</td>\n",
       "      <td>0.220610</td>\n",
       "      <td>0.328012</td>\n",
       "      <td>0.143989</td>\n",
       "    </tr>\n",
       "    <tr>\n",
       "      <th>T5</th>\n",
       "      <td>0.460829</td>\n",
       "      <td>0.203704</td>\n",
       "      <td>0.230415</td>\n",
       "      <td>0.368664</td>\n",
       "      <td>0.184557</td>\n",
       "    </tr>\n",
       "    <tr>\n",
       "      <th>ProphetNet</th>\n",
       "      <td>0.401198</td>\n",
       "      <td>0.156627</td>\n",
       "      <td>0.179641</td>\n",
       "      <td>0.317365</td>\n",
       "      <td>0.139651</td>\n",
       "    </tr>\n",
       "    <tr>\n",
       "      <th>bigbird-pegasus</th>\n",
       "      <td>0.118280</td>\n",
       "      <td>0.000000</td>\n",
       "      <td>0.107527</td>\n",
       "      <td>0.118280</td>\n",
       "      <td>0.030905</td>\n",
       "    </tr>\n",
       "  </tbody>\n",
       "</table>\n",
       "</div>\n",
       "    <div class=\"colab-df-buttons\">\n",
       "\n",
       "  <div class=\"colab-df-container\">\n",
       "    <button class=\"colab-df-convert\" onclick=\"convertToInteractive('df-008511c4-adf3-4545-9eab-4e42394fbacd')\"\n",
       "            title=\"Convert this dataframe to an interactive table.\"\n",
       "            style=\"display:none;\">\n",
       "\n",
       "  <svg xmlns=\"http://www.w3.org/2000/svg\" height=\"24px\" viewBox=\"0 -960 960 960\">\n",
       "    <path d=\"M120-120v-720h720v720H120Zm60-500h600v-160H180v160Zm220 220h160v-160H400v160Zm0 220h160v-160H400v160ZM180-400h160v-160H180v160Zm440 0h160v-160H620v160ZM180-180h160v-160H180v160Zm440 0h160v-160H620v160Z\"/>\n",
       "  </svg>\n",
       "    </button>\n",
       "\n",
       "  <style>\n",
       "    .colab-df-container {\n",
       "      display:flex;\n",
       "      gap: 12px;\n",
       "    }\n",
       "\n",
       "    .colab-df-convert {\n",
       "      background-color: #E8F0FE;\n",
       "      border: none;\n",
       "      border-radius: 50%;\n",
       "      cursor: pointer;\n",
       "      display: none;\n",
       "      fill: #1967D2;\n",
       "      height: 32px;\n",
       "      padding: 0 0 0 0;\n",
       "      width: 32px;\n",
       "    }\n",
       "\n",
       "    .colab-df-convert:hover {\n",
       "      background-color: #E2EBFA;\n",
       "      box-shadow: 0px 1px 2px rgba(60, 64, 67, 0.3), 0px 1px 3px 1px rgba(60, 64, 67, 0.15);\n",
       "      fill: #174EA6;\n",
       "    }\n",
       "\n",
       "    .colab-df-buttons div {\n",
       "      margin-bottom: 4px;\n",
       "    }\n",
       "\n",
       "    [theme=dark] .colab-df-convert {\n",
       "      background-color: #3B4455;\n",
       "      fill: #D2E3FC;\n",
       "    }\n",
       "\n",
       "    [theme=dark] .colab-df-convert:hover {\n",
       "      background-color: #434B5C;\n",
       "      box-shadow: 0px 1px 3px 1px rgba(0, 0, 0, 0.15);\n",
       "      filter: drop-shadow(0px 1px 2px rgba(0, 0, 0, 0.3));\n",
       "      fill: #FFFFFF;\n",
       "    }\n",
       "  </style>\n",
       "\n",
       "    <script>\n",
       "      const buttonEl =\n",
       "        document.querySelector('#df-008511c4-adf3-4545-9eab-4e42394fbacd button.colab-df-convert');\n",
       "      buttonEl.style.display =\n",
       "        google.colab.kernel.accessAllowed ? 'block' : 'none';\n",
       "\n",
       "      async function convertToInteractive(key) {\n",
       "        const element = document.querySelector('#df-008511c4-adf3-4545-9eab-4e42394fbacd');\n",
       "        const dataTable =\n",
       "          await google.colab.kernel.invokeFunction('convertToInteractive',\n",
       "                                                    [key], {});\n",
       "        if (!dataTable) return;\n",
       "\n",
       "        const docLinkHtml = 'Like what you see? Visit the ' +\n",
       "          '<a target=\"_blank\" href=https://colab.research.google.com/notebooks/data_table.ipynb>data table notebook</a>'\n",
       "          + ' to learn more about interactive tables.';\n",
       "        element.innerHTML = '';\n",
       "        dataTable['output_type'] = 'display_data';\n",
       "        await google.colab.output.renderOutput(dataTable, element);\n",
       "        const docLink = document.createElement('div');\n",
       "        docLink.innerHTML = docLinkHtml;\n",
       "        element.appendChild(docLink);\n",
       "      }\n",
       "    </script>\n",
       "  </div>\n",
       "\n",
       "\n",
       "<div id=\"df-97ee59e7-c5a9-40fa-a616-8baa05f0dab1\">\n",
       "  <button class=\"colab-df-quickchart\" onclick=\"quickchart('df-97ee59e7-c5a9-40fa-a616-8baa05f0dab1')\"\n",
       "            title=\"Suggest charts\"\n",
       "            style=\"display:none;\">\n",
       "\n",
       "<svg xmlns=\"http://www.w3.org/2000/svg\" height=\"24px\"viewBox=\"0 0 24 24\"\n",
       "     width=\"24px\">\n",
       "    <g>\n",
       "        <path d=\"M19 3H5c-1.1 0-2 .9-2 2v14c0 1.1.9 2 2 2h14c1.1 0 2-.9 2-2V5c0-1.1-.9-2-2-2zM9 17H7v-7h2v7zm4 0h-2V7h2v10zm4 0h-2v-4h2v4z\"/>\n",
       "    </g>\n",
       "</svg>\n",
       "  </button>\n",
       "\n",
       "<style>\n",
       "  .colab-df-quickchart {\n",
       "      --bg-color: #E8F0FE;\n",
       "      --fill-color: #1967D2;\n",
       "      --hover-bg-color: #E2EBFA;\n",
       "      --hover-fill-color: #174EA6;\n",
       "      --disabled-fill-color: #AAA;\n",
       "      --disabled-bg-color: #DDD;\n",
       "  }\n",
       "\n",
       "  [theme=dark] .colab-df-quickchart {\n",
       "      --bg-color: #3B4455;\n",
       "      --fill-color: #D2E3FC;\n",
       "      --hover-bg-color: #434B5C;\n",
       "      --hover-fill-color: #FFFFFF;\n",
       "      --disabled-bg-color: #3B4455;\n",
       "      --disabled-fill-color: #666;\n",
       "  }\n",
       "\n",
       "  .colab-df-quickchart {\n",
       "    background-color: var(--bg-color);\n",
       "    border: none;\n",
       "    border-radius: 50%;\n",
       "    cursor: pointer;\n",
       "    display: none;\n",
       "    fill: var(--fill-color);\n",
       "    height: 32px;\n",
       "    padding: 0;\n",
       "    width: 32px;\n",
       "  }\n",
       "\n",
       "  .colab-df-quickchart:hover {\n",
       "    background-color: var(--hover-bg-color);\n",
       "    box-shadow: 0 1px 2px rgba(60, 64, 67, 0.3), 0 1px 3px 1px rgba(60, 64, 67, 0.15);\n",
       "    fill: var(--button-hover-fill-color);\n",
       "  }\n",
       "\n",
       "  .colab-df-quickchart-complete:disabled,\n",
       "  .colab-df-quickchart-complete:disabled:hover {\n",
       "    background-color: var(--disabled-bg-color);\n",
       "    fill: var(--disabled-fill-color);\n",
       "    box-shadow: none;\n",
       "  }\n",
       "\n",
       "  .colab-df-spinner {\n",
       "    border: 2px solid var(--fill-color);\n",
       "    border-color: transparent;\n",
       "    border-bottom-color: var(--fill-color);\n",
       "    animation:\n",
       "      spin 1s steps(1) infinite;\n",
       "  }\n",
       "\n",
       "  @keyframes spin {\n",
       "    0% {\n",
       "      border-color: transparent;\n",
       "      border-bottom-color: var(--fill-color);\n",
       "      border-left-color: var(--fill-color);\n",
       "    }\n",
       "    20% {\n",
       "      border-color: transparent;\n",
       "      border-left-color: var(--fill-color);\n",
       "      border-top-color: var(--fill-color);\n",
       "    }\n",
       "    30% {\n",
       "      border-color: transparent;\n",
       "      border-left-color: var(--fill-color);\n",
       "      border-top-color: var(--fill-color);\n",
       "      border-right-color: var(--fill-color);\n",
       "    }\n",
       "    40% {\n",
       "      border-color: transparent;\n",
       "      border-right-color: var(--fill-color);\n",
       "      border-top-color: var(--fill-color);\n",
       "    }\n",
       "    60% {\n",
       "      border-color: transparent;\n",
       "      border-right-color: var(--fill-color);\n",
       "    }\n",
       "    80% {\n",
       "      border-color: transparent;\n",
       "      border-right-color: var(--fill-color);\n",
       "      border-bottom-color: var(--fill-color);\n",
       "    }\n",
       "    90% {\n",
       "      border-color: transparent;\n",
       "      border-bottom-color: var(--fill-color);\n",
       "    }\n",
       "  }\n",
       "</style>\n",
       "\n",
       "  <script>\n",
       "    async function quickchart(key) {\n",
       "      const quickchartButtonEl =\n",
       "        document.querySelector('#' + key + ' button');\n",
       "      quickchartButtonEl.disabled = true;  // To prevent multiple clicks.\n",
       "      quickchartButtonEl.classList.add('colab-df-spinner');\n",
       "      try {\n",
       "        const charts = await google.colab.kernel.invokeFunction(\n",
       "            'suggestCharts', [key], {});\n",
       "      } catch (error) {\n",
       "        console.error('Error during call to suggestCharts:', error);\n",
       "      }\n",
       "      quickchartButtonEl.classList.remove('colab-df-spinner');\n",
       "      quickchartButtonEl.classList.add('colab-df-quickchart-complete');\n",
       "    }\n",
       "    (() => {\n",
       "      let quickchartButtonEl =\n",
       "        document.querySelector('#df-97ee59e7-c5a9-40fa-a616-8baa05f0dab1 button');\n",
       "      quickchartButtonEl.style.display =\n",
       "        google.colab.kernel.accessAllowed ? 'block' : 'none';\n",
       "    })();\n",
       "  </script>\n",
       "</div>\n",
       "    </div>\n",
       "  </div>\n"
      ],
      "text/plain": [
       "                       rouge1    rouge2    rougeL  rougeLsum  google_bleu\n",
       "TextRank (Baseline)  0.414815  0.094293  0.177778   0.340741     0.128283\n",
       "Pegasus              0.493151  0.224771  0.287671   0.438356     0.218349\n",
       "BART                 0.374456  0.197962  0.220610   0.328012     0.143989\n",
       "T5                   0.460829  0.203704  0.230415   0.368664     0.184557\n",
       "ProphetNet           0.401198  0.156627  0.179641   0.317365     0.139651\n",
       "bigbird-pegasus      0.118280  0.000000  0.107527   0.118280     0.030905"
      ]
     },
     "execution_count": 89,
     "metadata": {},
     "output_type": "execute_result"
    }
   ],
   "source": [
    "evaluator = SummarizationMetrics()\n",
    "\n",
    "metrics_df = evaluator.compute_sum_metric(summaries, reference)\n",
    "\n",
    "metrics_df\n"
   ]
  },
  {
   "cell_type": "markdown",
   "metadata": {
    "id": "sE272kth5H7E"
   },
   "source": [
    "## Evaluate more than one example"
   ]
  },
  {
   "cell_type": "markdown",
   "metadata": {
    "id": "cvK9YAoG5QTU"
   },
   "source": [
    "The `generate_avg_summary` is almost identical to `generate_summary`. However the main differences are:\n",
    "\n",
    "1. The choice of models: While both functions support \"BART\", \"T5\", \"ProphetNet\", and \"Pegasus\", the generate_avg_summary function also supports the \"BigBirdPegasus\" model, which is designed for handling longer input sequences.\n",
    "\n",
    "2. Handling long input text: The generate_avg_summary function takes advantage of the BigBirdPegasus model's ability to handle longer input sequences (up to 4096 tokens). This can be particularly useful for summarizing long documents or articles."
   ]
  },
  {
   "cell_type": "code",
   "execution_count": 90,
   "metadata": {
    "id": "nm_Z5Tyb-Z9Z"
   },
   "outputs": [],
   "source": [
    "def generate_avg_summary(model_name, sample_text):\n",
    "    \"\"\"\n",
    "    This function generates an average summary for the given text using the\n",
    "    specified transformer model. Different transformer models such as Pegasus,\n",
    "    T5, and others are supported.\n",
    "    Each model has its own tokenizer and configuration settings. For example,\n",
    "    Pegasus and T5 use a maximum length of 1024, while BigBirdPegasus has a\n",
    "    maximum length of 4096. The input text is chunked according to the model's\n",
    "    maximum length and processed accordingly. The final summary is obtained by\n",
    "    concatenating the summaries generated for each chunk.\n",
    "\n",
    "\n",
    "    Args:\n",
    "        model_name (str): The name of the model to use for summarization. Supported values are \"BART\", \"T5\",\n",
    "            \"ProphetNet\", \"Pegasus\", and \"BigBirdPegasus\".\n",
    "        sample_text (str): The input text to summarize.\n",
    "\n",
    "    Returns:\n",
    "        str: The summary generated by the specified model.\n",
    "\n",
    "    Raises:\n",
    "        ValueError: If the specified model is not supported.\n",
    "\n",
    "    Example:\n",
    "        >>> generate_summary(\"BART\", \"This is an example text to summarize using BART.\")\n",
    "        'BART is used to summarize the input text.'\n",
    "    \"\"\"\n",
    "\n",
    "    # Set up tokenizer and model\n",
    "    model_dict = {\n",
    "        \"BART\": (\"facebook/bart-large-cnn\", None),\n",
    "        \"T5\": (\"t5-large\", None),\n",
    "        \"ProphetNet\": (\"microsoft/prophetnet-large-uncased-cnndm\", None),\n",
    "        \"Pegasus\": (\"google/pegasus-cnn_dailymail\", 1024),\n",
    "        \"BigBirdPegasus\": (\"google/bigbird-pegasus-large-arxiv\", 4096),\n",
    "    }\n",
    "\n",
    "    if model_name in model_dict:\n",
    "        if model_name == \"Pegasus\":\n",
    "            tokenizer = AutoTokenizer.from_pretrained(model_dict[model_name][0], max_length=1024, truncation=True)\n",
    "            model = AutoModelForSeq2SeqLM.from_pretrained(model_dict[model_name][0])\n",
    "            summarization_pipeline = pipeline(\"summarization\", tokenizer=tokenizer, model=model, max_length=model_dict[model_name][1])\n",
    "            chunks = [sample_text[i:i+model_dict[model_name][1]] for i in range(0, len(sample_text), model_dict[model_name][1])]\n",
    "            summaries = []\n",
    "            for chunk in tqdm(chunks):\n",
    "                summarization_output = summarization_pipeline(chunk)\n",
    "                summaries.append(summarization_output[0][\"summary_text\"])\n",
    "            summary = \" \".join(summaries)\n",
    "        elif model_name == \"BigBirdPegasus\":\n",
    "            tokenizer = AutoTokenizer.from_pretrained(model_dict[model_name][0], max_length=4096, truncation=True)\n",
    "            model = AutoModelForSeq2SeqLM.from_pretrained(model_dict[model_name][0])\n",
    "            inputs = tokenizer(sample_text, return_tensors='pt', max_length=4096, truncation=True)\n",
    "            outputs = model.generate(input_ids=inputs[\"input_ids\"], attention_mask=inputs[\"attention_mask\"])\n",
    "            summary = tokenizer.decode(outputs[0], skip_special_tokens=True)\n",
    "        else:\n",
    "            tokenizer = AutoTokenizer.from_pretrained(model_dict[model_name][0], model_max_length=1024, truncation=True)\n",
    "            model = AutoModelForSeq2SeqLM.from_pretrained(model_dict[model_name][0])\n",
    "            if model_name == \"T5\":\n",
    "                gen_config = GenerationConfig(max_length=1024)\n",
    "                summarization_pipeline = pipeline(\"summarization\", tokenizer=tokenizer, model=model, config=gen_config)\n",
    "            else:\n",
    "                summarization_pipeline = pipeline(\"summarization\", tokenizer=tokenizer, model=model, max_length=512)\n",
    "            chunks = [sample_text[i:i+1024] for i in range(0, len(sample_text), 1024)]\n",
    "            summaries = []\n",
    "            for chunk in tqdm(chunks):\n",
    "                summarization_output = summarization_pipeline(chunk)\n",
    "                summaries.append(summarization_output[0][\"summary_text\"])\n",
    "            summary = \" \".join(summaries)\n",
    "\n",
    "\n",
    "    else:\n",
    "        raise ValueError(f\"Model {model_name} is not supported.\")\n",
    "\n",
    "    return summary\n"
   ]
  },
  {
   "cell_type": "markdown",
   "metadata": {
    "id": "XYzvb6N55qyj"
   },
   "source": [
    "## Summarizing a Small Dataset using Transformer variants and `generate_avg_summary`\n",
    "\n",
    "In this section, we demonstrate how to use the `generate_avg_summary` function to generate summaries for a small dataset using the various models. The dataset in this example is assumed to be in the `dataset_test`\n",
    " variable, which is an instance of Hugging Face's Dataset class.\n",
    "\n",
    "__Selecting a Small Range of Samples__\n",
    "\n",
    "First, we select a small range of samples from the dataset. In this example, we select the first 10 samples:\n",
    "`# Select a small range of samples\n",
    "dataset_small = dataset_test.select(range(10))\n",
    "`\n",
    "\n",
    "__Converting the Dataset to a Pandas DataFrame__\n",
    "Next, we convert the small dataset to a Pandas DataFrame, which provides an easier way to apply the generate_avg_summary function on each article:\n",
    "`# Convert dataset to pandas dataframe\n",
    "df = dataset_small.to_pandas()\n",
    "`\n",
    "\n",
    "__Generating Summaries using BART, T5, Pegasus and our baseline, TextRank__\n",
    "\n",
    "Now that we have a DataFrame containing the articles, we can apply the __generate_avg_summary__ function to each article to generate BART-based summaries. For each article, a progress bar will appear, indicating the progress of the summarization process. Since we have selected 10 articles, 10 progress bars will be displayed.\n",
    "`# Generate summaries for each article with BART\n",
    "df[\"BART_avg\"] = df[\"text\"].apply(lambda x: generate_avg_summary(\"BART\", x))\n",
    "`\n",
    "\n",
    "After the summarization process is complete, the resulting DataFrame df will contain a new column named \"Modl_avg\" with the Model-generated summaries for each article. You can adjust the `.select(range(10)` with different ranges to evaluate less or more articles."
   ]
  },
  {
   "cell_type": "code",
   "execution_count": 91,
   "metadata": {
    "colab": {
     "base_uri": "https://localhost:8080/"
    },
    "id": "FAPcVETNdHWF",
    "outputId": "c129b7e4-1e9d-4ed8-8b1d-580fe081c51b"
   },
   "outputs": [
    {
     "name": "stderr",
     "output_type": "stream",
     "text": [
      "100%|██████████| 9/9 [00:42<00:00,  4.67s/it]\n",
      "100%|██████████| 9/9 [00:46<00:00,  5.22s/it]\n",
      "100%|██████████| 14/14 [01:07<00:00,  4.82s/it]\n",
      "100%|██████████| 11/11 [00:51<00:00,  4.70s/it]\n",
      "100%|██████████| 7/7 [00:37<00:00,  5.41s/it]\n",
      "100%|██████████| 12/12 [01:01<00:00,  5.12s/it]\n",
      "100%|██████████| 16/16 [01:19<00:00,  4.96s/it]\n",
      "100%|██████████| 7/7 [00:37<00:00,  5.37s/it]\n",
      "100%|██████████| 11/11 [00:56<00:00,  5.16s/it]\n",
      "100%|██████████| 10/10 [00:49<00:00,  4.93s/it]\n"
     ]
    }
   ],
   "source": [
    "# Select a small range of samples\n",
    "# See: https://huggingface.co/docs/datasets/v1.1.1/processing.html\n",
    "dataset_small = dataset_test.select(range(10))\n",
    "\n",
    "# Convert dataset to pandas dataframe\n",
    "df = dataset_small.to_pandas()\n",
    "\n",
    "# Note: every bar appearing is == to one data iteration, so if you have\n",
    "# dataset_test.select(range(10)) 10 bars will apprear\n",
    "# Generate summaries for each article with BART\n",
    "df[\"BART_avg\"] = df[\"text\"].apply(lambda x: generate_avg_summary(\"BART\", x))\n"
   ]
  },
  {
   "cell_type": "code",
   "execution_count": 92,
   "metadata": {
    "colab": {
     "base_uri": "https://localhost:8080/"
    },
    "id": "nOsGdx6EdTD2",
    "outputId": "1592fffd-edf6-4f98-bd33-d1553d30fbbd"
   },
   "outputs": [
    {
     "name": "stderr",
     "output_type": "stream",
     "text": [
      "\r",
      "  0%|          | 0/9 [00:00<?, ?it/s]/usr/local/lib/python3.10/dist-packages/transformers/generation/utils.py:1186: UserWarning: You have modified the pretrained model configuration to control generation. This is a deprecated strategy to control generation and will be removed soon, in a future version. Please use a generation configuration file (see https://huggingface.co/docs/transformers/main_classes/text_generation)\n",
      "  warnings.warn(\n",
      "100%|██████████| 9/9 [01:26<00:00,  9.65s/it]\n",
      "100%|██████████| 9/9 [01:31<00:00, 10.19s/it]\n",
      "100%|██████████| 14/14 [02:08<00:00,  9.21s/it]\n",
      "100%|██████████| 11/11 [01:25<00:00,  7.81s/it]\n",
      "100%|██████████| 7/7 [01:16<00:00, 10.93s/it]\n",
      "100%|██████████| 12/12 [01:57<00:00,  9.78s/it]\n",
      "100%|██████████| 16/16 [02:20<00:00,  8.78s/it]\n",
      "100%|██████████| 7/7 [01:08<00:00,  9.75s/it]\n",
      "100%|██████████| 11/11 [01:52<00:00, 10.20s/it]\n",
      "100%|██████████| 10/10 [01:34<00:00,  9.50s/it]\n"
     ]
    }
   ],
   "source": [
    "# Generate summaries for each article with T5\n",
    "df[\"T5_avg\"] = df[\"text\"].apply(lambda x: generate_avg_summary(\"T5\", x))"
   ]
  },
  {
   "cell_type": "code",
   "execution_count": 93,
   "metadata": {
    "colab": {
     "base_uri": "https://localhost:8080/"
    },
    "id": "R69zfWSshaQB",
    "outputId": "c4c69ac7-0721-449f-956b-aabac549793e"
   },
   "outputs": [
    {
     "name": "stderr",
     "output_type": "stream",
     "text": [
      "100%|██████████| 9/9 [01:52<00:00, 12.55s/it]\n",
      "100%|██████████| 9/9 [02:00<00:00, 13.39s/it]\n",
      "100%|██████████| 14/14 [02:39<00:00, 11.36s/it]\n",
      "100%|██████████| 11/11 [01:51<00:00, 10.14s/it]\n",
      "100%|██████████| 7/7 [01:39<00:00, 14.15s/it]\n",
      "100%|██████████| 12/12 [02:38<00:00, 13.22s/it]\n",
      "100%|██████████| 16/16 [03:33<00:00, 13.36s/it]\n",
      "100%|██████████| 7/7 [01:36<00:00, 13.81s/it]\n",
      "100%|██████████| 11/11 [02:24<00:00, 13.16s/it]\n",
      "100%|██████████| 10/10 [01:38<00:00,  9.88s/it]\n"
     ]
    }
   ],
   "source": [
    "# Generate summaries for each article with Pegasus\n",
    "df[\"Pegasus_avg\"] = df[\"text\"].apply(lambda x: generate_avg_summary(\"Pegasus\", x))"
   ]
  },
  {
   "cell_type": "code",
   "execution_count": 94,
   "metadata": {
    "colab": {
     "base_uri": "https://localhost:8080/"
    },
    "id": "A2ayPpy0SMuo",
    "outputId": "6ed547e8-e38e-4371-e1b6-9877a37d5b91"
   },
   "outputs": [
    {
     "data": {
      "text/plain": [
       "(10,)"
      ]
     },
     "execution_count": 94,
     "metadata": {},
     "output_type": "execute_result"
    }
   ],
   "source": [
    "# get 10 examples\n",
    "articles_np_10 = articles_np[:10]\n",
    "articles_np_10.shape"
   ]
  },
  {
   "cell_type": "code",
   "execution_count": 95,
   "metadata": {
    "id": "iUQVRzGNSMup"
   },
   "outputs": [],
   "source": [
    "# Define a partial new function with the `words` argument fixed to 120\n",
    "summarize_text_120 = partial(summarize_text, words=250)\n",
    "\n",
    "# Parallelize the TextRank summarization\n",
    "with Pool() as pool:\n",
    "    summarized_articles = pool.map(summarize_text_120, articles_np_10)"
   ]
  },
  {
   "cell_type": "code",
   "execution_count": 96,
   "metadata": {
    "id": "h119uhb8Sd58"
   },
   "outputs": [],
   "source": [
    "df['TextRank (Baseline)_avg'] = summarized_articles"
   ]
  },
  {
   "cell_type": "markdown",
   "metadata": {
    "id": "PzsI3yFW7YEG"
   },
   "source": [
    "## Evaluating Summarization Models using ROUGE Metrics\n",
    "\n",
    "In this section, we demonstrate how to evaluate the summarization models using the ROUGE metrics. ROUGE, or Recall-Oriented Understudy for Gisting Evaluation, is a set of metrics and a software package used for evaluating automatic summarization and machine translation software in natural language processing. The metrics compare an automatically produced summary or translation against a reference or a set of references (human-produced) summary or translation. Note that ROUGE is case insensitive, meaning that upper case letters are treated the same way as lower case letters.\n",
    "\n",
    "The evaluation is performed using the Hugging Face's implementation of ROUGE, which is a wrapper around the Google Research reimplementation of ROUGE.\n",
    "\n",
    "The `compute_rouge` function, which calculates the ROUGE scores, is located in the `utils.py` file. This file is assumed to have been imported from a GitHub repository, and you can refer to it for more insights on the implementation of the compute_rouge function.\n",
    "\n",
    "__Defining Model Names__\n",
    "\n",
    "First, we define a list of model names that we want to evaluate. In this example, we include the TextRank (baseline), BART, T5, and Pegasus models:\n",
    "`model_names = [\"TextRank (Baseline)\", \"BART\", \"T5\", \"Pegasus\"]\n",
    "`\n",
    "\n",
    "__Computing ROUGE Metrics__\n",
    "\n",
    "Next, we use the compute_rouge function to calculate the ROUGE scores for each of the models:\n",
    "`results = compute_rouge(df, model_names)\n",
    "`\n",
    "\n",
    "The compute_rouge function takes the DataFrame df and the list of model names as inputs, and returns a dictionary containing the ROUGE scores for each model.\n",
    "\n",
    "__Creating a DataFrame for Average Metrics__\n",
    "\n",
    "To better visualize and analyze the results, we can convert the results dictionary to a Pandas DataFrame:\n",
    "`avg_metrics = pd.DataFrame.from_dict(results)\n",
    "`\n",
    "\n",
    "__Displaying the Results__\n",
    "\n",
    "Finally, we display the DataFrame containing the average ROUGE metrics for each model:\n",
    "`avg_metrics.T\n",
    "`\n",
    "\n",
    "By examining the DataFrame, you can compare the performance of the different summarization models and decide which one best suits your needs."
   ]
  },
  {
   "cell_type": "code",
   "execution_count": 97,
   "metadata": {
    "id": "e9hMndoB0NNO"
   },
   "outputs": [],
   "source": [
    "model_names = [\"TextRank (Baseline)\", \"BART\", \"T5\", \"Pegasus\"]\n",
    "results = compute_rouge(df, model_names)"
   ]
  },
  {
   "cell_type": "code",
   "execution_count": 98,
   "metadata": {
    "id": "xvEOhIzcrQfp"
   },
   "outputs": [],
   "source": [
    "results_bleu = compute_bleu(df, model_names)"
   ]
  },
  {
   "cell_type": "code",
   "execution_count": 99,
   "metadata": {
    "id": "_dMrhnjz0_3g"
   },
   "outputs": [],
   "source": [
    "avg_metrics = pd.DataFrame.from_dict(results)\n",
    "avg_metrics = avg_metrics.T"
   ]
  },
  {
   "cell_type": "code",
   "execution_count": 100,
   "metadata": {
    "colab": {
     "base_uri": "https://localhost:8080/",
     "height": 175
    },
    "id": "O8Ud9zok5Di9",
    "outputId": "4b2e2d69-1ea9-4a86-dc8a-61ba9e04c2bd"
   },
   "outputs": [
    {
     "data": {
      "text/html": [
       "\n",
       "  <div id=\"df-3ec33e09-7cc2-4b06-83b5-dab97a4025ca\" class=\"colab-df-container\">\n",
       "    <div>\n",
       "<style scoped>\n",
       "    .dataframe tbody tr th:only-of-type {\n",
       "        vertical-align: middle;\n",
       "    }\n",
       "\n",
       "    .dataframe tbody tr th {\n",
       "        vertical-align: top;\n",
       "    }\n",
       "\n",
       "    .dataframe thead th {\n",
       "        text-align: right;\n",
       "    }\n",
       "</style>\n",
       "<table border=\"1\" class=\"dataframe\">\n",
       "  <thead>\n",
       "    <tr style=\"text-align: right;\">\n",
       "      <th></th>\n",
       "      <th>rouge1</th>\n",
       "      <th>rouge2</th>\n",
       "      <th>rougeL</th>\n",
       "      <th>rougeLsum</th>\n",
       "    </tr>\n",
       "  </thead>\n",
       "  <tbody>\n",
       "    <tr>\n",
       "      <th>TextRank (Baseline)</th>\n",
       "      <td>0.450525</td>\n",
       "      <td>0.200710</td>\n",
       "      <td>0.246021</td>\n",
       "      <td>0.370348</td>\n",
       "    </tr>\n",
       "    <tr>\n",
       "      <th>BART</th>\n",
       "      <td>0.449934</td>\n",
       "      <td>0.206406</td>\n",
       "      <td>0.232390</td>\n",
       "      <td>0.311584</td>\n",
       "    </tr>\n",
       "    <tr>\n",
       "      <th>T5</th>\n",
       "      <td>0.475323</td>\n",
       "      <td>0.212825</td>\n",
       "      <td>0.238760</td>\n",
       "      <td>0.321936</td>\n",
       "    </tr>\n",
       "    <tr>\n",
       "      <th>Pegasus</th>\n",
       "      <td>0.440725</td>\n",
       "      <td>0.192450</td>\n",
       "      <td>0.222895</td>\n",
       "      <td>0.307402</td>\n",
       "    </tr>\n",
       "  </tbody>\n",
       "</table>\n",
       "</div>\n",
       "    <div class=\"colab-df-buttons\">\n",
       "\n",
       "  <div class=\"colab-df-container\">\n",
       "    <button class=\"colab-df-convert\" onclick=\"convertToInteractive('df-3ec33e09-7cc2-4b06-83b5-dab97a4025ca')\"\n",
       "            title=\"Convert this dataframe to an interactive table.\"\n",
       "            style=\"display:none;\">\n",
       "\n",
       "  <svg xmlns=\"http://www.w3.org/2000/svg\" height=\"24px\" viewBox=\"0 -960 960 960\">\n",
       "    <path d=\"M120-120v-720h720v720H120Zm60-500h600v-160H180v160Zm220 220h160v-160H400v160Zm0 220h160v-160H400v160ZM180-400h160v-160H180v160Zm440 0h160v-160H620v160ZM180-180h160v-160H180v160Zm440 0h160v-160H620v160Z\"/>\n",
       "  </svg>\n",
       "    </button>\n",
       "\n",
       "  <style>\n",
       "    .colab-df-container {\n",
       "      display:flex;\n",
       "      gap: 12px;\n",
       "    }\n",
       "\n",
       "    .colab-df-convert {\n",
       "      background-color: #E8F0FE;\n",
       "      border: none;\n",
       "      border-radius: 50%;\n",
       "      cursor: pointer;\n",
       "      display: none;\n",
       "      fill: #1967D2;\n",
       "      height: 32px;\n",
       "      padding: 0 0 0 0;\n",
       "      width: 32px;\n",
       "    }\n",
       "\n",
       "    .colab-df-convert:hover {\n",
       "      background-color: #E2EBFA;\n",
       "      box-shadow: 0px 1px 2px rgba(60, 64, 67, 0.3), 0px 1px 3px 1px rgba(60, 64, 67, 0.15);\n",
       "      fill: #174EA6;\n",
       "    }\n",
       "\n",
       "    .colab-df-buttons div {\n",
       "      margin-bottom: 4px;\n",
       "    }\n",
       "\n",
       "    [theme=dark] .colab-df-convert {\n",
       "      background-color: #3B4455;\n",
       "      fill: #D2E3FC;\n",
       "    }\n",
       "\n",
       "    [theme=dark] .colab-df-convert:hover {\n",
       "      background-color: #434B5C;\n",
       "      box-shadow: 0px 1px 3px 1px rgba(0, 0, 0, 0.15);\n",
       "      filter: drop-shadow(0px 1px 2px rgba(0, 0, 0, 0.3));\n",
       "      fill: #FFFFFF;\n",
       "    }\n",
       "  </style>\n",
       "\n",
       "    <script>\n",
       "      const buttonEl =\n",
       "        document.querySelector('#df-3ec33e09-7cc2-4b06-83b5-dab97a4025ca button.colab-df-convert');\n",
       "      buttonEl.style.display =\n",
       "        google.colab.kernel.accessAllowed ? 'block' : 'none';\n",
       "\n",
       "      async function convertToInteractive(key) {\n",
       "        const element = document.querySelector('#df-3ec33e09-7cc2-4b06-83b5-dab97a4025ca');\n",
       "        const dataTable =\n",
       "          await google.colab.kernel.invokeFunction('convertToInteractive',\n",
       "                                                    [key], {});\n",
       "        if (!dataTable) return;\n",
       "\n",
       "        const docLinkHtml = 'Like what you see? Visit the ' +\n",
       "          '<a target=\"_blank\" href=https://colab.research.google.com/notebooks/data_table.ipynb>data table notebook</a>'\n",
       "          + ' to learn more about interactive tables.';\n",
       "        element.innerHTML = '';\n",
       "        dataTable['output_type'] = 'display_data';\n",
       "        await google.colab.output.renderOutput(dataTable, element);\n",
       "        const docLink = document.createElement('div');\n",
       "        docLink.innerHTML = docLinkHtml;\n",
       "        element.appendChild(docLink);\n",
       "      }\n",
       "    </script>\n",
       "  </div>\n",
       "\n",
       "\n",
       "<div id=\"df-ad6da6f4-fafc-46b9-ad0e-3bb6740d632c\">\n",
       "  <button class=\"colab-df-quickchart\" onclick=\"quickchart('df-ad6da6f4-fafc-46b9-ad0e-3bb6740d632c')\"\n",
       "            title=\"Suggest charts\"\n",
       "            style=\"display:none;\">\n",
       "\n",
       "<svg xmlns=\"http://www.w3.org/2000/svg\" height=\"24px\"viewBox=\"0 0 24 24\"\n",
       "     width=\"24px\">\n",
       "    <g>\n",
       "        <path d=\"M19 3H5c-1.1 0-2 .9-2 2v14c0 1.1.9 2 2 2h14c1.1 0 2-.9 2-2V5c0-1.1-.9-2-2-2zM9 17H7v-7h2v7zm4 0h-2V7h2v10zm4 0h-2v-4h2v4z\"/>\n",
       "    </g>\n",
       "</svg>\n",
       "  </button>\n",
       "\n",
       "<style>\n",
       "  .colab-df-quickchart {\n",
       "      --bg-color: #E8F0FE;\n",
       "      --fill-color: #1967D2;\n",
       "      --hover-bg-color: #E2EBFA;\n",
       "      --hover-fill-color: #174EA6;\n",
       "      --disabled-fill-color: #AAA;\n",
       "      --disabled-bg-color: #DDD;\n",
       "  }\n",
       "\n",
       "  [theme=dark] .colab-df-quickchart {\n",
       "      --bg-color: #3B4455;\n",
       "      --fill-color: #D2E3FC;\n",
       "      --hover-bg-color: #434B5C;\n",
       "      --hover-fill-color: #FFFFFF;\n",
       "      --disabled-bg-color: #3B4455;\n",
       "      --disabled-fill-color: #666;\n",
       "  }\n",
       "\n",
       "  .colab-df-quickchart {\n",
       "    background-color: var(--bg-color);\n",
       "    border: none;\n",
       "    border-radius: 50%;\n",
       "    cursor: pointer;\n",
       "    display: none;\n",
       "    fill: var(--fill-color);\n",
       "    height: 32px;\n",
       "    padding: 0;\n",
       "    width: 32px;\n",
       "  }\n",
       "\n",
       "  .colab-df-quickchart:hover {\n",
       "    background-color: var(--hover-bg-color);\n",
       "    box-shadow: 0 1px 2px rgba(60, 64, 67, 0.3), 0 1px 3px 1px rgba(60, 64, 67, 0.15);\n",
       "    fill: var(--button-hover-fill-color);\n",
       "  }\n",
       "\n",
       "  .colab-df-quickchart-complete:disabled,\n",
       "  .colab-df-quickchart-complete:disabled:hover {\n",
       "    background-color: var(--disabled-bg-color);\n",
       "    fill: var(--disabled-fill-color);\n",
       "    box-shadow: none;\n",
       "  }\n",
       "\n",
       "  .colab-df-spinner {\n",
       "    border: 2px solid var(--fill-color);\n",
       "    border-color: transparent;\n",
       "    border-bottom-color: var(--fill-color);\n",
       "    animation:\n",
       "      spin 1s steps(1) infinite;\n",
       "  }\n",
       "\n",
       "  @keyframes spin {\n",
       "    0% {\n",
       "      border-color: transparent;\n",
       "      border-bottom-color: var(--fill-color);\n",
       "      border-left-color: var(--fill-color);\n",
       "    }\n",
       "    20% {\n",
       "      border-color: transparent;\n",
       "      border-left-color: var(--fill-color);\n",
       "      border-top-color: var(--fill-color);\n",
       "    }\n",
       "    30% {\n",
       "      border-color: transparent;\n",
       "      border-left-color: var(--fill-color);\n",
       "      border-top-color: var(--fill-color);\n",
       "      border-right-color: var(--fill-color);\n",
       "    }\n",
       "    40% {\n",
       "      border-color: transparent;\n",
       "      border-right-color: var(--fill-color);\n",
       "      border-top-color: var(--fill-color);\n",
       "    }\n",
       "    60% {\n",
       "      border-color: transparent;\n",
       "      border-right-color: var(--fill-color);\n",
       "    }\n",
       "    80% {\n",
       "      border-color: transparent;\n",
       "      border-right-color: var(--fill-color);\n",
       "      border-bottom-color: var(--fill-color);\n",
       "    }\n",
       "    90% {\n",
       "      border-color: transparent;\n",
       "      border-bottom-color: var(--fill-color);\n",
       "    }\n",
       "  }\n",
       "</style>\n",
       "\n",
       "  <script>\n",
       "    async function quickchart(key) {\n",
       "      const quickchartButtonEl =\n",
       "        document.querySelector('#' + key + ' button');\n",
       "      quickchartButtonEl.disabled = true;  // To prevent multiple clicks.\n",
       "      quickchartButtonEl.classList.add('colab-df-spinner');\n",
       "      try {\n",
       "        const charts = await google.colab.kernel.invokeFunction(\n",
       "            'suggestCharts', [key], {});\n",
       "      } catch (error) {\n",
       "        console.error('Error during call to suggestCharts:', error);\n",
       "      }\n",
       "      quickchartButtonEl.classList.remove('colab-df-spinner');\n",
       "      quickchartButtonEl.classList.add('colab-df-quickchart-complete');\n",
       "    }\n",
       "    (() => {\n",
       "      let quickchartButtonEl =\n",
       "        document.querySelector('#df-ad6da6f4-fafc-46b9-ad0e-3bb6740d632c button');\n",
       "      quickchartButtonEl.style.display =\n",
       "        google.colab.kernel.accessAllowed ? 'block' : 'none';\n",
       "    })();\n",
       "  </script>\n",
       "</div>\n",
       "    </div>\n",
       "  </div>\n"
      ],
      "text/plain": [
       "                       rouge1    rouge2    rougeL  rougeLsum\n",
       "TextRank (Baseline)  0.450525  0.200710  0.246021   0.370348\n",
       "BART                 0.449934  0.206406  0.232390   0.311584\n",
       "T5                   0.475323  0.212825  0.238760   0.321936\n",
       "Pegasus              0.440725  0.192450  0.222895   0.307402"
      ]
     },
     "execution_count": 100,
     "metadata": {},
     "output_type": "execute_result"
    }
   ],
   "source": [
    "avg_metrics"
   ]
  },
  {
   "cell_type": "code",
   "execution_count": 101,
   "metadata": {
    "colab": {
     "base_uri": "https://localhost:8080/",
     "height": 175
    },
    "id": "2N0XbXkg5cfH",
    "outputId": "13e1f494-e20e-4ac2-8eda-8d193c823ae6"
   },
   "outputs": [
    {
     "data": {
      "text/html": [
       "\n",
       "  <div id=\"df-0b29f32e-2d7c-4704-b2c6-77d2a81809c4\" class=\"colab-df-container\">\n",
       "    <div>\n",
       "<style scoped>\n",
       "    .dataframe tbody tr th:only-of-type {\n",
       "        vertical-align: middle;\n",
       "    }\n",
       "\n",
       "    .dataframe tbody tr th {\n",
       "        vertical-align: top;\n",
       "    }\n",
       "\n",
       "    .dataframe thead th {\n",
       "        text-align: right;\n",
       "    }\n",
       "</style>\n",
       "<table border=\"1\" class=\"dataframe\">\n",
       "  <thead>\n",
       "    <tr style=\"text-align: right;\">\n",
       "      <th></th>\n",
       "      <th>google_bleu</th>\n",
       "    </tr>\n",
       "  </thead>\n",
       "  <tbody>\n",
       "    <tr>\n",
       "      <th>TextRank (Baseline)</th>\n",
       "      <td>0.184799</td>\n",
       "    </tr>\n",
       "    <tr>\n",
       "      <th>BART</th>\n",
       "      <td>0.166654</td>\n",
       "    </tr>\n",
       "    <tr>\n",
       "      <th>T5</th>\n",
       "      <td>0.170961</td>\n",
       "    </tr>\n",
       "    <tr>\n",
       "      <th>Pegasus</th>\n",
       "      <td>0.154844</td>\n",
       "    </tr>\n",
       "  </tbody>\n",
       "</table>\n",
       "</div>\n",
       "    <div class=\"colab-df-buttons\">\n",
       "\n",
       "  <div class=\"colab-df-container\">\n",
       "    <button class=\"colab-df-convert\" onclick=\"convertToInteractive('df-0b29f32e-2d7c-4704-b2c6-77d2a81809c4')\"\n",
       "            title=\"Convert this dataframe to an interactive table.\"\n",
       "            style=\"display:none;\">\n",
       "\n",
       "  <svg xmlns=\"http://www.w3.org/2000/svg\" height=\"24px\" viewBox=\"0 -960 960 960\">\n",
       "    <path d=\"M120-120v-720h720v720H120Zm60-500h600v-160H180v160Zm220 220h160v-160H400v160Zm0 220h160v-160H400v160ZM180-400h160v-160H180v160Zm440 0h160v-160H620v160ZM180-180h160v-160H180v160Zm440 0h160v-160H620v160Z\"/>\n",
       "  </svg>\n",
       "    </button>\n",
       "\n",
       "  <style>\n",
       "    .colab-df-container {\n",
       "      display:flex;\n",
       "      gap: 12px;\n",
       "    }\n",
       "\n",
       "    .colab-df-convert {\n",
       "      background-color: #E8F0FE;\n",
       "      border: none;\n",
       "      border-radius: 50%;\n",
       "      cursor: pointer;\n",
       "      display: none;\n",
       "      fill: #1967D2;\n",
       "      height: 32px;\n",
       "      padding: 0 0 0 0;\n",
       "      width: 32px;\n",
       "    }\n",
       "\n",
       "    .colab-df-convert:hover {\n",
       "      background-color: #E2EBFA;\n",
       "      box-shadow: 0px 1px 2px rgba(60, 64, 67, 0.3), 0px 1px 3px 1px rgba(60, 64, 67, 0.15);\n",
       "      fill: #174EA6;\n",
       "    }\n",
       "\n",
       "    .colab-df-buttons div {\n",
       "      margin-bottom: 4px;\n",
       "    }\n",
       "\n",
       "    [theme=dark] .colab-df-convert {\n",
       "      background-color: #3B4455;\n",
       "      fill: #D2E3FC;\n",
       "    }\n",
       "\n",
       "    [theme=dark] .colab-df-convert:hover {\n",
       "      background-color: #434B5C;\n",
       "      box-shadow: 0px 1px 3px 1px rgba(0, 0, 0, 0.15);\n",
       "      filter: drop-shadow(0px 1px 2px rgba(0, 0, 0, 0.3));\n",
       "      fill: #FFFFFF;\n",
       "    }\n",
       "  </style>\n",
       "\n",
       "    <script>\n",
       "      const buttonEl =\n",
       "        document.querySelector('#df-0b29f32e-2d7c-4704-b2c6-77d2a81809c4 button.colab-df-convert');\n",
       "      buttonEl.style.display =\n",
       "        google.colab.kernel.accessAllowed ? 'block' : 'none';\n",
       "\n",
       "      async function convertToInteractive(key) {\n",
       "        const element = document.querySelector('#df-0b29f32e-2d7c-4704-b2c6-77d2a81809c4');\n",
       "        const dataTable =\n",
       "          await google.colab.kernel.invokeFunction('convertToInteractive',\n",
       "                                                    [key], {});\n",
       "        if (!dataTable) return;\n",
       "\n",
       "        const docLinkHtml = 'Like what you see? Visit the ' +\n",
       "          '<a target=\"_blank\" href=https://colab.research.google.com/notebooks/data_table.ipynb>data table notebook</a>'\n",
       "          + ' to learn more about interactive tables.';\n",
       "        element.innerHTML = '';\n",
       "        dataTable['output_type'] = 'display_data';\n",
       "        await google.colab.output.renderOutput(dataTable, element);\n",
       "        const docLink = document.createElement('div');\n",
       "        docLink.innerHTML = docLinkHtml;\n",
       "        element.appendChild(docLink);\n",
       "      }\n",
       "    </script>\n",
       "  </div>\n",
       "\n",
       "\n",
       "<div id=\"df-c5b02029-aaf3-4cd1-894a-37fbeea36410\">\n",
       "  <button class=\"colab-df-quickchart\" onclick=\"quickchart('df-c5b02029-aaf3-4cd1-894a-37fbeea36410')\"\n",
       "            title=\"Suggest charts\"\n",
       "            style=\"display:none;\">\n",
       "\n",
       "<svg xmlns=\"http://www.w3.org/2000/svg\" height=\"24px\"viewBox=\"0 0 24 24\"\n",
       "     width=\"24px\">\n",
       "    <g>\n",
       "        <path d=\"M19 3H5c-1.1 0-2 .9-2 2v14c0 1.1.9 2 2 2h14c1.1 0 2-.9 2-2V5c0-1.1-.9-2-2-2zM9 17H7v-7h2v7zm4 0h-2V7h2v10zm4 0h-2v-4h2v4z\"/>\n",
       "    </g>\n",
       "</svg>\n",
       "  </button>\n",
       "\n",
       "<style>\n",
       "  .colab-df-quickchart {\n",
       "      --bg-color: #E8F0FE;\n",
       "      --fill-color: #1967D2;\n",
       "      --hover-bg-color: #E2EBFA;\n",
       "      --hover-fill-color: #174EA6;\n",
       "      --disabled-fill-color: #AAA;\n",
       "      --disabled-bg-color: #DDD;\n",
       "  }\n",
       "\n",
       "  [theme=dark] .colab-df-quickchart {\n",
       "      --bg-color: #3B4455;\n",
       "      --fill-color: #D2E3FC;\n",
       "      --hover-bg-color: #434B5C;\n",
       "      --hover-fill-color: #FFFFFF;\n",
       "      --disabled-bg-color: #3B4455;\n",
       "      --disabled-fill-color: #666;\n",
       "  }\n",
       "\n",
       "  .colab-df-quickchart {\n",
       "    background-color: var(--bg-color);\n",
       "    border: none;\n",
       "    border-radius: 50%;\n",
       "    cursor: pointer;\n",
       "    display: none;\n",
       "    fill: var(--fill-color);\n",
       "    height: 32px;\n",
       "    padding: 0;\n",
       "    width: 32px;\n",
       "  }\n",
       "\n",
       "  .colab-df-quickchart:hover {\n",
       "    background-color: var(--hover-bg-color);\n",
       "    box-shadow: 0 1px 2px rgba(60, 64, 67, 0.3), 0 1px 3px 1px rgba(60, 64, 67, 0.15);\n",
       "    fill: var(--button-hover-fill-color);\n",
       "  }\n",
       "\n",
       "  .colab-df-quickchart-complete:disabled,\n",
       "  .colab-df-quickchart-complete:disabled:hover {\n",
       "    background-color: var(--disabled-bg-color);\n",
       "    fill: var(--disabled-fill-color);\n",
       "    box-shadow: none;\n",
       "  }\n",
       "\n",
       "  .colab-df-spinner {\n",
       "    border: 2px solid var(--fill-color);\n",
       "    border-color: transparent;\n",
       "    border-bottom-color: var(--fill-color);\n",
       "    animation:\n",
       "      spin 1s steps(1) infinite;\n",
       "  }\n",
       "\n",
       "  @keyframes spin {\n",
       "    0% {\n",
       "      border-color: transparent;\n",
       "      border-bottom-color: var(--fill-color);\n",
       "      border-left-color: var(--fill-color);\n",
       "    }\n",
       "    20% {\n",
       "      border-color: transparent;\n",
       "      border-left-color: var(--fill-color);\n",
       "      border-top-color: var(--fill-color);\n",
       "    }\n",
       "    30% {\n",
       "      border-color: transparent;\n",
       "      border-left-color: var(--fill-color);\n",
       "      border-top-color: var(--fill-color);\n",
       "      border-right-color: var(--fill-color);\n",
       "    }\n",
       "    40% {\n",
       "      border-color: transparent;\n",
       "      border-right-color: var(--fill-color);\n",
       "      border-top-color: var(--fill-color);\n",
       "    }\n",
       "    60% {\n",
       "      border-color: transparent;\n",
       "      border-right-color: var(--fill-color);\n",
       "    }\n",
       "    80% {\n",
       "      border-color: transparent;\n",
       "      border-right-color: var(--fill-color);\n",
       "      border-bottom-color: var(--fill-color);\n",
       "    }\n",
       "    90% {\n",
       "      border-color: transparent;\n",
       "      border-bottom-color: var(--fill-color);\n",
       "    }\n",
       "  }\n",
       "</style>\n",
       "\n",
       "  <script>\n",
       "    async function quickchart(key) {\n",
       "      const quickchartButtonEl =\n",
       "        document.querySelector('#' + key + ' button');\n",
       "      quickchartButtonEl.disabled = true;  // To prevent multiple clicks.\n",
       "      quickchartButtonEl.classList.add('colab-df-spinner');\n",
       "      try {\n",
       "        const charts = await google.colab.kernel.invokeFunction(\n",
       "            'suggestCharts', [key], {});\n",
       "      } catch (error) {\n",
       "        console.error('Error during call to suggestCharts:', error);\n",
       "      }\n",
       "      quickchartButtonEl.classList.remove('colab-df-spinner');\n",
       "      quickchartButtonEl.classList.add('colab-df-quickchart-complete');\n",
       "    }\n",
       "    (() => {\n",
       "      let quickchartButtonEl =\n",
       "        document.querySelector('#df-c5b02029-aaf3-4cd1-894a-37fbeea36410 button');\n",
       "      quickchartButtonEl.style.display =\n",
       "        google.colab.kernel.accessAllowed ? 'block' : 'none';\n",
       "    })();\n",
       "  </script>\n",
       "</div>\n",
       "    </div>\n",
       "  </div>\n"
      ],
      "text/plain": [
       "                     google_bleu\n",
       "TextRank (Baseline)     0.184799\n",
       "BART                    0.166654\n",
       "T5                      0.170961\n",
       "Pegasus                 0.154844"
      ]
     },
     "execution_count": 101,
     "metadata": {},
     "output_type": "execute_result"
    }
   ],
   "source": [
    "df_bleu = pd.DataFrame.from_dict(results_bleu)\n",
    "df_bleu = df_bleu.T\n",
    "df_bleu"
   ]
  },
  {
   "cell_type": "code",
   "execution_count": 102,
   "metadata": {
    "colab": {
     "base_uri": "https://localhost:8080/",
     "height": 175
    },
    "id": "vVIuYW4s5qfn",
    "outputId": "070bcfce-bc2d-4007-fd5f-e72e8bc695e5"
   },
   "outputs": [
    {
     "data": {
      "text/html": [
       "\n",
       "  <div id=\"df-64f8afb2-5d32-4962-9587-fed022baebef\" class=\"colab-df-container\">\n",
       "    <div>\n",
       "<style scoped>\n",
       "    .dataframe tbody tr th:only-of-type {\n",
       "        vertical-align: middle;\n",
       "    }\n",
       "\n",
       "    .dataframe tbody tr th {\n",
       "        vertical-align: top;\n",
       "    }\n",
       "\n",
       "    .dataframe thead th {\n",
       "        text-align: right;\n",
       "    }\n",
       "</style>\n",
       "<table border=\"1\" class=\"dataframe\">\n",
       "  <thead>\n",
       "    <tr style=\"text-align: right;\">\n",
       "      <th></th>\n",
       "      <th>rouge1</th>\n",
       "      <th>rouge2</th>\n",
       "      <th>rougeL</th>\n",
       "      <th>rougeLsum</th>\n",
       "      <th>google_bleu</th>\n",
       "    </tr>\n",
       "  </thead>\n",
       "  <tbody>\n",
       "    <tr>\n",
       "      <th>TextRank (Baseline)</th>\n",
       "      <td>0.450525</td>\n",
       "      <td>0.200710</td>\n",
       "      <td>0.246021</td>\n",
       "      <td>0.370348</td>\n",
       "      <td>0.184799</td>\n",
       "    </tr>\n",
       "    <tr>\n",
       "      <th>BART</th>\n",
       "      <td>0.449934</td>\n",
       "      <td>0.206406</td>\n",
       "      <td>0.232390</td>\n",
       "      <td>0.311584</td>\n",
       "      <td>0.166654</td>\n",
       "    </tr>\n",
       "    <tr>\n",
       "      <th>T5</th>\n",
       "      <td>0.475323</td>\n",
       "      <td>0.212825</td>\n",
       "      <td>0.238760</td>\n",
       "      <td>0.321936</td>\n",
       "      <td>0.170961</td>\n",
       "    </tr>\n",
       "    <tr>\n",
       "      <th>Pegasus</th>\n",
       "      <td>0.440725</td>\n",
       "      <td>0.192450</td>\n",
       "      <td>0.222895</td>\n",
       "      <td>0.307402</td>\n",
       "      <td>0.154844</td>\n",
       "    </tr>\n",
       "  </tbody>\n",
       "</table>\n",
       "</div>\n",
       "    <div class=\"colab-df-buttons\">\n",
       "\n",
       "  <div class=\"colab-df-container\">\n",
       "    <button class=\"colab-df-convert\" onclick=\"convertToInteractive('df-64f8afb2-5d32-4962-9587-fed022baebef')\"\n",
       "            title=\"Convert this dataframe to an interactive table.\"\n",
       "            style=\"display:none;\">\n",
       "\n",
       "  <svg xmlns=\"http://www.w3.org/2000/svg\" height=\"24px\" viewBox=\"0 -960 960 960\">\n",
       "    <path d=\"M120-120v-720h720v720H120Zm60-500h600v-160H180v160Zm220 220h160v-160H400v160Zm0 220h160v-160H400v160ZM180-400h160v-160H180v160Zm440 0h160v-160H620v160ZM180-180h160v-160H180v160Zm440 0h160v-160H620v160Z\"/>\n",
       "  </svg>\n",
       "    </button>\n",
       "\n",
       "  <style>\n",
       "    .colab-df-container {\n",
       "      display:flex;\n",
       "      gap: 12px;\n",
       "    }\n",
       "\n",
       "    .colab-df-convert {\n",
       "      background-color: #E8F0FE;\n",
       "      border: none;\n",
       "      border-radius: 50%;\n",
       "      cursor: pointer;\n",
       "      display: none;\n",
       "      fill: #1967D2;\n",
       "      height: 32px;\n",
       "      padding: 0 0 0 0;\n",
       "      width: 32px;\n",
       "    }\n",
       "\n",
       "    .colab-df-convert:hover {\n",
       "      background-color: #E2EBFA;\n",
       "      box-shadow: 0px 1px 2px rgba(60, 64, 67, 0.3), 0px 1px 3px 1px rgba(60, 64, 67, 0.15);\n",
       "      fill: #174EA6;\n",
       "    }\n",
       "\n",
       "    .colab-df-buttons div {\n",
       "      margin-bottom: 4px;\n",
       "    }\n",
       "\n",
       "    [theme=dark] .colab-df-convert {\n",
       "      background-color: #3B4455;\n",
       "      fill: #D2E3FC;\n",
       "    }\n",
       "\n",
       "    [theme=dark] .colab-df-convert:hover {\n",
       "      background-color: #434B5C;\n",
       "      box-shadow: 0px 1px 3px 1px rgba(0, 0, 0, 0.15);\n",
       "      filter: drop-shadow(0px 1px 2px rgba(0, 0, 0, 0.3));\n",
       "      fill: #FFFFFF;\n",
       "    }\n",
       "  </style>\n",
       "\n",
       "    <script>\n",
       "      const buttonEl =\n",
       "        document.querySelector('#df-64f8afb2-5d32-4962-9587-fed022baebef button.colab-df-convert');\n",
       "      buttonEl.style.display =\n",
       "        google.colab.kernel.accessAllowed ? 'block' : 'none';\n",
       "\n",
       "      async function convertToInteractive(key) {\n",
       "        const element = document.querySelector('#df-64f8afb2-5d32-4962-9587-fed022baebef');\n",
       "        const dataTable =\n",
       "          await google.colab.kernel.invokeFunction('convertToInteractive',\n",
       "                                                    [key], {});\n",
       "        if (!dataTable) return;\n",
       "\n",
       "        const docLinkHtml = 'Like what you see? Visit the ' +\n",
       "          '<a target=\"_blank\" href=https://colab.research.google.com/notebooks/data_table.ipynb>data table notebook</a>'\n",
       "          + ' to learn more about interactive tables.';\n",
       "        element.innerHTML = '';\n",
       "        dataTable['output_type'] = 'display_data';\n",
       "        await google.colab.output.renderOutput(dataTable, element);\n",
       "        const docLink = document.createElement('div');\n",
       "        docLink.innerHTML = docLinkHtml;\n",
       "        element.appendChild(docLink);\n",
       "      }\n",
       "    </script>\n",
       "  </div>\n",
       "\n",
       "\n",
       "<div id=\"df-a2678ee5-9855-48cf-9528-95d47a00142d\">\n",
       "  <button class=\"colab-df-quickchart\" onclick=\"quickchart('df-a2678ee5-9855-48cf-9528-95d47a00142d')\"\n",
       "            title=\"Suggest charts\"\n",
       "            style=\"display:none;\">\n",
       "\n",
       "<svg xmlns=\"http://www.w3.org/2000/svg\" height=\"24px\"viewBox=\"0 0 24 24\"\n",
       "     width=\"24px\">\n",
       "    <g>\n",
       "        <path d=\"M19 3H5c-1.1 0-2 .9-2 2v14c0 1.1.9 2 2 2h14c1.1 0 2-.9 2-2V5c0-1.1-.9-2-2-2zM9 17H7v-7h2v7zm4 0h-2V7h2v10zm4 0h-2v-4h2v4z\"/>\n",
       "    </g>\n",
       "</svg>\n",
       "  </button>\n",
       "\n",
       "<style>\n",
       "  .colab-df-quickchart {\n",
       "      --bg-color: #E8F0FE;\n",
       "      --fill-color: #1967D2;\n",
       "      --hover-bg-color: #E2EBFA;\n",
       "      --hover-fill-color: #174EA6;\n",
       "      --disabled-fill-color: #AAA;\n",
       "      --disabled-bg-color: #DDD;\n",
       "  }\n",
       "\n",
       "  [theme=dark] .colab-df-quickchart {\n",
       "      --bg-color: #3B4455;\n",
       "      --fill-color: #D2E3FC;\n",
       "      --hover-bg-color: #434B5C;\n",
       "      --hover-fill-color: #FFFFFF;\n",
       "      --disabled-bg-color: #3B4455;\n",
       "      --disabled-fill-color: #666;\n",
       "  }\n",
       "\n",
       "  .colab-df-quickchart {\n",
       "    background-color: var(--bg-color);\n",
       "    border: none;\n",
       "    border-radius: 50%;\n",
       "    cursor: pointer;\n",
       "    display: none;\n",
       "    fill: var(--fill-color);\n",
       "    height: 32px;\n",
       "    padding: 0;\n",
       "    width: 32px;\n",
       "  }\n",
       "\n",
       "  .colab-df-quickchart:hover {\n",
       "    background-color: var(--hover-bg-color);\n",
       "    box-shadow: 0 1px 2px rgba(60, 64, 67, 0.3), 0 1px 3px 1px rgba(60, 64, 67, 0.15);\n",
       "    fill: var(--button-hover-fill-color);\n",
       "  }\n",
       "\n",
       "  .colab-df-quickchart-complete:disabled,\n",
       "  .colab-df-quickchart-complete:disabled:hover {\n",
       "    background-color: var(--disabled-bg-color);\n",
       "    fill: var(--disabled-fill-color);\n",
       "    box-shadow: none;\n",
       "  }\n",
       "\n",
       "  .colab-df-spinner {\n",
       "    border: 2px solid var(--fill-color);\n",
       "    border-color: transparent;\n",
       "    border-bottom-color: var(--fill-color);\n",
       "    animation:\n",
       "      spin 1s steps(1) infinite;\n",
       "  }\n",
       "\n",
       "  @keyframes spin {\n",
       "    0% {\n",
       "      border-color: transparent;\n",
       "      border-bottom-color: var(--fill-color);\n",
       "      border-left-color: var(--fill-color);\n",
       "    }\n",
       "    20% {\n",
       "      border-color: transparent;\n",
       "      border-left-color: var(--fill-color);\n",
       "      border-top-color: var(--fill-color);\n",
       "    }\n",
       "    30% {\n",
       "      border-color: transparent;\n",
       "      border-left-color: var(--fill-color);\n",
       "      border-top-color: var(--fill-color);\n",
       "      border-right-color: var(--fill-color);\n",
       "    }\n",
       "    40% {\n",
       "      border-color: transparent;\n",
       "      border-right-color: var(--fill-color);\n",
       "      border-top-color: var(--fill-color);\n",
       "    }\n",
       "    60% {\n",
       "      border-color: transparent;\n",
       "      border-right-color: var(--fill-color);\n",
       "    }\n",
       "    80% {\n",
       "      border-color: transparent;\n",
       "      border-right-color: var(--fill-color);\n",
       "      border-bottom-color: var(--fill-color);\n",
       "    }\n",
       "    90% {\n",
       "      border-color: transparent;\n",
       "      border-bottom-color: var(--fill-color);\n",
       "    }\n",
       "  }\n",
       "</style>\n",
       "\n",
       "  <script>\n",
       "    async function quickchart(key) {\n",
       "      const quickchartButtonEl =\n",
       "        document.querySelector('#' + key + ' button');\n",
       "      quickchartButtonEl.disabled = true;  // To prevent multiple clicks.\n",
       "      quickchartButtonEl.classList.add('colab-df-spinner');\n",
       "      try {\n",
       "        const charts = await google.colab.kernel.invokeFunction(\n",
       "            'suggestCharts', [key], {});\n",
       "      } catch (error) {\n",
       "        console.error('Error during call to suggestCharts:', error);\n",
       "      }\n",
       "      quickchartButtonEl.classList.remove('colab-df-spinner');\n",
       "      quickchartButtonEl.classList.add('colab-df-quickchart-complete');\n",
       "    }\n",
       "    (() => {\n",
       "      let quickchartButtonEl =\n",
       "        document.querySelector('#df-a2678ee5-9855-48cf-9528-95d47a00142d button');\n",
       "      quickchartButtonEl.style.display =\n",
       "        google.colab.kernel.accessAllowed ? 'block' : 'none';\n",
       "    })();\n",
       "  </script>\n",
       "</div>\n",
       "    </div>\n",
       "  </div>\n"
      ],
      "text/plain": [
       "                       rouge1    rouge2    rougeL  rougeLsum  google_bleu\n",
       "TextRank (Baseline)  0.450525  0.200710  0.246021   0.370348     0.184799\n",
       "BART                 0.449934  0.206406  0.232390   0.311584     0.166654\n",
       "T5                   0.475323  0.212825  0.238760   0.321936     0.170961\n",
       "Pegasus              0.440725  0.192450  0.222895   0.307402     0.154844"
      ]
     },
     "execution_count": 102,
     "metadata": {},
     "output_type": "execute_result"
    }
   ],
   "source": [
    "pd.concat([avg_metrics, df_bleu], axis=1)"
   ]
  },
  {
   "cell_type": "code",
   "execution_count": 102,
   "metadata": {
    "id": "d4BUFDSY5-tH"
   },
   "outputs": [],
   "source": []
  }
 ],
 "metadata": {
  "accelerator": "GPU",
  "colab": {
   "history_visible": true,
   "machine_shape": "hm",
   "provenance": [],
   "toc_visible": true
  },
  "gpuClass": "standard",
  "kernelspec": {
   "display_name": "Python 3 (ipykernel)",
   "language": "python",
   "name": "python3"
  },
  "language_info": {
   "codemirror_mode": {
    "name": "ipython",
    "version": 3
   },
   "file_extension": ".py",
   "mimetype": "text/x-python",
   "name": "python",
   "nbconvert_exporter": "python",
   "pygments_lexer": "ipython3",
   "version": "3.10.12"
  },
  "widgets": {
   "application/vnd.jupyter.widget-state+json": {
    "0458f06434d0423292f3e900a7644085": {
     "model_module": "@jupyter-widgets/controls",
     "model_module_version": "1.5.0",
     "model_name": "FloatProgressModel",
     "state": {
      "_dom_classes": [],
      "_model_module": "@jupyter-widgets/controls",
      "_model_module_version": "1.5.0",
      "_model_name": "FloatProgressModel",
      "_view_count": null,
      "_view_module": "@jupyter-widgets/controls",
      "_view_module_version": "1.5.0",
      "_view_name": "ProgressView",
      "bar_style": "success",
      "description": "",
      "description_tooltip": null,
      "layout": "IPY_MODEL_46689cccec994c6d95245b29788ce71b",
      "max": 3,
      "min": 0,
      "orientation": "horizontal",
      "style": "IPY_MODEL_33ac1be49fb645e9812e709c2ce7496e",
      "value": 3
     }
    },
    "2258216fed674b5c994f6a7614a806c5": {
     "model_module": "@jupyter-widgets/base",
     "model_module_version": "1.2.0",
     "model_name": "LayoutModel",
     "state": {
      "_model_module": "@jupyter-widgets/base",
      "_model_module_version": "1.2.0",
      "_model_name": "LayoutModel",
      "_view_count": null,
      "_view_module": "@jupyter-widgets/base",
      "_view_module_version": "1.2.0",
      "_view_name": "LayoutView",
      "align_content": null,
      "align_items": null,
      "align_self": null,
      "border": null,
      "bottom": null,
      "display": null,
      "flex": null,
      "flex_flow": null,
      "grid_area": null,
      "grid_auto_columns": null,
      "grid_auto_flow": null,
      "grid_auto_rows": null,
      "grid_column": null,
      "grid_gap": null,
      "grid_row": null,
      "grid_template_areas": null,
      "grid_template_columns": null,
      "grid_template_rows": null,
      "height": null,
      "justify_content": null,
      "justify_items": null,
      "left": null,
      "margin": null,
      "max_height": null,
      "max_width": null,
      "min_height": null,
      "min_width": null,
      "object_fit": null,
      "object_position": null,
      "order": null,
      "overflow": null,
      "overflow_x": null,
      "overflow_y": null,
      "padding": null,
      "right": null,
      "top": null,
      "visibility": null,
      "width": null
     }
    },
    "33ac1be49fb645e9812e709c2ce7496e": {
     "model_module": "@jupyter-widgets/controls",
     "model_module_version": "1.5.0",
     "model_name": "ProgressStyleModel",
     "state": {
      "_model_module": "@jupyter-widgets/controls",
      "_model_module_version": "1.5.0",
      "_model_name": "ProgressStyleModel",
      "_view_count": null,
      "_view_module": "@jupyter-widgets/base",
      "_view_module_version": "1.2.0",
      "_view_name": "StyleView",
      "bar_color": null,
      "description_width": ""
     }
    },
    "4193d4a9d30f483a9ac7e7de2321659c": {
     "model_module": "@jupyter-widgets/controls",
     "model_module_version": "1.5.0",
     "model_name": "HTMLModel",
     "state": {
      "_dom_classes": [],
      "_model_module": "@jupyter-widgets/controls",
      "_model_module_version": "1.5.0",
      "_model_name": "HTMLModel",
      "_view_count": null,
      "_view_module": "@jupyter-widgets/controls",
      "_view_module_version": "1.5.0",
      "_view_name": "HTMLView",
      "description": "",
      "description_tooltip": null,
      "layout": "IPY_MODEL_a5ab9bf1cd9d4982a7114f1ebb64c604",
      "placeholder": "​",
      "style": "IPY_MODEL_e1a62d96648f431baff1d4539f68bd0d",
      "value": "100%"
     }
    },
    "46689cccec994c6d95245b29788ce71b": {
     "model_module": "@jupyter-widgets/base",
     "model_module_version": "1.2.0",
     "model_name": "LayoutModel",
     "state": {
      "_model_module": "@jupyter-widgets/base",
      "_model_module_version": "1.2.0",
      "_model_name": "LayoutModel",
      "_view_count": null,
      "_view_module": "@jupyter-widgets/base",
      "_view_module_version": "1.2.0",
      "_view_name": "LayoutView",
      "align_content": null,
      "align_items": null,
      "align_self": null,
      "border": null,
      "bottom": null,
      "display": null,
      "flex": null,
      "flex_flow": null,
      "grid_area": null,
      "grid_auto_columns": null,
      "grid_auto_flow": null,
      "grid_auto_rows": null,
      "grid_column": null,
      "grid_gap": null,
      "grid_row": null,
      "grid_template_areas": null,
      "grid_template_columns": null,
      "grid_template_rows": null,
      "height": null,
      "justify_content": null,
      "justify_items": null,
      "left": null,
      "margin": null,
      "max_height": null,
      "max_width": null,
      "min_height": null,
      "min_width": null,
      "object_fit": null,
      "object_position": null,
      "order": null,
      "overflow": null,
      "overflow_x": null,
      "overflow_y": null,
      "padding": null,
      "right": null,
      "top": null,
      "visibility": null,
      "width": null
     }
    },
    "5edcc604831b42dcb9c20b81a7aae44f": {
     "model_module": "@jupyter-widgets/base",
     "model_module_version": "1.2.0",
     "model_name": "LayoutModel",
     "state": {
      "_model_module": "@jupyter-widgets/base",
      "_model_module_version": "1.2.0",
      "_model_name": "LayoutModel",
      "_view_count": null,
      "_view_module": "@jupyter-widgets/base",
      "_view_module_version": "1.2.0",
      "_view_name": "LayoutView",
      "align_content": null,
      "align_items": null,
      "align_self": null,
      "border": null,
      "bottom": null,
      "display": null,
      "flex": null,
      "flex_flow": null,
      "grid_area": null,
      "grid_auto_columns": null,
      "grid_auto_flow": null,
      "grid_auto_rows": null,
      "grid_column": null,
      "grid_gap": null,
      "grid_row": null,
      "grid_template_areas": null,
      "grid_template_columns": null,
      "grid_template_rows": null,
      "height": null,
      "justify_content": null,
      "justify_items": null,
      "left": null,
      "margin": null,
      "max_height": null,
      "max_width": null,
      "min_height": null,
      "min_width": null,
      "object_fit": null,
      "object_position": null,
      "order": null,
      "overflow": null,
      "overflow_x": null,
      "overflow_y": null,
      "padding": null,
      "right": null,
      "top": null,
      "visibility": null,
      "width": null
     }
    },
    "95636e27788a42bb956277754119de3c": {
     "model_module": "@jupyter-widgets/controls",
     "model_module_version": "1.5.0",
     "model_name": "HBoxModel",
     "state": {
      "_dom_classes": [],
      "_model_module": "@jupyter-widgets/controls",
      "_model_module_version": "1.5.0",
      "_model_name": "HBoxModel",
      "_view_count": null,
      "_view_module": "@jupyter-widgets/controls",
      "_view_module_version": "1.5.0",
      "_view_name": "HBoxView",
      "box_style": "",
      "children": [
       "IPY_MODEL_4193d4a9d30f483a9ac7e7de2321659c",
       "IPY_MODEL_0458f06434d0423292f3e900a7644085",
       "IPY_MODEL_f12c83e5682747f99fe9d201d9a91df1"
      ],
      "layout": "IPY_MODEL_2258216fed674b5c994f6a7614a806c5"
     }
    },
    "a5ab9bf1cd9d4982a7114f1ebb64c604": {
     "model_module": "@jupyter-widgets/base",
     "model_module_version": "1.2.0",
     "model_name": "LayoutModel",
     "state": {
      "_model_module": "@jupyter-widgets/base",
      "_model_module_version": "1.2.0",
      "_model_name": "LayoutModel",
      "_view_count": null,
      "_view_module": "@jupyter-widgets/base",
      "_view_module_version": "1.2.0",
      "_view_name": "LayoutView",
      "align_content": null,
      "align_items": null,
      "align_self": null,
      "border": null,
      "bottom": null,
      "display": null,
      "flex": null,
      "flex_flow": null,
      "grid_area": null,
      "grid_auto_columns": null,
      "grid_auto_flow": null,
      "grid_auto_rows": null,
      "grid_column": null,
      "grid_gap": null,
      "grid_row": null,
      "grid_template_areas": null,
      "grid_template_columns": null,
      "grid_template_rows": null,
      "height": null,
      "justify_content": null,
      "justify_items": null,
      "left": null,
      "margin": null,
      "max_height": null,
      "max_width": null,
      "min_height": null,
      "min_width": null,
      "object_fit": null,
      "object_position": null,
      "order": null,
      "overflow": null,
      "overflow_x": null,
      "overflow_y": null,
      "padding": null,
      "right": null,
      "top": null,
      "visibility": null,
      "width": null
     }
    },
    "e1a62d96648f431baff1d4539f68bd0d": {
     "model_module": "@jupyter-widgets/controls",
     "model_module_version": "1.5.0",
     "model_name": "DescriptionStyleModel",
     "state": {
      "_model_module": "@jupyter-widgets/controls",
      "_model_module_version": "1.5.0",
      "_model_name": "DescriptionStyleModel",
      "_view_count": null,
      "_view_module": "@jupyter-widgets/base",
      "_view_module_version": "1.2.0",
      "_view_name": "StyleView",
      "description_width": ""
     }
    },
    "ec30904800c447149397063ae62c4057": {
     "model_module": "@jupyter-widgets/controls",
     "model_module_version": "1.5.0",
     "model_name": "DescriptionStyleModel",
     "state": {
      "_model_module": "@jupyter-widgets/controls",
      "_model_module_version": "1.5.0",
      "_model_name": "DescriptionStyleModel",
      "_view_count": null,
      "_view_module": "@jupyter-widgets/base",
      "_view_module_version": "1.2.0",
      "_view_name": "StyleView",
      "description_width": ""
     }
    },
    "f12c83e5682747f99fe9d201d9a91df1": {
     "model_module": "@jupyter-widgets/controls",
     "model_module_version": "1.5.0",
     "model_name": "HTMLModel",
     "state": {
      "_dom_classes": [],
      "_model_module": "@jupyter-widgets/controls",
      "_model_module_version": "1.5.0",
      "_model_name": "HTMLModel",
      "_view_count": null,
      "_view_module": "@jupyter-widgets/controls",
      "_view_module_version": "1.5.0",
      "_view_name": "HTMLView",
      "description": "",
      "description_tooltip": null,
      "layout": "IPY_MODEL_5edcc604831b42dcb9c20b81a7aae44f",
      "placeholder": "​",
      "style": "IPY_MODEL_ec30904800c447149397063ae62c4057",
      "value": " 3/3 [00:00&lt;00:00, 176.12it/s]"
     }
    }
   }
  }
 },
 "nbformat": 4,
 "nbformat_minor": 4
}
