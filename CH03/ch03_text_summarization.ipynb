{
  "cells": [
    {
      "cell_type": "markdown",
      "source": [
        "## Open notebook in:\n",
        "| Colab                                 |  Gradient                                                                                                                                         |\n",
        "|:-------------------------------------------------------------------------------------------------------------------------------------------------------------------------------------------------------------------|:-----------------------------------------------------------------------------------------------------------------------------------------------------------------------------------------------------------------------|\n",
        "[![Open In Colab](https://colab.research.google.com/assets/colab-badge.svg)](https://colab.research.google.com/github/Nicolepcx/Transformers-in-Action/blob/main/CH03/ch03_text_summarization.ipynb)                                              | [![Gradient](https://assets.paperspace.io/img/gradient-badge.svg)](https://console.paperspace.com/github/Nicolepcx/Transformers-in-Action/blob/main/CH03/ch03_text_summarization.ipynb)|             "
      ],
      "metadata": {
        "id": "5cO680Zol59t"
      }
    },
    {
      "cell_type": "markdown",
      "source": [
        "# Download repo"
      ],
      "metadata": {
        "id": "1vnhHxCRlHRs"
      }
    },
    {
      "cell_type": "code",
      "source": [
        "# Clone repo, if it's not already cloned, to be sure all runs on smoothly\n",
        "# on Colab, Kaggle or Paperspace\n",
        "import os\n",
        "\n",
        "if not os.path.isdir('Transformers-in-Action'):\n",
        "    !git clone https://github.com/Nicolepcx/Transformers-in-Action.git\n",
        "else:\n",
        "    print('Repository already exists. Skipping clone.')\n",
        "\n",
        "\n",
        "current_path = %pwd\n",
        "if '/Transformers-in-Action' in current_path:\n",
        "    new_path = current_path + '/utils'\n",
        "else:\n",
        "    new_path = current_path + '/Transformers-in-Action/utils'\n",
        "%cd $new_path"
      ],
      "metadata": {
        "colab": {
          "base_uri": "https://localhost:8080/"
        },
        "id": "TwX2FgaHT9Kd",
        "outputId": "f14af33b-e7c7-4ccf-9244-7e7d9c0dca86"
      },
      "execution_count": 1,
      "outputs": [
        {
          "output_type": "stream",
          "name": "stdout",
          "text": [
            "Repository already exists. Skipping clone.\n",
            "/content/Transformers-in-Action/utils\n"
          ]
        }
      ]
    },
    {
      "cell_type": "markdown",
      "source": [
        "# About this notebook\n",
        "\n",
        "Welcome to this exciting notebook, where we dive into the world of text summarization using a variety of cutting-edge models and techniques. In this notebook, we will put several state-of-the-art Transformer-based models, including BART, T5, ProphetNet and Pegasus to the test. As a baseline, we will also explore a TextRank-based model to compare their performance. Our objective is to analyze the efficacy and suitability of these models in generating summaries for different types of datasets, such as [CNN daily](https://huggingface.co/datasets/cnn_dailymail) news articles and [arXiv scientific papers](https://huggingface.co/datasets/scientific_papers).\n",
        "To further challenge these models, we will utilize the BigBird and Longformer architectures, which are specifically designed to handle longer input sequences. This will enable us to examine the models' performance on the CNN daily and arXiv datasets, which consist of diverse content and varying text lengths.\n",
        "In this notebook, you can expect to:\n",
        "1. Gain an introduction to the various text summarization models, including their key features and limitations.\n",
        "2. Learn how to implement and utilize these models to generate summaries for different types of text.\n",
        "3. Assess the models' performance on multiple samples from the CNN daily and arXiv datasets using both ROUGE and BLEU metrics for an in-depth comparison.\n",
        "4. Understand the significance of evaluating models on a diverse set of samples to achieve a more dependable and generalizable performance evaluation.\n",
        "5. Discover the challenges associated with assessing models on complex and domain-specific datasets, and how the BigBird and Longformer architectures can help address these issues.\n",
        "\n",
        "By the end of this notebook, you will have a comprehensive understanding of various text summarization models, their performance on different datasets, and the intricacies involved in evaluating models on complex, domain-specific data. Let's embark on this fascinating journey and unlock the potential of these powerful text summarization models!"
      ],
      "metadata": {
        "id": "57Nsu3SXbEVZ"
      }
    },
    {
      "cell_type": "markdown",
      "source": [
        "# Install requirements"
      ],
      "metadata": {
        "id": "bFkkn_xslQJr"
      }
    },
    {
      "cell_type": "code",
      "source": [
        "!pip install -U tensorflow==2.12.0 -q\n",
        "!pip install -U keras==2.12.0 -q\n",
        "!pip install -U tensorflow-gcs-config==2.12.0 -q\n",
        "!pip install -U tensorflow-probability==0.20.1 -q"
      ],
      "metadata": {
        "colab": {
          "base_uri": "https://localhost:8080/"
        },
        "id": "Wd1ZzsnztYum",
        "outputId": "8d62be1f-3bc7-4c2d-e6d5-63eaaf159a25"
      },
      "execution_count": 2,
      "outputs": [
        {
          "output_type": "stream",
          "name": "stdout",
          "text": [
            "\u001b[2K     \u001b[90m━━━━━━━━━━━━━━━━━━━━━━━━━━━━━━━━━━━━━━━━\u001b[0m \u001b[32m6.9/6.9 MB\u001b[0m \u001b[31m26.7 MB/s\u001b[0m eta \u001b[36m0:00:00\u001b[0m\n",
            "\u001b[?25h"
          ]
        }
      ]
    },
    {
      "cell_type": "code",
      "source": [
        "from requirements import *"
      ],
      "metadata": {
        "id": "CJQrCNtIxt7u"
      },
      "execution_count": 3,
      "outputs": []
    },
    {
      "cell_type": "code",
      "source": [
        "install_base_packages()\n",
        "install_required_packages_ch03()"
      ],
      "metadata": {
        "colab": {
          "base_uri": "https://localhost:8080/"
        },
        "id": "iC7eYoG2nP4g",
        "outputId": "cb861a6b-d24d-40bc-c8da-b69364cff3b5"
      },
      "execution_count": 4,
      "outputs": [
        {
          "output_type": "stream",
          "name": "stdout",
          "text": [
            "\u001b[1mInstalling base requirements...\n",
            "\u001b[0m\n",
            "✅ transformers==4.26.1 installation completed successfully!\n",
            "\n",
            "✅ datasets==2.10.1 installation completed successfully!\n",
            "\n",
            "\u001b[1mInstalling chapter 3 requirements...\n",
            "\u001b[0m\n",
            "✅ summa==1.2.0 installation completed successfully!\n",
            "\n",
            "✅ evaluate==0.4.0 installation completed successfully!\n",
            "\n",
            "✅ rouge_score==0.1.2 installation completed successfully!\n",
            "\n",
            "✅ pyarrow==9.0.0 installation completed successfully!\n",
            "\n",
            "✅ sentencepiece installation completed successfully!\n",
            "\n"
          ]
        }
      ]
    },
    {
      "cell_type": "markdown",
      "source": [
        "# Imports"
      ],
      "metadata": {
        "id": "LXhy8Pu_lVcN"
      }
    },
    {
      "cell_type": "code",
      "source": [
        "from setup import *\n",
        "from utils import *\n",
        "from textrank import *"
      ],
      "metadata": {
        "colab": {
          "base_uri": "https://localhost:8080/"
        },
        "id": "73osbzDDpDkp",
        "outputId": "822dc914-5a05-4002-fb02-42d91342e450"
      },
      "execution_count": 5,
      "outputs": [
        {
          "output_type": "stream",
          "name": "stderr",
          "text": [
            "[nltk_data] Downloading package punkt to /root/nltk_data...\n",
            "[nltk_data]   Package punkt is already up-to-date!\n"
          ]
        }
      ]
    },
    {
      "cell_type": "code",
      "source": [
        "useGPU()"
      ],
      "metadata": {
        "colab": {
          "base_uri": "https://localhost:8080/"
        },
        "id": "fVN6H8w-lcz8",
        "outputId": "f1424cca-0ed4-4deb-855a-1cb6d8d7dfbf"
      },
      "execution_count": 6,
      "outputs": [
        {
          "output_type": "stream",
          "name": "stdout",
          "text": [
            "Have fun with this chapter!🥳\n"
          ]
        }
      ]
    },
    {
      "cell_type": "code",
      "execution_count": 7,
      "metadata": {
        "id": "DUwB04DBJVf3"
      },
      "outputs": [],
      "source": [
        "import pandas as pd\n",
        "import numpy as np\n",
        "from functools import partial\n",
        "\n",
        "import nltk\n",
        "from sklearn.feature_extraction.text import CountVectorizer\n",
        "from sklearn.feature_extraction.text import TfidfTransformer\n",
        "\n",
        "import networkx as nx\n",
        "\n",
        "from summa import summarizer\n",
        "from transformers import pipeline, AutoTokenizer, AutoModelForSeq2SeqLM, set_seed\n",
        "from transformers import LEDForConditionalGeneration, LEDTokenizer\n",
        "from transformers import BartConfig, BartForConditionalGeneration\n",
        "from transformers import LEDConfig, LEDForConditionalGeneration\n",
        "from transformers import BigBirdPegasusForConditionalGeneration, AutoTokenizer\n",
        "import torch\n",
        "from datasets import load_dataset\n",
        "\n",
        "from multiprocessing import Pool\n",
        "import evaluate\n",
        "from tqdm import tqdm\n",
        "\n",
        "import matplotlib.pyplot as plt\n",
        "\n",
        "from textwrap import TextWrapper\n",
        "\n",
        "set_seed(42)"
      ]
    },
    {
      "cell_type": "code",
      "source": [
        "%%capture\n",
        "!pip install watermark"
      ],
      "metadata": {
        "id": "asT29IdDC0j9"
      },
      "execution_count": 8,
      "outputs": []
    },
    {
      "cell_type": "code",
      "source": [
        "%load_ext watermark\n",
        "%watermark -a \"Nicole Koenigstein\" -gu \"Nicolepcx\" -u -d -v -m"
      ],
      "metadata": {
        "colab": {
          "base_uri": "https://localhost:8080/"
        },
        "id": "hIXQ43WNDXNP",
        "outputId": "4db05a82-fbcd-4735-afb3-76d124e4d44f"
      },
      "execution_count": 9,
      "outputs": [
        {
          "output_type": "stream",
          "name": "stdout",
          "text": [
            "Author: Nicole Koenigstein\n",
            "\n",
            "Github username: Nicolepcx\n",
            "\n",
            "Last updated: 2024-01-17\n",
            "\n",
            "Python implementation: CPython\n",
            "Python version       : 3.10.12\n",
            "IPython version      : 7.34.0\n",
            "\n",
            "Compiler    : GCC 11.4.0\n",
            "OS          : Linux\n",
            "Release     : 6.1.58+\n",
            "Machine     : x86_64\n",
            "Processor   : x86_64\n",
            "CPU cores   : 8\n",
            "Architecture: 64bit\n",
            "\n"
          ]
        }
      ]
    },
    {
      "cell_type": "markdown",
      "source": [
        "# Allocate enough RAM"
      ],
      "metadata": {
        "id": "vazshSUmPs-s"
      }
    },
    {
      "cell_type": "markdown",
      "source": [
        "Let us try to get a __GPU__ with at least __15GB RAM__ for our notebook."
      ],
      "metadata": {
        "id": "KEBmtiOeOOV5"
      }
    },
    {
      "cell_type": "code",
      "source": [
        "# crash colab to get more RAM -> uncomment to use\n",
        "# !kill -9 -1"
      ],
      "metadata": {
        "id": "dqsj2G_XOV5M"
      },
      "execution_count": 10,
      "outputs": []
    },
    {
      "cell_type": "markdown",
      "source": [
        "We can execute the following command `!free -h`  to see if we have enough RAM and `!nvidia-smi` to get more info about our GPU type we got assigned.\n",
        "If the allocated GPU is too small, the above cell can be used to run the command to crash the notebook hoping to get a better GPU after the crash, since the GPU is randomly allocated.\n"
      ],
      "metadata": {
        "id": "RMzVL7cLObmK"
      }
    },
    {
      "cell_type": "code",
      "source": [
        "!free -h"
      ],
      "metadata": {
        "colab": {
          "base_uri": "https://localhost:8080/"
        },
        "id": "NrKOwtesglSu",
        "outputId": "14048850-7230-4278-d436-c37725a9cb4b"
      },
      "execution_count": 11,
      "outputs": [
        {
          "output_type": "stream",
          "name": "stdout",
          "text": [
            "               total        used        free      shared  buff/cache   available\n",
            "Mem:            50Gi       1.3Gi        12Gi       4.0Mi        37Gi        49Gi\n",
            "Swap:             0B          0B          0B\n"
          ]
        }
      ]
    },
    {
      "cell_type": "code",
      "source": [
        "!nvidia-smi"
      ],
      "metadata": {
        "id": "LKRiHlhcOgMR",
        "colab": {
          "base_uri": "https://localhost:8080/"
        },
        "outputId": "b6da71b6-0350-4050-f0fd-420ae5e4ea91"
      },
      "execution_count": 12,
      "outputs": [
        {
          "output_type": "stream",
          "name": "stdout",
          "text": [
            "Wed Jan 17 14:00:04 2024       \n",
            "+---------------------------------------------------------------------------------------+\n",
            "| NVIDIA-SMI 535.104.05             Driver Version: 535.104.05   CUDA Version: 12.2     |\n",
            "|-----------------------------------------+----------------------+----------------------+\n",
            "| GPU  Name                 Persistence-M | Bus-Id        Disp.A | Volatile Uncorr. ECC |\n",
            "| Fan  Temp   Perf          Pwr:Usage/Cap |         Memory-Usage | GPU-Util  Compute M. |\n",
            "|                                         |                      |               MIG M. |\n",
            "|=========================================+======================+======================|\n",
            "|   0  Tesla T4                       Off | 00000000:00:04.0 Off |                    0 |\n",
            "| N/A   57C    P8              10W /  70W |      3MiB / 15360MiB |      0%      Default |\n",
            "|                                         |                      |                  N/A |\n",
            "+-----------------------------------------+----------------------+----------------------+\n",
            "                                                                                         \n",
            "+---------------------------------------------------------------------------------------+\n",
            "| Processes:                                                                            |\n",
            "|  GPU   GI   CI        PID   Type   Process name                            GPU Memory |\n",
            "|        ID   ID                                                             Usage      |\n",
            "|=======================================================================================|\n",
            "|  No running processes found                                                           |\n",
            "+---------------------------------------------------------------------------------------+\n"
          ]
        }
      ]
    },
    {
      "cell_type": "markdown",
      "source": [
        "# TextRank Algorithmus"
      ],
      "metadata": {
        "id": "p-eot4__mHKQ"
      }
    },
    {
      "cell_type": "markdown",
      "source": [
        "The custom `TextRank` class is designed to create a graph-based representation of a given text, where each node in the graph corresponds to a sentence, and the edges between nodes represent the similarity between sentences. This graph-based representation provides an intuitive way to visualize and understand the relationships among sentences in the text.\n",
        "\n",
        "Using a graph to represent text is particularly useful for tasks like text summarization, where identifying the most important and representative sentences is crucial. By representing the text as a graph, the TextRank algorithm can leverage the graph structure to rank sentences based on their importance in the overall text.\n",
        "\n",
        "TextRank is an unsupervised graph-based ranking algorithm inspired by Google's PageRank algorithm. It was first introduced in the paper [\"TextRank: Bringing Order into Texts\"](https://aclanthology.org/W04-3252/) by Mihalcea and Tarau (2004). The TextRank class in the code below constructs a graph by calculating the cosine similarity between sentences using the Bag of Words (BoW) and TF-IDF representation of the sentences. The higher the similarity, the stronger the connection between the sentences in the graph. By plotting this graph, we can visually explore the relationships among sentences and better understand the structure and organization of the text."
      ],
      "metadata": {
        "id": "Wc3oDJq2RvUT"
      }
    },
    {
      "cell_type": "code",
      "execution_count": 13,
      "metadata": {
        "id": "2oksIOZAMMbY"
      },
      "outputs": [],
      "source": [
        "# We use the first paragraph for the original Transformer paper\n",
        "# \"Attention Is All You Need\"\n",
        "text = \"Recurrent neural networks, long short-term memory [13] and gated recurrent [7] \\\n",
        "neural networks in particular, have been firmly established as state of the art approaches \\\n",
        "in sequence modeling and transduction problems such as language modeling and machine translation [35, 2, 5]. Numerous \\\n",
        "efforts have since continued to push the boundaries of recurrent language models and encoder-decoder architectures [38, 24, 15]. \\\n",
        "Recurrent models typically factor computation along the symbol positions of the input and output \\\n",
        "sequences. Aligning the positions to steps in computation time, they generate a sequence of hidden \\\n",
        "states ht, as a function of the previous hidden state ht−1 and the input for position t. This inherently \\\n",
        "sequential nature precludes parallelization within training examples, which becomes critical at longer \\\n",
        "sequence lengths, as memory constraints limit batching across examples. Recent work has achieved \\\n",
        "significant improvements in computational efficiency through factorization tricks [21] and conditional \\\n",
        "computation [32], while also improving model performance in case of the latter. The fundamental \\\n",
        "constraint of sequential computation, however, remains. \\\n",
        "Attention mechanisms have become an integral part of compelling sequence modeling and transduction models \\\n",
        "in various tasks, allowing modeling of dependencies without regard to their distance in \\\n",
        "the input or output sequences [2, 19]. In all but a few cases [27], however, such attention mechanisms \\\n",
        "are used in conjunction with a recurrent network. \\\n",
        "In this work we propose the Transformer, a model architecture eschewing recurrence and instead \\\n",
        "relying entirely on an attention mechanism to draw global dependencies between input and output. \\\n",
        "The Transformer allows for significantly more parallelization and can reach a new state of the art in \\\n",
        "translation quality after being trained for as little as twelve hours on eight P100 GPUs.\""
      ]
    },
    {
      "cell_type": "code",
      "execution_count": 14,
      "metadata": {
        "id": "LXsgaYm-UQ1v",
        "colab": {
          "base_uri": "https://localhost:8080/",
          "height": 807
        },
        "outputId": "1147dd0b-43e5-4307-e059-8c62cb8860e1"
      },
      "outputs": [
        {
          "output_type": "display_data",
          "data": {
            "text/plain": [
              "<Figure size 1000x1000 with 1 Axes>"
            ],
            "image/png": "[encoded data removed]"
          },
          "metadata": {}
        }
      ],
      "source": [
        "tr = TextRank()\n",
        "sentences = tr.split_sentences(text)\n",
        "G = tr.create_graph(sentences)\n",
        "tr.plot_graph(G)"
      ]
    },
    {
      "cell_type": "markdown",
      "source": [
        "This plot shows a circular graph where each node represents a sentence from the input text. The edges connecting the nodes represent the similarity between the sentences, which is calculated using cosine similarity based on the TF-IDF representation of the sentences.\n",
        "\n",
        "The numbers displayed on the edges are the weights of the edges, representing the cosine similarity scores between the connected sentences. These scores range from 0 to 1, where 0 indicates no similarity and 1 indicates a perfect match (identical sentences). A higher number implies a stronger connection between the two sentences, meaning they share more words or terms in common.\n",
        "\n",
        "This graphical representation of the text allows us to visually analyze the relationships between the sentences in the input text. Which can help identify clusters of similar sentences or detect isolated sentences that might be less related to the main topics discussed in the text."
      ],
      "metadata": {
        "id": "d68tyDGCrIO5"
      }
    },
    {
      "cell_type": "markdown",
      "source": [
        "## TextRank Example from Book"
      ],
      "metadata": {
        "id": "lUyEXX2h4ha8"
      }
    },
    {
      "cell_type": "markdown",
      "source": [
        " Text is represented as a graph, with nodes representing textual units (sentences or words) and edges representing the relationships between them.\n",
        "The scores for each node are calculated on the basis of the scores of its neighbors and the weights of the edges that connect them. First, the algorithm applies the PageRank equation as an iteration:\n",
        "\n",
        "\\begin{equation}\n",
        "p_i^{(k+1)}=\\frac{1-\\delta}{N}+\\delta \\cdot \\sum_{\\text {edges }_{j i}} \\frac{p_j^{(k)}}{c_j}\n",
        "\\end{equation}\n",
        "\n",
        "Then, as a second step, the PageRank is replaced by the rank $r$ of the vertices $V_{i}$, which can stand for words, phrases or complete sentences.\n",
        "\n",
        "\\begin{equation}\n",
        "r\\left(V_i^{(k+1)}\\right)=\\frac{1-\\delta}{N}+\\delta \\cdot \\sum_{\\text {edges }_{j i}} \\frac{\\omega_{j i} \\cdot r\\left(V_j^{(k)}\\right)}{\\sum_{\\text {edges }_{ji}} \\omega_{j i}}\n",
        "\\end{equation}\n",
        "\n",
        "Additionally, to each edge a weight $w_{ji}$ is attached in order to have more flexibility to characterize the \\emph{strength} of the connection between two vertices $V_j$ and $V_i$. Depending on the use case, these edges can represent different types of connection, lexical relations, or contextual relations.\n",
        "\n",
        "The pagerank function `def pagerank()` from the class `class TextRank` reflects the second equation, where $\\omega_{j i}$ is the weight of the connection between vertices $V_j$ and $V_i$ (i.e., adjacency\\_matrix[j, i]). The function calculates the rank $r(V_i^{(k+1)})$ for each vertex $V_i$ in the graph, considering the edge weights and the out-degree of each node."
      ],
      "metadata": {
        "id": "oGs5O1mx4tpi"
      }
    },
    {
      "cell_type": "code",
      "source": [
        "text = \"\"\"\n",
        "    Machine learning is a subfield of artificial intelligence.\n",
        "    Deep learning is a technique used in machine learning.\n",
        "    Supervised learning is a popular machine learning technique.\n",
        "    Unsupervised learning is another machine learning technique.\n",
        "    \"\"\"\n",
        "\n",
        "tr = TextRank()\n",
        "sentences = tr.split_sentences(text)\n",
        "G = tr.create_graph(sentences)\n",
        "tr.print_sentence_weights(G, sentences)\n",
        "tr.plot_graph(G)"
      ],
      "metadata": {
        "colab": {
          "base_uri": "https://localhost:8080/",
          "height": 1000
        },
        "id": "EGi1mhTu4sK9",
        "outputId": "1daca5e0-e7a8-4dac-ebec-0edc8a6af7fe"
      },
      "execution_count": 15,
      "outputs": [
        {
          "output_type": "stream",
          "name": "stdout",
          "text": [
            "Sentence Weights:\n",
            "Sentence 0: Machine learning is a subfield of artificial intelligence.\n",
            "Sentence 3: Unsupervised learning is another machine learning technique.\n",
            "Weight: 0.2469\n",
            "\n",
            "Sentence 0: Machine learning is a subfield of artificial intelligence.\n",
            "Sentence 2: Supervised learning is a popular machine learning technique.\n",
            "Weight: 0.2469\n",
            "\n",
            "Sentence 0: Machine learning is a subfield of artificial intelligence.\n",
            "Sentence 1: Deep learning is a technique used in machine learning.\n",
            "Weight: 0.2210\n",
            "\n",
            "Sentence 0: Machine learning is a subfield of artificial intelligence.\n",
            "Sentence 0: Machine learning is a subfield of artificial intelligence.\n",
            "Weight: 1.0000\n",
            "\n",
            "Sentence 1: Deep learning is a technique used in machine learning.\n",
            "Sentence 3: Unsupervised learning is another machine learning technique.\n",
            "Weight: 0.4522\n",
            "\n",
            "Sentence 1: Deep learning is a technique used in machine learning.\n",
            "Sentence 2: Supervised learning is a popular machine learning technique.\n",
            "Weight: 0.4522\n",
            "\n",
            "Sentence 1: Deep learning is a technique used in machine learning.\n",
            "Sentence 1: Deep learning is a technique used in machine learning.\n",
            "Weight: 1.0000\n",
            "\n",
            "Sentence 2: Supervised learning is a popular machine learning technique.\n",
            "Sentence 3: Unsupervised learning is another machine learning technique.\n",
            "Weight: 0.5051\n",
            "\n",
            "Sentence 2: Supervised learning is a popular machine learning technique.\n",
            "Sentence 2: Supervised learning is a popular machine learning technique.\n",
            "Weight: 1.0000\n",
            "\n",
            "Sentence 3: Unsupervised learning is another machine learning technique.\n",
            "Sentence 3: Unsupervised learning is another machine learning technique.\n",
            "Weight: 1.0000\n",
            "\n"
          ]
        },
        {
          "output_type": "display_data",
          "data": {
            "text/plain": [
              "<Figure size 1000x1000 with 1 Axes>"
            ],
            "image/png": "[encoded data removed]"
          },
          "metadata": {}
        }
      ]
    },
    {
      "cell_type": "markdown",
      "source": [
        "# Use case CNN/Daily mail dataset"
      ],
      "metadata": {
        "id": "Zsqe0wSIm1on"
      }
    },
    {
      "cell_type": "markdown",
      "source": [
        "The [CNN/Daily Mail dataset](https://huggingface.co/datasets/cnn_dailymail) is a popular choice for evaluating text summarization models in the NLP community. This dataset consists of news articles from CNN and Daily Mail websites, along with their human-generated summaries, also known as \"highlights\" or \"story points.\" It provides a large and diverse set of real-world articles and their corresponding summaries, making it an excellent benchmark for testing the performance of various summarization models.\n",
        "\n",
        "The dataset is interesting as an example use case for several reasons:\n",
        "\n",
        "1. Real-world data: The articles and summaries are sourced from actual news websites, which makes the dataset representative of the kind of content users might encounter and want to summarize in real-life scenarios.\n",
        "\n",
        "2. Diversity: The dataset covers a wide range of topics, such as politics, sports, entertainment, and technology. This diversity helps evaluate how well a summarization model can generalize across different domains and subject matters.\n",
        "\n",
        "3. Abstractive summarization: The human-generated highlights often involve rephrasing and paraphrasing of the original content, which requires a deeper understanding of the text. This makes the dataset suitable for testing the capabilities of abstractive summarization models, which aim to generate summaries that capture the main points of the input text while using new, concise, and coherent sentences.\n",
        "\n",
        "4. Large-scale: With over 300,000 articles and summaries, the CNN/Daily Mail dataset is large enough to train and evaluate deep learning models, such as Transformer-based models, which often require substantial amounts of data to achieve high performance.\n",
        "\n",
        "By using the CNN/Daily Mail dataset as an example use case, we can evaluate various Transformer-based summarization models on a challenging, diverse, and real-world dataset, which will give us valuable insights into their performance and potential applications."
      ],
      "metadata": {
        "id": "4fvn-ucASzt8"
      }
    },
    {
      "cell_type": "markdown",
      "source": [
        "## Load the CNN/Daily mail dataset"
      ],
      "metadata": {
        "id": "b7tR4s4AnBLq"
      }
    },
    {
      "cell_type": "code",
      "execution_count": 16,
      "metadata": {
        "colab": {
          "base_uri": "https://localhost:8080/",
          "height": 191,
          "referenced_widgets": [
            "79c7f02598924fed8a8204530e0ccb19",
            "f106b4f03efa4354979b55cbcbc1dd66",
            "f012cff8dd664958931caf3b745800a6",
            "f711601724ef4153975e61c786ada42e",
            "f909e865738b4ca0942c60ea4a5ea5e5",
            "647b89e2fe914db4bc48f141b7ce0d7d",
            "cbe62fd70efd4e5a89614eb6a11a545a",
            "70022358d5d947da823d1a5d37469380",
            "8e77271748714825950650fce2608da6",
            "f082d65676a14d1f8bb35b1f37b18e27",
            "55e8f86815bb4d74a37582ca66e8fd49"
          ]
        },
        "id": "05A_omTEridT",
        "outputId": "d6802cb2-6918-4394-b70b-16f2cf2a83b2"
      },
      "outputs": [
        {
          "output_type": "stream",
          "name": "stderr",
          "text": [
            "/usr/local/lib/python3.10/dist-packages/huggingface_hub/utils/_token.py:88: UserWarning: \n",
            "The secret `HF_TOKEN` does not exist in your Colab secrets.\n",
            "To authenticate with the Hugging Face Hub, create a token in your settings tab (https://huggingface.co/settings/tokens), set it as secret in your Google Colab and restart your session.\n",
            "You will be able to reuse this secret in all of your notebooks.\n",
            "Please note that authentication is recommended but still optional to access public models or datasets.\n",
            "  warnings.warn(\n",
            "WARNING:datasets.builder:Found cached dataset cnn_dailymail (/root/.cache/huggingface/datasets/cnn_dailymail/default/3.0.0/1b3c71476f6d152c31c1730e83ccb08bcf23e348233f4fcc11e182248e6bf7de)\n"
          ]
        },
        {
          "output_type": "display_data",
          "data": {
            "text/plain": [
              "  0%|          | 0/3 [00:00<?, ?it/s]"
            ],
            "application/vnd.jupyter.widget-view+json": {
              "version_major": 2,
              "version_minor": 0,
              "model_id": "79c7f02598924fed8a8204530e0ccb19"
            }
          },
          "metadata": {}
        }
      ],
      "source": [
        "# Load the CNN/Daily mail dataset\n",
        "dataset = load_dataset('cnn_dailymail', version='3.0.0')"
      ]
    },
    {
      "cell_type": "code",
      "source": [
        "dataset_train = load_dataset('cnn_dailymail', version='3.0.0', split='train')\n",
        "dataset_train.set_format(type='pandas', columns=['article', 'highlights'])"
      ],
      "metadata": {
        "id": "bCfJOZ_t72Ne",
        "colab": {
          "base_uri": "https://localhost:8080/"
        },
        "outputId": "d27c55a0-acff-406e-844f-d80f7bd1ed38"
      },
      "execution_count": 17,
      "outputs": [
        {
          "output_type": "stream",
          "name": "stderr",
          "text": [
            "WARNING:datasets.builder:Found cached dataset cnn_dailymail (/root/.cache/huggingface/datasets/cnn_dailymail/default/3.0.0/1b3c71476f6d152c31c1730e83ccb08bcf23e348233f4fcc11e182248e6bf7de)\n"
          ]
        }
      ]
    },
    {
      "cell_type": "code",
      "source": [
        "# Convert to pandas DataFrame\n",
        "df = dataset_train.to_pandas()"
      ],
      "metadata": {
        "id": "7VMWmWT_Wzg8"
      },
      "execution_count": 18,
      "outputs": []
    },
    {
      "cell_type": "markdown",
      "source": [
        "## Excerpt of article and ground truth of summary\n",
        "\n",
        "\n"
      ],
      "metadata": {
        "id": "tbJHhoVjnLj6"
      }
    },
    {
      "cell_type": "code",
      "source": [
        "# Access first row using iloc\n",
        "sample = df.iloc[0]\n",
        "\n",
        "excerpt = 1000\n",
        "\n",
        "print(f\"\\033[1mExcerpt of {excerpt} characters, total length of article: \\\n",
        "{len(sample['article'])}:\\033[0m\\n\")\n",
        "\n",
        "print(sample[\"article\"][:excerpt])\n",
        "print(f\"\\033[1m\\n\\nSummary (length: {len(sample['highlights'])}):\\033[0m\\n\")\n",
        "print(sample[\"highlights\"])\n"
      ],
      "metadata": {
        "id": "asiwMOOC7_O5",
        "colab": {
          "base_uri": "https://localhost:8080/"
        },
        "outputId": "cf5a4ed2-5248-4f3e-bd4e-250dd1df8f21"
      },
      "execution_count": 19,
      "outputs": [
        {
          "output_type": "stream",
          "name": "stdout",
          "text": [
            "\u001b[1mExcerpt of 1000 characters, total length of article: 2527:\u001b[0m\n",
            "\n",
            "LONDON, England (Reuters) -- Harry Potter star Daniel Radcliffe gains\n",
            "access to a reported £20 million ($41.1 million) fortune as he turns\n",
            "18 on Monday, but he insists the money won't cast a spell on him.\n",
            "Daniel Radcliffe as Harry Potter in \"Harry Potter and the Order of the\n",
            "Phoenix\" To the disappointment of gossip columnists around the world,\n",
            "the young actor says he has no plans to fritter his cash away on fast\n",
            "cars, drink and celebrity parties. \"I don't plan to be one of those\n",
            "people who, as soon as they turn 18, suddenly buy themselves a massive\n",
            "sports car collection or something similar,\" he told an Australian\n",
            "interviewer earlier this month. \"I don't think I'll be particularly\n",
            "extravagant. \"The things I like buying are things that cost about 10\n",
            "pounds -- books and CDs and DVDs.\" At 18, Radcliffe will be able to\n",
            "gamble in a casino, buy a drink in a pub or see the horror film\n",
            "\"Hostel: Part II,\" currently six places below his number one movie on\n",
            "the UK box office chart. Details of how\n",
            "\u001b[1m\n",
            "\n",
            "Summary (length: 217):\u001b[0m\n",
            "\n",
            "Harry Potter star Daniel Radcliffe gets £20M fortune as he turns 18\n",
            "Monday .\n",
            "Young actor says he has no plans to fritter his cash away .\n",
            "Radcliffe's earnings from first five Potter films have been held in\n",
            "trust fund .\n"
          ]
        }
      ]
    },
    {
      "cell_type": "code",
      "source": [
        "articles_np= np.array(dataset_train['article'])\n",
        "articles_np.shape"
      ],
      "metadata": {
        "id": "U8mQZi889ban",
        "colab": {
          "base_uri": "https://localhost:8080/"
        },
        "outputId": "79cdb58e-34c3-4211-cd0f-587ce04db4c4"
      },
      "execution_count": 20,
      "outputs": [
        {
          "output_type": "execute_result",
          "data": {
            "text/plain": [
              "(287113,)"
            ]
          },
          "metadata": {},
          "execution_count": 20
        }
      ]
    },
    {
      "cell_type": "code",
      "source": [
        "articles_np_1 = articles_np[:1]\n",
        "articles_np_1.shape"
      ],
      "metadata": {
        "id": "6Fq9mjuZ8d3E",
        "colab": {
          "base_uri": "https://localhost:8080/"
        },
        "outputId": "fd2d9a46-2605-4417-8a04-eac1ed6a7d28"
      },
      "execution_count": 21,
      "outputs": [
        {
          "output_type": "execute_result",
          "data": {
            "text/plain": [
              "(1,)"
            ]
          },
          "metadata": {},
          "execution_count": 21
        }
      ]
    },
    {
      "cell_type": "code",
      "source": [
        "articles_np_1"
      ],
      "metadata": {
        "id": "zz3rwLgS9qa5",
        "colab": {
          "base_uri": "https://localhost:8080/"
        },
        "outputId": "cd95c36e-c5e2-447c-8602-6dbb916aeb29"
      },
      "execution_count": 22,
      "outputs": [
        {
          "output_type": "execute_result",
          "data": {
            "text/plain": [
              "array(['LONDON, England (Reuters) -- Harry Potter star Daniel Radcliffe gains access to a reported £20 million ($41.1 million) fortune as he turns 18 on Monday, but he insists the money won\\'t cast a spell on him. Daniel Radcliffe as Harry Potter in \"Harry Potter and the Order of the Phoenix\" To the disappointment of gossip columnists around the world, the young actor says he has no plans to fritter his cash away on fast cars, drink and celebrity parties. \"I don\\'t plan to be one of those people who, as soon as they turn 18, suddenly buy themselves a massive sports car collection or something similar,\" he told an Australian interviewer earlier this month. \"I don\\'t think I\\'ll be particularly extravagant. \"The things I like buying are things that cost about 10 pounds -- books and CDs and DVDs.\" At 18, Radcliffe will be able to gamble in a casino, buy a drink in a pub or see the horror film \"Hostel: Part II,\" currently six places below his number one movie on the UK box office chart. Details of how he\\'ll mark his landmark birthday are under wraps. His agent and publicist had no comment on his plans. \"I\\'ll definitely have some sort of party,\" he said in an interview. \"Hopefully none of you will be reading about it.\" Radcliffe\\'s earnings from the first five Potter films have been held in a trust fund which he has not been able to touch. Despite his growing fame and riches, the actor says he is keeping his feet firmly on the ground. \"People are always looking to say \\'kid star goes off the rails,\\'\" he told reporters last month. \"But I try very hard not to go that way because it would be too easy for them.\" His latest outing as the boy wizard in \"Harry Potter and the Order of the Phoenix\" is breaking records on both sides of the Atlantic and he will reprise the role in the last two films.  Watch I-Reporter give her review of Potter\\'s latest » . There is life beyond Potter, however. The Londoner has filmed a TV movie called \"My Boy Jack,\" about author Rudyard Kipling and his son, due for release later this year. He will also appear in \"December Boys,\" an Australian film about four boys who escape an orphanage. Earlier this year, he made his stage debut playing a tortured teenager in Peter Shaffer\\'s \"Equus.\" Meanwhile, he is braced for even closer media scrutiny now that he\\'s legally an adult: \"I just think I\\'m going to be more sort of fair game,\" he told Reuters. E-mail to a friend . Copyright 2007 Reuters. All rights reserved.This material may not be published, broadcast, rewritten, or redistributed.'],\n",
              "      dtype=object)"
            ]
          },
          "metadata": {},
          "execution_count": 22
        }
      ]
    },
    {
      "cell_type": "markdown",
      "source": [
        "## Establishing a baseline:\n",
        "### Applying TextRank algorithm to CNN/Daily mail dataset"
      ],
      "metadata": {
        "id": "TbuQUiFHnhmM"
      }
    },
    {
      "cell_type": "markdown",
      "source": [
        "\n",
        "TextRank is a good choice as a baseline algorithm for text summarization because it is unsupervised, easy to implement, and computationally efficient. It provides a simple yet effective way to extract key phrases and rank sentences based on their importance within the text. Compared to other baseline choices, such as lead-3 (selecting the first three sentences) or simple frequency-based methods, TextRank offers a more sophisticated approach by capturing the relationships between sentences and their relevance to the overall text, giving a better starting point for comparison with advanced methods like Transformer-based models.\n",
        "\n",
        "This code snippet is used to generate summaries for a collection of texts (in this case, news article) using the TextRank algorithm. The TextRank summarization is implemented with the summa library, which is available on [PyPI](https://pypi.org/project/summa/). The implementation is based on the paper Mihalcea, R., Tarau, P.: [“TextRank: Bringing order into texts”](https://aclanthology.org/W04-3252/)\n",
        "\n",
        "A `summarize_text` function is defined, which takes in two arguments - text and words. text is the input text to be summarized, and words is an optional parameter to specify the target number of words in the generated summary (default is 250 words). The `summarizer.summarize()` function from the summa library is used to generate the summary.\n",
        "\n",
        "The code then employs the multiprocessing Pool class to parallelize the summarization process. This speeds up the computation by taking advantage of multiple CPU cores available on the system. The `Pool()` context manager creates a pool of worker processes, and the `pool.map()` function is used to apply the `summarize_text` function to each element of the `articles_np_1` array (which contains the input articles).\n",
        "\n",
        "The `pool.map()` function distributes the articles across the available worker processes, and each process applies the summarize_text function independently. Once all the summaries are generated, they are collected and stored in the `summarized_articles` list. This parallelization can significantly improve the performance of the TextRank summarization, especially when working with large datasets.\n"
      ],
      "metadata": {
        "id": "hKk1I9ppUNi-"
      }
    },
    {
      "cell_type": "code",
      "execution_count": 23,
      "metadata": {
        "id": "QVuIQytjsEU7"
      },
      "outputs": [],
      "source": [
        "# Define the function to summarize the text\n",
        "def summarize_text(text, words=80):\n",
        "    summary = summarizer.summarize(text, words=words)\n",
        "    return summary\n",
        "\n",
        "# Parallelize the TextRank summarization\n",
        "with Pool() as pool:\n",
        "    summarized_articles = pool.map(summarize_text, articles_np_1)\n"
      ]
    },
    {
      "cell_type": "markdown",
      "source": [
        "### Get summarized article"
      ],
      "metadata": {
        "id": "GkUYrYNwnzG7"
      }
    },
    {
      "cell_type": "code",
      "source": [
        "summarized_articles"
      ],
      "metadata": {
        "id": "Du-G1Yz29wYL",
        "colab": {
          "base_uri": "https://localhost:8080/"
        },
        "outputId": "62a53d1b-176e-44e2-f1de-e7187ae90829"
      },
      "execution_count": 24,
      "outputs": [
        {
          "output_type": "execute_result",
          "data": {
            "text/plain": [
              "['LONDON, England (Reuters) -- Harry Potter star Daniel Radcliffe gains access to a reported £20 million ($41.1 million) fortune as he turns 18 on Monday, but he insists the money won\\'t cast a spell on him.\\nDaniel Radcliffe as Harry Potter in \"Harry Potter and the Order of the Phoenix\" To the disappointment of gossip columnists around the world, the young actor says he has no plans to fritter his cash away on fast cars, drink and celebrity parties.']"
            ]
          },
          "metadata": {},
          "execution_count": 24
        }
      ]
    },
    {
      "cell_type": "code",
      "execution_count": 25,
      "metadata": {
        "id": "1cYq9QIPDey9"
      },
      "outputs": [],
      "source": [
        "references = np.array(dataset_train['highlights'])"
      ]
    },
    {
      "cell_type": "code",
      "source": [
        "references_np = np.array(references)\n",
        "references_np[:1]"
      ],
      "metadata": {
        "id": "cguTgWVxBZCy",
        "colab": {
          "base_uri": "https://localhost:8080/"
        },
        "outputId": "8fac51f8-bf4b-4d4e-c170-11ae750ab30d"
      },
      "execution_count": 26,
      "outputs": [
        {
          "output_type": "execute_result",
          "data": {
            "text/plain": [
              "array([\"Harry Potter star Daniel Radcliffe gets £20M fortune as he turns 18 Monday .\\nYoung actor says he has no plans to fritter his cash away .\\nRadcliffe's earnings from first five Potter films have been held in trust fund .\"],\n",
              "      dtype=object)"
            ]
          },
          "metadata": {},
          "execution_count": 26
        }
      ]
    },
    {
      "cell_type": "code",
      "source": [
        "reference = references[0]"
      ],
      "metadata": {
        "id": "0HFQvehJ-Ej_"
      },
      "execution_count": 27,
      "outputs": []
    },
    {
      "cell_type": "code",
      "source": [
        "print(summarized_articles[0])"
      ],
      "metadata": {
        "id": "RXMcOiNvWz_7",
        "colab": {
          "base_uri": "https://localhost:8080/"
        },
        "outputId": "030ae656-7870-48ac-ada4-8351e625f2e7"
      },
      "execution_count": 28,
      "outputs": [
        {
          "output_type": "stream",
          "name": "stdout",
          "text": [
            "LONDON, England (Reuters) -- Harry Potter star Daniel Radcliffe gains\n",
            "access to a reported £20 million ($41.1 million) fortune as he turns\n",
            "18 on Monday, but he insists the money won't cast a spell on him.\n",
            "Daniel Radcliffe as Harry Potter in \"Harry Potter and the Order of the\n",
            "Phoenix\" To the disappointment of gossip columnists around the world,\n",
            "the young actor says he has no plans to fritter his cash away on fast\n",
            "cars, drink and celebrity parties.\n"
          ]
        }
      ]
    },
    {
      "cell_type": "code",
      "source": [
        "summaries = {}\n",
        "summaries['TextRank (Baseline)'] = summarized_articles"
      ],
      "metadata": {
        "id": "jANpwhitKuD4"
      },
      "execution_count": 29,
      "outputs": []
    },
    {
      "cell_type": "code",
      "source": [
        "print(summaries['TextRank (Baseline)'][0])"
      ],
      "metadata": {
        "id": "BtSqhykcg-XG",
        "colab": {
          "base_uri": "https://localhost:8080/"
        },
        "outputId": "02d94a1e-b619-40ee-f817-11a68e313732"
      },
      "execution_count": 30,
      "outputs": [
        {
          "output_type": "stream",
          "name": "stdout",
          "text": [
            "LONDON, England (Reuters) -- Harry Potter star Daniel Radcliffe gains\n",
            "access to a reported £20 million ($41.1 million) fortune as he turns\n",
            "18 on Monday, but he insists the money won't cast a spell on him.\n",
            "Daniel Radcliffe as Harry Potter in \"Harry Potter and the Order of the\n",
            "Phoenix\" To the disappointment of gossip columnists around the world,\n",
            "the young actor says he has no plans to fritter his cash away on fast\n",
            "cars, drink and celebrity parties.\n"
          ]
        }
      ]
    },
    {
      "cell_type": "markdown",
      "source": [
        "# Appyling Transformers to the CNN/Daily mail dataset"
      ],
      "metadata": {
        "id": "56n0hJw3oHrs"
      }
    },
    {
      "cell_type": "markdown",
      "source": [
        "In this section, we define a function `generate_summary` that takes a `model_name` and a `sample_text` as input and generates a summary of the input text using the specified model. We support multiple summarization models such as:\n",
        "- BART [Modelcard](https://huggingface.co/facebook/bart-large-cnn), [Paper](https://arxiv.org/abs/1910.13461)\n",
        "- T5 [Modelcard](https://huggingface.co/sysresearch101/t5-large-finetuned-xsum-cnn), [Paper](https://arxiv.org/abs/1910.10683)\n",
        "- ProphetNet [Modelcard](), [Paper](https://arxiv.org/abs/2001.04063)\n",
        "- Pegasus [Modelcard](https://huggingface.co/google/pegasus-cnn_dailymail), [Paper](https://arxiv.org/abs/1912.08777)\n",
        "- GPT-2 [Modelcard](https://huggingface.co/gpt2-xl), [Paper](https://cdn.openai.com/better-language-models/language_models_are_unsupervised_multitask_learners.pdf)\n",
        "\n",
        "The function sets up the tokenizer and model based on the given model_name and uses the Hugging Face's pipeline to perform the summarization.\n",
        "\n",
        "For the CNN/Daily Mail dataset use case, we aim to evaluate different transformer models to understand their performance in summarizing news articles. The dataset contains long news articles with associated human-generated summaries, making it a great resource for benchmarking and comparing various summarization models.\n",
        "\n",
        "By using multiple models for summarization, we can gain insights into the strengths and weaknesses of each approach, and understand how they perform in a real-world scenario. This helps us to identify the most suitable model for our specific use case, considering factors such as quality, speed, and resource requirements.\n",
        "\n",
        "The choice of using the Hugging Face's pipeline function allows for a streamlined and easy-to-use interface for handling pre-processing, model inference, and post-processing steps. This simplifies the code and makes it more maintainable and user-friendly, especially for those who may not have extensive experience with transformers or NLP."
      ],
      "metadata": {
        "id": "bDeEvqiWWlBD"
      }
    },
    {
      "cell_type": "code",
      "source": [
        "set_seed(42)\n",
        "\n",
        "def generate_summary(model_name, sample_text):\n",
        "    \"\"\"\n",
        "    Generate a summary of the input text using a specified model.\n",
        "\n",
        "    Args:\n",
        "        model_name (str): The name of the model to use for summarization. Supported values are \"BART\", \"T5\",\n",
        "            \"ProphetNet\", \"Pegasus\", and \"GPT-2\".\n",
        "        sample_text (str): The input text to summarize.\n",
        "\n",
        "    Returns:\n",
        "        str: The summary generated by the specified model.\n",
        "\n",
        "    Raises:\n",
        "        ValueError: If the specified model is not supported.\n",
        "\n",
        "    Notes:\n",
        "        - If `model_name` is \"Pegasus\", the `google/pegasus-cnn_dailymail` model will be used for summarization.\n",
        "          This model doesn't require a tokenizer or a maximum length.\n",
        "        - If `model_name` is \"GPT-2\", the `gpt2-xl` model will be used for text generation. The summary will be\n",
        "          generated by extracting the first paragraph from the generated text that follows the \"TL;DR:\" token.\n",
        "\n",
        "    Example:\n",
        "        >>> generate_summary(\"BART\", \"This is an example text to summarize using BART.\")\n",
        "        'BART is used to summarize the input text.'\n",
        "    \"\"\"\n",
        "\n",
        "    # Set up tokenizer and model\n",
        "    model_dict = {\n",
        "        \"BART\": \"facebook/bart-large-cnn\",\n",
        "        \"T5\": \"sysresearch101/t5-large-finetuned-xsum-cnn\",\n",
        "        \"ProphetNet\": \"microsoft/prophetnet-large-uncased-cnndm\"\n",
        "    }\n",
        "\n",
        "    if model_name == \"Pegasus\":\n",
        "        # Generate summary using the specified model\n",
        "        summarization_pipeline = pipeline(\"summarization\", model=\"google/pegasus-cnn_dailymail\")\n",
        "        summarization_output = summarization_pipeline(sample_text)\n",
        "        summary = summarization_output[0][\"summary_text\"].replace(\" .<n>\", \".\\n\")\n",
        "    elif model_name in model_dict.keys():\n",
        "        tokenizer = AutoTokenizer.from_pretrained(model_dict[model_name])\n",
        "        model = AutoModelForSeq2SeqLM.from_pretrained(model_dict[model_name])\n",
        "        summarization_pipeline = pipeline(\"summarization\", tokenizer=tokenizer, model=model)\n",
        "        # Generate summary using the specified model\n",
        "        summarization_output = summarization_pipeline(sample_text, max_length=100)\n",
        "        summary = summarization_output[0][\"summary_text\"]\n",
        "    elif model_name == \"GPT-2\":\n",
        "        text_generation_pipeline = pipeline(\"text-generation\", model=\"gpt2-xl\")\n",
        "        # Generate summary using the specified model\n",
        "        gpt2_query = sample_text + \"\\nTL;DR:\\n\"\n",
        "        pipe_out = text_generation_pipeline(gpt2_query, max_length=512, clean_up_tokenization_spaces=True)\n",
        "        summary = \"\\n\".join(sent_tokenize(pipe_out[0][\"generated_text\"][len(gpt2_query) :]))\n",
        "    else:\n",
        "        raise ValueError(f\"Model {model_name} is not supported.\")\n",
        "\n",
        "    return summary\n"
      ],
      "metadata": {
        "id": "iCDTR7w5tTnF"
      },
      "execution_count": 31,
      "outputs": []
    },
    {
      "cell_type": "markdown",
      "source": [
        "## Generate summary from  <font color='red'>\"Pegasus\"</font> model"
      ],
      "metadata": {
        "id": "B8pgp9hRoVMi"
      }
    },
    {
      "cell_type": "code",
      "source": [
        "sample_text = sample[0]\n",
        "summaries[\"Pegasus\"] = generate_summary(\"Pegasus\", sample_text)"
      ],
      "metadata": {
        "id": "7gbyu2T1BkoO",
        "colab": {
          "base_uri": "https://localhost:8080/",
          "height": 177,
          "referenced_widgets": [
            "0f05989ef620431c8502585a19d843c1",
            "b7f3eea52cc244e584bf677c47962ec3",
            "59b896f2f7f3481181d44da2a44225aa",
            "390c52b621364c7f93113ca78b25411d",
            "8f2ddccebc654b9b89b2ab1227f65df5",
            "deb3357329694723b37a38042cb527e5",
            "34dd2b3175924a3b952764e8d48de069",
            "f35c585e5f0f4c3aa4cd824634a5042b",
            "69e564becbae4e70a235da2711ddaedf",
            "f936942b38d34982b6181c61e20a9215",
            "ae0b38fb55674bc0be9ace3c0b79edfa",
            "366df7fb938248739d212bf4d71dc877",
            "b67939f3574d4676af3a7f3e948dfb74",
            "4384e2a568f142f99ea20c075ca2f787",
            "6881a7af23e24bfb8050ede766d5ed46",
            "2da0f2f7093a42ee8c419bcd3e37680c",
            "d61b77f28c6f4126924f1690ef3e2890",
            "f75d96e5ab6e4695a8433d1e045f9ac1",
            "6c447e845e7a4f7b8ed2852d0221ac97",
            "5fae3f8e85b149ff9257cfc0dcd45191",
            "5fcaebd501cd462fa34f74b1564ef266",
            "8695e62a7bd14d52a441a966a3759cdf",
            "8f7fb2d6f84d4744b5751e709fbdd586",
            "42707cd29e4b43399ecc67a9b01b9cde",
            "e5b99d9200e44e959d572bf8dd820201",
            "56080aa84e90495b812686575b3a1fed",
            "bc2f247816934d01b033743a37502541",
            "1b0773f5511f4142be8cb4e1c693bc04",
            "219d57ab54384a7c9398e4d3bcd0ad29",
            "28883cf1c3fe43b7acf2300ce352b746",
            "9fadcccd2492491991c4fec89a1d9f5e",
            "eb89810a6e524c5c969a2a697d52701e",
            "9ced345eb7a6439b8a0af7989adbc3f8",
            "95d5e673e00f4a20bb9fcfad8212c54c",
            "e2e883610b4c4b0fa24bd63ea314f341",
            "dc22c378c62f4bb3aa8de1b3b9c81e0b",
            "ecf00590ea2a4ba4888f8c4da9e60293",
            "c30718a5714344d6b75d15ffb5933b6f",
            "df4bfa270f3a4890aec07741ac544196",
            "cce41cfefb8948b3adfc80cb937f3229",
            "c16644b364ab4511b6f74ffae7246f8c",
            "59cbf2eee64347c8a01372d0610606ac",
            "b6afb36d70094df397964b0cd04fbe96",
            "1bc52b24c1da4acebb1afe470232385d",
            "398915ed27c54bd1ad3feb2a2295d944",
            "887d3dfb20194df5b88d16dc3d0045ff",
            "969dc91a0ee04e568d3771673db6808a",
            "1ba79df002eb47149e342cf846d952b5",
            "0ea9b181e8a8459f8d41db8e5af56d95",
            "28293bc99a294f269aa62543e504996f",
            "16ae26dff15b41b791c20242aa1f89e2",
            "8906a8ddc9c24c07b00389f7b0a8e58b",
            "0923d72d580f401694eec964191b2a62",
            "b96fa25c3f7444dcadf57d8121c7296a",
            "5748368b47634f44a65cb1d4029cb83f"
          ]
        },
        "outputId": "a210fec3-9b1d-4f63-a179-be4e29064ea1"
      },
      "execution_count": 32,
      "outputs": [
        {
          "output_type": "display_data",
          "data": {
            "text/plain": [
              "pytorch_model.bin:   0%|          | 0.00/2.28G [00:00<?, ?B/s]"
            ],
            "application/vnd.jupyter.widget-view+json": {
              "version_major": 2,
              "version_minor": 0,
              "model_id": "0f05989ef620431c8502585a19d843c1"
            }
          },
          "metadata": {}
        },
        {
          "output_type": "display_data",
          "data": {
            "text/plain": [
              "generation_config.json:   0%|          | 0.00/280 [00:00<?, ?B/s]"
            ],
            "application/vnd.jupyter.widget-view+json": {
              "version_major": 2,
              "version_minor": 0,
              "model_id": "366df7fb938248739d212bf4d71dc877"
            }
          },
          "metadata": {}
        },
        {
          "output_type": "display_data",
          "data": {
            "text/plain": [
              "tokenizer_config.json:   0%|          | 0.00/88.0 [00:00<?, ?B/s]"
            ],
            "application/vnd.jupyter.widget-view+json": {
              "version_major": 2,
              "version_minor": 0,
              "model_id": "8f7fb2d6f84d4744b5751e709fbdd586"
            }
          },
          "metadata": {}
        },
        {
          "output_type": "display_data",
          "data": {
            "text/plain": [
              "spiece.model:   0%|          | 0.00/1.91M [00:00<?, ?B/s]"
            ],
            "application/vnd.jupyter.widget-view+json": {
              "version_major": 2,
              "version_minor": 0,
              "model_id": "95d5e673e00f4a20bb9fcfad8212c54c"
            }
          },
          "metadata": {}
        },
        {
          "output_type": "display_data",
          "data": {
            "text/plain": [
              "special_tokens_map.json:   0%|          | 0.00/65.0 [00:00<?, ?B/s]"
            ],
            "application/vnd.jupyter.widget-view+json": {
              "version_major": 2,
              "version_minor": 0,
              "model_id": "398915ed27c54bd1ad3feb2a2295d944"
            }
          },
          "metadata": {}
        }
      ]
    },
    {
      "cell_type": "markdown",
      "source": [
        "## Generate summary from  <font color='red'>\"BART\"</font> model"
      ],
      "metadata": {
        "id": "I_7HQQKepVrw"
      }
    },
    {
      "cell_type": "code",
      "source": [
        "summaries[\"BART\"] = generate_summary(\"BART\", sample_text)\n",
        "summaries[\"BART\"]"
      ],
      "metadata": {
        "colab": {
          "base_uri": "https://localhost:8080/",
          "height": 87
        },
        "id": "_GbRC8FX0Fgd",
        "outputId": "0d0b35cb-061d-4a4f-f688-be4c573e3038"
      },
      "execution_count": 33,
      "outputs": [
        {
          "output_type": "stream",
          "name": "stderr",
          "text": [
            "Some weights of BartForConditionalGeneration were not initialized from the model checkpoint at facebook/bart-large-cnn and are newly initialized: ['model.shared.weight']\n",
            "You should probably TRAIN this model on a down-stream task to be able to use it for predictions and inference.\n"
          ]
        },
        {
          "output_type": "execute_result",
          "data": {
            "text/plain": [
              "\"Harry Potter star Daniel Radcliffe turns 18 on Monday. He gains access to a reported £20 million ($41.1 million) fortune. Radcliffe's earnings from the first five Potter films have been held in a trust fund. Details of how he'll mark his landmark birthday are under wraps.\""
            ],
            "application/vnd.google.colaboratory.intrinsic+json": {
              "type": "string"
            }
          },
          "metadata": {},
          "execution_count": 33
        }
      ]
    },
    {
      "cell_type": "markdown",
      "source": [
        "## Generate summary from  <font color='red'>\"T5\"</font> model"
      ],
      "metadata": {
        "id": "wYV1aTalpeMq"
      }
    },
    {
      "cell_type": "code",
      "source": [
        "summaries[\"T5\"] = generate_summary(\"T5\", sample_text)\n",
        "summaries[\"T5\"]"
      ],
      "metadata": {
        "colab": {
          "base_uri": "https://localhost:8080/",
          "height": 107
        },
        "id": "bxuDO-sl0GJF",
        "outputId": "f952fdbe-e833-4476-d91c-3dbc56cf808b"
      },
      "execution_count": 34,
      "outputs": [
        {
          "output_type": "stream",
          "name": "stderr",
          "text": [
            "Token indices sequence length is longer than the specified maximum sequence length for this model (638 > 512). Running this sequence through the model will result in indexing errors\n",
            "/usr/local/lib/python3.10/dist-packages/transformers/generation/utils.py:1186: UserWarning: You have modified the pretrained model configuration to control generation. This is a deprecated strategy to control generation and will be removed soon, in a future version. Please use a generation configuration file (see https://huggingface.co/docs/transformers/main_classes/text_generation)\n",
            "  warnings.warn(\n"
          ]
        },
        {
          "output_type": "execute_result",
          "data": {
            "text/plain": [
              "'Harry Potter star Daniel Radcliffe says he has no plans to fritter away his fortune as he turns 18 . \"I don\\'t think I\\'ll be particularly extravagant,\" he says.'"
            ],
            "application/vnd.google.colaboratory.intrinsic+json": {
              "type": "string"
            }
          },
          "metadata": {},
          "execution_count": 34
        }
      ]
    },
    {
      "cell_type": "markdown",
      "source": [
        "## Generate summary from  <font color='red'>\"ProphetNet\"</font> model"
      ],
      "metadata": {
        "id": "aXdzjMvqpihJ"
      }
    },
    {
      "cell_type": "code",
      "source": [
        "summaries[\"ProphetNet\"] = generate_summary(\"ProphetNet\", sample_text)"
      ],
      "metadata": {
        "id": "hve3X4st0fQa"
      },
      "execution_count": 35,
      "outputs": []
    },
    {
      "cell_type": "markdown",
      "source": [
        "## Evaluate all models incl. baseline on CNN/Daily mail dataset"
      ],
      "metadata": {
        "id": "d-9nNXjkppDh"
      }
    },
    {
      "cell_type": "markdown",
      "source": [
        "### Evaluating Summarization Models using ROUGE and BLEU Metrics\n",
        "\n",
        "In this section, we demonstrate how to evaluate the summarization models using both the ROUGE and BLEU metrics. We use the Hugging Face's implementation of these metrics.\n",
        "\n",
        "ROUGE, or Recall-Oriented Understudy for Gisting Evaluation, is a set of metrics and a software package used for evaluating automatic summarization and machine translation software in natural language processing. The metrics compare an automatically produced summary or translation against a reference or a set of references (human-produced) summary or translation. Note that ROUGE is case insensitive, meaning that upper case letters are treated the same way as lower case letters.\n",
        "[Link](https://huggingface.co/spaces/evaluate-metric/rouge)\n",
        "\n",
        "BLEU, or Bilingual Evaluation Understudy, is an evaluation metric used primarily for machine translation. It measures the similarity between a candidate translation and a set of reference translations, considering both the n-gram precision and a brevity penalty factor.\n",
        "[Link](https://huggingface.co/spaces/evaluate-metric/google_bleu)\n",
        "\n",
        "[Info about Huggingface evaluate](https://huggingface.co/docs/evaluate/v0.4.0/en/package_reference/loading_methods#evaluate.load)\n",
        "<br> <br>\n",
        "\n",
        "__Note:__ It can be beneficial to use both ROUGE and BLEU metrics for evaluation, as they focus on different aspects of the generated summaries. ROUGE is recall-oriented and mainly focuses on the coverage of important content, while BLEU is precision-oriented and evaluates the fluency and correctness of the generated text.\n",
        "\n",
        "It is important to have an understanding of what constitutes a \"good\" score when evaluating summarization models. Here are some guidelines for interpreting the ROUGE and BLEU scores:\n",
        "\n",
        "__ROUGE Scores__\n",
        "\n",
        "ROUGE scores usually range from 0 to 1, with 1 being a perfect match between the generated summary and the reference summary. In practice, scores closer to 1 are rare, especially for abstractive summarization tasks.\n",
        "\n",
        "For a simple baseline model like TextRank or LSA, a \"good\" ROUGE score can be around 0.3 to 0.4. For more advanced Transformer-based models like BART, T5, or Pegasus, a \"good\" ROUGE score can range from 0.4 to 0.6, depending on the task and dataset. State-of-the-art models can achieve even higher scores, but it's important to keep in mind that ROUGE scores are just one aspect of evaluating the quality of generated summaries.\n",
        "\n",
        "There exist different variants of ROUGE, which consider different aspects of the summaries, such as n-grams and the longest common subsequence.\n",
        "\n",
        "\n",
        "__BLEU Scores__\n",
        "\n",
        "BLEU scores also range from 0 to 1, with 1 indicating a perfect match between the generated text and the reference text. However, BLEU scores tend to be lower compared to ROUGE scores, as they are more sensitive to the differences in word order and phrasing.\n",
        "\n",
        "For a simple baseline model, a \"good\" BLEU score could be around 0.1 to 0.2. For Transformer-based models, a \"good\" BLEU score might range from 0.2 to 0.4, again depending on the task and dataset. State-of-the-art models can achieve higher scores, but just like with ROUGE, it's essential to consider other factors when evaluating the quality of generated summaries.\n",
        "\n",
        "Keep in mind that these are rough guidelines, and the definition of a \"good\" score can vary depending on the specific domain, dataset, and evaluation criteria. It is always a good idea to compare your model's scores with scores from existing state-of-the-art models on the same dataset to get a better understanding of its performance.\n",
        "\n",
        "\n",
        "__Defining the SummarizationMetrics Class__\n",
        "\n",
        "The SummarizationMetrics class is defined with methods for computing the ROUGE and BLEU metrics, as well as a method to compute both metrics together:\n",
        "\n",
        "`class SummarizationMetrics:\n",
        "    ...\n",
        "`\n",
        "\n",
        "This class is located in the `utils.py` file, feel free to look it up to get a better understanding how the mectrics are computed.\n",
        "\n",
        "__Computing Metrics__\n",
        "\n",
        "To compute the metrics, we first instantiate the SummarizationMetrics class:\n",
        "`evaluator = SummarizationMetrics()\n",
        "`\n",
        "\n",
        "Then, we call the compute_sum_metric method on the evaluator object, passing the generated summaries and the reference summary:\n",
        "`metrics_df = evaluator.compute_sum_metric(summaries, reference)\n",
        "`\n",
        "\n",
        "The compute_sum_metric method computes both the ROUGE and BLEU metrics by calling the `compute_rouge_metrics` and `compute_google_bleu_metrics` methods, respectively. The resulting metrics are combined into a single DataFrame and returned.\n",
        "\n",
        "__Viewing the Metrics__\n",
        "\n",
        "We can display the resulting metrics DataFrame to see the evaluation scores for each model:\n",
        "`metrics_df\n",
        "`\n",
        "\n",
        "This DataFrame shows the ROUGE and BLEU scores for each summarization model, allowing for an easy comparison of their performance.\n",
        "\n",
        "\n",
        "__Note:__ It's crucial to understand that evaluating a summarization model based on just one text example from a testing dataset is not enough to determine its overall performance. The reason behind this is that the complexity of the text samples can vary significantly within a dataset. Some text samples might be easier for a model to summarize, while others could be more challenging, containing complex sentence structures, domain-specific jargon, or long and convoluted narratives.\n",
        "\n",
        "To get a more comprehensive sense of a model's performance, it is essential to evaluate it on a larger number of samples from the testing dataset. By doing so, we can ensure that we're assessing the model's ability to handle a diverse set of inputs, including those that differ in complexity, topic, and structure. This approach provides a more reliable and generalizable evaluation of the model's performance, helping us to better understand its strengths and weaknesses.\n",
        "\n",
        "In the next section of this notebook, we will expand our evaluation to include multiple text samples from the testing dataset. This will give us a better understanding of how well the model performs across a variety of inputs and allow us to make more informed decisions about its applicability to real-world use cases."
      ],
      "metadata": {
        "id": "wmMdUDALad91"
      }
    },
    {
      "cell_type": "code",
      "source": [
        "evaluator = SummarizationMetrics()\n",
        "\n",
        "metrics_df = evaluator.compute_sum_metric(summaries, reference)\n",
        "\n",
        "metrics_df\n"
      ],
      "metadata": {
        "id": "1ajjw6rcKyQ7",
        "colab": {
          "base_uri": "https://localhost:8080/",
          "height": 241
        },
        "outputId": "8f9fd08e-10b2-4f91-c8ff-6c148a002e91"
      },
      "execution_count": 36,
      "outputs": [
        {
          "output_type": "stream",
          "name": "stderr",
          "text": [
            "100%|██████████| 5/5 [00:00<00:00,  6.91it/s]\n",
            "100%|██████████| 5/5 [00:00<00:00, 199.38it/s]\n"
          ]
        },
        {
          "output_type": "execute_result",
          "data": {
            "text/plain": [
              "                       rouge1    rouge2    rougeL  rougeLsum  google_bleu\n",
              "TextRank (Baseline)  0.436975  0.324786  0.386555   0.436975     0.196133\n",
              "Pegasus              0.800000  0.692308  0.800000   0.800000     0.656627\n",
              "BART                 0.613636  0.372093  0.545455   0.568182     0.315534\n",
              "T5                   0.550725  0.417910  0.376812   0.521739     0.341772\n",
              "ProphetNet           0.446602  0.257426  0.407767   0.407767     0.105590"
            ],
            "text/html": [
              "\n",
              "  <div id=\"df-c60c4725-e363-451d-9590-af2d0be3918c\" class=\"colab-df-container\">\n",
              "    <div>\n",
              "<style scoped>\n",
              "    .dataframe tbody tr th:only-of-type {\n",
              "        vertical-align: middle;\n",
              "    }\n",
              "\n",
              "    .dataframe tbody tr th {\n",
              "        vertical-align: top;\n",
              "    }\n",
              "\n",
              "    .dataframe thead th {\n",
              "        text-align: right;\n",
              "    }\n",
              "</style>\n",
              "<table border=\"1\" class=\"dataframe\">\n",
              "  <thead>\n",
              "    <tr style=\"text-align: right;\">\n",
              "      <th></th>\n",
              "      <th>rouge1</th>\n",
              "      <th>rouge2</th>\n",
              "      <th>rougeL</th>\n",
              "      <th>rougeLsum</th>\n",
              "      <th>google_bleu</th>\n",
              "    </tr>\n",
              "  </thead>\n",
              "  <tbody>\n",
              "    <tr>\n",
              "      <th>TextRank (Baseline)</th>\n",
              "      <td>0.436975</td>\n",
              "      <td>0.324786</td>\n",
              "      <td>0.386555</td>\n",
              "      <td>0.436975</td>\n",
              "      <td>0.196133</td>\n",
              "    </tr>\n",
              "    <tr>\n",
              "      <th>Pegasus</th>\n",
              "      <td>0.800000</td>\n",
              "      <td>0.692308</td>\n",
              "      <td>0.800000</td>\n",
              "      <td>0.800000</td>\n",
              "      <td>0.656627</td>\n",
              "    </tr>\n",
              "    <tr>\n",
              "      <th>BART</th>\n",
              "      <td>0.613636</td>\n",
              "      <td>0.372093</td>\n",
              "      <td>0.545455</td>\n",
              "      <td>0.568182</td>\n",
              "      <td>0.315534</td>\n",
              "    </tr>\n",
              "    <tr>\n",
              "      <th>T5</th>\n",
              "      <td>0.550725</td>\n",
              "      <td>0.417910</td>\n",
              "      <td>0.376812</td>\n",
              "      <td>0.521739</td>\n",
              "      <td>0.341772</td>\n",
              "    </tr>\n",
              "    <tr>\n",
              "      <th>ProphetNet</th>\n",
              "      <td>0.446602</td>\n",
              "      <td>0.257426</td>\n",
              "      <td>0.407767</td>\n",
              "      <td>0.407767</td>\n",
              "      <td>0.105590</td>\n",
              "    </tr>\n",
              "  </tbody>\n",
              "</table>\n",
              "</div>\n",
              "    <div class=\"colab-df-buttons\">\n",
              "\n",
              "  <div class=\"colab-df-container\">\n",
              "    <button class=\"colab-df-convert\" onclick=\"convertToInteractive('df-c60c4725-e363-451d-9590-af2d0be3918c')\"\n",
              "            title=\"Convert this dataframe to an interactive table.\"\n",
              "            style=\"display:none;\">\n",
              "\n",
              "  <svg xmlns=\"http://www.w3.org/2000/svg\" height=\"24px\" viewBox=\"0 -960 960 960\">\n",
              "    <path d=\"M120-120v-720h720v720H120Zm60-500h600v-160H180v160Zm220 220h160v-160H400v160Zm0 220h160v-160H400v160ZM180-400h160v-160H180v160Zm440 0h160v-160H620v160ZM180-180h160v-160H180v160Zm440 0h160v-160H620v160Z\"/>\n",
              "  </svg>\n",
              "    </button>\n",
              "\n",
              "  <style>\n",
              "    .colab-df-container {\n",
              "      display:flex;\n",
              "      gap: 12px;\n",
              "    }\n",
              "\n",
              "    .colab-df-convert {\n",
              "      background-color: #E8F0FE;\n",
              "      border: none;\n",
              "      border-radius: 50%;\n",
              "      cursor: pointer;\n",
              "      display: none;\n",
              "      fill: #1967D2;\n",
              "      height: 32px;\n",
              "      padding: 0 0 0 0;\n",
              "      width: 32px;\n",
              "    }\n",
              "\n",
              "    .colab-df-convert:hover {\n",
              "      background-color: #E2EBFA;\n",
              "      box-shadow: 0px 1px 2px rgba(60, 64, 67, 0.3), 0px 1px 3px 1px rgba(60, 64, 67, 0.15);\n",
              "      fill: #174EA6;\n",
              "    }\n",
              "\n",
              "    .colab-df-buttons div {\n",
              "      margin-bottom: 4px;\n",
              "    }\n",
              "\n",
              "    [theme=dark] .colab-df-convert {\n",
              "      background-color: #3B4455;\n",
              "      fill: #D2E3FC;\n",
              "    }\n",
              "\n",
              "    [theme=dark] .colab-df-convert:hover {\n",
              "      background-color: #434B5C;\n",
              "      box-shadow: 0px 1px 3px 1px rgba(0, 0, 0, 0.15);\n",
              "      filter: drop-shadow(0px 1px 2px rgba(0, 0, 0, 0.3));\n",
              "      fill: #FFFFFF;\n",
              "    }\n",
              "  </style>\n",
              "\n",
              "    <script>\n",
              "      const buttonEl =\n",
              "        document.querySelector('#df-c60c4725-e363-451d-9590-af2d0be3918c button.colab-df-convert');\n",
              "      buttonEl.style.display =\n",
              "        google.colab.kernel.accessAllowed ? 'block' : 'none';\n",
              "\n",
              "      async function convertToInteractive(key) {\n",
              "        const element = document.querySelector('#df-c60c4725-e363-451d-9590-af2d0be3918c');\n",
              "        const dataTable =\n",
              "          await google.colab.kernel.invokeFunction('convertToInteractive',\n",
              "                                                    [key], {});\n",
              "        if (!dataTable) return;\n",
              "\n",
              "        const docLinkHtml = 'Like what you see? Visit the ' +\n",
              "          '<a target=\"_blank\" href=https://colab.research.google.com/notebooks/data_table.ipynb>data table notebook</a>'\n",
              "          + ' to learn more about interactive tables.';\n",
              "        element.innerHTML = '';\n",
              "        dataTable['output_type'] = 'display_data';\n",
              "        await google.colab.output.renderOutput(dataTable, element);\n",
              "        const docLink = document.createElement('div');\n",
              "        docLink.innerHTML = docLinkHtml;\n",
              "        element.appendChild(docLink);\n",
              "      }\n",
              "    </script>\n",
              "  </div>\n",
              "\n",
              "\n",
              "<div id=\"df-b5900db8-f881-4ac8-8f9e-5d3234eb4a16\">\n",
              "  <button class=\"colab-df-quickchart\" onclick=\"quickchart('df-b5900db8-f881-4ac8-8f9e-5d3234eb4a16')\"\n",
              "            title=\"Suggest charts\"\n",
              "            style=\"display:none;\">\n",
              "\n",
              "<svg xmlns=\"http://www.w3.org/2000/svg\" height=\"24px\"viewBox=\"0 0 24 24\"\n",
              "     width=\"24px\">\n",
              "    <g>\n",
              "        <path d=\"M19 3H5c-1.1 0-2 .9-2 2v14c0 1.1.9 2 2 2h14c1.1 0 2-.9 2-2V5c0-1.1-.9-2-2-2zM9 17H7v-7h2v7zm4 0h-2V7h2v10zm4 0h-2v-4h2v4z\"/>\n",
              "    </g>\n",
              "</svg>\n",
              "  </button>\n",
              "\n",
              "<style>\n",
              "  .colab-df-quickchart {\n",
              "      --bg-color: #E8F0FE;\n",
              "      --fill-color: #1967D2;\n",
              "      --hover-bg-color: #E2EBFA;\n",
              "      --hover-fill-color: #174EA6;\n",
              "      --disabled-fill-color: #AAA;\n",
              "      --disabled-bg-color: #DDD;\n",
              "  }\n",
              "\n",
              "  [theme=dark] .colab-df-quickchart {\n",
              "      --bg-color: #3B4455;\n",
              "      --fill-color: #D2E3FC;\n",
              "      --hover-bg-color: #434B5C;\n",
              "      --hover-fill-color: #FFFFFF;\n",
              "      --disabled-bg-color: #3B4455;\n",
              "      --disabled-fill-color: #666;\n",
              "  }\n",
              "\n",
              "  .colab-df-quickchart {\n",
              "    background-color: var(--bg-color);\n",
              "    border: none;\n",
              "    border-radius: 50%;\n",
              "    cursor: pointer;\n",
              "    display: none;\n",
              "    fill: var(--fill-color);\n",
              "    height: 32px;\n",
              "    padding: 0;\n",
              "    width: 32px;\n",
              "  }\n",
              "\n",
              "  .colab-df-quickchart:hover {\n",
              "    background-color: var(--hover-bg-color);\n",
              "    box-shadow: 0 1px 2px rgba(60, 64, 67, 0.3), 0 1px 3px 1px rgba(60, 64, 67, 0.15);\n",
              "    fill: var(--button-hover-fill-color);\n",
              "  }\n",
              "\n",
              "  .colab-df-quickchart-complete:disabled,\n",
              "  .colab-df-quickchart-complete:disabled:hover {\n",
              "    background-color: var(--disabled-bg-color);\n",
              "    fill: var(--disabled-fill-color);\n",
              "    box-shadow: none;\n",
              "  }\n",
              "\n",
              "  .colab-df-spinner {\n",
              "    border: 2px solid var(--fill-color);\n",
              "    border-color: transparent;\n",
              "    border-bottom-color: var(--fill-color);\n",
              "    animation:\n",
              "      spin 1s steps(1) infinite;\n",
              "  }\n",
              "\n",
              "  @keyframes spin {\n",
              "    0% {\n",
              "      border-color: transparent;\n",
              "      border-bottom-color: var(--fill-color);\n",
              "      border-left-color: var(--fill-color);\n",
              "    }\n",
              "    20% {\n",
              "      border-color: transparent;\n",
              "      border-left-color: var(--fill-color);\n",
              "      border-top-color: var(--fill-color);\n",
              "    }\n",
              "    30% {\n",
              "      border-color: transparent;\n",
              "      border-left-color: var(--fill-color);\n",
              "      border-top-color: var(--fill-color);\n",
              "      border-right-color: var(--fill-color);\n",
              "    }\n",
              "    40% {\n",
              "      border-color: transparent;\n",
              "      border-right-color: var(--fill-color);\n",
              "      border-top-color: var(--fill-color);\n",
              "    }\n",
              "    60% {\n",
              "      border-color: transparent;\n",
              "      border-right-color: var(--fill-color);\n",
              "    }\n",
              "    80% {\n",
              "      border-color: transparent;\n",
              "      border-right-color: var(--fill-color);\n",
              "      border-bottom-color: var(--fill-color);\n",
              "    }\n",
              "    90% {\n",
              "      border-color: transparent;\n",
              "      border-bottom-color: var(--fill-color);\n",
              "    }\n",
              "  }\n",
              "</style>\n",
              "\n",
              "  <script>\n",
              "    async function quickchart(key) {\n",
              "      const quickchartButtonEl =\n",
              "        document.querySelector('#' + key + ' button');\n",
              "      quickchartButtonEl.disabled = true;  // To prevent multiple clicks.\n",
              "      quickchartButtonEl.classList.add('colab-df-spinner');\n",
              "      try {\n",
              "        const charts = await google.colab.kernel.invokeFunction(\n",
              "            'suggestCharts', [key], {});\n",
              "      } catch (error) {\n",
              "        console.error('Error during call to suggestCharts:', error);\n",
              "      }\n",
              "      quickchartButtonEl.classList.remove('colab-df-spinner');\n",
              "      quickchartButtonEl.classList.add('colab-df-quickchart-complete');\n",
              "    }\n",
              "    (() => {\n",
              "      let quickchartButtonEl =\n",
              "        document.querySelector('#df-b5900db8-f881-4ac8-8f9e-5d3234eb4a16 button');\n",
              "      quickchartButtonEl.style.display =\n",
              "        google.colab.kernel.accessAllowed ? 'block' : 'none';\n",
              "    })();\n",
              "  </script>\n",
              "</div>\n",
              "    </div>\n",
              "  </div>\n"
            ]
          },
          "metadata": {},
          "execution_count": 36
        }
      ]
    },
    {
      "cell_type": "markdown",
      "source": [
        "## Compare all model summaries incl. baseline on CNN/Daily mail dataset"
      ],
      "metadata": {
        "id": "lVF6y2fHpxxq"
      }
    },
    {
      "cell_type": "code",
      "source": [
        "print_summaries(summaries, reference)"
      ],
      "metadata": {
        "colab": {
          "base_uri": "https://localhost:8080/"
        },
        "id": "SCKXQBmLEJ9Z",
        "outputId": "36d272a7-8481-4409-9aae-a8033641c1e9"
      },
      "execution_count": 37,
      "outputs": [
        {
          "output_type": "stream",
          "name": "stdout",
          "text": [
            "\u001b[1mGround truth\u001b[0m\n",
            "Harry Potter star Daniel Radcliffe gets £20M fortune as he turns 18\n",
            "Monday .\n",
            "Young actor says he has no plans to fritter his cash away .\n",
            "Radcliffe's earnings from first five Potter films have been held in\n",
            "trust fund .\n",
            "\n",
            "====================================================================\n",
            "\n",
            "\u001b[1mTextRank (Baseline)\u001b[0m\n",
            "['LONDON, England (Reuters) -- Harry Potter star Daniel Radcliffe\n",
            "gains access to a reported £20 million ($41.1 million) fortune as he\n",
            "turns 18 on Monday, but he insists the money won\\'t cast a spell on\n",
            "him.\\nDaniel Radcliffe as Harry Potter in \"Harry Potter and the Order\n",
            "of the Phoenix\" To the disappointment of gossip columnists around the\n",
            "world, the young actor says he has no plans to fritter his cash away\n",
            "on fast cars, drink and celebrity parties.']\n",
            "\n",
            "--------------------------------------------------------------------\n",
            "\n",
            "\u001b[1mPegasus\u001b[0m\n",
            "Harry Potter star Daniel Radcliffe gains access to a reported £20\n",
            "million fortune.\n",
            "Young actor says he has no plans to fritter his cash away.\n",
            "Radcliffe's earnings from the first five Potter films have been held\n",
            "in a trust fund .\n",
            "\n",
            "--------------------------------------------------------------------\n",
            "\n",
            "\u001b[1mBART\u001b[0m\n",
            "Harry Potter star Daniel Radcliffe turns 18 on Monday. He gains access\n",
            "to a reported £20 million ($41.1 million) fortune. Radcliffe's\n",
            "earnings from the first five Potter films have been held in a trust\n",
            "fund. Details of how he'll mark his landmark birthday are under wraps.\n",
            "\n",
            "--------------------------------------------------------------------\n",
            "\n",
            "\u001b[1mT5\u001b[0m\n",
            "Harry Potter star Daniel Radcliffe says he has no plans to fritter\n",
            "away his fortune as he turns 18 . \"I don't think I'll be particularly\n",
            "extravagant,\" he says.\n",
            "\n",
            "--------------------------------------------------------------------\n",
            "\n",
            "\u001b[1mProphetNet\u001b[0m\n",
            "harry potter star daniel radcliffe gains access to a reported $ 41 . 1\n",
            "million fortune . [X_SEP] at 18 , radcliffe will be able to gamble in\n",
            "a casino , buy a drink in a pub . [X_SEP] details of how he ' ll mark\n",
            "his landmark birthday are under wraps . [X_SEP] his earnings from the\n",
            "first five potter films have been held in a trust fund .\n",
            "\n",
            "--------------------------------------------------------------------\n",
            "\n"
          ]
        }
      ]
    },
    {
      "cell_type": "markdown",
      "source": [
        "# Use case arxiv: scientic paper summarization"
      ],
      "metadata": {
        "id": "6zHUklGIHgdH"
      }
    },
    {
      "cell_type": "code",
      "source": [
        "# Load the dataset\n",
        "test_dataset = load_dataset(\"scientific_papers\", \"arxiv\", split=\"test\")\n",
        "test_dataset.set_format(type='pandas', columns=['article', 'abstract'])\n"
      ],
      "metadata": {
        "colab": {
          "base_uri": "https://localhost:8080/"
        },
        "id": "rNCBim3kqpim",
        "outputId": "d47e19a4-e967-462f-b1e1-427b09f164f4"
      },
      "execution_count": 38,
      "outputs": [
        {
          "output_type": "stream",
          "name": "stderr",
          "text": [
            "WARNING:datasets.builder:Found cached dataset scientific_papers (/root/.cache/huggingface/datasets/scientific_papers/arxiv/1.1.1/306757013fb6f37089b6a75469e6638a553bd9f009484938d8f75a4c5e84206f)\n"
          ]
        }
      ]
    },
    {
      "cell_type": "code",
      "source": [
        "# Convert to pandas DataFrame\n",
        "df = test_dataset.to_pandas()"
      ],
      "metadata": {
        "id": "kKeK_tGBLy8x"
      },
      "execution_count": 39,
      "outputs": []
    },
    {
      "cell_type": "code",
      "source": [
        "sample = df.iloc[0]"
      ],
      "metadata": {
        "id": "jR5eiagzL7gt"
      },
      "execution_count": 40,
      "outputs": []
    },
    {
      "cell_type": "code",
      "source": [
        "excerpt = 1500\n",
        "\n",
        "print(f\"\\033[1mExcerpt of {excerpt} characters, total length of article: \\\n",
        "{len(sample['article'])}:\\033[0m\\n\")\n",
        "\n",
        "print(sample[\"article\"][:excerpt])\n",
        "print(f\"\\033[1m\\n\\nSummary (length: {len(sample['abstract'])}):\\033[0m\\n\")\n",
        "print(sample[\"abstract\"])\n"
      ],
      "metadata": {
        "colab": {
          "base_uri": "https://localhost:8080/"
        },
        "id": "NB2XZtxlL9MP",
        "outputId": "36e0d45d-29ae-4724-e6c8-9f2e38419ba2"
      },
      "execution_count": 41,
      "outputs": [
        {
          "output_type": "stream",
          "name": "stdout",
          "text": [
            "\u001b[1mExcerpt of 1500 characters, total length of article: 32828:\u001b[0m\n",
            "\n",
            "for about 20 years the problem of properties of short - term changes\n",
            "of solar activity has been considered extensively .\n",
            "many investigators studied the short - term periodicities of the\n",
            "various indices of solar activity .\n",
            "several periodicities were detected , but the periodicities about 155\n",
            "days and from the interval of @xmath3 $ ] days ( @xmath4 $ ] years )\n",
            "are mentioned most often .\n",
            "first of them was discovered by @xcite in the occurence rate of gamma\n",
            "- ray flares detected by the gamma - ray spectrometer aboard the _\n",
            "solar maximum mission ( smm ) .\n",
            "this periodicity was confirmed for other solar flares data and for the\n",
            "same time period @xcite .\n",
            "it was also found in proton flares during solar cycles 19 and 20\n",
            "@xcite , but it was not found in the solar flares data during solar\n",
            "cycles 22 @xcite .\n",
            "_    several autors confirmed above results for the daily sunspot area\n",
            "data . @xcite studied the sunspot data from 18741984 .\n",
            "she found the 155-day periodicity in data records from 31 years .\n",
            "this periodicity is always characteristic for one of the solar\n",
            "hemispheres ( the southern hemisphere for cycles 1215 and the northern\n",
            "hemisphere for cycles 1621 ) .\n",
            "moreover , it is only present during epochs of maximum activity ( in\n",
            "episodes of 13 years ) .\n",
            "similarinvestigationswerecarriedoutby + @xcite .\n",
            "they applied the same power spectrum method as lean , but the daily\n",
            "sunspot area data ( cycles 1221 ) were divided into 10 shorter time\n",
            "series .\n",
            "the periodicities were searched for the frequency\n",
            "\u001b[1m\n",
            "\n",
            "Summary (length: 1261):\u001b[0m\n",
            "\n",
            " the short - term periodicities of the daily sunspot area fluctuations\n",
            "from august 1923 to october 1933 are discussed . for these data\n",
            " the correlative analysis indicates negative correlation for the\n",
            "periodicity of about @xmath0 days , but the power spectrum analysis\n",
            "indicates a statistically significant peak in this time interval .\n",
            " a new method of the diagnosis of an echo - effect in spectrum is\n",
            "proposed and it is stated that the 155-day periodicity is a harmonic\n",
            "of the periodicities from the interval of @xmath1 $ ] days .    the\n",
            "autocorrelation functions for the daily sunspot area fluctuations and\n",
            "for the fluctuations of the one rotation time interval in the northern\n",
            "hemisphere , separately for the whole solar cycle 16 and for the\n",
            "maximum activity period of this cycle do not show differences ,\n",
            "especially in the interval of @xmath2 $ ] days .\n",
            " it proves against the thesis of the existence of strong positive\n",
            "fluctuations of the about @xmath0-day interval in the maximum activity\n",
            "period of the solar cycle 16 in the northern hemisphere .\n",
            " however , a similar analysis for data from the southern hemisphere\n",
            "indicates that there is the periodicity of about @xmath0 days in\n",
            "sunspot area data in the maximum activity period of the cycle 16 only\n",
            ".\n"
          ]
        }
      ]
    },
    {
      "cell_type": "code",
      "source": [
        "# Convert the pandas series to a numpy array\n",
        "papers_np = test_dataset[\"article\"].to_numpy()\n",
        "\n",
        "papers_np.shape"
      ],
      "metadata": {
        "colab": {
          "base_uri": "https://localhost:8080/"
        },
        "id": "igISon07DO5z",
        "outputId": "7a76f018-2bde-47b4-b303-2c2edac23a90"
      },
      "execution_count": 42,
      "outputs": [
        {
          "output_type": "execute_result",
          "data": {
            "text/plain": [
              "(6440,)"
            ]
          },
          "metadata": {},
          "execution_count": 42
        }
      ]
    },
    {
      "cell_type": "code",
      "source": [
        "papers_np_1 = papers_np[:1]\n",
        "papers_np_1.shape"
      ],
      "metadata": {
        "colab": {
          "base_uri": "https://localhost:8080/"
        },
        "id": "QFGRMKbRDqQq",
        "outputId": "724e03d1-7c5a-4236-f4ea-cb4f4583eacb"
      },
      "execution_count": 43,
      "outputs": [
        {
          "output_type": "execute_result",
          "data": {
            "text/plain": [
              "(1,)"
            ]
          },
          "metadata": {},
          "execution_count": 43
        }
      ]
    },
    {
      "cell_type": "code",
      "source": [
        "# Define a new function with the `words` argument fixed to 120\n",
        "summarize_text_120 = partial(summarize_text, words=120)\n",
        "\n",
        "# Parallelize the TextRank summarization\n",
        "with Pool() as pool:\n",
        "    summarized_articles = pool.map(summarize_text_120, papers_np_1)"
      ],
      "metadata": {
        "id": "ZVE-q0VtDlh6"
      },
      "execution_count": 44,
      "outputs": []
    },
    {
      "cell_type": "code",
      "source": [
        "references_arxiv = test_dataset[\"abstract\"][:1].tolist()"
      ],
      "metadata": {
        "id": "jiOqDFgfD31M"
      },
      "execution_count": 45,
      "outputs": []
    },
    {
      "cell_type": "code",
      "execution_count": 46,
      "metadata": {
        "id": "RN_DtQyGEN7W"
      },
      "outputs": [],
      "source": [
        "references_arxiv = np.array(test_dataset[\"abstract\"])"
      ]
    },
    {
      "cell_type": "code",
      "source": [
        "references_arxiv_np = np.array(references_arxiv)\n",
        "print(references_arxiv_np[:1])"
      ],
      "metadata": {
        "colab": {
          "base_uri": "https://localhost:8080/"
        },
        "outputId": "471a7ba7-98df-4348-8ad2-41e63ce53301",
        "id": "LyvDAaaDEN7W"
      },
      "execution_count": 47,
      "outputs": [
        {
          "output_type": "stream",
          "name": "stdout",
          "text": [
            "[' the short - term periodicities of the daily sunspot area\n",
            "fluctuations from august 1923 to october 1933 are discussed . for\n",
            "these data \\n the correlative analysis indicates negative correlation\n",
            "for the periodicity of about @xmath0 days , but the power spectrum\n",
            "analysis indicates a statistically significant peak in this time\n",
            "interval . \\n a new method of the diagnosis of an echo - effect in\n",
            "spectrum is proposed and it is stated that the 155-day periodicity is\n",
            "a harmonic of the periodicities from the interval of @xmath1 $ ] days\n",
            ".    the autocorrelation functions for the daily sunspot area\n",
            "fluctuations and for the fluctuations of the one rotation time\n",
            "interval in the northern hemisphere , separately for the whole solar\n",
            "cycle 16 and for the maximum activity period of this cycle do not show\n",
            "differences , especially in the interval of @xmath2 $ ] days . \\n it\n",
            "proves against the thesis of the existence of strong positive\n",
            "fluctuations of the about @xmath0-day interval in the maximum activity\n",
            "period of the solar cycle 16 in the northern hemisphere . \\n however ,\n",
            "a similar analysis for data from the southern hemisphere indicates\n",
            "that there is the periodicity of about @xmath0 days in sunspot area\n",
            "data in the maximum activity period of the cycle 16 only . ']\n"
          ]
        }
      ]
    },
    {
      "cell_type": "code",
      "source": [
        "reference = references_arxiv[0]"
      ],
      "metadata": {
        "id": "PPplCmDFEN7W"
      },
      "execution_count": 48,
      "outputs": []
    },
    {
      "cell_type": "code",
      "source": [
        "print(reference)"
      ],
      "metadata": {
        "colab": {
          "base_uri": "https://localhost:8080/"
        },
        "id": "TZgbvwUuLA5r",
        "outputId": "0bcab855-0829-4de9-8e46-55c052eb615c"
      },
      "execution_count": 49,
      "outputs": [
        {
          "output_type": "stream",
          "name": "stdout",
          "text": [
            " the short - term periodicities of the daily sunspot area fluctuations\n",
            "from august 1923 to october 1933 are discussed . for these data\n",
            " the correlative analysis indicates negative correlation for the\n",
            "periodicity of about @xmath0 days , but the power spectrum analysis\n",
            "indicates a statistically significant peak in this time interval .\n",
            " a new method of the diagnosis of an echo - effect in spectrum is\n",
            "proposed and it is stated that the 155-day periodicity is a harmonic\n",
            "of the periodicities from the interval of @xmath1 $ ] days .    the\n",
            "autocorrelation functions for the daily sunspot area fluctuations and\n",
            "for the fluctuations of the one rotation time interval in the northern\n",
            "hemisphere , separately for the whole solar cycle 16 and for the\n",
            "maximum activity period of this cycle do not show differences ,\n",
            "especially in the interval of @xmath2 $ ] days .\n",
            " it proves against the thesis of the existence of strong positive\n",
            "fluctuations of the about @xmath0-day interval in the maximum activity\n",
            "period of the solar cycle 16 in the northern hemisphere .\n",
            " however , a similar analysis for data from the southern hemisphere\n",
            "indicates that there is the periodicity of about @xmath0 days in\n",
            "sunspot area data in the maximum activity period of the cycle 16 only\n",
            ".\n"
          ]
        }
      ]
    },
    {
      "cell_type": "code",
      "source": [
        "print(summarized_articles[0])"
      ],
      "metadata": {
        "colab": {
          "base_uri": "https://localhost:8080/"
        },
        "outputId": "4a6c8d1b-0ab5-48f6-8b77-11e52992ba10",
        "id": "fjjHEtzZEN7W"
      },
      "execution_count": 50,
      "outputs": [
        {
          "output_type": "stream",
          "name": "stdout",
          "text": [
            "the autocorrelation function of the time series @xmath90 ( the lower\n",
            "curve in figure [ f3 ] ) has only one statistically significant peak\n",
            "for @xmath98 months ( 480 days ) and negative values for @xmath99 $ ]\n",
            "months ( [ 90 , 390 ] days ) .\n",
            "two effects cause the existence of the peak of the periodogram of the\n",
            "time series of sunspot area fluctuations at about @xmath0 days : the\n",
            "first is caused by the 27-day periodicity , which probably creates the\n",
            "162-day periodicity ( it is a subharmonic frequency of the 27-day\n",
            "periodicity ) and the second is caused by statistically significant\n",
            "positive values of the autocorrelation function from the intervals of\n",
            "@xmath165 $ ] and @xmath166 $ ] days .\n"
          ]
        }
      ]
    },
    {
      "cell_type": "code",
      "source": [
        "sample_text = sample[0]"
      ],
      "metadata": {
        "id": "H7eTonZLLmiw"
      },
      "execution_count": 51,
      "outputs": []
    },
    {
      "cell_type": "code",
      "source": [
        "summaries_arxiv = {}\n",
        "summaries_arxiv['TextRank (Baseline)'] = summarized_articles"
      ],
      "metadata": {
        "id": "_7RfkhgtRpCb"
      },
      "execution_count": 52,
      "outputs": []
    },
    {
      "cell_type": "markdown",
      "source": [
        "## Generate summary from  <font color='red'>\"BigBirdPegasus\"</font> model"
      ],
      "metadata": {
        "id": "dZRMfTHGWJV7"
      }
    },
    {
      "cell_type": "markdown",
      "source": [
        "BigBird, is a sparse-attention based transformer which extends Transformer based models, such as BERT to much longer sequences. Moreover, BigBird comes along with a theoretical understanding of the capabilities of a complete transformer that the sparse model can handle. BigBird was introduced in this [paper](https://arxiv.org/abs/2007.14062).\n",
        "<br><br>\n",
        "\n",
        "__Model description__\n",
        "\n",
        "BigBird relies on block sparse attention instead of normal attention (i.e. BERT's attention) and can handle sequences up to a length of 4096 at a much lower compute cost compared to BERT. It has achieved SOTA on various tasks involving very long sequences such as long documents summarization, question-answering with long contexts.\n",
        "\n",
        "The models checkpoint is obtained after fine-tuning BigBirdPegasusForConditionalGeneration for summarization on arxiv dataset from scientific papers."
      ],
      "metadata": {
        "id": "ePiFNa8mWjaN"
      }
    },
    {
      "cell_type": "code",
      "source": [
        "tokenizer = AutoTokenizer.from_pretrained(\"google/bigbird-pegasus-large-arxiv\")\n",
        "\n",
        "# by default encoder-attention is `block_sparse` with num_random_blocks=3, block_size=64\n",
        "model = BigBirdPegasusForConditionalGeneration.from_pretrained(\"google/bigbird-pegasus-large-arxiv\")\n",
        "\n",
        "# decoder attention type can't be changed & will be \"original_full\"\n",
        "# you can change `attention_type` (encoder only) to full attention like this:\n",
        "model = BigBirdPegasusForConditionalGeneration.from_pretrained(\"google/bigbird-pegasus-large-arxiv\", attention_type=\"original_full\")\n",
        "\n",
        "# you can change `block_size` & `num_random_blocks` like this:\n",
        "model = BigBirdPegasusForConditionalGeneration.from_pretrained(\"google/bigbird-pegasus-large-arxiv\", block_size=16, num_random_blocks=2)\n",
        "\n",
        "text = sample_text\n",
        "inputs = tokenizer.encode_plus(text, return_tensors='pt',max_length=4096, truncation=True)\n",
        "prediction = model.generate(**inputs)\n",
        "prediction = tokenizer.batch_decode(prediction)"
      ],
      "metadata": {
        "colab": {
          "base_uri": "https://localhost:8080/"
        },
        "id": "Zx_YFmpIKVON",
        "outputId": "ab1a44e1-0819-4f54-cb07-43f876b7e106"
      },
      "execution_count": 53,
      "outputs": [
        {
          "output_type": "stream",
          "name": "stderr",
          "text": [
            "/usr/local/lib/python3.10/dist-packages/transformers/generation/utils.py:1273: UserWarning: Neither `max_length` nor `max_new_tokens` has been set, `max_length` will default to 256 (`generation_config.max_length`). Controlling `max_length` via the config is deprecated and `max_length` will be removed from the config in v5 of Transformers -- we recommend using `max_new_tokens` to control the maximum length of the generation.\n",
            "  warnings.warn(\n"
          ]
        }
      ]
    },
    {
      "cell_type": "code",
      "source": [
        "summaries_arxiv['bigbird-pegasus'] = prediction"
      ],
      "metadata": {
        "id": "jXm6KAvZMzOm"
      },
      "execution_count": 54,
      "outputs": []
    },
    {
      "cell_type": "code",
      "source": [
        "summaries_arxiv['bigbird-pegasus'] = summaries_arxiv['bigbird-pegasus'][0]\n",
        "summaries_arxiv['bigbird-pegasus']"
      ],
      "metadata": {
        "colab": {
          "base_uri": "https://localhost:8080/",
          "height": 122
        },
        "id": "Xu663-Y-UrIv",
        "outputId": "4648362a-6fd6-414c-8f96-70dd1074e9bc"
      },
      "execution_count": 55,
      "outputs": [
        {
          "output_type": "execute_result",
          "data": {
            "text/plain": [
              "'<s> a method of analysis of the short - term changes of solar activity based on the analysis of the periodograms is developed.<n> the method is based on the analysis of the periodograms of the power spectrum of the change of solar activity.<n> the periodograms of the power spectrum of the change of solar activity are obtained by using the autocorrelation function of the change of solar activity.<n> the periodograms of the power spectrum of the change of solar activity are obtained by using the blackman - tukey power spectrum method.<n> the blackman - tukey method is used for the analysis of the periodograms of the power spectrum of the change of solar activity.<n> the periodograms of the power spectrum of the change of solar activity are obtained by using the kolmogorov - smirnov power spectrum method.<n> the kolmogorov - smirnov power spectrum method is used for the analysis of the periodograms of the power spectrum of the change of solar activity.<n> the kolmogorov - smirnov power spectrum method is used for the analysis of the periodograms of the power spectrum of the change of solar activity.<n> the kol'"
            ],
            "application/vnd.google.colaboratory.intrinsic+json": {
              "type": "string"
            }
          },
          "metadata": {},
          "execution_count": 55
        }
      ]
    },
    {
      "cell_type": "markdown",
      "source": [
        "## Generate summary from  <font color='red'>\"Longformer\"</font> model"
      ],
      "metadata": {
        "id": "5G5k687DZ6sU"
      }
    },
    {
      "cell_type": "markdown",
      "source": [
        "First, it's important to note that the scores, such as ROUGE, for shorter text are generally higher than for longer text. This is because shorter text is easier to summarize accurately, and the metrics can capture the essence of the original text more effectively. In the case of the Longformer, its strong performance on longer text sequences is particularly noteworthy, as it demonstrates the model's ability to handle more complex summarization tasks effectively. This further emphasizes the strength of the Longformer and its potential for various text summarization applications.\n",
        "\n",
        "Comparing the Longformer with other models on longer text, such as the arXiv dataset, can provide valuable insights into their performance. The arXiv dataset consists of scientific articles, which tend to be long and complex, making it an ideal benchmark for text summarization models.\n",
        "\n",
        "For example, BART has achieved good results on the arXiv dataset. However, due to its limitations in handling longer text sequences, it may not be as effective as the Longformer. T5 has also demonstrated competitive performance on longer text summarization tasks, but it may still fall short when compared to the Longformer's capabilities.\n",
        "\n",
        "Models like PEGASUS and BigBird, which have been designed with summarization-specific pre-training objectives, have shown promise on long text summarization tasks as well. However, as mentioned earlier, the Longformer outperforms these models despite not having a summarization-specific pre-training objective.\n",
        "\n",
        "In summary, while other models have demonstrated varying levels of success on longer text summarization tasks such as the arXiv dataset, the Longformer stands out due to its ability to handle longer text sequences effectively and achieve high scores on various metrics, such as ROUGE.\n",
        "\n",
        "The [official paper](https://arxiv.org/pdf/2004.05150.pdf) reports a new state-of-the-art __ROUGE-2 score of 19.62__ on the whole test dataset (WikiLingua dataset) which aligns very well with our observation here. LED significantly outperforms [PEGASUS](https://huggingface.co/transformers/model_doc/pegasus.html) and also slightly outperforms [BigBird](https://arxiv.org/abs/2007.14062) despite *PEGASUS* and\n",
        "*BigBird* making use of a \"summarization-specific\" pre-training objective.\n",
        "\n",
        "As a comparison, BART achieved a __ROUGE-2 score of 17.50__ on the arXiv dataset. It's important to note that these scores are for the standard BART model, which has limitations in handling longer text sequences."
      ],
      "metadata": {
        "id": "D5QDVPd5N5OC"
      }
    },
    {
      "cell_type": "code",
      "source": [
        "LONG_ARTICLE = sample_text\n",
        "LONG_ARTICLE"
      ],
      "metadata": {
        "colab": {
          "base_uri": "https://localhost:8080/",
          "height": 122
        },
        "id": "v8sZ5SLlX6n_",
        "outputId": "07c6747f-10d6-4f00-a71b-55d628917d17"
      },
      "execution_count": 56,
      "outputs": [
        {
          "output_type": "execute_result",
          "data": {
            "text/plain": [
              "'for about 20 years the problem of properties of short - term changes of solar activity has been considered extensively .\\nmany investigators studied the short - term periodicities of the various indices of solar activity .\\nseveral periodicities were detected , but the periodicities about 155 days and from the interval of @xmath3 $ ] days ( @xmath4 $ ] years ) are mentioned most often .\\nfirst of them was discovered by @xcite in the occurence rate of gamma - ray flares detected by the gamma - ray spectrometer aboard the _ solar maximum mission ( smm ) .\\nthis periodicity was confirmed for other solar flares data and for the same time period @xcite .\\nit was also found in proton flares during solar cycles 19 and 20 @xcite , but it was not found in the solar flares data during solar cycles 22 @xcite .\\n_    several autors confirmed above results for the daily sunspot area data . @xcite studied the sunspot data from 18741984 .\\nshe found the 155-day periodicity in data records from 31 years .\\nthis periodicity is always characteristic for one of the solar hemispheres ( the southern hemisphere for cycles 1215 and the northern hemisphere for cycles 1621 ) .\\nmoreover , it is only present during epochs of maximum activity ( in episodes of 13 years ) .\\nsimilarinvestigationswerecarriedoutby + @xcite .\\nthey applied the same power spectrum method as lean , but the daily sunspot area data ( cycles 1221 ) were divided into 10 shorter time series .\\nthe periodicities were searched for the frequency interval 57115 nhz ( 100200 days ) and for each of 10 time series .\\nthe authors showed that the periodicity between 150160 days is statistically significant during all cycles from 16 to 21 .\\nthe considered peaks were remained unaltered after removing the 11-year cycle and applying the power spectrum analysis .\\n@xcite used the wavelet technique for the daily sunspot areas between 1874 and 1993 .\\nthey determined the epochs of appearance of this periodicity and concluded that it presents around the maximum activity period in cycles 16 to 21 .\\nmoreover , the power of this periodicity started growing at cycle 19 , decreased in cycles 20 and 21 and disappered after cycle 21 .\\nsimilaranalyseswerepresentedby + @xcite , but for sunspot number , solar wind plasma , interplanetary magnetic field and geomagnetic activity index @xmath5 .\\nduring 1964 - 2000 the sunspot number wavelet power of periods less than one year shows a cyclic evolution with the phase of the solar cycle.the 154-day period is prominent and its strenth is stronger around the 1982 - 1984 interval in almost all solar wind parameters .\\nthe existence of the 156-day periodicity in sunspot data were confirmed by @xcite .\\nthey considered the possible relation between the 475-day ( 1.3-year ) and 156-day periodicities .\\nthe 475-day ( 1.3-year ) periodicity was also detected in variations of the interplanetary magnetic field , geomagnetic activity helioseismic data and in the solar wind speed @xcite .\\n@xcite concluded that the region of larger wavelet power shifts from 475-day ( 1.3-year ) period to 620-day ( 1.7-year ) period and then back to 475-day ( 1.3-year ) .\\nthe periodicities from the interval @xmath6 $ ] days ( @xmath4 $ ] years ) have been considered from 1968 .\\n@xcite mentioned a 16.3-month ( 490-day ) periodicity in the sunspot numbers and in the geomagnetic data .\\n@xcite analysed the occurrence rate of major flares during solar cycles 19 .\\nthey found a 18-month ( 540-day ) periodicity in flare rate of the norhern hemisphere .\\n@xcite confirmed this result for the @xmath7 flare data for solar cycles 20 and 21 and found a peak in the power spectra near 510540 days .\\n@xcite found a 17-month ( 510-day ) periodicity of sunspot groups and their areas from 1969 to 1986 .\\nthese authors concluded that the length of this period is variable and the reason of this periodicity is still not understood .\\n@xcite and + @xcite obtained statistically significant peaks of power at around 158 days for daily sunspot data from 1923 - 1933 ( cycle 16 ) . in this paper the problem of the existence of this periodicity for sunspot data from cycle 16 is considered .\\nthe daily sunspot areas , the mean sunspot areas per carrington rotation , the monthly sunspot numbers and their fluctuations , which are obtained after removing the 11-year cycle are analysed . in section 2 the properties of the power spectrum methods are described . in section 3 a new approach to the problem of aliases in the power spectrum analysis\\nis presented . in section 4 numerical results of the new method of the diagnosis of an echo - effect for sunspot area data are discussed . in section 5 the problem of the existence of the periodicity of about 155 days during the maximum activity period for sunspot data from the whole solar disk and from each solar hemisphere separately is considered .\\nto find periodicities in a given time series the power spectrum analysis is applied . in this paper\\ntwo methods are used : the fast fourier transformation algorithm with the hamming window function ( fft ) and the blackman - tukey ( bt ) power spectrum method @xcite .\\nthe bt method is used for the diagnosis of the reasons of the existence of peaks , which are obtained by the fft method .\\nthe bt method consists in the smoothing of a cosine transform of an autocorrelation function using a 3-point weighting average .\\nsuch an estimator is consistent and unbiased .\\nmoreover , the peaks are uncorrelated and their sum is a variance of a considered time series . the main disadvantage of this method is a weak resolution of the periodogram points , particularly for low frequences .\\nfor example , if the autocorrelation function is evaluated for @xmath8 , then the distribution points in the time domain are : @xmath9 thus , it is obvious that this method should not be used for detecting low frequency periodicities with a fairly good resolution .\\nhowever , because of an application of the autocorrelation function , the bt method can be used to verify a reality of peaks which are computed using a method giving the better resolution ( for example the fft method ) .\\nit is valuable to remember that the power spectrum methods should be applied very carefully .\\nthe difficulties in the interpretation of significant peaks could be caused by at least four effects : a sampling of a continuos function , an echo - effect , a contribution of long - term periodicities and a random noise .\\nfirst effect exists because periodicities , which are shorter than the sampling interval , may mix with longer periodicities . in result , this effect can be reduced by an decrease of the sampling interval between observations .\\nthe echo - effect occurs when there is a latent harmonic of frequency @xmath10 in the time series , giving a spectral peak at @xmath10 , and also periodic terms of frequency @xmath11 etc .\\nthis may be detected by the autocorrelation function for time series with a large variance .\\ntime series often contain long - term periodicities , that influence short - term peaks .\\nthey could rise periodogram s peaks at lower frequencies .\\nhowever , it is also easy to notice the influence of the long - term periodicities on short - term peaks in the graphs of the autocorrelation functions .\\nthis effect is observed for the time series of solar activity indexes which are limited by the 11-year cycle .    to find statistically significant periodicities\\nit is reasonable to use the autocorrelation function and the power spectrum method with a high resolution . in the case of a stationary time\\nseries they give similar results .\\nmoreover , for a stationary time series with the mean zero the fourier transform is equivalent to the cosine transform of an autocorrelation function @xcite .\\nthus , after a comparison of a periodogram with an appropriate autocorrelation function one can detect peaks which are in the graph of the first function and do not exist in the graph of the second function .\\nthe reasons of their existence could be explained by the long - term periodicities and the echo - effect .\\nbelow method enables one to detect these effects .\\n( solid line ) and the 95% confidence level basing on thered noise ( dotted line ) .\\nthe periodogram values are presented on the left axis .\\nthe lower curve illustrates the autocorrelation function of the same time series ( solid line ) .\\nthe dotted lines represent two standard errors of the autocorrelation function .\\nthe dashed horizontal line shows the zero level .\\nthe autocorrelation values are shown in the right axis . ]     because the statistical tests indicate that the time series is a white noise the confidence level is not marked . ]    . ]\\nthe method of the diagnosis of an echo - effect in the power spectrum ( de ) consists in an analysis of a periodogram of a given time series computed using the bt method .\\nthe bt method bases on the cosine transform of the autocorrelation function which creates peaks which are in the periodogram , but not in the autocorrelation function .\\nthe de method is used for peaks which are computed by the fft method ( with high resolution ) and are statistically significant .\\nthe time series of sunspot activity indexes with the spacing interval one rotation or one month contain a markov - type persistence , which means a tendency for the successive values of the time series to remember their antecendent values .\\nthus , i use a confidence level basing on the red noise of markov @xcite for the choice of the significant peaks of the periodogram computed by the fft method .\\nwhen a time series does not contain the markov - type persistence i apply the fisher test and the kolmogorov - smirnov test at the significance level @xmath12 @xcite to verify a statistically significance of periodograms peaks . the fisher test checks the null hypothesis that the time series is white noise agains the alternative hypothesis that the time series contains an added deterministic periodic component of unspecified frequency . because the fisher test tends to be severe in rejecting peaks as insignificant the kolmogorov - smirnov test is also used .\\nthe de method analyses raw estimators of the power spectrum .\\nthey are given as follows    @xmath13    for @xmath14 + where @xmath15 for @xmath16 + @xmath17 is the length of the time series @xmath18 and @xmath19 is the mean value .\\nthe first term of the estimator @xmath20 is constant .\\nthe second term takes two values ( depending on odd or even @xmath21 ) which are not significant because @xmath22 for large m. thus , the third term of ( 1 ) should be analysed .\\nlooking for intervals of @xmath23 for which @xmath24 has the same sign and different signs one can find such parts of the function @xmath25 which create the value @xmath20 .\\nlet the set of values of the independent variable of the autocorrelation function be called @xmath26 and it can be divided into the sums of disjoint sets : @xmath27 where + @xmath28 + @xmath29 @xmath30 @xmath31 + @xmath32 + @xmath33 @xmath34 @xmath35 @xmath36 @xmath37 @xmath38\\n@xmath39 @xmath40    well , the set @xmath41 contains all integer values of @xmath23 from the interval of @xmath42 for which the autocorrelation function and the cosinus function with the period @xmath43 $ ] are positive .\\nthe index @xmath44 indicates successive parts of the cosinus function for which the cosinuses of successive values of @xmath23 have the same sign .\\nhowever , sometimes the set @xmath41 can be empty .\\nfor example , for @xmath45 and @xmath46 the set @xmath47 should contain all @xmath48 $ ] for which @xmath49 and @xmath50 , but for such values of @xmath23 the values of @xmath51 are negative .\\nthus , the set @xmath47 is empty .    .\\nthe periodogram values are presented on the left axis .\\nthe lower curve illustrates the autocorrelation function of the same time series .\\nthe autocorrelation values are shown in the right axis . ]\\nlet us take into consideration all sets \\\\{@xmath52 } , \\\\{@xmath53 } and \\\\{@xmath41 } which are not empty . because numberings and power of these sets depend on the form of the autocorrelation function of the given time series , it is impossible to establish them arbitrary .\\nthus , the sets of appropriate indexes of the sets \\\\{@xmath52 } , \\\\{@xmath53 } and \\\\{@xmath41 } are called @xmath54 , @xmath55 and @xmath56 respectively . for example\\nthe set @xmath56 contains all @xmath44 from the set @xmath57 for which the sets @xmath41 are not empty .\\nto separate quantitatively in the estimator @xmath20 the positive contributions which are originated by the cases described by the formula ( 5 ) from the cases which are described by the formula ( 3 ) the following indexes are introduced : @xmath58 @xmath59 @xmath60 @xmath61 where @xmath62 @xmath63 @xmath64 taking for the empty sets \\\\{@xmath53 } and \\\\{@xmath41 } the indices @xmath65 and @xmath66 equal zero .\\nthe index @xmath65 describes a percentage of the contribution of the case when @xmath25 and @xmath51 are positive to the positive part of the third term of the sum ( 1 ) .\\nthe index @xmath66 describes a similar contribution , but for the case when the both @xmath25 and @xmath51 are simultaneously negative .\\nthanks to these one can decide which the positive or the negative values of the autocorrelation function have a larger contribution to the positive values of the estimator @xmath20 .\\nwhen the difference @xmath67 is positive , the statement the @xmath21-th peak really exists can not be rejected .\\nthus , the following formula should be satisfied : @xmath68    because the @xmath21-th peak could exist as a result of the echo - effect , it is necessary to verify the second condition :    @xmath69\\\\in c_m.\\\\ ] ]    .\\nthe periodogram values are presented on the left axis .\\nthe lower curve illustrates the autocorrelation function of the same time series ( solid line ) .\\nthe dotted lines represent two standard errors of the autocorrelation function .\\nthe dashed horizontal line shows the zero level .\\nthe autocorrelation values are shown in the right axis . ]    to verify the implication ( 8) firstly it is necessary to evaluate the sets @xmath41 for @xmath70 of the values of @xmath23 for which the autocorrelation function and the cosine function with the period @xmath71 $ ] are positive and the sets @xmath72 of values of @xmath23 for which the autocorrelation function and the cosine function with the period @xmath43 $ ] are negative .\\nsecondly , a percentage of the contribution of the sum of products of positive values of @xmath25 and @xmath51 to the sum of positive products of the values of @xmath25 and @xmath51 should be evaluated . as a result the indexes @xmath65 for each set\\n@xmath41 where @xmath44 is the index from the set @xmath56 are obtained .\\nthirdly , from all sets @xmath41 such that @xmath70 the set @xmath73 for which the index @xmath65 is the greatest should be chosen .    the implication ( 8) is true when the set @xmath73 includes the considered period @xmath43 $ ] .\\nthis means that the greatest contribution of positive values of the autocorrelation function and positive cosines with the period @xmath43 $ ] to the periodogram value @xmath20 is caused by the sum of positive products of @xmath74 for each @xmath75-\\\\frac{m}{2k},[\\\\frac{2m}{k}]+\\\\frac{m}{2k})$ ] .    when the implication ( 8) is false , the peak @xmath20 is mainly created by the sum of positive products of @xmath74 for each @xmath76-\\\\frac{m}{2k},\\\\big [ \\\\frac{2m}{n}\\\\big ] + \\\\frac{m}{2k } \\\\big ) $ ] , where @xmath77 is a multiple or a divisor of @xmath21 .\\nit is necessary to add , that the de method should be applied to the periodograms peaks , which probably exist because of the echo - effect .\\nit enables one to find such parts of the autocorrelation function , which have the significant contribution to the considered peak .\\nthe fact , that the conditions ( 7 ) and ( 8) are satisfied , can unambiguously decide about the existence of the considered periodicity in the given time series , but if at least one of them is not satisfied , one can doubt about the existence of the considered periodicity .\\nthus , in such cases the sentence the peak can not be treated as true should be used .    using the de method\\nit is necessary to remember about the power of the set @xmath78 .\\nif @xmath79 is too large , errors of an autocorrelation function estimation appear .\\nthey are caused by the finite length of the given time series and as a result additional peaks of the periodogram occur . if @xmath79 is too small , there are less peaks because of a low resolution of the periodogram . in applications\\n@xmath80 is used . in order to evaluate the value\\n@xmath79 the fft method is used .\\nthe periodograms computed by the bt and the fft method are compared .\\nthe conformity of them enables one to obtain the value @xmath79 .    .\\nthe fft periodogram values are presented on the left axis .\\nthe lower curve illustrates the bt periodogram of the same time series ( solid line and large black circles ) .\\nthe bt periodogram values are shown in the right axis . ]\\nin this paper the sunspot activity data ( august 1923 - october 1933 ) provided by the greenwich photoheliographic results ( gpr ) are analysed .\\nfirstly , i consider the monthly sunspot number data . to eliminate the 11-year trend from these data ,\\nthe consecutively smoothed monthly sunspot number @xmath81 is subtracted from the monthly sunspot number @xmath82 where the consecutive mean @xmath83 is given by @xmath84 the values @xmath83 for @xmath85 and @xmath86 are calculated using additional data from last six months of cycle 15 and first six months of cycle 17 .    because of the north - south asymmetry of various solar indices @xcite , the sunspot activity is considered for each solar hemisphere separately .\\nanalogously to the monthly sunspot numbers , the time series of sunspot areas in the northern and southern hemispheres with the spacing interval @xmath87 rotation are denoted . in order to find periodicities ,\\nthe following time series are used : + @xmath88  \\n+ @xmath89\\n   + @xmath90     + in the lower part of figure [ f1 ] the autocorrelation function of the time series for the northern hemisphere @xmath88 is shown .\\nit is easy to notice that the prominent peak falls at 17 rotations interval ( 459 days ) and @xmath25 for @xmath91 $ ] rotations ( [ 81 , 162 ] days ) are significantly negative .\\nthe periodogram of the time series @xmath88 ( see the upper curve in figures [ f1 ] ) does not show the significant peaks at @xmath92 rotations ( 135 , 162 days ) , but there is the significant peak at @xmath93 ( 243 days ) .\\nthe peaks at @xmath94 are close to the peaks of the autocorrelation function .\\nthus , the result obtained for the periodicity at about @xmath0 days are contradict to the results obtained for the time series of daily sunspot areas @xcite .    for the southern hemisphere ( the lower curve in figure [ f2 ] ) @xmath25 for @xmath95 $ ] rotations ( [ 54 , 189 ] days ) is not positive except @xmath96 ( 135 days ) for which @xmath97 is not statistically significant .\\nthe upper curve in figures [ f2 ] presents the periodogram of the time series @xmath89 .\\nthis time series does not contain a markov - type persistence .\\nmoreover , the kolmogorov - smirnov test and the fisher test do not reject a null hypothesis that the time series is a white noise only .\\nthis means that the time series do not contain an added deterministic periodic component of unspecified frequency .\\nthe autocorrelation function of the time series @xmath90 ( the lower curve in figure [ f3 ] ) has only one statistically significant peak for @xmath98 months ( 480 days ) and negative values for @xmath99 $ ] months ( [ 90 , 390 ] days ) .\\nhowever , the periodogram of this time series ( the upper curve in figure [ f3 ] ) has two significant peaks the first at 15.2 and the second at 5.3 months ( 456 , 159 days ) .\\nthus , the periodogram contains the significant peak , although the autocorrelation function has the negative value at @xmath100 months .    to explain\\nthese problems two following time series of daily sunspot areas are considered : + @xmath101  \\n+ @xmath102     + where @xmath103    the values @xmath104 for @xmath105 and @xmath106 are calculated using additional daily data from the solar cycles 15 and 17 .     and the cosine function for @xmath45 ( the period at about 154 days ) .\\nthe horizontal line ( dotted line ) shows the zero level .\\nthe vertical dotted lines evaluate the intervals where the sets @xmath107 ( for @xmath108 ) are searched .\\nthe percentage values show the index @xmath65 for each @xmath41 for the time series @xmath102 ( in parentheses for the time series @xmath101 ) . in the right bottom corner\\nthe values of @xmath65 for the time series @xmath102 , for @xmath109 are written . ]\\n( the 500-day period ) ]    the comparison of the functions @xmath25 of the time series @xmath101 ( the lower curve in figure [ f4 ] ) and @xmath102 ( the lower curve in figure [ f5 ] ) suggests that the positive values of the function @xmath110 of the time series @xmath101 in the interval of @xmath111 $ ] days could be caused by the 11-year cycle .\\nthis effect is not visible in the case of periodograms of the both time series computed using the fft method ( see the upper curves in figures [ f4 ] and [ f5 ] ) or the bt method ( see the lower curve in figure [ f6 ] ) . moreover , the periodogram of the time series @xmath102 has the significant values at @xmath112 days , but the autocorrelation function is negative at these points .\\n@xcite showed that the lomb - scargle periodograms for the both time series ( see @xcite , figures 7 a - c ) have a peak at 158.8 days which stands over the fap level by a significant amount . using the de method the above discrepancies are obvious . to establish the @xmath79 value the periodograms computed by the fft and\\nthe bt methods are shown in figure [ f6 ] ( the upper and the lower curve respectively ) .\\nfor @xmath46 and for periods less than 166 days there is a good comformity of the both periodograms ( but for periods greater than 166 days the points of the bt periodogram are not linked because the bt periodogram has much worse resolution than the fft periodogram ( no one know how to do it ) ) . for @xmath46 and @xmath113\\nthe value of @xmath21 is 13 ( @xmath71=153 $ ] ) .\\nthe inequality ( 7 ) is satisfied because @xmath114 .\\nthis means that the value of @xmath115 is mainly created by positive values of the autocorrelation function .\\nthe implication ( 8) needs an evaluation of the greatest value of the index @xmath65 where @xmath70 , but the solar data contain the most prominent period for @xmath116 days because of the solar rotation .\\nthus , although @xmath117 for each @xmath118 , all sets @xmath41 ( see ( 5 ) and ( 6 ) ) without the set @xmath119 ( see ( 4 ) ) , which contains @xmath120 $ ] , are considered . this situation is presented in figure [ f7 ] . in this figure\\ntwo curves @xmath121 and @xmath122 are plotted .\\nthe vertical dotted lines evaluate the intervals where the sets @xmath107 ( for @xmath123 ) are searched . for such @xmath41 two numbers\\nare written : in parentheses the value of @xmath65 for the time series @xmath101 and above it the value of @xmath65 for the time series @xmath102 . to make this figure clear the curves are plotted for the set @xmath124 only .\\n( in the right bottom corner information about the values of @xmath65 for the time series @xmath102 , for @xmath109 are written . )\\nthe implication ( 8) is not true , because @xmath125 for @xmath126 .\\ntherefore , @xmath43=153\\\\notin c_6=[423,500]$ ] .\\nmoreover , the autocorrelation function for @xmath127 $ ] is negative and the set @xmath128 is empty .\\nthus , @xmath129 . on the basis of these information one can state , that the periodogram peak at @xmath130 days of the time series @xmath102 exists because of positive @xmath25 , but for @xmath23 from the intervals which do not contain this period .\\nlooking at the values of @xmath65 of the time series @xmath101 , one can notice that they decrease when @xmath23 increases until @xmath131 .\\nthis indicates , that when @xmath23 increases , the contribution of the 11-year cycle to the peaks of the periodogram decreases .\\nan increase of the value of @xmath65 is for @xmath132 for the both time series , although the contribution of the 11-year cycle for the time series @xmath101 is insignificant .\\nthus , this part of the autocorrelation function ( @xmath133 for the time series @xmath102 ) influences the @xmath21-th peak of the periodogram .\\nthis suggests that the periodicity at about 155 days is a harmonic of the periodicity from the interval of @xmath1 $ ] days .\\n( solid line ) and consecutively smoothed sunspot areas of the one rotation time interval @xmath134 ( dotted line ) .\\nboth indexes are presented on the left axis .\\nthe lower curve illustrates fluctuations of the sunspot areas @xmath135 .\\nthe dotted and dashed horizontal lines represent levels zero and @xmath136 respectively .\\nthe fluctuations are shown on the right axis . ]\\nthe described reasoning can be carried out for other values of the periodogram .\\nfor example , the condition ( 8) is not satisfied for @xmath137 ( 250 , 222 , 200 days ) .\\nmoreover , the autocorrelation function at these points is negative .\\nthese suggest that there are not a true periodicity in the interval of [ 200 , 250 ] days .\\nit is difficult to decide about the existence of the periodicities for @xmath138 ( 333 days ) and @xmath139 ( 286 days ) on the basis of above analysis . the implication ( 8) is not satisfied for @xmath139 and the condition ( 7 ) is not satisfied for @xmath138 , although the function @xmath25 of the time series @xmath102 is significantly positive for @xmath140 .\\nthe conditions ( 7 ) and ( 8) are satisfied for @xmath141 ( figure [ f8 ] ) and @xmath142 . therefore , it is possible to exist the periodicity from the interval of @xmath1 $ ] days .\\nsimilar results were also obtained by @xcite for daily sunspot numbers and daily sunspot areas .\\nshe considered the means of three periodograms of these indexes for data from @xmath143 years and found statistically significant peaks from the interval of @xmath1 $ ] ( see @xcite , figure 2 ) .\\n@xcite studied sunspot areas from 1876 - 1999 and sunspot numbers from 1749 - 2001 with the help of the wavelet transform .\\nthey pointed out that the 154 - 158-day period could be the third harmonic of the 1.3-year ( 475-day ) period .\\nmoreover , the both periods fluctuate considerably with time , being stronger during stronger sunspot cycles .\\ntherefore , the wavelet analysis suggests a common origin of the both periodicities . this conclusion confirms the de method result which indicates that the periodogram peak at @xmath144 days is an alias of the periodicity from the interval of @xmath1 $ ]\\nin order to verify the existence of the periodicity at about 155 days i consider the following time series : + @xmath145     + @xmath146\\n   + @xmath147  \\n+ the value @xmath134 is calculated analogously to @xmath83 ( see sect .\\nthe values @xmath148 and @xmath149 are evaluated from the formula ( 9 ) . in the upper part of figure [ f9 ] the time series of sunspot areas @xmath150 of the one rotation time interval from the whole solar disk and the time series of consecutively smoothed sunspot areas @xmath151\\nare showed . in the lower part of figure [ f9 ]\\nthe time series of sunspot area fluctuations @xmath145 is presented .\\non the basis of these data the maximum activity period of cycle 16 is evaluated .\\nit is an interval between two strongest fluctuations e.a .\\n@xmath152 $ ] rotations .\\nthe length of the time interval @xmath153 is 54 rotations .\\nif the about @xmath0-day ( 6 solar rotations ) periodicity existed in this time interval and it was characteristic for strong fluctuations from this time interval , 10 local maxima in the set of @xmath154 would be seen .\\nthen it should be necessary to find such a value of p for which @xmath155 for @xmath156 and the number of the local maxima of these values is 10 .\\nas it can be seen in the lower part of figure [ f9 ] this is for the case of @xmath157 ( in this figure the dashed horizontal line is the level of @xmath158 ) .\\nfigure [ f10 ] presents nine time distances among the successive fluctuation local maxima and the horizontal line represents the 6-rotation periodicity .\\nit is immediately apparent that the dispersion of these points is 10 and it is difficult to find even few points which oscillate around the value of 6 .\\nsuch an analysis was carried out for smaller and larger @xmath136 and the results were similar .\\ntherefore , the fact , that the about @xmath0-day periodicity exists in the time series of sunspot area fluctuations during the maximum activity period is questionable .    .\\nthe horizontal line represents the 6-rotation ( 162-day ) period . ]    ]    ]    to verify again the existence of the about @xmath0-day periodicity during the maximum activity period in each solar hemisphere separately , the time series @xmath88 and @xmath89 were also cut down to the maximum activity period ( january 1925december 1930 ) .\\nthe comparison of the autocorrelation functions of these time series with the appriopriate autocorrelation functions of the time series @xmath88 and @xmath89 , which are computed for the whole 11-year cycle ( the lower curves of figures [ f1 ] and [ f2 ] ) , indicates that there are not significant differences between them especially for @xmath23=5 and 6 rotations ( 135 and 162 days ) ) .\\nthis conclusion is confirmed by the analysis of the time series @xmath146 for the maximum activity period .\\nthe autocorrelation function ( the lower curve of figure [ f11 ] ) is negative for the interval of [ 57 , 173 ] days , but the resolution of the periodogram is too low to find the significant peak at @xmath159 days .\\nthe autocorrelation function gives the same result as for daily sunspot area fluctuations from the whole solar disk ( @xmath160 ) ( see also the lower curve of figures [ f5 ] ) . in the case of\\nthe time series @xmath89 @xmath161 is zero for the fluctuations from the whole solar cycle and it is almost zero ( @xmath162 ) for the fluctuations from the maximum activity period .\\nthe value @xmath163 is negative .\\nsimilarly to the case of the northern hemisphere the autocorrelation function and the periodogram of southern hemisphere daily sunspot area fluctuations from the maximum activity period @xmath147 are computed ( see figure [ f12 ] ) .\\nthe autocorrelation function has the statistically significant positive peak in the interval of [ 155 , 165 ] days , but the periodogram has too low resolution to decide about the possible periodicities .\\nthe correlative analysis indicates that there are positive fluctuations with time distances about @xmath0 days in the maximum activity period .\\nthe results of the analyses of the time series of sunspot area fluctuations from the maximum activity period are contradict with the conclusions of @xcite .\\nshe uses the power spectrum analysis only .\\nthe periodogram of daily sunspot fluctuations contains peaks , which could be harmonics or subharmonics of the true periodicities .\\nthey could be treated as real periodicities .\\nthis effect is not visible for sunspot data of the one rotation time interval , but averaging could lose true periodicities .\\nthis is observed for data from the southern hemisphere .\\nthere is the about @xmath0-day peak in the autocorrelation function of daily fluctuations , but the correlation for data of the one rotation interval is almost zero or negative at the points @xmath164 and 6 rotations .\\nthus , it is reasonable to research both time series together using the correlative and the power spectrum analyses .\\nthe following results are obtained :    1 .\\na new method of the detection of statistically significant peaks of the periodograms enables one to identify aliases in the periodogram .\\n2 .   two effects cause the existence of the peak of the periodogram of the time series of sunspot area fluctuations at about @xmath0 days : the first is caused by the 27-day periodicity , which probably creates the 162-day periodicity ( it is a subharmonic frequency of the 27-day periodicity ) and the second is caused by statistically significant positive values of the autocorrelation function from the intervals of @xmath165 $ ] and @xmath166 $ ] days .\\nthe existence of the periodicity of about @xmath0 days of the time series of sunspot area fluctuations and sunspot area fluctuations from the northern hemisphere during the maximum activity period is questionable .\\nthe autocorrelation analysis of the time series of sunspot area fluctuations from the southern hemisphere indicates that the periodicity of about 155 days exists during the maximum activity period .\\ni appreciate valuable comments from professor j. jakimiec .'"
            ],
            "application/vnd.google.colaboratory.intrinsic+json": {
              "type": "string"
            }
          },
          "metadata": {},
          "execution_count": 56
        }
      ]
    },
    {
      "cell_type": "code",
      "source": [
        "sample_text"
      ],
      "metadata": {
        "colab": {
          "base_uri": "https://localhost:8080/",
          "height": 122
        },
        "id": "AGMcHXluYTXq",
        "outputId": "a9776c01-aba7-4ff8-efe9-d6613437015a"
      },
      "execution_count": 57,
      "outputs": [
        {
          "output_type": "execute_result",
          "data": {
            "text/plain": [
              "'for about 20 years the problem of properties of short - term changes of solar activity has been considered extensively .\\nmany investigators studied the short - term periodicities of the various indices of solar activity .\\nseveral periodicities were detected , but the periodicities about 155 days and from the interval of @xmath3 $ ] days ( @xmath4 $ ] years ) are mentioned most often .\\nfirst of them was discovered by @xcite in the occurence rate of gamma - ray flares detected by the gamma - ray spectrometer aboard the _ solar maximum mission ( smm ) .\\nthis periodicity was confirmed for other solar flares data and for the same time period @xcite .\\nit was also found in proton flares during solar cycles 19 and 20 @xcite , but it was not found in the solar flares data during solar cycles 22 @xcite .\\n_    several autors confirmed above results for the daily sunspot area data . @xcite studied the sunspot data from 18741984 .\\nshe found the 155-day periodicity in data records from 31 years .\\nthis periodicity is always characteristic for one of the solar hemispheres ( the southern hemisphere for cycles 1215 and the northern hemisphere for cycles 1621 ) .\\nmoreover , it is only present during epochs of maximum activity ( in episodes of 13 years ) .\\nsimilarinvestigationswerecarriedoutby + @xcite .\\nthey applied the same power spectrum method as lean , but the daily sunspot area data ( cycles 1221 ) were divided into 10 shorter time series .\\nthe periodicities were searched for the frequency interval 57115 nhz ( 100200 days ) and for each of 10 time series .\\nthe authors showed that the periodicity between 150160 days is statistically significant during all cycles from 16 to 21 .\\nthe considered peaks were remained unaltered after removing the 11-year cycle and applying the power spectrum analysis .\\n@xcite used the wavelet technique for the daily sunspot areas between 1874 and 1993 .\\nthey determined the epochs of appearance of this periodicity and concluded that it presents around the maximum activity period in cycles 16 to 21 .\\nmoreover , the power of this periodicity started growing at cycle 19 , decreased in cycles 20 and 21 and disappered after cycle 21 .\\nsimilaranalyseswerepresentedby + @xcite , but for sunspot number , solar wind plasma , interplanetary magnetic field and geomagnetic activity index @xmath5 .\\nduring 1964 - 2000 the sunspot number wavelet power of periods less than one year shows a cyclic evolution with the phase of the solar cycle.the 154-day period is prominent and its strenth is stronger around the 1982 - 1984 interval in almost all solar wind parameters .\\nthe existence of the 156-day periodicity in sunspot data were confirmed by @xcite .\\nthey considered the possible relation between the 475-day ( 1.3-year ) and 156-day periodicities .\\nthe 475-day ( 1.3-year ) periodicity was also detected in variations of the interplanetary magnetic field , geomagnetic activity helioseismic data and in the solar wind speed @xcite .\\n@xcite concluded that the region of larger wavelet power shifts from 475-day ( 1.3-year ) period to 620-day ( 1.7-year ) period and then back to 475-day ( 1.3-year ) .\\nthe periodicities from the interval @xmath6 $ ] days ( @xmath4 $ ] years ) have been considered from 1968 .\\n@xcite mentioned a 16.3-month ( 490-day ) periodicity in the sunspot numbers and in the geomagnetic data .\\n@xcite analysed the occurrence rate of major flares during solar cycles 19 .\\nthey found a 18-month ( 540-day ) periodicity in flare rate of the norhern hemisphere .\\n@xcite confirmed this result for the @xmath7 flare data for solar cycles 20 and 21 and found a peak in the power spectra near 510540 days .\\n@xcite found a 17-month ( 510-day ) periodicity of sunspot groups and their areas from 1969 to 1986 .\\nthese authors concluded that the length of this period is variable and the reason of this periodicity is still not understood .\\n@xcite and + @xcite obtained statistically significant peaks of power at around 158 days for daily sunspot data from 1923 - 1933 ( cycle 16 ) . in this paper the problem of the existence of this periodicity for sunspot data from cycle 16 is considered .\\nthe daily sunspot areas , the mean sunspot areas per carrington rotation , the monthly sunspot numbers and their fluctuations , which are obtained after removing the 11-year cycle are analysed . in section 2 the properties of the power spectrum methods are described . in section 3 a new approach to the problem of aliases in the power spectrum analysis\\nis presented . in section 4 numerical results of the new method of the diagnosis of an echo - effect for sunspot area data are discussed . in section 5 the problem of the existence of the periodicity of about 155 days during the maximum activity period for sunspot data from the whole solar disk and from each solar hemisphere separately is considered .\\nto find periodicities in a given time series the power spectrum analysis is applied . in this paper\\ntwo methods are used : the fast fourier transformation algorithm with the hamming window function ( fft ) and the blackman - tukey ( bt ) power spectrum method @xcite .\\nthe bt method is used for the diagnosis of the reasons of the existence of peaks , which are obtained by the fft method .\\nthe bt method consists in the smoothing of a cosine transform of an autocorrelation function using a 3-point weighting average .\\nsuch an estimator is consistent and unbiased .\\nmoreover , the peaks are uncorrelated and their sum is a variance of a considered time series . the main disadvantage of this method is a weak resolution of the periodogram points , particularly for low frequences .\\nfor example , if the autocorrelation function is evaluated for @xmath8 , then the distribution points in the time domain are : @xmath9 thus , it is obvious that this method should not be used for detecting low frequency periodicities with a fairly good resolution .\\nhowever , because of an application of the autocorrelation function , the bt method can be used to verify a reality of peaks which are computed using a method giving the better resolution ( for example the fft method ) .\\nit is valuable to remember that the power spectrum methods should be applied very carefully .\\nthe difficulties in the interpretation of significant peaks could be caused by at least four effects : a sampling of a continuos function , an echo - effect , a contribution of long - term periodicities and a random noise .\\nfirst effect exists because periodicities , which are shorter than the sampling interval , may mix with longer periodicities . in result , this effect can be reduced by an decrease of the sampling interval between observations .\\nthe echo - effect occurs when there is a latent harmonic of frequency @xmath10 in the time series , giving a spectral peak at @xmath10 , and also periodic terms of frequency @xmath11 etc .\\nthis may be detected by the autocorrelation function for time series with a large variance .\\ntime series often contain long - term periodicities , that influence short - term peaks .\\nthey could rise periodogram s peaks at lower frequencies .\\nhowever , it is also easy to notice the influence of the long - term periodicities on short - term peaks in the graphs of the autocorrelation functions .\\nthis effect is observed for the time series of solar activity indexes which are limited by the 11-year cycle .    to find statistically significant periodicities\\nit is reasonable to use the autocorrelation function and the power spectrum method with a high resolution . in the case of a stationary time\\nseries they give similar results .\\nmoreover , for a stationary time series with the mean zero the fourier transform is equivalent to the cosine transform of an autocorrelation function @xcite .\\nthus , after a comparison of a periodogram with an appropriate autocorrelation function one can detect peaks which are in the graph of the first function and do not exist in the graph of the second function .\\nthe reasons of their existence could be explained by the long - term periodicities and the echo - effect .\\nbelow method enables one to detect these effects .\\n( solid line ) and the 95% confidence level basing on thered noise ( dotted line ) .\\nthe periodogram values are presented on the left axis .\\nthe lower curve illustrates the autocorrelation function of the same time series ( solid line ) .\\nthe dotted lines represent two standard errors of the autocorrelation function .\\nthe dashed horizontal line shows the zero level .\\nthe autocorrelation values are shown in the right axis . ]     because the statistical tests indicate that the time series is a white noise the confidence level is not marked . ]    . ]\\nthe method of the diagnosis of an echo - effect in the power spectrum ( de ) consists in an analysis of a periodogram of a given time series computed using the bt method .\\nthe bt method bases on the cosine transform of the autocorrelation function which creates peaks which are in the periodogram , but not in the autocorrelation function .\\nthe de method is used for peaks which are computed by the fft method ( with high resolution ) and are statistically significant .\\nthe time series of sunspot activity indexes with the spacing interval one rotation or one month contain a markov - type persistence , which means a tendency for the successive values of the time series to remember their antecendent values .\\nthus , i use a confidence level basing on the red noise of markov @xcite for the choice of the significant peaks of the periodogram computed by the fft method .\\nwhen a time series does not contain the markov - type persistence i apply the fisher test and the kolmogorov - smirnov test at the significance level @xmath12 @xcite to verify a statistically significance of periodograms peaks . the fisher test checks the null hypothesis that the time series is white noise agains the alternative hypothesis that the time series contains an added deterministic periodic component of unspecified frequency . because the fisher test tends to be severe in rejecting peaks as insignificant the kolmogorov - smirnov test is also used .\\nthe de method analyses raw estimators of the power spectrum .\\nthey are given as follows    @xmath13    for @xmath14 + where @xmath15 for @xmath16 + @xmath17 is the length of the time series @xmath18 and @xmath19 is the mean value .\\nthe first term of the estimator @xmath20 is constant .\\nthe second term takes two values ( depending on odd or even @xmath21 ) which are not significant because @xmath22 for large m. thus , the third term of ( 1 ) should be analysed .\\nlooking for intervals of @xmath23 for which @xmath24 has the same sign and different signs one can find such parts of the function @xmath25 which create the value @xmath20 .\\nlet the set of values of the independent variable of the autocorrelation function be called @xmath26 and it can be divided into the sums of disjoint sets : @xmath27 where + @xmath28 + @xmath29 @xmath30 @xmath31 + @xmath32 + @xmath33 @xmath34 @xmath35 @xmath36 @xmath37 @xmath38\\n@xmath39 @xmath40    well , the set @xmath41 contains all integer values of @xmath23 from the interval of @xmath42 for which the autocorrelation function and the cosinus function with the period @xmath43 $ ] are positive .\\nthe index @xmath44 indicates successive parts of the cosinus function for which the cosinuses of successive values of @xmath23 have the same sign .\\nhowever , sometimes the set @xmath41 can be empty .\\nfor example , for @xmath45 and @xmath46 the set @xmath47 should contain all @xmath48 $ ] for which @xmath49 and @xmath50 , but for such values of @xmath23 the values of @xmath51 are negative .\\nthus , the set @xmath47 is empty .    .\\nthe periodogram values are presented on the left axis .\\nthe lower curve illustrates the autocorrelation function of the same time series .\\nthe autocorrelation values are shown in the right axis . ]\\nlet us take into consideration all sets \\\\{@xmath52 } , \\\\{@xmath53 } and \\\\{@xmath41 } which are not empty . because numberings and power of these sets depend on the form of the autocorrelation function of the given time series , it is impossible to establish them arbitrary .\\nthus , the sets of appropriate indexes of the sets \\\\{@xmath52 } , \\\\{@xmath53 } and \\\\{@xmath41 } are called @xmath54 , @xmath55 and @xmath56 respectively . for example\\nthe set @xmath56 contains all @xmath44 from the set @xmath57 for which the sets @xmath41 are not empty .\\nto separate quantitatively in the estimator @xmath20 the positive contributions which are originated by the cases described by the formula ( 5 ) from the cases which are described by the formula ( 3 ) the following indexes are introduced : @xmath58 @xmath59 @xmath60 @xmath61 where @xmath62 @xmath63 @xmath64 taking for the empty sets \\\\{@xmath53 } and \\\\{@xmath41 } the indices @xmath65 and @xmath66 equal zero .\\nthe index @xmath65 describes a percentage of the contribution of the case when @xmath25 and @xmath51 are positive to the positive part of the third term of the sum ( 1 ) .\\nthe index @xmath66 describes a similar contribution , but for the case when the both @xmath25 and @xmath51 are simultaneously negative .\\nthanks to these one can decide which the positive or the negative values of the autocorrelation function have a larger contribution to the positive values of the estimator @xmath20 .\\nwhen the difference @xmath67 is positive , the statement the @xmath21-th peak really exists can not be rejected .\\nthus , the following formula should be satisfied : @xmath68    because the @xmath21-th peak could exist as a result of the echo - effect , it is necessary to verify the second condition :    @xmath69\\\\in c_m.\\\\ ] ]    .\\nthe periodogram values are presented on the left axis .\\nthe lower curve illustrates the autocorrelation function of the same time series ( solid line ) .\\nthe dotted lines represent two standard errors of the autocorrelation function .\\nthe dashed horizontal line shows the zero level .\\nthe autocorrelation values are shown in the right axis . ]    to verify the implication ( 8) firstly it is necessary to evaluate the sets @xmath41 for @xmath70 of the values of @xmath23 for which the autocorrelation function and the cosine function with the period @xmath71 $ ] are positive and the sets @xmath72 of values of @xmath23 for which the autocorrelation function and the cosine function with the period @xmath43 $ ] are negative .\\nsecondly , a percentage of the contribution of the sum of products of positive values of @xmath25 and @xmath51 to the sum of positive products of the values of @xmath25 and @xmath51 should be evaluated . as a result the indexes @xmath65 for each set\\n@xmath41 where @xmath44 is the index from the set @xmath56 are obtained .\\nthirdly , from all sets @xmath41 such that @xmath70 the set @xmath73 for which the index @xmath65 is the greatest should be chosen .    the implication ( 8) is true when the set @xmath73 includes the considered period @xmath43 $ ] .\\nthis means that the greatest contribution of positive values of the autocorrelation function and positive cosines with the period @xmath43 $ ] to the periodogram value @xmath20 is caused by the sum of positive products of @xmath74 for each @xmath75-\\\\frac{m}{2k},[\\\\frac{2m}{k}]+\\\\frac{m}{2k})$ ] .    when the implication ( 8) is false , the peak @xmath20 is mainly created by the sum of positive products of @xmath74 for each @xmath76-\\\\frac{m}{2k},\\\\big [ \\\\frac{2m}{n}\\\\big ] + \\\\frac{m}{2k } \\\\big ) $ ] , where @xmath77 is a multiple or a divisor of @xmath21 .\\nit is necessary to add , that the de method should be applied to the periodograms peaks , which probably exist because of the echo - effect .\\nit enables one to find such parts of the autocorrelation function , which have the significant contribution to the considered peak .\\nthe fact , that the conditions ( 7 ) and ( 8) are satisfied , can unambiguously decide about the existence of the considered periodicity in the given time series , but if at least one of them is not satisfied , one can doubt about the existence of the considered periodicity .\\nthus , in such cases the sentence the peak can not be treated as true should be used .    using the de method\\nit is necessary to remember about the power of the set @xmath78 .\\nif @xmath79 is too large , errors of an autocorrelation function estimation appear .\\nthey are caused by the finite length of the given time series and as a result additional peaks of the periodogram occur . if @xmath79 is too small , there are less peaks because of a low resolution of the periodogram . in applications\\n@xmath80 is used . in order to evaluate the value\\n@xmath79 the fft method is used .\\nthe periodograms computed by the bt and the fft method are compared .\\nthe conformity of them enables one to obtain the value @xmath79 .    .\\nthe fft periodogram values are presented on the left axis .\\nthe lower curve illustrates the bt periodogram of the same time series ( solid line and large black circles ) .\\nthe bt periodogram values are shown in the right axis . ]\\nin this paper the sunspot activity data ( august 1923 - october 1933 ) provided by the greenwich photoheliographic results ( gpr ) are analysed .\\nfirstly , i consider the monthly sunspot number data . to eliminate the 11-year trend from these data ,\\nthe consecutively smoothed monthly sunspot number @xmath81 is subtracted from the monthly sunspot number @xmath82 where the consecutive mean @xmath83 is given by @xmath84 the values @xmath83 for @xmath85 and @xmath86 are calculated using additional data from last six months of cycle 15 and first six months of cycle 17 .    because of the north - south asymmetry of various solar indices @xcite , the sunspot activity is considered for each solar hemisphere separately .\\nanalogously to the monthly sunspot numbers , the time series of sunspot areas in the northern and southern hemispheres with the spacing interval @xmath87 rotation are denoted . in order to find periodicities ,\\nthe following time series are used : + @xmath88  \\n+ @xmath89\\n   + @xmath90     + in the lower part of figure [ f1 ] the autocorrelation function of the time series for the northern hemisphere @xmath88 is shown .\\nit is easy to notice that the prominent peak falls at 17 rotations interval ( 459 days ) and @xmath25 for @xmath91 $ ] rotations ( [ 81 , 162 ] days ) are significantly negative .\\nthe periodogram of the time series @xmath88 ( see the upper curve in figures [ f1 ] ) does not show the significant peaks at @xmath92 rotations ( 135 , 162 days ) , but there is the significant peak at @xmath93 ( 243 days ) .\\nthe peaks at @xmath94 are close to the peaks of the autocorrelation function .\\nthus , the result obtained for the periodicity at about @xmath0 days are contradict to the results obtained for the time series of daily sunspot areas @xcite .    for the southern hemisphere ( the lower curve in figure [ f2 ] ) @xmath25 for @xmath95 $ ] rotations ( [ 54 , 189 ] days ) is not positive except @xmath96 ( 135 days ) for which @xmath97 is not statistically significant .\\nthe upper curve in figures [ f2 ] presents the periodogram of the time series @xmath89 .\\nthis time series does not contain a markov - type persistence .\\nmoreover , the kolmogorov - smirnov test and the fisher test do not reject a null hypothesis that the time series is a white noise only .\\nthis means that the time series do not contain an added deterministic periodic component of unspecified frequency .\\nthe autocorrelation function of the time series @xmath90 ( the lower curve in figure [ f3 ] ) has only one statistically significant peak for @xmath98 months ( 480 days ) and negative values for @xmath99 $ ] months ( [ 90 , 390 ] days ) .\\nhowever , the periodogram of this time series ( the upper curve in figure [ f3 ] ) has two significant peaks the first at 15.2 and the second at 5.3 months ( 456 , 159 days ) .\\nthus , the periodogram contains the significant peak , although the autocorrelation function has the negative value at @xmath100 months .    to explain\\nthese problems two following time series of daily sunspot areas are considered : + @xmath101  \\n+ @xmath102     + where @xmath103    the values @xmath104 for @xmath105 and @xmath106 are calculated using additional daily data from the solar cycles 15 and 17 .     and the cosine function for @xmath45 ( the period at about 154 days ) .\\nthe horizontal line ( dotted line ) shows the zero level .\\nthe vertical dotted lines evaluate the intervals where the sets @xmath107 ( for @xmath108 ) are searched .\\nthe percentage values show the index @xmath65 for each @xmath41 for the time series @xmath102 ( in parentheses for the time series @xmath101 ) . in the right bottom corner\\nthe values of @xmath65 for the time series @xmath102 , for @xmath109 are written . ]\\n( the 500-day period ) ]    the comparison of the functions @xmath25 of the time series @xmath101 ( the lower curve in figure [ f4 ] ) and @xmath102 ( the lower curve in figure [ f5 ] ) suggests that the positive values of the function @xmath110 of the time series @xmath101 in the interval of @xmath111 $ ] days could be caused by the 11-year cycle .\\nthis effect is not visible in the case of periodograms of the both time series computed using the fft method ( see the upper curves in figures [ f4 ] and [ f5 ] ) or the bt method ( see the lower curve in figure [ f6 ] ) . moreover , the periodogram of the time series @xmath102 has the significant values at @xmath112 days , but the autocorrelation function is negative at these points .\\n@xcite showed that the lomb - scargle periodograms for the both time series ( see @xcite , figures 7 a - c ) have a peak at 158.8 days which stands over the fap level by a significant amount . using the de method the above discrepancies are obvious . to establish the @xmath79 value the periodograms computed by the fft and\\nthe bt methods are shown in figure [ f6 ] ( the upper and the lower curve respectively ) .\\nfor @xmath46 and for periods less than 166 days there is a good comformity of the both periodograms ( but for periods greater than 166 days the points of the bt periodogram are not linked because the bt periodogram has much worse resolution than the fft periodogram ( no one know how to do it ) ) . for @xmath46 and @xmath113\\nthe value of @xmath21 is 13 ( @xmath71=153 $ ] ) .\\nthe inequality ( 7 ) is satisfied because @xmath114 .\\nthis means that the value of @xmath115 is mainly created by positive values of the autocorrelation function .\\nthe implication ( 8) needs an evaluation of the greatest value of the index @xmath65 where @xmath70 , but the solar data contain the most prominent period for @xmath116 days because of the solar rotation .\\nthus , although @xmath117 for each @xmath118 , all sets @xmath41 ( see ( 5 ) and ( 6 ) ) without the set @xmath119 ( see ( 4 ) ) , which contains @xmath120 $ ] , are considered . this situation is presented in figure [ f7 ] . in this figure\\ntwo curves @xmath121 and @xmath122 are plotted .\\nthe vertical dotted lines evaluate the intervals where the sets @xmath107 ( for @xmath123 ) are searched . for such @xmath41 two numbers\\nare written : in parentheses the value of @xmath65 for the time series @xmath101 and above it the value of @xmath65 for the time series @xmath102 . to make this figure clear the curves are plotted for the set @xmath124 only .\\n( in the right bottom corner information about the values of @xmath65 for the time series @xmath102 , for @xmath109 are written . )\\nthe implication ( 8) is not true , because @xmath125 for @xmath126 .\\ntherefore , @xmath43=153\\\\notin c_6=[423,500]$ ] .\\nmoreover , the autocorrelation function for @xmath127 $ ] is negative and the set @xmath128 is empty .\\nthus , @xmath129 . on the basis of these information one can state , that the periodogram peak at @xmath130 days of the time series @xmath102 exists because of positive @xmath25 , but for @xmath23 from the intervals which do not contain this period .\\nlooking at the values of @xmath65 of the time series @xmath101 , one can notice that they decrease when @xmath23 increases until @xmath131 .\\nthis indicates , that when @xmath23 increases , the contribution of the 11-year cycle to the peaks of the periodogram decreases .\\nan increase of the value of @xmath65 is for @xmath132 for the both time series , although the contribution of the 11-year cycle for the time series @xmath101 is insignificant .\\nthus , this part of the autocorrelation function ( @xmath133 for the time series @xmath102 ) influences the @xmath21-th peak of the periodogram .\\nthis suggests that the periodicity at about 155 days is a harmonic of the periodicity from the interval of @xmath1 $ ] days .\\n( solid line ) and consecutively smoothed sunspot areas of the one rotation time interval @xmath134 ( dotted line ) .\\nboth indexes are presented on the left axis .\\nthe lower curve illustrates fluctuations of the sunspot areas @xmath135 .\\nthe dotted and dashed horizontal lines represent levels zero and @xmath136 respectively .\\nthe fluctuations are shown on the right axis . ]\\nthe described reasoning can be carried out for other values of the periodogram .\\nfor example , the condition ( 8) is not satisfied for @xmath137 ( 250 , 222 , 200 days ) .\\nmoreover , the autocorrelation function at these points is negative .\\nthese suggest that there are not a true periodicity in the interval of [ 200 , 250 ] days .\\nit is difficult to decide about the existence of the periodicities for @xmath138 ( 333 days ) and @xmath139 ( 286 days ) on the basis of above analysis . the implication ( 8) is not satisfied for @xmath139 and the condition ( 7 ) is not satisfied for @xmath138 , although the function @xmath25 of the time series @xmath102 is significantly positive for @xmath140 .\\nthe conditions ( 7 ) and ( 8) are satisfied for @xmath141 ( figure [ f8 ] ) and @xmath142 . therefore , it is possible to exist the periodicity from the interval of @xmath1 $ ] days .\\nsimilar results were also obtained by @xcite for daily sunspot numbers and daily sunspot areas .\\nshe considered the means of three periodograms of these indexes for data from @xmath143 years and found statistically significant peaks from the interval of @xmath1 $ ] ( see @xcite , figure 2 ) .\\n@xcite studied sunspot areas from 1876 - 1999 and sunspot numbers from 1749 - 2001 with the help of the wavelet transform .\\nthey pointed out that the 154 - 158-day period could be the third harmonic of the 1.3-year ( 475-day ) period .\\nmoreover , the both periods fluctuate considerably with time , being stronger during stronger sunspot cycles .\\ntherefore , the wavelet analysis suggests a common origin of the both periodicities . this conclusion confirms the de method result which indicates that the periodogram peak at @xmath144 days is an alias of the periodicity from the interval of @xmath1 $ ]\\nin order to verify the existence of the periodicity at about 155 days i consider the following time series : + @xmath145     + @xmath146\\n   + @xmath147  \\n+ the value @xmath134 is calculated analogously to @xmath83 ( see sect .\\nthe values @xmath148 and @xmath149 are evaluated from the formula ( 9 ) . in the upper part of figure [ f9 ] the time series of sunspot areas @xmath150 of the one rotation time interval from the whole solar disk and the time series of consecutively smoothed sunspot areas @xmath151\\nare showed . in the lower part of figure [ f9 ]\\nthe time series of sunspot area fluctuations @xmath145 is presented .\\non the basis of these data the maximum activity period of cycle 16 is evaluated .\\nit is an interval between two strongest fluctuations e.a .\\n@xmath152 $ ] rotations .\\nthe length of the time interval @xmath153 is 54 rotations .\\nif the about @xmath0-day ( 6 solar rotations ) periodicity existed in this time interval and it was characteristic for strong fluctuations from this time interval , 10 local maxima in the set of @xmath154 would be seen .\\nthen it should be necessary to find such a value of p for which @xmath155 for @xmath156 and the number of the local maxima of these values is 10 .\\nas it can be seen in the lower part of figure [ f9 ] this is for the case of @xmath157 ( in this figure the dashed horizontal line is the level of @xmath158 ) .\\nfigure [ f10 ] presents nine time distances among the successive fluctuation local maxima and the horizontal line represents the 6-rotation periodicity .\\nit is immediately apparent that the dispersion of these points is 10 and it is difficult to find even few points which oscillate around the value of 6 .\\nsuch an analysis was carried out for smaller and larger @xmath136 and the results were similar .\\ntherefore , the fact , that the about @xmath0-day periodicity exists in the time series of sunspot area fluctuations during the maximum activity period is questionable .    .\\nthe horizontal line represents the 6-rotation ( 162-day ) period . ]    ]    ]    to verify again the existence of the about @xmath0-day periodicity during the maximum activity period in each solar hemisphere separately , the time series @xmath88 and @xmath89 were also cut down to the maximum activity period ( january 1925december 1930 ) .\\nthe comparison of the autocorrelation functions of these time series with the appriopriate autocorrelation functions of the time series @xmath88 and @xmath89 , which are computed for the whole 11-year cycle ( the lower curves of figures [ f1 ] and [ f2 ] ) , indicates that there are not significant differences between them especially for @xmath23=5 and 6 rotations ( 135 and 162 days ) ) .\\nthis conclusion is confirmed by the analysis of the time series @xmath146 for the maximum activity period .\\nthe autocorrelation function ( the lower curve of figure [ f11 ] ) is negative for the interval of [ 57 , 173 ] days , but the resolution of the periodogram is too low to find the significant peak at @xmath159 days .\\nthe autocorrelation function gives the same result as for daily sunspot area fluctuations from the whole solar disk ( @xmath160 ) ( see also the lower curve of figures [ f5 ] ) . in the case of\\nthe time series @xmath89 @xmath161 is zero for the fluctuations from the whole solar cycle and it is almost zero ( @xmath162 ) for the fluctuations from the maximum activity period .\\nthe value @xmath163 is negative .\\nsimilarly to the case of the northern hemisphere the autocorrelation function and the periodogram of southern hemisphere daily sunspot area fluctuations from the maximum activity period @xmath147 are computed ( see figure [ f12 ] ) .\\nthe autocorrelation function has the statistically significant positive peak in the interval of [ 155 , 165 ] days , but the periodogram has too low resolution to decide about the possible periodicities .\\nthe correlative analysis indicates that there are positive fluctuations with time distances about @xmath0 days in the maximum activity period .\\nthe results of the analyses of the time series of sunspot area fluctuations from the maximum activity period are contradict with the conclusions of @xcite .\\nshe uses the power spectrum analysis only .\\nthe periodogram of daily sunspot fluctuations contains peaks , which could be harmonics or subharmonics of the true periodicities .\\nthey could be treated as real periodicities .\\nthis effect is not visible for sunspot data of the one rotation time interval , but averaging could lose true periodicities .\\nthis is observed for data from the southern hemisphere .\\nthere is the about @xmath0-day peak in the autocorrelation function of daily fluctuations , but the correlation for data of the one rotation interval is almost zero or negative at the points @xmath164 and 6 rotations .\\nthus , it is reasonable to research both time series together using the correlative and the power spectrum analyses .\\nthe following results are obtained :    1 .\\na new method of the detection of statistically significant peaks of the periodograms enables one to identify aliases in the periodogram .\\n2 .   two effects cause the existence of the peak of the periodogram of the time series of sunspot area fluctuations at about @xmath0 days : the first is caused by the 27-day periodicity , which probably creates the 162-day periodicity ( it is a subharmonic frequency of the 27-day periodicity ) and the second is caused by statistically significant positive values of the autocorrelation function from the intervals of @xmath165 $ ] and @xmath166 $ ] days .\\nthe existence of the periodicity of about @xmath0 days of the time series of sunspot area fluctuations and sunspot area fluctuations from the northern hemisphere during the maximum activity period is questionable .\\nthe autocorrelation analysis of the time series of sunspot area fluctuations from the southern hemisphere indicates that the periodicity of about 155 days exists during the maximum activity period .\\ni appreciate valuable comments from professor j. jakimiec .'"
            ],
            "application/vnd.google.colaboratory.intrinsic+json": {
              "type": "string"
            }
          },
          "metadata": {},
          "execution_count": 57
        }
      ]
    },
    {
      "cell_type": "code",
      "source": [
        "\n",
        "tokenizer = LEDTokenizer.from_pretrained(\"allenai/led-large-16384-arxiv\")\n",
        "\n",
        "input_ids = tokenizer(LONG_ARTICLE, padding=\"max_length\", max_length=16384, return_tensors=\"pt\", truncation=True).input_ids.to(\"cuda\")\n",
        "global_attention_mask = torch.zeros_like(input_ids)\n",
        "# Put global attention on <s> token\n",
        "global_attention_mask[:, 0] = 1\n",
        "\n",
        "model = LEDForConditionalGeneration.from_pretrained(\"allenai/led-large-16384-arxiv\", return_dict_in_generate=True).to(\"cuda\")\n",
        "\n",
        "sequences = model.generate(input_ids, global_attention_mask=global_attention_mask, max_length=512, num_beams=4).sequences\n",
        "\n",
        "summary = tokenizer.batch_decode(sequences, skip_special_tokens=True)"
      ],
      "metadata": {
        "id": "jM-4VeDqU3pQ"
      },
      "execution_count": 58,
      "outputs": []
    },
    {
      "cell_type": "code",
      "source": [
        "summaries_arxiv['Longformer'] = summary"
      ],
      "metadata": {
        "id": "ssVtvah4Y7K7"
      },
      "execution_count": 59,
      "outputs": []
    },
    {
      "cell_type": "code",
      "source": [
        "summaries_arxiv['Longformer'] = summaries_arxiv['Longformer'][0]\n",
        "summaries_arxiv['Longformer']"
      ],
      "metadata": {
        "colab": {
          "base_uri": "https://localhost:8080/",
          "height": 122
        },
        "id": "7vDk2AYfZwtl",
        "outputId": "d175885a-9e57-4662-adab-174f350ed813"
      },
      "execution_count": 60,
      "outputs": [
        {
          "output_type": "execute_result",
          "data": {
            "text/plain": [
              "' a new method of the detection of statistically significant peaks of the periodograms is presented. \\n two effects cause the existence of the peak of the periodogram of the time series of sunspot area fluctuations at about @xmath0 days : the first is caused by the 27-day periodicity, which probably creates the 162-day periodicity ( it is a subharmonic frequency of the 27-day periodicity ) and the second is caused by statistically significant positive values of the autocorrelation function from the intervals of @xmath1 $ ] and @xmath2 $ ] days. \\n the existence of the periodicity of about @xmath0 days of the time series of sunspot area fluctuations and sunspot area fluctuations from the northern hemisphere during the maximum activity period is questionable. \\n the autocorrelation analysis of the time series of sunspot area fluctuations from the southern hemisphere indicates that the periodicity of about 155 days exists during the maximum activity period. '"
            ],
            "application/vnd.google.colaboratory.intrinsic+json": {
              "type": "string"
            }
          },
          "metadata": {},
          "execution_count": 60
        }
      ]
    },
    {
      "cell_type": "code",
      "source": [
        "metrics_df_arxiv = evaluator.compute_sum_metric(summaries_arxiv, reference)\n",
        "\n",
        "metrics_df_arxiv"
      ],
      "metadata": {
        "colab": {
          "base_uri": "https://localhost:8080/",
          "height": 178
        },
        "id": "t6HJloJvSmWC",
        "outputId": "feab709d-4360-4877-d2bd-b2849173d169"
      },
      "execution_count": 61,
      "outputs": [
        {
          "output_type": "stream",
          "name": "stderr",
          "text": [
            "100%|██████████| 3/3 [00:00<00:00,  6.22it/s]\n",
            "100%|██████████| 3/3 [00:00<00:00, 191.79it/s]\n"
          ]
        },
        {
          "output_type": "execute_result",
          "data": {
            "text/plain": [
              "                       rouge1    rouge2    rougeL  rougeLsum  google_bleu\n",
              "TextRank (Baseline)  0.388158  0.132450  0.210526   0.282895     0.128118\n",
              "bigbird-pegasus      0.338462  0.087629  0.266667   0.323077     0.110609\n",
              "Longformer           0.583815  0.308140  0.335260   0.491329     0.269841"
            ],
            "text/html": [
              "\n",
              "  <div id=\"df-242e2a2a-8f7a-4474-b498-44823655239c\" class=\"colab-df-container\">\n",
              "    <div>\n",
              "<style scoped>\n",
              "    .dataframe tbody tr th:only-of-type {\n",
              "        vertical-align: middle;\n",
              "    }\n",
              "\n",
              "    .dataframe tbody tr th {\n",
              "        vertical-align: top;\n",
              "    }\n",
              "\n",
              "    .dataframe thead th {\n",
              "        text-align: right;\n",
              "    }\n",
              "</style>\n",
              "<table border=\"1\" class=\"dataframe\">\n",
              "  <thead>\n",
              "    <tr style=\"text-align: right;\">\n",
              "      <th></th>\n",
              "      <th>rouge1</th>\n",
              "      <th>rouge2</th>\n",
              "      <th>rougeL</th>\n",
              "      <th>rougeLsum</th>\n",
              "      <th>google_bleu</th>\n",
              "    </tr>\n",
              "  </thead>\n",
              "  <tbody>\n",
              "    <tr>\n",
              "      <th>TextRank (Baseline)</th>\n",
              "      <td>0.388158</td>\n",
              "      <td>0.132450</td>\n",
              "      <td>0.210526</td>\n",
              "      <td>0.282895</td>\n",
              "      <td>0.128118</td>\n",
              "    </tr>\n",
              "    <tr>\n",
              "      <th>bigbird-pegasus</th>\n",
              "      <td>0.338462</td>\n",
              "      <td>0.087629</td>\n",
              "      <td>0.266667</td>\n",
              "      <td>0.323077</td>\n",
              "      <td>0.110609</td>\n",
              "    </tr>\n",
              "    <tr>\n",
              "      <th>Longformer</th>\n",
              "      <td>0.583815</td>\n",
              "      <td>0.308140</td>\n",
              "      <td>0.335260</td>\n",
              "      <td>0.491329</td>\n",
              "      <td>0.269841</td>\n",
              "    </tr>\n",
              "  </tbody>\n",
              "</table>\n",
              "</div>\n",
              "    <div class=\"colab-df-buttons\">\n",
              "\n",
              "  <div class=\"colab-df-container\">\n",
              "    <button class=\"colab-df-convert\" onclick=\"convertToInteractive('df-242e2a2a-8f7a-4474-b498-44823655239c')\"\n",
              "            title=\"Convert this dataframe to an interactive table.\"\n",
              "            style=\"display:none;\">\n",
              "\n",
              "  <svg xmlns=\"http://www.w3.org/2000/svg\" height=\"24px\" viewBox=\"0 -960 960 960\">\n",
              "    <path d=\"M120-120v-720h720v720H120Zm60-500h600v-160H180v160Zm220 220h160v-160H400v160Zm0 220h160v-160H400v160ZM180-400h160v-160H180v160Zm440 0h160v-160H620v160ZM180-180h160v-160H180v160Zm440 0h160v-160H620v160Z\"/>\n",
              "  </svg>\n",
              "    </button>\n",
              "\n",
              "  <style>\n",
              "    .colab-df-container {\n",
              "      display:flex;\n",
              "      gap: 12px;\n",
              "    }\n",
              "\n",
              "    .colab-df-convert {\n",
              "      background-color: #E8F0FE;\n",
              "      border: none;\n",
              "      border-radius: 50%;\n",
              "      cursor: pointer;\n",
              "      display: none;\n",
              "      fill: #1967D2;\n",
              "      height: 32px;\n",
              "      padding: 0 0 0 0;\n",
              "      width: 32px;\n",
              "    }\n",
              "\n",
              "    .colab-df-convert:hover {\n",
              "      background-color: #E2EBFA;\n",
              "      box-shadow: 0px 1px 2px rgba(60, 64, 67, 0.3), 0px 1px 3px 1px rgba(60, 64, 67, 0.15);\n",
              "      fill: #174EA6;\n",
              "    }\n",
              "\n",
              "    .colab-df-buttons div {\n",
              "      margin-bottom: 4px;\n",
              "    }\n",
              "\n",
              "    [theme=dark] .colab-df-convert {\n",
              "      background-color: #3B4455;\n",
              "      fill: #D2E3FC;\n",
              "    }\n",
              "\n",
              "    [theme=dark] .colab-df-convert:hover {\n",
              "      background-color: #434B5C;\n",
              "      box-shadow: 0px 1px 3px 1px rgba(0, 0, 0, 0.15);\n",
              "      filter: drop-shadow(0px 1px 2px rgba(0, 0, 0, 0.3));\n",
              "      fill: #FFFFFF;\n",
              "    }\n",
              "  </style>\n",
              "\n",
              "    <script>\n",
              "      const buttonEl =\n",
              "        document.querySelector('#df-242e2a2a-8f7a-4474-b498-44823655239c button.colab-df-convert');\n",
              "      buttonEl.style.display =\n",
              "        google.colab.kernel.accessAllowed ? 'block' : 'none';\n",
              "\n",
              "      async function convertToInteractive(key) {\n",
              "        const element = document.querySelector('#df-242e2a2a-8f7a-4474-b498-44823655239c');\n",
              "        const dataTable =\n",
              "          await google.colab.kernel.invokeFunction('convertToInteractive',\n",
              "                                                    [key], {});\n",
              "        if (!dataTable) return;\n",
              "\n",
              "        const docLinkHtml = 'Like what you see? Visit the ' +\n",
              "          '<a target=\"_blank\" href=https://colab.research.google.com/notebooks/data_table.ipynb>data table notebook</a>'\n",
              "          + ' to learn more about interactive tables.';\n",
              "        element.innerHTML = '';\n",
              "        dataTable['output_type'] = 'display_data';\n",
              "        await google.colab.output.renderOutput(dataTable, element);\n",
              "        const docLink = document.createElement('div');\n",
              "        docLink.innerHTML = docLinkHtml;\n",
              "        element.appendChild(docLink);\n",
              "      }\n",
              "    </script>\n",
              "  </div>\n",
              "\n",
              "\n",
              "<div id=\"df-941b4357-711c-46e6-98b6-70fc9c664f78\">\n",
              "  <button class=\"colab-df-quickchart\" onclick=\"quickchart('df-941b4357-711c-46e6-98b6-70fc9c664f78')\"\n",
              "            title=\"Suggest charts\"\n",
              "            style=\"display:none;\">\n",
              "\n",
              "<svg xmlns=\"http://www.w3.org/2000/svg\" height=\"24px\"viewBox=\"0 0 24 24\"\n",
              "     width=\"24px\">\n",
              "    <g>\n",
              "        <path d=\"M19 3H5c-1.1 0-2 .9-2 2v14c0 1.1.9 2 2 2h14c1.1 0 2-.9 2-2V5c0-1.1-.9-2-2-2zM9 17H7v-7h2v7zm4 0h-2V7h2v10zm4 0h-2v-4h2v4z\"/>\n",
              "    </g>\n",
              "</svg>\n",
              "  </button>\n",
              "\n",
              "<style>\n",
              "  .colab-df-quickchart {\n",
              "      --bg-color: #E8F0FE;\n",
              "      --fill-color: #1967D2;\n",
              "      --hover-bg-color: #E2EBFA;\n",
              "      --hover-fill-color: #174EA6;\n",
              "      --disabled-fill-color: #AAA;\n",
              "      --disabled-bg-color: #DDD;\n",
              "  }\n",
              "\n",
              "  [theme=dark] .colab-df-quickchart {\n",
              "      --bg-color: #3B4455;\n",
              "      --fill-color: #D2E3FC;\n",
              "      --hover-bg-color: #434B5C;\n",
              "      --hover-fill-color: #FFFFFF;\n",
              "      --disabled-bg-color: #3B4455;\n",
              "      --disabled-fill-color: #666;\n",
              "  }\n",
              "\n",
              "  .colab-df-quickchart {\n",
              "    background-color: var(--bg-color);\n",
              "    border: none;\n",
              "    border-radius: 50%;\n",
              "    cursor: pointer;\n",
              "    display: none;\n",
              "    fill: var(--fill-color);\n",
              "    height: 32px;\n",
              "    padding: 0;\n",
              "    width: 32px;\n",
              "  }\n",
              "\n",
              "  .colab-df-quickchart:hover {\n",
              "    background-color: var(--hover-bg-color);\n",
              "    box-shadow: 0 1px 2px rgba(60, 64, 67, 0.3), 0 1px 3px 1px rgba(60, 64, 67, 0.15);\n",
              "    fill: var(--button-hover-fill-color);\n",
              "  }\n",
              "\n",
              "  .colab-df-quickchart-complete:disabled,\n",
              "  .colab-df-quickchart-complete:disabled:hover {\n",
              "    background-color: var(--disabled-bg-color);\n",
              "    fill: var(--disabled-fill-color);\n",
              "    box-shadow: none;\n",
              "  }\n",
              "\n",
              "  .colab-df-spinner {\n",
              "    border: 2px solid var(--fill-color);\n",
              "    border-color: transparent;\n",
              "    border-bottom-color: var(--fill-color);\n",
              "    animation:\n",
              "      spin 1s steps(1) infinite;\n",
              "  }\n",
              "\n",
              "  @keyframes spin {\n",
              "    0% {\n",
              "      border-color: transparent;\n",
              "      border-bottom-color: var(--fill-color);\n",
              "      border-left-color: var(--fill-color);\n",
              "    }\n",
              "    20% {\n",
              "      border-color: transparent;\n",
              "      border-left-color: var(--fill-color);\n",
              "      border-top-color: var(--fill-color);\n",
              "    }\n",
              "    30% {\n",
              "      border-color: transparent;\n",
              "      border-left-color: var(--fill-color);\n",
              "      border-top-color: var(--fill-color);\n",
              "      border-right-color: var(--fill-color);\n",
              "    }\n",
              "    40% {\n",
              "      border-color: transparent;\n",
              "      border-right-color: var(--fill-color);\n",
              "      border-top-color: var(--fill-color);\n",
              "    }\n",
              "    60% {\n",
              "      border-color: transparent;\n",
              "      border-right-color: var(--fill-color);\n",
              "    }\n",
              "    80% {\n",
              "      border-color: transparent;\n",
              "      border-right-color: var(--fill-color);\n",
              "      border-bottom-color: var(--fill-color);\n",
              "    }\n",
              "    90% {\n",
              "      border-color: transparent;\n",
              "      border-bottom-color: var(--fill-color);\n",
              "    }\n",
              "  }\n",
              "</style>\n",
              "\n",
              "  <script>\n",
              "    async function quickchart(key) {\n",
              "      const quickchartButtonEl =\n",
              "        document.querySelector('#' + key + ' button');\n",
              "      quickchartButtonEl.disabled = true;  // To prevent multiple clicks.\n",
              "      quickchartButtonEl.classList.add('colab-df-spinner');\n",
              "      try {\n",
              "        const charts = await google.colab.kernel.invokeFunction(\n",
              "            'suggestCharts', [key], {});\n",
              "      } catch (error) {\n",
              "        console.error('Error during call to suggestCharts:', error);\n",
              "      }\n",
              "      quickchartButtonEl.classList.remove('colab-df-spinner');\n",
              "      quickchartButtonEl.classList.add('colab-df-quickchart-complete');\n",
              "    }\n",
              "    (() => {\n",
              "      let quickchartButtonEl =\n",
              "        document.querySelector('#df-941b4357-711c-46e6-98b6-70fc9c664f78 button');\n",
              "      quickchartButtonEl.style.display =\n",
              "        google.colab.kernel.accessAllowed ? 'block' : 'none';\n",
              "    })();\n",
              "  </script>\n",
              "</div>\n",
              "    </div>\n",
              "  </div>\n"
            ]
          },
          "metadata": {},
          "execution_count": 61
        }
      ]
    },
    {
      "cell_type": "markdown",
      "source": [
        "## Summarizing a Small Dataset using Longformer and `generate_avg_summary`\n",
        "\n",
        "In this section, we demonstrate how to use the `generate_avg_summary` function to generate summaries for a small dataset using the various models. The dataset in this example is assumed to be in the dataset_train variable, which is an instance of Hugging Face's Dataset class.\n",
        "\n",
        "__Selecting a Small Range of Samples__\n",
        "\n",
        "First, we select a small range of samples from the dataset. In this example, we select the first 10 samples:\n",
        "`# Select a small range of samples\n",
        "dataset_small = dataset_train.select(range(10))\n",
        "`\n",
        "\n",
        "__Converting the Dataset to a Pandas DataFrame__\n",
        "Next, we convert the small dataset to a Pandas DataFrame, which provides an easier way to apply the generate_avg_summary function on each article:\n",
        "`# Convert dataset to pandas dataframe\n",
        "df = dataset_small.to_pandas()\n",
        "`\n",
        "\n",
        "__Generating Summaries using Longformer and our baseline, TextRank__\n",
        "\n",
        "Now that we have a DataFrame containing the articles, we can apply the __generate_avg_summary__ function to each article to generate Longformer-based summaries.\n",
        "\n",
        "You can adjust the `.select(range(10)` with different ranges to evaluate less or more articles."
      ],
      "metadata": {
        "id": "1eVm3rRIbPP1"
      }
    },
    {
      "cell_type": "code",
      "source": [
        "#tokenizer = LEDTokenizer.from_pretrained(\"allenai/led-large-16384-arxiv\")\n",
        "# model = LEDForConditionalGeneration.from_pretrained(\"allenai/led-large-16384-arxiv\", return_dict_in_generate=True).to(\"cuda\")\n",
        "\n",
        "def generate_avg_summary(article):\n",
        "  input_ids = tokenizer(article, padding=\"max_length\", max_length=16384, return_tensors=\"pt\", truncation=True).input_ids.to(\"cuda\")\n",
        "  global_attention_mask = torch.zeros_like(input_ids)\n",
        "  # Put global attention on <s> token\n",
        "  global_attention_mask[:, 0] = 1\n",
        "\n",
        "  sequences = model.generate(input_ids, global_attention_mask=global_attention_mask, max_length=512, num_beams=4).sequences\n",
        "  summary = tokenizer.batch_decode(sequences, skip_special_tokens=True)\n",
        "\n",
        "  return summary\n"
      ],
      "metadata": {
        "id": "nm_Z5Tyb-Z9Z"
      },
      "execution_count": 62,
      "outputs": []
    },
    {
      "cell_type": "code",
      "source": [
        "# Select a small range of samples\n",
        "# See: https://huggingface.co/docs/datasets/v1.1.1/processing.html\n",
        "dataset_small = test_dataset.select(range(10))\n",
        "\n",
        "# Convert dataset to pandas dataframe\n",
        "df = dataset_small.to_pandas()\n",
        "\n",
        "# Generate summaries for each article\n",
        "df[\"Longformer\"] = df[\"article\"].apply(generate_avg_summary)\n",
        "\n",
        "# Print the summaries\n",
        "print(df[\"Longformer\"])"
      ],
      "metadata": {
        "colab": {
          "base_uri": "https://localhost:8080/"
        },
        "id": "A6v1VNnl-b97",
        "outputId": "8f83f5f1-4033-4208-a125-aa188a88288f"
      },
      "execution_count": 63,
      "outputs": [
        {
          "output_type": "stream",
          "name": "stdout",
          "text": [
            "0    [ a new method of the detection of statistical...\n",
            "1    [ we investigate the detectability of circular...\n",
            "2    [ a new formula for the penetrability of one -...\n",
            "3    [ the hybrid monte carlo algorithm ( hmc ) is ...\n",
            "4    [ we propose essentially new methods for deriv...\n",
            "5    [ we propose and study a frequency hough proce...\n",
            "6    [ this review focuses specifically on what we ...\n",
            "7    [ we study single - transverse spin asymmetrie...\n",
            "8    [ let @xmath0 be the time @xmath1 when the kin...\n",
            "9    [ we overview several physical examples of mul...\n",
            "Name: Longformer, dtype: object\n"
          ]
        }
      ]
    },
    {
      "cell_type": "code",
      "source": [
        "rouge = evaluate.load('rouge')\n",
        "bleu = evaluate.load('google_bleu')"
      ],
      "metadata": {
        "id": "m_KB9V1X-7sD"
      },
      "execution_count": 64,
      "outputs": []
    },
    {
      "cell_type": "code",
      "source": [
        "# delete the list data format from each entry\n",
        "df[\"Longformer\"] = df['Longformer'].apply(lambda x: x[0])\n",
        "df[\"Longformer\"]"
      ],
      "metadata": {
        "colab": {
          "base_uri": "https://localhost:8080/"
        },
        "id": "u4LHJ886Lyvm",
        "outputId": "3f825407-be16-476b-e7b3-6deb8cf460fb"
      },
      "execution_count": 65,
      "outputs": [
        {
          "output_type": "execute_result",
          "data": {
            "text/plain": [
              "0     a new method of the detection of statisticall...\n",
              "1     we investigate the detectability of circular ...\n",
              "2     a new formula for the penetrability of one - ...\n",
              "3     the hybrid monte carlo algorithm ( hmc ) is u...\n",
              "4     we propose essentially new methods for derivi...\n",
              "5     we propose and study a frequency hough proced...\n",
              "6     this review focuses specifically on what we h...\n",
              "7     we study single - transverse spin asymmetries...\n",
              "8     let @xmath0 be the time @xmath1 when the king...\n",
              "9     we overview several physical examples of mult...\n",
              "Name: Longformer, dtype: object"
            ]
          },
          "metadata": {},
          "execution_count": 65
        }
      ]
    },
    {
      "cell_type": "code",
      "source": [
        "# get 10 examples\n",
        "papers_np_10 = papers_np[:10]\n",
        "papers_np_10.shape"
      ],
      "metadata": {
        "colab": {
          "base_uri": "https://localhost:8080/"
        },
        "outputId": "f409c146-95b2-4582-ae97-a2ba44fe559f",
        "id": "A2ayPpy0SMuo"
      },
      "execution_count": 66,
      "outputs": [
        {
          "output_type": "execute_result",
          "data": {
            "text/plain": [
              "(10,)"
            ]
          },
          "metadata": {},
          "execution_count": 66
        }
      ]
    },
    {
      "cell_type": "code",
      "source": [
        "# Define a new function with the `words` argument fixed to 120\n",
        "summarize_text_120 = partial(summarize_text, words=120)\n",
        "\n",
        "# Parallelize the TextRank summarization\n",
        "with Pool() as pool:\n",
        "    summarized_articles = pool.map(summarize_text_120, papers_np_10)"
      ],
      "metadata": {
        "id": "iUQVRzGNSMup"
      },
      "execution_count": 67,
      "outputs": []
    },
    {
      "cell_type": "code",
      "source": [
        "df['TextRank (Baseline)'] = summarized_articles"
      ],
      "metadata": {
        "id": "h119uhb8Sd58"
      },
      "execution_count": 68,
      "outputs": []
    },
    {
      "cell_type": "code",
      "source": [
        "# convert to proper format to compute rouge metric\n",
        "predictions = df[\"Longformer\"].tolist()\n",
        "references = df['abstract'].tolist()\n",
        "results_longformer = rouge.compute(predictions=predictions,\n",
        "                         references=references)\n",
        "results_longformer_bleu = bleu.compute(predictions=predictions,\n",
        "                         references=references)"
      ],
      "metadata": {
        "id": "4etJhiQ4Q_wB"
      },
      "execution_count": 69,
      "outputs": []
    },
    {
      "cell_type": "code",
      "source": [
        "results_longformer_bleu\n"
      ],
      "metadata": {
        "colab": {
          "base_uri": "https://localhost:8080/"
        },
        "id": "R-StCrMFK2j7",
        "outputId": "1d66b455-b0d0-4a81-fd70-7439a847e671"
      },
      "execution_count": 70,
      "outputs": [
        {
          "output_type": "execute_result",
          "data": {
            "text/plain": [
              "{'google_bleu': 0.179503582395087}"
            ]
          },
          "metadata": {},
          "execution_count": 70
        }
      ]
    },
    {
      "cell_type": "code",
      "source": [
        "# convert to proper format to compute rouge metric\n",
        "predictions = df['TextRank (Baseline)'].tolist()\n",
        "references = df['abstract'].tolist()\n",
        "results_text_rank = rouge.compute(predictions=predictions,\n",
        "                         references=references)\n",
        "results_text_rank_bleu = bleu.compute(predictions=predictions,\n",
        "                         references=references)"
      ],
      "metadata": {
        "id": "2ElsIpKvSyiC"
      },
      "execution_count": 71,
      "outputs": []
    },
    {
      "cell_type": "code",
      "source": [
        "# Get the value for TextRank\n",
        "textRank_value = results_text_rank_bleu[\"google_bleu\"]\n",
        "longformer_value = results_longformer_bleu[\"google_bleu\"]"
      ],
      "metadata": {
        "id": "Ih7mHOcUKzy6"
      },
      "execution_count": 72,
      "outputs": []
    },
    {
      "cell_type": "code",
      "source": [
        "results_text_rank_bleu"
      ],
      "metadata": {
        "colab": {
          "base_uri": "https://localhost:8080/"
        },
        "id": "tV7fn8tlMOJw",
        "outputId": "ff84ceb1-3614-48bf-b1b6-298eb758df0c"
      },
      "execution_count": 73,
      "outputs": [
        {
          "output_type": "execute_result",
          "data": {
            "text/plain": [
              "{'google_bleu': 0.10099750623441396}"
            ]
          },
          "metadata": {},
          "execution_count": 73
        }
      ]
    },
    {
      "cell_type": "code",
      "source": [
        "metrics = pd.DataFrame([results_text_rank, results_longformer], index=['TextRank (Baseline)', 'Longformer'])\n",
        "metrics"
      ],
      "metadata": {
        "colab": {
          "base_uri": "https://localhost:8080/",
          "height": 112
        },
        "id": "cNsk56OhS1-p",
        "outputId": "836fc5e4-6019-42a0-de1e-617c160e2b83"
      },
      "execution_count": 74,
      "outputs": [
        {
          "output_type": "execute_result",
          "data": {
            "text/plain": [
              "                       rouge1    rouge2    rougeL  rougeLsum\n",
              "TextRank (Baseline)  0.305858  0.094233  0.170277   0.241837\n",
              "Longformer           0.454593  0.235658  0.317249   0.395121"
            ],
            "text/html": [
              "\n",
              "  <div id=\"df-102a175c-7383-4147-b18a-40d54695a784\" class=\"colab-df-container\">\n",
              "    <div>\n",
              "<style scoped>\n",
              "    .dataframe tbody tr th:only-of-type {\n",
              "        vertical-align: middle;\n",
              "    }\n",
              "\n",
              "    .dataframe tbody tr th {\n",
              "        vertical-align: top;\n",
              "    }\n",
              "\n",
              "    .dataframe thead th {\n",
              "        text-align: right;\n",
              "    }\n",
              "</style>\n",
              "<table border=\"1\" class=\"dataframe\">\n",
              "  <thead>\n",
              "    <tr style=\"text-align: right;\">\n",
              "      <th></th>\n",
              "      <th>rouge1</th>\n",
              "      <th>rouge2</th>\n",
              "      <th>rougeL</th>\n",
              "      <th>rougeLsum</th>\n",
              "    </tr>\n",
              "  </thead>\n",
              "  <tbody>\n",
              "    <tr>\n",
              "      <th>TextRank (Baseline)</th>\n",
              "      <td>0.305858</td>\n",
              "      <td>0.094233</td>\n",
              "      <td>0.170277</td>\n",
              "      <td>0.241837</td>\n",
              "    </tr>\n",
              "    <tr>\n",
              "      <th>Longformer</th>\n",
              "      <td>0.454593</td>\n",
              "      <td>0.235658</td>\n",
              "      <td>0.317249</td>\n",
              "      <td>0.395121</td>\n",
              "    </tr>\n",
              "  </tbody>\n",
              "</table>\n",
              "</div>\n",
              "    <div class=\"colab-df-buttons\">\n",
              "\n",
              "  <div class=\"colab-df-container\">\n",
              "    <button class=\"colab-df-convert\" onclick=\"convertToInteractive('df-102a175c-7383-4147-b18a-40d54695a784')\"\n",
              "            title=\"Convert this dataframe to an interactive table.\"\n",
              "            style=\"display:none;\">\n",
              "\n",
              "  <svg xmlns=\"http://www.w3.org/2000/svg\" height=\"24px\" viewBox=\"0 -960 960 960\">\n",
              "    <path d=\"M120-120v-720h720v720H120Zm60-500h600v-160H180v160Zm220 220h160v-160H400v160Zm0 220h160v-160H400v160ZM180-400h160v-160H180v160Zm440 0h160v-160H620v160ZM180-180h160v-160H180v160Zm440 0h160v-160H620v160Z\"/>\n",
              "  </svg>\n",
              "    </button>\n",
              "\n",
              "  <style>\n",
              "    .colab-df-container {\n",
              "      display:flex;\n",
              "      gap: 12px;\n",
              "    }\n",
              "\n",
              "    .colab-df-convert {\n",
              "      background-color: #E8F0FE;\n",
              "      border: none;\n",
              "      border-radius: 50%;\n",
              "      cursor: pointer;\n",
              "      display: none;\n",
              "      fill: #1967D2;\n",
              "      height: 32px;\n",
              "      padding: 0 0 0 0;\n",
              "      width: 32px;\n",
              "    }\n",
              "\n",
              "    .colab-df-convert:hover {\n",
              "      background-color: #E2EBFA;\n",
              "      box-shadow: 0px 1px 2px rgba(60, 64, 67, 0.3), 0px 1px 3px 1px rgba(60, 64, 67, 0.15);\n",
              "      fill: #174EA6;\n",
              "    }\n",
              "\n",
              "    .colab-df-buttons div {\n",
              "      margin-bottom: 4px;\n",
              "    }\n",
              "\n",
              "    [theme=dark] .colab-df-convert {\n",
              "      background-color: #3B4455;\n",
              "      fill: #D2E3FC;\n",
              "    }\n",
              "\n",
              "    [theme=dark] .colab-df-convert:hover {\n",
              "      background-color: #434B5C;\n",
              "      box-shadow: 0px 1px 3px 1px rgba(0, 0, 0, 0.15);\n",
              "      filter: drop-shadow(0px 1px 2px rgba(0, 0, 0, 0.3));\n",
              "      fill: #FFFFFF;\n",
              "    }\n",
              "  </style>\n",
              "\n",
              "    <script>\n",
              "      const buttonEl =\n",
              "        document.querySelector('#df-102a175c-7383-4147-b18a-40d54695a784 button.colab-df-convert');\n",
              "      buttonEl.style.display =\n",
              "        google.colab.kernel.accessAllowed ? 'block' : 'none';\n",
              "\n",
              "      async function convertToInteractive(key) {\n",
              "        const element = document.querySelector('#df-102a175c-7383-4147-b18a-40d54695a784');\n",
              "        const dataTable =\n",
              "          await google.colab.kernel.invokeFunction('convertToInteractive',\n",
              "                                                    [key], {});\n",
              "        if (!dataTable) return;\n",
              "\n",
              "        const docLinkHtml = 'Like what you see? Visit the ' +\n",
              "          '<a target=\"_blank\" href=https://colab.research.google.com/notebooks/data_table.ipynb>data table notebook</a>'\n",
              "          + ' to learn more about interactive tables.';\n",
              "        element.innerHTML = '';\n",
              "        dataTable['output_type'] = 'display_data';\n",
              "        await google.colab.output.renderOutput(dataTable, element);\n",
              "        const docLink = document.createElement('div');\n",
              "        docLink.innerHTML = docLinkHtml;\n",
              "        element.appendChild(docLink);\n",
              "      }\n",
              "    </script>\n",
              "  </div>\n",
              "\n",
              "\n",
              "<div id=\"df-0470911e-b2a9-45fe-bc16-d02b2a3cb3f0\">\n",
              "  <button class=\"colab-df-quickchart\" onclick=\"quickchart('df-0470911e-b2a9-45fe-bc16-d02b2a3cb3f0')\"\n",
              "            title=\"Suggest charts\"\n",
              "            style=\"display:none;\">\n",
              "\n",
              "<svg xmlns=\"http://www.w3.org/2000/svg\" height=\"24px\"viewBox=\"0 0 24 24\"\n",
              "     width=\"24px\">\n",
              "    <g>\n",
              "        <path d=\"M19 3H5c-1.1 0-2 .9-2 2v14c0 1.1.9 2 2 2h14c1.1 0 2-.9 2-2V5c0-1.1-.9-2-2-2zM9 17H7v-7h2v7zm4 0h-2V7h2v10zm4 0h-2v-4h2v4z\"/>\n",
              "    </g>\n",
              "</svg>\n",
              "  </button>\n",
              "\n",
              "<style>\n",
              "  .colab-df-quickchart {\n",
              "      --bg-color: #E8F0FE;\n",
              "      --fill-color: #1967D2;\n",
              "      --hover-bg-color: #E2EBFA;\n",
              "      --hover-fill-color: #174EA6;\n",
              "      --disabled-fill-color: #AAA;\n",
              "      --disabled-bg-color: #DDD;\n",
              "  }\n",
              "\n",
              "  [theme=dark] .colab-df-quickchart {\n",
              "      --bg-color: #3B4455;\n",
              "      --fill-color: #D2E3FC;\n",
              "      --hover-bg-color: #434B5C;\n",
              "      --hover-fill-color: #FFFFFF;\n",
              "      --disabled-bg-color: #3B4455;\n",
              "      --disabled-fill-color: #666;\n",
              "  }\n",
              "\n",
              "  .colab-df-quickchart {\n",
              "    background-color: var(--bg-color);\n",
              "    border: none;\n",
              "    border-radius: 50%;\n",
              "    cursor: pointer;\n",
              "    display: none;\n",
              "    fill: var(--fill-color);\n",
              "    height: 32px;\n",
              "    padding: 0;\n",
              "    width: 32px;\n",
              "  }\n",
              "\n",
              "  .colab-df-quickchart:hover {\n",
              "    background-color: var(--hover-bg-color);\n",
              "    box-shadow: 0 1px 2px rgba(60, 64, 67, 0.3), 0 1px 3px 1px rgba(60, 64, 67, 0.15);\n",
              "    fill: var(--button-hover-fill-color);\n",
              "  }\n",
              "\n",
              "  .colab-df-quickchart-complete:disabled,\n",
              "  .colab-df-quickchart-complete:disabled:hover {\n",
              "    background-color: var(--disabled-bg-color);\n",
              "    fill: var(--disabled-fill-color);\n",
              "    box-shadow: none;\n",
              "  }\n",
              "\n",
              "  .colab-df-spinner {\n",
              "    border: 2px solid var(--fill-color);\n",
              "    border-color: transparent;\n",
              "    border-bottom-color: var(--fill-color);\n",
              "    animation:\n",
              "      spin 1s steps(1) infinite;\n",
              "  }\n",
              "\n",
              "  @keyframes spin {\n",
              "    0% {\n",
              "      border-color: transparent;\n",
              "      border-bottom-color: var(--fill-color);\n",
              "      border-left-color: var(--fill-color);\n",
              "    }\n",
              "    20% {\n",
              "      border-color: transparent;\n",
              "      border-left-color: var(--fill-color);\n",
              "      border-top-color: var(--fill-color);\n",
              "    }\n",
              "    30% {\n",
              "      border-color: transparent;\n",
              "      border-left-color: var(--fill-color);\n",
              "      border-top-color: var(--fill-color);\n",
              "      border-right-color: var(--fill-color);\n",
              "    }\n",
              "    40% {\n",
              "      border-color: transparent;\n",
              "      border-right-color: var(--fill-color);\n",
              "      border-top-color: var(--fill-color);\n",
              "    }\n",
              "    60% {\n",
              "      border-color: transparent;\n",
              "      border-right-color: var(--fill-color);\n",
              "    }\n",
              "    80% {\n",
              "      border-color: transparent;\n",
              "      border-right-color: var(--fill-color);\n",
              "      border-bottom-color: var(--fill-color);\n",
              "    }\n",
              "    90% {\n",
              "      border-color: transparent;\n",
              "      border-bottom-color: var(--fill-color);\n",
              "    }\n",
              "  }\n",
              "</style>\n",
              "\n",
              "  <script>\n",
              "    async function quickchart(key) {\n",
              "      const quickchartButtonEl =\n",
              "        document.querySelector('#' + key + ' button');\n",
              "      quickchartButtonEl.disabled = true;  // To prevent multiple clicks.\n",
              "      quickchartButtonEl.classList.add('colab-df-spinner');\n",
              "      try {\n",
              "        const charts = await google.colab.kernel.invokeFunction(\n",
              "            'suggestCharts', [key], {});\n",
              "      } catch (error) {\n",
              "        console.error('Error during call to suggestCharts:', error);\n",
              "      }\n",
              "      quickchartButtonEl.classList.remove('colab-df-spinner');\n",
              "      quickchartButtonEl.classList.add('colab-df-quickchart-complete');\n",
              "    }\n",
              "    (() => {\n",
              "      let quickchartButtonEl =\n",
              "        document.querySelector('#df-0470911e-b2a9-45fe-bc16-d02b2a3cb3f0 button');\n",
              "      quickchartButtonEl.style.display =\n",
              "        google.colab.kernel.accessAllowed ? 'block' : 'none';\n",
              "    })();\n",
              "  </script>\n",
              "</div>\n",
              "    </div>\n",
              "  </div>\n"
            ]
          },
          "metadata": {},
          "execution_count": 74
        }
      ]
    },
    {
      "cell_type": "code",
      "source": [
        "bleu_scores = [textRank_value, longformer_value]\n",
        "\n",
        "# Using 'Address' as the column name\n",
        "# and equating it to the list\n",
        "metrics['google_bleu'] = bleu_scores\n",
        "metrics"
      ],
      "metadata": {
        "colab": {
          "base_uri": "https://localhost:8080/",
          "height": 112
        },
        "id": "AZ5Pcc1tLBEI",
        "outputId": "91820ab8-6a99-41c0-a26e-65e25cab1a4a"
      },
      "execution_count": 75,
      "outputs": [
        {
          "output_type": "execute_result",
          "data": {
            "text/plain": [
              "                       rouge1    rouge2    rougeL  rougeLsum  google_bleu\n",
              "TextRank (Baseline)  0.305858  0.094233  0.170277   0.241837     0.100998\n",
              "Longformer           0.454593  0.235658  0.317249   0.395121     0.179504"
            ],
            "text/html": [
              "\n",
              "  <div id=\"df-30b5a26d-5df2-4ddb-8a8b-eabbf44fcced\" class=\"colab-df-container\">\n",
              "    <div>\n",
              "<style scoped>\n",
              "    .dataframe tbody tr th:only-of-type {\n",
              "        vertical-align: middle;\n",
              "    }\n",
              "\n",
              "    .dataframe tbody tr th {\n",
              "        vertical-align: top;\n",
              "    }\n",
              "\n",
              "    .dataframe thead th {\n",
              "        text-align: right;\n",
              "    }\n",
              "</style>\n",
              "<table border=\"1\" class=\"dataframe\">\n",
              "  <thead>\n",
              "    <tr style=\"text-align: right;\">\n",
              "      <th></th>\n",
              "      <th>rouge1</th>\n",
              "      <th>rouge2</th>\n",
              "      <th>rougeL</th>\n",
              "      <th>rougeLsum</th>\n",
              "      <th>google_bleu</th>\n",
              "    </tr>\n",
              "  </thead>\n",
              "  <tbody>\n",
              "    <tr>\n",
              "      <th>TextRank (Baseline)</th>\n",
              "      <td>0.305858</td>\n",
              "      <td>0.094233</td>\n",
              "      <td>0.170277</td>\n",
              "      <td>0.241837</td>\n",
              "      <td>0.100998</td>\n",
              "    </tr>\n",
              "    <tr>\n",
              "      <th>Longformer</th>\n",
              "      <td>0.454593</td>\n",
              "      <td>0.235658</td>\n",
              "      <td>0.317249</td>\n",
              "      <td>0.395121</td>\n",
              "      <td>0.179504</td>\n",
              "    </tr>\n",
              "  </tbody>\n",
              "</table>\n",
              "</div>\n",
              "    <div class=\"colab-df-buttons\">\n",
              "\n",
              "  <div class=\"colab-df-container\">\n",
              "    <button class=\"colab-df-convert\" onclick=\"convertToInteractive('df-30b5a26d-5df2-4ddb-8a8b-eabbf44fcced')\"\n",
              "            title=\"Convert this dataframe to an interactive table.\"\n",
              "            style=\"display:none;\">\n",
              "\n",
              "  <svg xmlns=\"http://www.w3.org/2000/svg\" height=\"24px\" viewBox=\"0 -960 960 960\">\n",
              "    <path d=\"M120-120v-720h720v720H120Zm60-500h600v-160H180v160Zm220 220h160v-160H400v160Zm0 220h160v-160H400v160ZM180-400h160v-160H180v160Zm440 0h160v-160H620v160ZM180-180h160v-160H180v160Zm440 0h160v-160H620v160Z\"/>\n",
              "  </svg>\n",
              "    </button>\n",
              "\n",
              "  <style>\n",
              "    .colab-df-container {\n",
              "      display:flex;\n",
              "      gap: 12px;\n",
              "    }\n",
              "\n",
              "    .colab-df-convert {\n",
              "      background-color: #E8F0FE;\n",
              "      border: none;\n",
              "      border-radius: 50%;\n",
              "      cursor: pointer;\n",
              "      display: none;\n",
              "      fill: #1967D2;\n",
              "      height: 32px;\n",
              "      padding: 0 0 0 0;\n",
              "      width: 32px;\n",
              "    }\n",
              "\n",
              "    .colab-df-convert:hover {\n",
              "      background-color: #E2EBFA;\n",
              "      box-shadow: 0px 1px 2px rgba(60, 64, 67, 0.3), 0px 1px 3px 1px rgba(60, 64, 67, 0.15);\n",
              "      fill: #174EA6;\n",
              "    }\n",
              "\n",
              "    .colab-df-buttons div {\n",
              "      margin-bottom: 4px;\n",
              "    }\n",
              "\n",
              "    [theme=dark] .colab-df-convert {\n",
              "      background-color: #3B4455;\n",
              "      fill: #D2E3FC;\n",
              "    }\n",
              "\n",
              "    [theme=dark] .colab-df-convert:hover {\n",
              "      background-color: #434B5C;\n",
              "      box-shadow: 0px 1px 3px 1px rgba(0, 0, 0, 0.15);\n",
              "      filter: drop-shadow(0px 1px 2px rgba(0, 0, 0, 0.3));\n",
              "      fill: #FFFFFF;\n",
              "    }\n",
              "  </style>\n",
              "\n",
              "    <script>\n",
              "      const buttonEl =\n",
              "        document.querySelector('#df-30b5a26d-5df2-4ddb-8a8b-eabbf44fcced button.colab-df-convert');\n",
              "      buttonEl.style.display =\n",
              "        google.colab.kernel.accessAllowed ? 'block' : 'none';\n",
              "\n",
              "      async function convertToInteractive(key) {\n",
              "        const element = document.querySelector('#df-30b5a26d-5df2-4ddb-8a8b-eabbf44fcced');\n",
              "        const dataTable =\n",
              "          await google.colab.kernel.invokeFunction('convertToInteractive',\n",
              "                                                    [key], {});\n",
              "        if (!dataTable) return;\n",
              "\n",
              "        const docLinkHtml = 'Like what you see? Visit the ' +\n",
              "          '<a target=\"_blank\" href=https://colab.research.google.com/notebooks/data_table.ipynb>data table notebook</a>'\n",
              "          + ' to learn more about interactive tables.';\n",
              "        element.innerHTML = '';\n",
              "        dataTable['output_type'] = 'display_data';\n",
              "        await google.colab.output.renderOutput(dataTable, element);\n",
              "        const docLink = document.createElement('div');\n",
              "        docLink.innerHTML = docLinkHtml;\n",
              "        element.appendChild(docLink);\n",
              "      }\n",
              "    </script>\n",
              "  </div>\n",
              "\n",
              "\n",
              "<div id=\"df-4346b1a7-9d9d-44d4-82c6-33765e03493d\">\n",
              "  <button class=\"colab-df-quickchart\" onclick=\"quickchart('df-4346b1a7-9d9d-44d4-82c6-33765e03493d')\"\n",
              "            title=\"Suggest charts\"\n",
              "            style=\"display:none;\">\n",
              "\n",
              "<svg xmlns=\"http://www.w3.org/2000/svg\" height=\"24px\"viewBox=\"0 0 24 24\"\n",
              "     width=\"24px\">\n",
              "    <g>\n",
              "        <path d=\"M19 3H5c-1.1 0-2 .9-2 2v14c0 1.1.9 2 2 2h14c1.1 0 2-.9 2-2V5c0-1.1-.9-2-2-2zM9 17H7v-7h2v7zm4 0h-2V7h2v10zm4 0h-2v-4h2v4z\"/>\n",
              "    </g>\n",
              "</svg>\n",
              "  </button>\n",
              "\n",
              "<style>\n",
              "  .colab-df-quickchart {\n",
              "      --bg-color: #E8F0FE;\n",
              "      --fill-color: #1967D2;\n",
              "      --hover-bg-color: #E2EBFA;\n",
              "      --hover-fill-color: #174EA6;\n",
              "      --disabled-fill-color: #AAA;\n",
              "      --disabled-bg-color: #DDD;\n",
              "  }\n",
              "\n",
              "  [theme=dark] .colab-df-quickchart {\n",
              "      --bg-color: #3B4455;\n",
              "      --fill-color: #D2E3FC;\n",
              "      --hover-bg-color: #434B5C;\n",
              "      --hover-fill-color: #FFFFFF;\n",
              "      --disabled-bg-color: #3B4455;\n",
              "      --disabled-fill-color: #666;\n",
              "  }\n",
              "\n",
              "  .colab-df-quickchart {\n",
              "    background-color: var(--bg-color);\n",
              "    border: none;\n",
              "    border-radius: 50%;\n",
              "    cursor: pointer;\n",
              "    display: none;\n",
              "    fill: var(--fill-color);\n",
              "    height: 32px;\n",
              "    padding: 0;\n",
              "    width: 32px;\n",
              "  }\n",
              "\n",
              "  .colab-df-quickchart:hover {\n",
              "    background-color: var(--hover-bg-color);\n",
              "    box-shadow: 0 1px 2px rgba(60, 64, 67, 0.3), 0 1px 3px 1px rgba(60, 64, 67, 0.15);\n",
              "    fill: var(--button-hover-fill-color);\n",
              "  }\n",
              "\n",
              "  .colab-df-quickchart-complete:disabled,\n",
              "  .colab-df-quickchart-complete:disabled:hover {\n",
              "    background-color: var(--disabled-bg-color);\n",
              "    fill: var(--disabled-fill-color);\n",
              "    box-shadow: none;\n",
              "  }\n",
              "\n",
              "  .colab-df-spinner {\n",
              "    border: 2px solid var(--fill-color);\n",
              "    border-color: transparent;\n",
              "    border-bottom-color: var(--fill-color);\n",
              "    animation:\n",
              "      spin 1s steps(1) infinite;\n",
              "  }\n",
              "\n",
              "  @keyframes spin {\n",
              "    0% {\n",
              "      border-color: transparent;\n",
              "      border-bottom-color: var(--fill-color);\n",
              "      border-left-color: var(--fill-color);\n",
              "    }\n",
              "    20% {\n",
              "      border-color: transparent;\n",
              "      border-left-color: var(--fill-color);\n",
              "      border-top-color: var(--fill-color);\n",
              "    }\n",
              "    30% {\n",
              "      border-color: transparent;\n",
              "      border-left-color: var(--fill-color);\n",
              "      border-top-color: var(--fill-color);\n",
              "      border-right-color: var(--fill-color);\n",
              "    }\n",
              "    40% {\n",
              "      border-color: transparent;\n",
              "      border-right-color: var(--fill-color);\n",
              "      border-top-color: var(--fill-color);\n",
              "    }\n",
              "    60% {\n",
              "      border-color: transparent;\n",
              "      border-right-color: var(--fill-color);\n",
              "    }\n",
              "    80% {\n",
              "      border-color: transparent;\n",
              "      border-right-color: var(--fill-color);\n",
              "      border-bottom-color: var(--fill-color);\n",
              "    }\n",
              "    90% {\n",
              "      border-color: transparent;\n",
              "      border-bottom-color: var(--fill-color);\n",
              "    }\n",
              "  }\n",
              "</style>\n",
              "\n",
              "  <script>\n",
              "    async function quickchart(key) {\n",
              "      const quickchartButtonEl =\n",
              "        document.querySelector('#' + key + ' button');\n",
              "      quickchartButtonEl.disabled = true;  // To prevent multiple clicks.\n",
              "      quickchartButtonEl.classList.add('colab-df-spinner');\n",
              "      try {\n",
              "        const charts = await google.colab.kernel.invokeFunction(\n",
              "            'suggestCharts', [key], {});\n",
              "      } catch (error) {\n",
              "        console.error('Error during call to suggestCharts:', error);\n",
              "      }\n",
              "      quickchartButtonEl.classList.remove('colab-df-spinner');\n",
              "      quickchartButtonEl.classList.add('colab-df-quickchart-complete');\n",
              "    }\n",
              "    (() => {\n",
              "      let quickchartButtonEl =\n",
              "        document.querySelector('#df-4346b1a7-9d9d-44d4-82c6-33765e03493d button');\n",
              "      quickchartButtonEl.style.display =\n",
              "        google.colab.kernel.accessAllowed ? 'block' : 'none';\n",
              "    })();\n",
              "  </script>\n",
              "</div>\n",
              "    </div>\n",
              "  </div>\n"
            ]
          },
          "metadata": {},
          "execution_count": 75
        }
      ]
    },
    {
      "cell_type": "markdown",
      "source": [
        "# Display Model Configuration"
      ],
      "metadata": {
        "id": "J9AbMdQxJCHM"
      }
    },
    {
      "cell_type": "code",
      "source": [
        "# Load the configuration\n",
        "config = BartConfig.from_pretrained(\"facebook/bart-large-cnn\")\n",
        "\n",
        "# Load the model with the specified configuration\n",
        "model = BartForConditionalGeneration.from_pretrained(\"facebook/bart-large-cnn\", config=config)\n",
        "\n",
        "# Print the model configuration\n",
        "print(model.config)\n"
      ],
      "metadata": {
        "id": "jRJqDm2OUJ0u",
        "colab": {
          "base_uri": "https://localhost:8080/"
        },
        "outputId": "db3faf12-7963-469d-c212-fb562afce771"
      },
      "execution_count": 76,
      "outputs": [
        {
          "output_type": "stream",
          "name": "stderr",
          "text": [
            "Some weights of BartForConditionalGeneration were not initialized from the model checkpoint at facebook/bart-large-cnn and are newly initialized: ['model.shared.weight']\n",
            "You should probably TRAIN this model on a down-stream task to be able to use it for predictions and inference.\n"
          ]
        },
        {
          "output_type": "stream",
          "name": "stdout",
          "text": [
            "BartConfig {\n",
            "  \"_name_or_path\": \"facebook/bart-large-cnn\",\n",
            "  \"_num_labels\": 3,\n",
            "  \"activation_dropout\": 0.0,\n",
            "  \"activation_function\": \"gelu\",\n",
            "  \"add_final_layer_norm\": false,\n",
            "  \"architectures\": [\n",
            "    \"BartForConditionalGeneration\"\n",
            "  ],\n",
            "  \"attention_dropout\": 0.0,\n",
            "  \"bos_token_id\": 0,\n",
            "  \"classif_dropout\": 0.0,\n",
            "  \"classifier_dropout\": 0.0,\n",
            "  \"d_model\": 1024,\n",
            "  \"decoder_attention_heads\": 16,\n",
            "  \"decoder_ffn_dim\": 4096,\n",
            "  \"decoder_layerdrop\": 0.0,\n",
            "  \"decoder_layers\": 12,\n",
            "  \"decoder_start_token_id\": 2,\n",
            "  \"dropout\": 0.1,\n",
            "  \"early_stopping\": true,\n",
            "  \"encoder_attention_heads\": 16,\n",
            "  \"encoder_ffn_dim\": 4096,\n",
            "  \"encoder_layerdrop\": 0.0,\n",
            "  \"encoder_layers\": 12,\n",
            "  \"eos_token_id\": 2,\n",
            "  \"force_bos_token_to_be_generated\": true,\n",
            "  \"forced_bos_token_id\": 0,\n",
            "  \"forced_eos_token_id\": 2,\n",
            "  \"gradient_checkpointing\": false,\n",
            "  \"id2label\": {\n",
            "    \"0\": \"LABEL_0\",\n",
            "    \"1\": \"LABEL_1\",\n",
            "    \"2\": \"LABEL_2\"\n",
            "  },\n",
            "  \"init_std\": 0.02,\n",
            "  \"is_encoder_decoder\": true,\n",
            "  \"label2id\": {\n",
            "    \"LABEL_0\": 0,\n",
            "    \"LABEL_1\": 1,\n",
            "    \"LABEL_2\": 2\n",
            "  },\n",
            "  \"length_penalty\": 2.0,\n",
            "  \"max_length\": 142,\n",
            "  \"max_position_embeddings\": 1024,\n",
            "  \"min_length\": 56,\n",
            "  \"model_type\": \"bart\",\n",
            "  \"no_repeat_ngram_size\": 3,\n",
            "  \"normalize_before\": false,\n",
            "  \"num_beams\": 4,\n",
            "  \"num_hidden_layers\": 12,\n",
            "  \"output_past\": true,\n",
            "  \"pad_token_id\": 1,\n",
            "  \"prefix\": \" \",\n",
            "  \"scale_embedding\": false,\n",
            "  \"task_specific_params\": {\n",
            "    \"summarization\": {\n",
            "      \"early_stopping\": true,\n",
            "      \"length_penalty\": 2.0,\n",
            "      \"max_length\": 142,\n",
            "      \"min_length\": 56,\n",
            "      \"no_repeat_ngram_size\": 3,\n",
            "      \"num_beams\": 4\n",
            "    }\n",
            "  },\n",
            "  \"transformers_version\": \"4.26.1\",\n",
            "  \"use_cache\": true,\n",
            "  \"vocab_size\": 50264\n",
            "}\n",
            "\n"
          ]
        }
      ]
    },
    {
      "cell_type": "code",
      "source": [
        "# Load the configuration\n",
        "config = LEDConfig.from_pretrained(\"allenai/led-large-16384-arxiv\")\n",
        "\n",
        "# Load the model with the specified configuration\n",
        "model = LEDForConditionalGeneration.from_pretrained(\"allenai/led-large-16384-arxiv\", config=config)\n",
        "\n",
        "# Print the model configuration\n",
        "print(model.config)\n"
      ],
      "metadata": {
        "colab": {
          "base_uri": "https://localhost:8080/"
        },
        "id": "5-WxaTnTFYZs",
        "outputId": "475627f7-55ea-4ce0-b0e5-64349f1adcc9"
      },
      "execution_count": 77,
      "outputs": [
        {
          "output_type": "stream",
          "name": "stdout",
          "text": [
            "LEDConfig {\n",
            "  \"_name_or_path\": \"allenai/led-large-16384-arxiv\",\n",
            "  \"_num_labels\": 3,\n",
            "  \"activation_dropout\": 0.0,\n",
            "  \"activation_function\": \"gelu\",\n",
            "  \"architectures\": [\n",
            "    \"LEDForConditionalGeneration\"\n",
            "  ],\n",
            "  \"attention_dropout\": 0.0,\n",
            "  \"attention_window\": [\n",
            "    1024,\n",
            "    1024,\n",
            "    1024,\n",
            "    1024,\n",
            "    1024,\n",
            "    1024,\n",
            "    1024,\n",
            "    1024,\n",
            "    1024,\n",
            "    1024,\n",
            "    1024,\n",
            "    1024\n",
            "  ],\n",
            "  \"bos_token_id\": 0,\n",
            "  \"classif_dropout\": 0.0,\n",
            "  \"classifier_dropout\": 0.0,\n",
            "  \"d_model\": 1024,\n",
            "  \"decoder_attention_heads\": 16,\n",
            "  \"decoder_ffn_dim\": 4096,\n",
            "  \"decoder_layerdrop\": 0.0,\n",
            "  \"decoder_layers\": 12,\n",
            "  \"decoder_start_token_id\": 2,\n",
            "  \"dropout\": 0.1,\n",
            "  \"encoder_attention_heads\": 16,\n",
            "  \"encoder_ffn_dim\": 4096,\n",
            "  \"encoder_layerdrop\": 0.0,\n",
            "  \"encoder_layers\": 12,\n",
            "  \"eos_token_id\": 2,\n",
            "  \"gradient_checkpointing\": false,\n",
            "  \"id2label\": {\n",
            "    \"0\": \"LABEL_0\",\n",
            "    \"1\": \"LABEL_1\",\n",
            "    \"2\": \"LABEL_2\"\n",
            "  },\n",
            "  \"init_std\": 0.02,\n",
            "  \"is_encoder_decoder\": true,\n",
            "  \"label2id\": {\n",
            "    \"LABEL_0\": 0,\n",
            "    \"LABEL_1\": 1,\n",
            "    \"LABEL_2\": 2\n",
            "  },\n",
            "  \"max_decoder_position_embeddings\": 1024,\n",
            "  \"max_encoder_position_embeddings\": 16384,\n",
            "  \"max_length\": 512,\n",
            "  \"max_position_embeddings\": 1024,\n",
            "  \"model_type\": \"led\",\n",
            "  \"num_beams\": 4,\n",
            "  \"num_hidden_layers\": 12,\n",
            "  \"output_past\": false,\n",
            "  \"pad_token_id\": 1,\n",
            "  \"prefix\": \" \",\n",
            "  \"transformers_version\": \"4.26.1\",\n",
            "  \"use_cache\": true,\n",
            "  \"vocab_size\": 50265\n",
            "}\n",
            "\n"
          ]
        }
      ]
    },
    {
      "cell_type": "code",
      "source": [],
      "metadata": {
        "id": "TjT1cNmg173Y"
      },
      "execution_count": 77,
      "outputs": []
    }
  ],
  "metadata": {
    "colab": {
      "machine_shape": "hm",
      "provenance": [],
      "toc_visible": true
    },
    "gpuClass": "standard",
    "kernelspec": {
      "display_name": "Python 3",
      "name": "python3"
    },
    "language_info": {
      "name": "python"
    },
    "accelerator": "GPU",
    "widgets": {
      "application/vnd.jupyter.widget-state+json": {
        "79c7f02598924fed8a8204530e0ccb19": {
          "model_module": "@jupyter-widgets/controls",
          "model_name": "HBoxModel",
          "model_module_version": "1.5.0",
          "state": {
            "_dom_classes": [],
            "_model_module": "@jupyter-widgets/controls",
            "_model_module_version": "1.5.0",
            "_model_name": "HBoxModel",
            "_view_count": null,
            "_view_module": "@jupyter-widgets/controls",
            "_view_module_version": "1.5.0",
            "_view_name": "HBoxView",
            "box_style": "",
            "children": [
              "IPY_MODEL_f106b4f03efa4354979b55cbcbc1dd66",
              "IPY_MODEL_f012cff8dd664958931caf3b745800a6",
              "IPY_MODEL_f711601724ef4153975e61c786ada42e"
            ],
            "layout": "IPY_MODEL_f909e865738b4ca0942c60ea4a5ea5e5"
          }
        },
        "f106b4f03efa4354979b55cbcbc1dd66": {
          "model_module": "@jupyter-widgets/controls",
          "model_name": "HTMLModel",
          "model_module_version": "1.5.0",
          "state": {
            "_dom_classes": [],
            "_model_module": "@jupyter-widgets/controls",
            "_model_module_version": "1.5.0",
            "_model_name": "HTMLModel",
            "_view_count": null,
            "_view_module": "@jupyter-widgets/controls",
            "_view_module_version": "1.5.0",
            "_view_name": "HTMLView",
            "description": "",
            "description_tooltip": null,
            "layout": "IPY_MODEL_647b89e2fe914db4bc48f141b7ce0d7d",
            "placeholder": "​",
            "style": "IPY_MODEL_cbe62fd70efd4e5a89614eb6a11a545a",
            "value": "100%"
          }
        },
        "f012cff8dd664958931caf3b745800a6": {
          "model_module": "@jupyter-widgets/controls",
          "model_name": "FloatProgressModel",
          "model_module_version": "1.5.0",
          "state": {
            "_dom_classes": [],
            "_model_module": "@jupyter-widgets/controls",
            "_model_module_version": "1.5.0",
            "_model_name": "FloatProgressModel",
            "_view_count": null,
            "_view_module": "@jupyter-widgets/controls",
            "_view_module_version": "1.5.0",
            "_view_name": "ProgressView",
            "bar_style": "success",
            "description": "",
            "description_tooltip": null,
            "layout": "IPY_MODEL_70022358d5d947da823d1a5d37469380",
            "max": 3,
            "min": 0,
            "orientation": "horizontal",
            "style": "IPY_MODEL_8e77271748714825950650fce2608da6",
            "value": 3
          }
        },
        "f711601724ef4153975e61c786ada42e": {
          "model_module": "@jupyter-widgets/controls",
          "model_name": "HTMLModel",
          "model_module_version": "1.5.0",
          "state": {
            "_dom_classes": [],
            "_model_module": "@jupyter-widgets/controls",
            "_model_module_version": "1.5.0",
            "_model_name": "HTMLModel",
            "_view_count": null,
            "_view_module": "@jupyter-widgets/controls",
            "_view_module_version": "1.5.0",
            "_view_name": "HTMLView",
            "description": "",
            "description_tooltip": null,
            "layout": "IPY_MODEL_f082d65676a14d1f8bb35b1f37b18e27",
            "placeholder": "​",
            "style": "IPY_MODEL_55e8f86815bb4d74a37582ca66e8fd49",
            "value": " 3/3 [00:02&lt;00:00,  1.28s/it]"
          }
        },
        "f909e865738b4ca0942c60ea4a5ea5e5": {
          "model_module": "@jupyter-widgets/base",
          "model_name": "LayoutModel",
          "model_module_version": "1.2.0",
          "state": {
            "_model_module": "@jupyter-widgets/base",
            "_model_module_version": "1.2.0",
            "_model_name": "LayoutModel",
            "_view_count": null,
            "_view_module": "@jupyter-widgets/base",
            "_view_module_version": "1.2.0",
            "_view_name": "LayoutView",
            "align_content": null,
            "align_items": null,
            "align_self": null,
            "border": null,
            "bottom": null,
            "display": null,
            "flex": null,
            "flex_flow": null,
            "grid_area": null,
            "grid_auto_columns": null,
            "grid_auto_flow": null,
            "grid_auto_rows": null,
            "grid_column": null,
            "grid_gap": null,
            "grid_row": null,
            "grid_template_areas": null,
            "grid_template_columns": null,
            "grid_template_rows": null,
            "height": null,
            "justify_content": null,
            "justify_items": null,
            "left": null,
            "margin": null,
            "max_height": null,
            "max_width": null,
            "min_height": null,
            "min_width": null,
            "object_fit": null,
            "object_position": null,
            "order": null,
            "overflow": null,
            "overflow_x": null,
            "overflow_y": null,
            "padding": null,
            "right": null,
            "top": null,
            "visibility": null,
            "width": null
          }
        },
        "647b89e2fe914db4bc48f141b7ce0d7d": {
          "model_module": "@jupyter-widgets/base",
          "model_name": "LayoutModel",
          "model_module_version": "1.2.0",
          "state": {
            "_model_module": "@jupyter-widgets/base",
            "_model_module_version": "1.2.0",
            "_model_name": "LayoutModel",
            "_view_count": null,
            "_view_module": "@jupyter-widgets/base",
            "_view_module_version": "1.2.0",
            "_view_name": "LayoutView",
            "align_content": null,
            "align_items": null,
            "align_self": null,
            "border": null,
            "bottom": null,
            "display": null,
            "flex": null,
            "flex_flow": null,
            "grid_area": null,
            "grid_auto_columns": null,
            "grid_auto_flow": null,
            "grid_auto_rows": null,
            "grid_column": null,
            "grid_gap": null,
            "grid_row": null,
            "grid_template_areas": null,
            "grid_template_columns": null,
            "grid_template_rows": null,
            "height": null,
            "justify_content": null,
            "justify_items": null,
            "left": null,
            "margin": null,
            "max_height": null,
            "max_width": null,
            "min_height": null,
            "min_width": null,
            "object_fit": null,
            "object_position": null,
            "order": null,
            "overflow": null,
            "overflow_x": null,
            "overflow_y": null,
            "padding": null,
            "right": null,
            "top": null,
            "visibility": null,
            "width": null
          }
        },
        "cbe62fd70efd4e5a89614eb6a11a545a": {
          "model_module": "@jupyter-widgets/controls",
          "model_name": "DescriptionStyleModel",
          "model_module_version": "1.5.0",
          "state": {
            "_model_module": "@jupyter-widgets/controls",
            "_model_module_version": "1.5.0",
            "_model_name": "DescriptionStyleModel",
            "_view_count": null,
            "_view_module": "@jupyter-widgets/base",
            "_view_module_version": "1.2.0",
            "_view_name": "StyleView",
            "description_width": ""
          }
        },
        "70022358d5d947da823d1a5d37469380": {
          "model_module": "@jupyter-widgets/base",
          "model_name": "LayoutModel",
          "model_module_version": "1.2.0",
          "state": {
            "_model_module": "@jupyter-widgets/base",
            "_model_module_version": "1.2.0",
            "_model_name": "LayoutModel",
            "_view_count": null,
            "_view_module": "@jupyter-widgets/base",
            "_view_module_version": "1.2.0",
            "_view_name": "LayoutView",
            "align_content": null,
            "align_items": null,
            "align_self": null,
            "border": null,
            "bottom": null,
            "display": null,
            "flex": null,
            "flex_flow": null,
            "grid_area": null,
            "grid_auto_columns": null,
            "grid_auto_flow": null,
            "grid_auto_rows": null,
            "grid_column": null,
            "grid_gap": null,
            "grid_row": null,
            "grid_template_areas": null,
            "grid_template_columns": null,
            "grid_template_rows": null,
            "height": null,
            "justify_content": null,
            "justify_items": null,
            "left": null,
            "margin": null,
            "max_height": null,
            "max_width": null,
            "min_height": null,
            "min_width": null,
            "object_fit": null,
            "object_position": null,
            "order": null,
            "overflow": null,
            "overflow_x": null,
            "overflow_y": null,
            "padding": null,
            "right": null,
            "top": null,
            "visibility": null,
            "width": null
          }
        },
        "8e77271748714825950650fce2608da6": {
          "model_module": "@jupyter-widgets/controls",
          "model_name": "ProgressStyleModel",
          "model_module_version": "1.5.0",
          "state": {
            "_model_module": "@jupyter-widgets/controls",
            "_model_module_version": "1.5.0",
            "_model_name": "ProgressStyleModel",
            "_view_count": null,
            "_view_module": "@jupyter-widgets/base",
            "_view_module_version": "1.2.0",
            "_view_name": "StyleView",
            "bar_color": null,
            "description_width": ""
          }
        },
        "f082d65676a14d1f8bb35b1f37b18e27": {
          "model_module": "@jupyter-widgets/base",
          "model_name": "LayoutModel",
          "model_module_version": "1.2.0",
          "state": {
            "_model_module": "@jupyter-widgets/base",
            "_model_module_version": "1.2.0",
            "_model_name": "LayoutModel",
            "_view_count": null,
            "_view_module": "@jupyter-widgets/base",
            "_view_module_version": "1.2.0",
            "_view_name": "LayoutView",
            "align_content": null,
            "align_items": null,
            "align_self": null,
            "border": null,
            "bottom": null,
            "display": null,
            "flex": null,
            "flex_flow": null,
            "grid_area": null,
            "grid_auto_columns": null,
            "grid_auto_flow": null,
            "grid_auto_rows": null,
            "grid_column": null,
            "grid_gap": null,
            "grid_row": null,
            "grid_template_areas": null,
            "grid_template_columns": null,
            "grid_template_rows": null,
            "height": null,
            "justify_content": null,
            "justify_items": null,
            "left": null,
            "margin": null,
            "max_height": null,
            "max_width": null,
            "min_height": null,
            "min_width": null,
            "object_fit": null,
            "object_position": null,
            "order": null,
            "overflow": null,
            "overflow_x": null,
            "overflow_y": null,
            "padding": null,
            "right": null,
            "top": null,
            "visibility": null,
            "width": null
          }
        },
        "55e8f86815bb4d74a37582ca66e8fd49": {
          "model_module": "@jupyter-widgets/controls",
          "model_name": "DescriptionStyleModel",
          "model_module_version": "1.5.0",
          "state": {
            "_model_module": "@jupyter-widgets/controls",
            "_model_module_version": "1.5.0",
            "_model_name": "DescriptionStyleModel",
            "_view_count": null,
            "_view_module": "@jupyter-widgets/base",
            "_view_module_version": "1.2.0",
            "_view_name": "StyleView",
            "description_width": ""
          }
        },
        "0f05989ef620431c8502585a19d843c1": {
          "model_module": "@jupyter-widgets/controls",
          "model_name": "HBoxModel",
          "model_module_version": "1.5.0",
          "state": {
            "_dom_classes": [],
            "_model_module": "@jupyter-widgets/controls",
            "_model_module_version": "1.5.0",
            "_model_name": "HBoxModel",
            "_view_count": null,
            "_view_module": "@jupyter-widgets/controls",
            "_view_module_version": "1.5.0",
            "_view_name": "HBoxView",
            "box_style": "",
            "children": [
              "IPY_MODEL_b7f3eea52cc244e584bf677c47962ec3",
              "IPY_MODEL_59b896f2f7f3481181d44da2a44225aa",
              "IPY_MODEL_390c52b621364c7f93113ca78b25411d"
            ],
            "layout": "IPY_MODEL_8f2ddccebc654b9b89b2ab1227f65df5"
          }
        },
        "b7f3eea52cc244e584bf677c47962ec3": {
          "model_module": "@jupyter-widgets/controls",
          "model_name": "HTMLModel",
          "model_module_version": "1.5.0",
          "state": {
            "_dom_classes": [],
            "_model_module": "@jupyter-widgets/controls",
            "_model_module_version": "1.5.0",
            "_model_name": "HTMLModel",
            "_view_count": null,
            "_view_module": "@jupyter-widgets/controls",
            "_view_module_version": "1.5.0",
            "_view_name": "HTMLView",
            "description": "",
            "description_tooltip": null,
            "layout": "IPY_MODEL_deb3357329694723b37a38042cb527e5",
            "placeholder": "​",
            "style": "IPY_MODEL_34dd2b3175924a3b952764e8d48de069",
            "value": "pytorch_model.bin: 100%"
          }
        },
        "59b896f2f7f3481181d44da2a44225aa": {
          "model_module": "@jupyter-widgets/controls",
          "model_name": "FloatProgressModel",
          "model_module_version": "1.5.0",
          "state": {
            "_dom_classes": [],
            "_model_module": "@jupyter-widgets/controls",
            "_model_module_version": "1.5.0",
            "_model_name": "FloatProgressModel",
            "_view_count": null,
            "_view_module": "@jupyter-widgets/controls",
            "_view_module_version": "1.5.0",
            "_view_name": "ProgressView",
            "bar_style": "success",
            "description": "",
            "description_tooltip": null,
            "layout": "IPY_MODEL_f35c585e5f0f4c3aa4cd824634a5042b",
            "max": 2275327883,
            "min": 0,
            "orientation": "horizontal",
            "style": "IPY_MODEL_69e564becbae4e70a235da2711ddaedf",
            "value": 2275327883
          }
        },
        "390c52b621364c7f93113ca78b25411d": {
          "model_module": "@jupyter-widgets/controls",
          "model_name": "HTMLModel",
          "model_module_version": "1.5.0",
          "state": {
            "_dom_classes": [],
            "_model_module": "@jupyter-widgets/controls",
            "_model_module_version": "1.5.0",
            "_model_name": "HTMLModel",
            "_view_count": null,
            "_view_module": "@jupyter-widgets/controls",
            "_view_module_version": "1.5.0",
            "_view_name": "HTMLView",
            "description": "",
            "description_tooltip": null,
            "layout": "IPY_MODEL_f936942b38d34982b6181c61e20a9215",
            "placeholder": "​",
            "style": "IPY_MODEL_ae0b38fb55674bc0be9ace3c0b79edfa",
            "value": " 2.28G/2.28G [00:13&lt;00:00, 92.3MB/s]"
          }
        },
        "8f2ddccebc654b9b89b2ab1227f65df5": {
          "model_module": "@jupyter-widgets/base",
          "model_name": "LayoutModel",
          "model_module_version": "1.2.0",
          "state": {
            "_model_module": "@jupyter-widgets/base",
            "_model_module_version": "1.2.0",
            "_model_name": "LayoutModel",
            "_view_count": null,
            "_view_module": "@jupyter-widgets/base",
            "_view_module_version": "1.2.0",
            "_view_name": "LayoutView",
            "align_content": null,
            "align_items": null,
            "align_self": null,
            "border": null,
            "bottom": null,
            "display": null,
            "flex": null,
            "flex_flow": null,
            "grid_area": null,
            "grid_auto_columns": null,
            "grid_auto_flow": null,
            "grid_auto_rows": null,
            "grid_column": null,
            "grid_gap": null,
            "grid_row": null,
            "grid_template_areas": null,
            "grid_template_columns": null,
            "grid_template_rows": null,
            "height": null,
            "justify_content": null,
            "justify_items": null,
            "left": null,
            "margin": null,
            "max_height": null,
            "max_width": null,
            "min_height": null,
            "min_width": null,
            "object_fit": null,
            "object_position": null,
            "order": null,
            "overflow": null,
            "overflow_x": null,
            "overflow_y": null,
            "padding": null,
            "right": null,
            "top": null,
            "visibility": null,
            "width": null
          }
        },
        "deb3357329694723b37a38042cb527e5": {
          "model_module": "@jupyter-widgets/base",
          "model_name": "LayoutModel",
          "model_module_version": "1.2.0",
          "state": {
            "_model_module": "@jupyter-widgets/base",
            "_model_module_version": "1.2.0",
            "_model_name": "LayoutModel",
            "_view_count": null,
            "_view_module": "@jupyter-widgets/base",
            "_view_module_version": "1.2.0",
            "_view_name": "LayoutView",
            "align_content": null,
            "align_items": null,
            "align_self": null,
            "border": null,
            "bottom": null,
            "display": null,
            "flex": null,
            "flex_flow": null,
            "grid_area": null,
            "grid_auto_columns": null,
            "grid_auto_flow": null,
            "grid_auto_rows": null,
            "grid_column": null,
            "grid_gap": null,
            "grid_row": null,
            "grid_template_areas": null,
            "grid_template_columns": null,
            "grid_template_rows": null,
            "height": null,
            "justify_content": null,
            "justify_items": null,
            "left": null,
            "margin": null,
            "max_height": null,
            "max_width": null,
            "min_height": null,
            "min_width": null,
            "object_fit": null,
            "object_position": null,
            "order": null,
            "overflow": null,
            "overflow_x": null,
            "overflow_y": null,
            "padding": null,
            "right": null,
            "top": null,
            "visibility": null,
            "width": null
          }
        },
        "34dd2b3175924a3b952764e8d48de069": {
          "model_module": "@jupyter-widgets/controls",
          "model_name": "DescriptionStyleModel",
          "model_module_version": "1.5.0",
          "state": {
            "_model_module": "@jupyter-widgets/controls",
            "_model_module_version": "1.5.0",
            "_model_name": "DescriptionStyleModel",
            "_view_count": null,
            "_view_module": "@jupyter-widgets/base",
            "_view_module_version": "1.2.0",
            "_view_name": "StyleView",
            "description_width": ""
          }
        },
        "f35c585e5f0f4c3aa4cd824634a5042b": {
          "model_module": "@jupyter-widgets/base",
          "model_name": "LayoutModel",
          "model_module_version": "1.2.0",
          "state": {
            "_model_module": "@jupyter-widgets/base",
            "_model_module_version": "1.2.0",
            "_model_name": "LayoutModel",
            "_view_count": null,
            "_view_module": "@jupyter-widgets/base",
            "_view_module_version": "1.2.0",
            "_view_name": "LayoutView",
            "align_content": null,
            "align_items": null,
            "align_self": null,
            "border": null,
            "bottom": null,
            "display": null,
            "flex": null,
            "flex_flow": null,
            "grid_area": null,
            "grid_auto_columns": null,
            "grid_auto_flow": null,
            "grid_auto_rows": null,
            "grid_column": null,
            "grid_gap": null,
            "grid_row": null,
            "grid_template_areas": null,
            "grid_template_columns": null,
            "grid_template_rows": null,
            "height": null,
            "justify_content": null,
            "justify_items": null,
            "left": null,
            "margin": null,
            "max_height": null,
            "max_width": null,
            "min_height": null,
            "min_width": null,
            "object_fit": null,
            "object_position": null,
            "order": null,
            "overflow": null,
            "overflow_x": null,
            "overflow_y": null,
            "padding": null,
            "right": null,
            "top": null,
            "visibility": null,
            "width": null
          }
        },
        "69e564becbae4e70a235da2711ddaedf": {
          "model_module": "@jupyter-widgets/controls",
          "model_name": "ProgressStyleModel",
          "model_module_version": "1.5.0",
          "state": {
            "_model_module": "@jupyter-widgets/controls",
            "_model_module_version": "1.5.0",
            "_model_name": "ProgressStyleModel",
            "_view_count": null,
            "_view_module": "@jupyter-widgets/base",
            "_view_module_version": "1.2.0",
            "_view_name": "StyleView",
            "bar_color": null,
            "description_width": ""
          }
        },
        "f936942b38d34982b6181c61e20a9215": {
          "model_module": "@jupyter-widgets/base",
          "model_name": "LayoutModel",
          "model_module_version": "1.2.0",
          "state": {
            "_model_module": "@jupyter-widgets/base",
            "_model_module_version": "1.2.0",
            "_model_name": "LayoutModel",
            "_view_count": null,
            "_view_module": "@jupyter-widgets/base",
            "_view_module_version": "1.2.0",
            "_view_name": "LayoutView",
            "align_content": null,
            "align_items": null,
            "align_self": null,
            "border": null,
            "bottom": null,
            "display": null,
            "flex": null,
            "flex_flow": null,
            "grid_area": null,
            "grid_auto_columns": null,
            "grid_auto_flow": null,
            "grid_auto_rows": null,
            "grid_column": null,
            "grid_gap": null,
            "grid_row": null,
            "grid_template_areas": null,
            "grid_template_columns": null,
            "grid_template_rows": null,
            "height": null,
            "justify_content": null,
            "justify_items": null,
            "left": null,
            "margin": null,
            "max_height": null,
            "max_width": null,
            "min_height": null,
            "min_width": null,
            "object_fit": null,
            "object_position": null,
            "order": null,
            "overflow": null,
            "overflow_x": null,
            "overflow_y": null,
            "padding": null,
            "right": null,
            "top": null,
            "visibility": null,
            "width": null
          }
        },
        "ae0b38fb55674bc0be9ace3c0b79edfa": {
          "model_module": "@jupyter-widgets/controls",
          "model_name": "DescriptionStyleModel",
          "model_module_version": "1.5.0",
          "state": {
            "_model_module": "@jupyter-widgets/controls",
            "_model_module_version": "1.5.0",
            "_model_name": "DescriptionStyleModel",
            "_view_count": null,
            "_view_module": "@jupyter-widgets/base",
            "_view_module_version": "1.2.0",
            "_view_name": "StyleView",
            "description_width": ""
          }
        },
        "366df7fb938248739d212bf4d71dc877": {
          "model_module": "@jupyter-widgets/controls",
          "model_name": "HBoxModel",
          "model_module_version": "1.5.0",
          "state": {
            "_dom_classes": [],
            "_model_module": "@jupyter-widgets/controls",
            "_model_module_version": "1.5.0",
            "_model_name": "HBoxModel",
            "_view_count": null,
            "_view_module": "@jupyter-widgets/controls",
            "_view_module_version": "1.5.0",
            "_view_name": "HBoxView",
            "box_style": "",
            "children": [
              "IPY_MODEL_b67939f3574d4676af3a7f3e948dfb74",
              "IPY_MODEL_4384e2a568f142f99ea20c075ca2f787",
              "IPY_MODEL_6881a7af23e24bfb8050ede766d5ed46"
            ],
            "layout": "IPY_MODEL_2da0f2f7093a42ee8c419bcd3e37680c"
          }
        },
        "b67939f3574d4676af3a7f3e948dfb74": {
          "model_module": "@jupyter-widgets/controls",
          "model_name": "HTMLModel",
          "model_module_version": "1.5.0",
          "state": {
            "_dom_classes": [],
            "_model_module": "@jupyter-widgets/controls",
            "_model_module_version": "1.5.0",
            "_model_name": "HTMLModel",
            "_view_count": null,
            "_view_module": "@jupyter-widgets/controls",
            "_view_module_version": "1.5.0",
            "_view_name": "HTMLView",
            "description": "",
            "description_tooltip": null,
            "layout": "IPY_MODEL_d61b77f28c6f4126924f1690ef3e2890",
            "placeholder": "​",
            "style": "IPY_MODEL_f75d96e5ab6e4695a8433d1e045f9ac1",
            "value": "generation_config.json: 100%"
          }
        },
        "4384e2a568f142f99ea20c075ca2f787": {
          "model_module": "@jupyter-widgets/controls",
          "model_name": "FloatProgressModel",
          "model_module_version": "1.5.0",
          "state": {
            "_dom_classes": [],
            "_model_module": "@jupyter-widgets/controls",
            "_model_module_version": "1.5.0",
            "_model_name": "FloatProgressModel",
            "_view_count": null,
            "_view_module": "@jupyter-widgets/controls",
            "_view_module_version": "1.5.0",
            "_view_name": "ProgressView",
            "bar_style": "success",
            "description": "",
            "description_tooltip": null,
            "layout": "IPY_MODEL_6c447e845e7a4f7b8ed2852d0221ac97",
            "max": 280,
            "min": 0,
            "orientation": "horizontal",
            "style": "IPY_MODEL_5fae3f8e85b149ff9257cfc0dcd45191",
            "value": 280
          }
        },
        "6881a7af23e24bfb8050ede766d5ed46": {
          "model_module": "@jupyter-widgets/controls",
          "model_name": "HTMLModel",
          "model_module_version": "1.5.0",
          "state": {
            "_dom_classes": [],
            "_model_module": "@jupyter-widgets/controls",
            "_model_module_version": "1.5.0",
            "_model_name": "HTMLModel",
            "_view_count": null,
            "_view_module": "@jupyter-widgets/controls",
            "_view_module_version": "1.5.0",
            "_view_name": "HTMLView",
            "description": "",
            "description_tooltip": null,
            "layout": "IPY_MODEL_5fcaebd501cd462fa34f74b1564ef266",
            "placeholder": "​",
            "style": "IPY_MODEL_8695e62a7bd14d52a441a966a3759cdf",
            "value": " 280/280 [00:00&lt;00:00, 27.4kB/s]"
          }
        },
        "2da0f2f7093a42ee8c419bcd3e37680c": {
          "model_module": "@jupyter-widgets/base",
          "model_name": "LayoutModel",
          "model_module_version": "1.2.0",
          "state": {
            "_model_module": "@jupyter-widgets/base",
            "_model_module_version": "1.2.0",
            "_model_name": "LayoutModel",
            "_view_count": null,
            "_view_module": "@jupyter-widgets/base",
            "_view_module_version": "1.2.0",
            "_view_name": "LayoutView",
            "align_content": null,
            "align_items": null,
            "align_self": null,
            "border": null,
            "bottom": null,
            "display": null,
            "flex": null,
            "flex_flow": null,
            "grid_area": null,
            "grid_auto_columns": null,
            "grid_auto_flow": null,
            "grid_auto_rows": null,
            "grid_column": null,
            "grid_gap": null,
            "grid_row": null,
            "grid_template_areas": null,
            "grid_template_columns": null,
            "grid_template_rows": null,
            "height": null,
            "justify_content": null,
            "justify_items": null,
            "left": null,
            "margin": null,
            "max_height": null,
            "max_width": null,
            "min_height": null,
            "min_width": null,
            "object_fit": null,
            "object_position": null,
            "order": null,
            "overflow": null,
            "overflow_x": null,
            "overflow_y": null,
            "padding": null,
            "right": null,
            "top": null,
            "visibility": null,
            "width": null
          }
        },
        "d61b77f28c6f4126924f1690ef3e2890": {
          "model_module": "@jupyter-widgets/base",
          "model_name": "LayoutModel",
          "model_module_version": "1.2.0",
          "state": {
            "_model_module": "@jupyter-widgets/base",
            "_model_module_version": "1.2.0",
            "_model_name": "LayoutModel",
            "_view_count": null,
            "_view_module": "@jupyter-widgets/base",
            "_view_module_version": "1.2.0",
            "_view_name": "LayoutView",
            "align_content": null,
            "align_items": null,
            "align_self": null,
            "border": null,
            "bottom": null,
            "display": null,
            "flex": null,
            "flex_flow": null,
            "grid_area": null,
            "grid_auto_columns": null,
            "grid_auto_flow": null,
            "grid_auto_rows": null,
            "grid_column": null,
            "grid_gap": null,
            "grid_row": null,
            "grid_template_areas": null,
            "grid_template_columns": null,
            "grid_template_rows": null,
            "height": null,
            "justify_content": null,
            "justify_items": null,
            "left": null,
            "margin": null,
            "max_height": null,
            "max_width": null,
            "min_height": null,
            "min_width": null,
            "object_fit": null,
            "object_position": null,
            "order": null,
            "overflow": null,
            "overflow_x": null,
            "overflow_y": null,
            "padding": null,
            "right": null,
            "top": null,
            "visibility": null,
            "width": null
          }
        },
        "f75d96e5ab6e4695a8433d1e045f9ac1": {
          "model_module": "@jupyter-widgets/controls",
          "model_name": "DescriptionStyleModel",
          "model_module_version": "1.5.0",
          "state": {
            "_model_module": "@jupyter-widgets/controls",
            "_model_module_version": "1.5.0",
            "_model_name": "DescriptionStyleModel",
            "_view_count": null,
            "_view_module": "@jupyter-widgets/base",
            "_view_module_version": "1.2.0",
            "_view_name": "StyleView",
            "description_width": ""
          }
        },
        "6c447e845e7a4f7b8ed2852d0221ac97": {
          "model_module": "@jupyter-widgets/base",
          "model_name": "LayoutModel",
          "model_module_version": "1.2.0",
          "state": {
            "_model_module": "@jupyter-widgets/base",
            "_model_module_version": "1.2.0",
            "_model_name": "LayoutModel",
            "_view_count": null,
            "_view_module": "@jupyter-widgets/base",
            "_view_module_version": "1.2.0",
            "_view_name": "LayoutView",
            "align_content": null,
            "align_items": null,
            "align_self": null,
            "border": null,
            "bottom": null,
            "display": null,
            "flex": null,
            "flex_flow": null,
            "grid_area": null,
            "grid_auto_columns": null,
            "grid_auto_flow": null,
            "grid_auto_rows": null,
            "grid_column": null,
            "grid_gap": null,
            "grid_row": null,
            "grid_template_areas": null,
            "grid_template_columns": null,
            "grid_template_rows": null,
            "height": null,
            "justify_content": null,
            "justify_items": null,
            "left": null,
            "margin": null,
            "max_height": null,
            "max_width": null,
            "min_height": null,
            "min_width": null,
            "object_fit": null,
            "object_position": null,
            "order": null,
            "overflow": null,
            "overflow_x": null,
            "overflow_y": null,
            "padding": null,
            "right": null,
            "top": null,
            "visibility": null,
            "width": null
          }
        },
        "5fae3f8e85b149ff9257cfc0dcd45191": {
          "model_module": "@jupyter-widgets/controls",
          "model_name": "ProgressStyleModel",
          "model_module_version": "1.5.0",
          "state": {
            "_model_module": "@jupyter-widgets/controls",
            "_model_module_version": "1.5.0",
            "_model_name": "ProgressStyleModel",
            "_view_count": null,
            "_view_module": "@jupyter-widgets/base",
            "_view_module_version": "1.2.0",
            "_view_name": "StyleView",
            "bar_color": null,
            "description_width": ""
          }
        },
        "5fcaebd501cd462fa34f74b1564ef266": {
          "model_module": "@jupyter-widgets/base",
          "model_name": "LayoutModel",
          "model_module_version": "1.2.0",
          "state": {
            "_model_module": "@jupyter-widgets/base",
            "_model_module_version": "1.2.0",
            "_model_name": "LayoutModel",
            "_view_count": null,
            "_view_module": "@jupyter-widgets/base",
            "_view_module_version": "1.2.0",
            "_view_name": "LayoutView",
            "align_content": null,
            "align_items": null,
            "align_self": null,
            "border": null,
            "bottom": null,
            "display": null,
            "flex": null,
            "flex_flow": null,
            "grid_area": null,
            "grid_auto_columns": null,
            "grid_auto_flow": null,
            "grid_auto_rows": null,
            "grid_column": null,
            "grid_gap": null,
            "grid_row": null,
            "grid_template_areas": null,
            "grid_template_columns": null,
            "grid_template_rows": null,
            "height": null,
            "justify_content": null,
            "justify_items": null,
            "left": null,
            "margin": null,
            "max_height": null,
            "max_width": null,
            "min_height": null,
            "min_width": null,
            "object_fit": null,
            "object_position": null,
            "order": null,
            "overflow": null,
            "overflow_x": null,
            "overflow_y": null,
            "padding": null,
            "right": null,
            "top": null,
            "visibility": null,
            "width": null
          }
        },
        "8695e62a7bd14d52a441a966a3759cdf": {
          "model_module": "@jupyter-widgets/controls",
          "model_name": "DescriptionStyleModel",
          "model_module_version": "1.5.0",
          "state": {
            "_model_module": "@jupyter-widgets/controls",
            "_model_module_version": "1.5.0",
            "_model_name": "DescriptionStyleModel",
            "_view_count": null,
            "_view_module": "@jupyter-widgets/base",
            "_view_module_version": "1.2.0",
            "_view_name": "StyleView",
            "description_width": ""
          }
        },
        "8f7fb2d6f84d4744b5751e709fbdd586": {
          "model_module": "@jupyter-widgets/controls",
          "model_name": "HBoxModel",
          "model_module_version": "1.5.0",
          "state": {
            "_dom_classes": [],
            "_model_module": "@jupyter-widgets/controls",
            "_model_module_version": "1.5.0",
            "_model_name": "HBoxModel",
            "_view_count": null,
            "_view_module": "@jupyter-widgets/controls",
            "_view_module_version": "1.5.0",
            "_view_name": "HBoxView",
            "box_style": "",
            "children": [
              "IPY_MODEL_42707cd29e4b43399ecc67a9b01b9cde",
              "IPY_MODEL_e5b99d9200e44e959d572bf8dd820201",
              "IPY_MODEL_56080aa84e90495b812686575b3a1fed"
            ],
            "layout": "IPY_MODEL_bc2f247816934d01b033743a37502541"
          }
        },
        "42707cd29e4b43399ecc67a9b01b9cde": {
          "model_module": "@jupyter-widgets/controls",
          "model_name": "HTMLModel",
          "model_module_version": "1.5.0",
          "state": {
            "_dom_classes": [],
            "_model_module": "@jupyter-widgets/controls",
            "_model_module_version": "1.5.0",
            "_model_name": "HTMLModel",
            "_view_count": null,
            "_view_module": "@jupyter-widgets/controls",
            "_view_module_version": "1.5.0",
            "_view_name": "HTMLView",
            "description": "",
            "description_tooltip": null,
            "layout": "IPY_MODEL_1b0773f5511f4142be8cb4e1c693bc04",
            "placeholder": "​",
            "style": "IPY_MODEL_219d57ab54384a7c9398e4d3bcd0ad29",
            "value": "tokenizer_config.json: 100%"
          }
        },
        "e5b99d9200e44e959d572bf8dd820201": {
          "model_module": "@jupyter-widgets/controls",
          "model_name": "FloatProgressModel",
          "model_module_version": "1.5.0",
          "state": {
            "_dom_classes": [],
            "_model_module": "@jupyter-widgets/controls",
            "_model_module_version": "1.5.0",
            "_model_name": "FloatProgressModel",
            "_view_count": null,
            "_view_module": "@jupyter-widgets/controls",
            "_view_module_version": "1.5.0",
            "_view_name": "ProgressView",
            "bar_style": "success",
            "description": "",
            "description_tooltip": null,
            "layout": "IPY_MODEL_28883cf1c3fe43b7acf2300ce352b746",
            "max": 88,
            "min": 0,
            "orientation": "horizontal",
            "style": "IPY_MODEL_9fadcccd2492491991c4fec89a1d9f5e",
            "value": 88
          }
        },
        "56080aa84e90495b812686575b3a1fed": {
          "model_module": "@jupyter-widgets/controls",
          "model_name": "HTMLModel",
          "model_module_version": "1.5.0",
          "state": {
            "_dom_classes": [],
            "_model_module": "@jupyter-widgets/controls",
            "_model_module_version": "1.5.0",
            "_model_name": "HTMLModel",
            "_view_count": null,
            "_view_module": "@jupyter-widgets/controls",
            "_view_module_version": "1.5.0",
            "_view_name": "HTMLView",
            "description": "",
            "description_tooltip": null,
            "layout": "IPY_MODEL_eb89810a6e524c5c969a2a697d52701e",
            "placeholder": "​",
            "style": "IPY_MODEL_9ced345eb7a6439b8a0af7989adbc3f8",
            "value": " 88.0/88.0 [00:00&lt;00:00, 7.98kB/s]"
          }
        },
        "bc2f247816934d01b033743a37502541": {
          "model_module": "@jupyter-widgets/base",
          "model_name": "LayoutModel",
          "model_module_version": "1.2.0",
          "state": {
            "_model_module": "@jupyter-widgets/base",
            "_model_module_version": "1.2.0",
            "_model_name": "LayoutModel",
            "_view_count": null,
            "_view_module": "@jupyter-widgets/base",
            "_view_module_version": "1.2.0",
            "_view_name": "LayoutView",
            "align_content": null,
            "align_items": null,
            "align_self": null,
            "border": null,
            "bottom": null,
            "display": null,
            "flex": null,
            "flex_flow": null,
            "grid_area": null,
            "grid_auto_columns": null,
            "grid_auto_flow": null,
            "grid_auto_rows": null,
            "grid_column": null,
            "grid_gap": null,
            "grid_row": null,
            "grid_template_areas": null,
            "grid_template_columns": null,
            "grid_template_rows": null,
            "height": null,
            "justify_content": null,
            "justify_items": null,
            "left": null,
            "margin": null,
            "max_height": null,
            "max_width": null,
            "min_height": null,
            "min_width": null,
            "object_fit": null,
            "object_position": null,
            "order": null,
            "overflow": null,
            "overflow_x": null,
            "overflow_y": null,
            "padding": null,
            "right": null,
            "top": null,
            "visibility": null,
            "width": null
          }
        },
        "1b0773f5511f4142be8cb4e1c693bc04": {
          "model_module": "@jupyter-widgets/base",
          "model_name": "LayoutModel",
          "model_module_version": "1.2.0",
          "state": {
            "_model_module": "@jupyter-widgets/base",
            "_model_module_version": "1.2.0",
            "_model_name": "LayoutModel",
            "_view_count": null,
            "_view_module": "@jupyter-widgets/base",
            "_view_module_version": "1.2.0",
            "_view_name": "LayoutView",
            "align_content": null,
            "align_items": null,
            "align_self": null,
            "border": null,
            "bottom": null,
            "display": null,
            "flex": null,
            "flex_flow": null,
            "grid_area": null,
            "grid_auto_columns": null,
            "grid_auto_flow": null,
            "grid_auto_rows": null,
            "grid_column": null,
            "grid_gap": null,
            "grid_row": null,
            "grid_template_areas": null,
            "grid_template_columns": null,
            "grid_template_rows": null,
            "height": null,
            "justify_content": null,
            "justify_items": null,
            "left": null,
            "margin": null,
            "max_height": null,
            "max_width": null,
            "min_height": null,
            "min_width": null,
            "object_fit": null,
            "object_position": null,
            "order": null,
            "overflow": null,
            "overflow_x": null,
            "overflow_y": null,
            "padding": null,
            "right": null,
            "top": null,
            "visibility": null,
            "width": null
          }
        },
        "219d57ab54384a7c9398e4d3bcd0ad29": {
          "model_module": "@jupyter-widgets/controls",
          "model_name": "DescriptionStyleModel",
          "model_module_version": "1.5.0",
          "state": {
            "_model_module": "@jupyter-widgets/controls",
            "_model_module_version": "1.5.0",
            "_model_name": "DescriptionStyleModel",
            "_view_count": null,
            "_view_module": "@jupyter-widgets/base",
            "_view_module_version": "1.2.0",
            "_view_name": "StyleView",
            "description_width": ""
          }
        },
        "28883cf1c3fe43b7acf2300ce352b746": {
          "model_module": "@jupyter-widgets/base",
          "model_name": "LayoutModel",
          "model_module_version": "1.2.0",
          "state": {
            "_model_module": "@jupyter-widgets/base",
            "_model_module_version": "1.2.0",
            "_model_name": "LayoutModel",
            "_view_count": null,
            "_view_module": "@jupyter-widgets/base",
            "_view_module_version": "1.2.0",
            "_view_name": "LayoutView",
            "align_content": null,
            "align_items": null,
            "align_self": null,
            "border": null,
            "bottom": null,
            "display": null,
            "flex": null,
            "flex_flow": null,
            "grid_area": null,
            "grid_auto_columns": null,
            "grid_auto_flow": null,
            "grid_auto_rows": null,
            "grid_column": null,
            "grid_gap": null,
            "grid_row": null,
            "grid_template_areas": null,
            "grid_template_columns": null,
            "grid_template_rows": null,
            "height": null,
            "justify_content": null,
            "justify_items": null,
            "left": null,
            "margin": null,
            "max_height": null,
            "max_width": null,
            "min_height": null,
            "min_width": null,
            "object_fit": null,
            "object_position": null,
            "order": null,
            "overflow": null,
            "overflow_x": null,
            "overflow_y": null,
            "padding": null,
            "right": null,
            "top": null,
            "visibility": null,
            "width": null
          }
        },
        "9fadcccd2492491991c4fec89a1d9f5e": {
          "model_module": "@jupyter-widgets/controls",
          "model_name": "ProgressStyleModel",
          "model_module_version": "1.5.0",
          "state": {
            "_model_module": "@jupyter-widgets/controls",
            "_model_module_version": "1.5.0",
            "_model_name": "ProgressStyleModel",
            "_view_count": null,
            "_view_module": "@jupyter-widgets/base",
            "_view_module_version": "1.2.0",
            "_view_name": "StyleView",
            "bar_color": null,
            "description_width": ""
          }
        },
        "eb89810a6e524c5c969a2a697d52701e": {
          "model_module": "@jupyter-widgets/base",
          "model_name": "LayoutModel",
          "model_module_version": "1.2.0",
          "state": {
            "_model_module": "@jupyter-widgets/base",
            "_model_module_version": "1.2.0",
            "_model_name": "LayoutModel",
            "_view_count": null,
            "_view_module": "@jupyter-widgets/base",
            "_view_module_version": "1.2.0",
            "_view_name": "LayoutView",
            "align_content": null,
            "align_items": null,
            "align_self": null,
            "border": null,
            "bottom": null,
            "display": null,
            "flex": null,
            "flex_flow": null,
            "grid_area": null,
            "grid_auto_columns": null,
            "grid_auto_flow": null,
            "grid_auto_rows": null,
            "grid_column": null,
            "grid_gap": null,
            "grid_row": null,
            "grid_template_areas": null,
            "grid_template_columns": null,
            "grid_template_rows": null,
            "height": null,
            "justify_content": null,
            "justify_items": null,
            "left": null,
            "margin": null,
            "max_height": null,
            "max_width": null,
            "min_height": null,
            "min_width": null,
            "object_fit": null,
            "object_position": null,
            "order": null,
            "overflow": null,
            "overflow_x": null,
            "overflow_y": null,
            "padding": null,
            "right": null,
            "top": null,
            "visibility": null,
            "width": null
          }
        },
        "9ced345eb7a6439b8a0af7989adbc3f8": {
          "model_module": "@jupyter-widgets/controls",
          "model_name": "DescriptionStyleModel",
          "model_module_version": "1.5.0",
          "state": {
            "_model_module": "@jupyter-widgets/controls",
            "_model_module_version": "1.5.0",
            "_model_name": "DescriptionStyleModel",
            "_view_count": null,
            "_view_module": "@jupyter-widgets/base",
            "_view_module_version": "1.2.0",
            "_view_name": "StyleView",
            "description_width": ""
          }
        },
        "95d5e673e00f4a20bb9fcfad8212c54c": {
          "model_module": "@jupyter-widgets/controls",
          "model_name": "HBoxModel",
          "model_module_version": "1.5.0",
          "state": {
            "_dom_classes": [],
            "_model_module": "@jupyter-widgets/controls",
            "_model_module_version": "1.5.0",
            "_model_name": "HBoxModel",
            "_view_count": null,
            "_view_module": "@jupyter-widgets/controls",
            "_view_module_version": "1.5.0",
            "_view_name": "HBoxView",
            "box_style": "",
            "children": [
              "IPY_MODEL_e2e883610b4c4b0fa24bd63ea314f341",
              "IPY_MODEL_dc22c378c62f4bb3aa8de1b3b9c81e0b",
              "IPY_MODEL_ecf00590ea2a4ba4888f8c4da9e60293"
            ],
            "layout": "IPY_MODEL_c30718a5714344d6b75d15ffb5933b6f"
          }
        },
        "e2e883610b4c4b0fa24bd63ea314f341": {
          "model_module": "@jupyter-widgets/controls",
          "model_name": "HTMLModel",
          "model_module_version": "1.5.0",
          "state": {
            "_dom_classes": [],
            "_model_module": "@jupyter-widgets/controls",
            "_model_module_version": "1.5.0",
            "_model_name": "HTMLModel",
            "_view_count": null,
            "_view_module": "@jupyter-widgets/controls",
            "_view_module_version": "1.5.0",
            "_view_name": "HTMLView",
            "description": "",
            "description_tooltip": null,
            "layout": "IPY_MODEL_df4bfa270f3a4890aec07741ac544196",
            "placeholder": "​",
            "style": "IPY_MODEL_cce41cfefb8948b3adfc80cb937f3229",
            "value": "spiece.model: 100%"
          }
        },
        "dc22c378c62f4bb3aa8de1b3b9c81e0b": {
          "model_module": "@jupyter-widgets/controls",
          "model_name": "FloatProgressModel",
          "model_module_version": "1.5.0",
          "state": {
            "_dom_classes": [],
            "_model_module": "@jupyter-widgets/controls",
            "_model_module_version": "1.5.0",
            "_model_name": "FloatProgressModel",
            "_view_count": null,
            "_view_module": "@jupyter-widgets/controls",
            "_view_module_version": "1.5.0",
            "_view_name": "ProgressView",
            "bar_style": "success",
            "description": "",
            "description_tooltip": null,
            "layout": "IPY_MODEL_c16644b364ab4511b6f74ffae7246f8c",
            "max": 1912529,
            "min": 0,
            "orientation": "horizontal",
            "style": "IPY_MODEL_59cbf2eee64347c8a01372d0610606ac",
            "value": 1912529
          }
        },
        "ecf00590ea2a4ba4888f8c4da9e60293": {
          "model_module": "@jupyter-widgets/controls",
          "model_name": "HTMLModel",
          "model_module_version": "1.5.0",
          "state": {
            "_dom_classes": [],
            "_model_module": "@jupyter-widgets/controls",
            "_model_module_version": "1.5.0",
            "_model_name": "HTMLModel",
            "_view_count": null,
            "_view_module": "@jupyter-widgets/controls",
            "_view_module_version": "1.5.0",
            "_view_name": "HTMLView",
            "description": "",
            "description_tooltip": null,
            "layout": "IPY_MODEL_b6afb36d70094df397964b0cd04fbe96",
            "placeholder": "​",
            "style": "IPY_MODEL_1bc52b24c1da4acebb1afe470232385d",
            "value": " 1.91M/1.91M [00:00&lt;00:00, 4.68MB/s]"
          }
        },
        "c30718a5714344d6b75d15ffb5933b6f": {
          "model_module": "@jupyter-widgets/base",
          "model_name": "LayoutModel",
          "model_module_version": "1.2.0",
          "state": {
            "_model_module": "@jupyter-widgets/base",
            "_model_module_version": "1.2.0",
            "_model_name": "LayoutModel",
            "_view_count": null,
            "_view_module": "@jupyter-widgets/base",
            "_view_module_version": "1.2.0",
            "_view_name": "LayoutView",
            "align_content": null,
            "align_items": null,
            "align_self": null,
            "border": null,
            "bottom": null,
            "display": null,
            "flex": null,
            "flex_flow": null,
            "grid_area": null,
            "grid_auto_columns": null,
            "grid_auto_flow": null,
            "grid_auto_rows": null,
            "grid_column": null,
            "grid_gap": null,
            "grid_row": null,
            "grid_template_areas": null,
            "grid_template_columns": null,
            "grid_template_rows": null,
            "height": null,
            "justify_content": null,
            "justify_items": null,
            "left": null,
            "margin": null,
            "max_height": null,
            "max_width": null,
            "min_height": null,
            "min_width": null,
            "object_fit": null,
            "object_position": null,
            "order": null,
            "overflow": null,
            "overflow_x": null,
            "overflow_y": null,
            "padding": null,
            "right": null,
            "top": null,
            "visibility": null,
            "width": null
          }
        },
        "df4bfa270f3a4890aec07741ac544196": {
          "model_module": "@jupyter-widgets/base",
          "model_name": "LayoutModel",
          "model_module_version": "1.2.0",
          "state": {
            "_model_module": "@jupyter-widgets/base",
            "_model_module_version": "1.2.0",
            "_model_name": "LayoutModel",
            "_view_count": null,
            "_view_module": "@jupyter-widgets/base",
            "_view_module_version": "1.2.0",
            "_view_name": "LayoutView",
            "align_content": null,
            "align_items": null,
            "align_self": null,
            "border": null,
            "bottom": null,
            "display": null,
            "flex": null,
            "flex_flow": null,
            "grid_area": null,
            "grid_auto_columns": null,
            "grid_auto_flow": null,
            "grid_auto_rows": null,
            "grid_column": null,
            "grid_gap": null,
            "grid_row": null,
            "grid_template_areas": null,
            "grid_template_columns": null,
            "grid_template_rows": null,
            "height": null,
            "justify_content": null,
            "justify_items": null,
            "left": null,
            "margin": null,
            "max_height": null,
            "max_width": null,
            "min_height": null,
            "min_width": null,
            "object_fit": null,
            "object_position": null,
            "order": null,
            "overflow": null,
            "overflow_x": null,
            "overflow_y": null,
            "padding": null,
            "right": null,
            "top": null,
            "visibility": null,
            "width": null
          }
        },
        "cce41cfefb8948b3adfc80cb937f3229": {
          "model_module": "@jupyter-widgets/controls",
          "model_name": "DescriptionStyleModel",
          "model_module_version": "1.5.0",
          "state": {
            "_model_module": "@jupyter-widgets/controls",
            "_model_module_version": "1.5.0",
            "_model_name": "DescriptionStyleModel",
            "_view_count": null,
            "_view_module": "@jupyter-widgets/base",
            "_view_module_version": "1.2.0",
            "_view_name": "StyleView",
            "description_width": ""
          }
        },
        "c16644b364ab4511b6f74ffae7246f8c": {
          "model_module": "@jupyter-widgets/base",
          "model_name": "LayoutModel",
          "model_module_version": "1.2.0",
          "state": {
            "_model_module": "@jupyter-widgets/base",
            "_model_module_version": "1.2.0",
            "_model_name": "LayoutModel",
            "_view_count": null,
            "_view_module": "@jupyter-widgets/base",
            "_view_module_version": "1.2.0",
            "_view_name": "LayoutView",
            "align_content": null,
            "align_items": null,
            "align_self": null,
            "border": null,
            "bottom": null,
            "display": null,
            "flex": null,
            "flex_flow": null,
            "grid_area": null,
            "grid_auto_columns": null,
            "grid_auto_flow": null,
            "grid_auto_rows": null,
            "grid_column": null,
            "grid_gap": null,
            "grid_row": null,
            "grid_template_areas": null,
            "grid_template_columns": null,
            "grid_template_rows": null,
            "height": null,
            "justify_content": null,
            "justify_items": null,
            "left": null,
            "margin": null,
            "max_height": null,
            "max_width": null,
            "min_height": null,
            "min_width": null,
            "object_fit": null,
            "object_position": null,
            "order": null,
            "overflow": null,
            "overflow_x": null,
            "overflow_y": null,
            "padding": null,
            "right": null,
            "top": null,
            "visibility": null,
            "width": null
          }
        },
        "59cbf2eee64347c8a01372d0610606ac": {
          "model_module": "@jupyter-widgets/controls",
          "model_name": "ProgressStyleModel",
          "model_module_version": "1.5.0",
          "state": {
            "_model_module": "@jupyter-widgets/controls",
            "_model_module_version": "1.5.0",
            "_model_name": "ProgressStyleModel",
            "_view_count": null,
            "_view_module": "@jupyter-widgets/base",
            "_view_module_version": "1.2.0",
            "_view_name": "StyleView",
            "bar_color": null,
            "description_width": ""
          }
        },
        "b6afb36d70094df397964b0cd04fbe96": {
          "model_module": "@jupyter-widgets/base",
          "model_name": "LayoutModel",
          "model_module_version": "1.2.0",
          "state": {
            "_model_module": "@jupyter-widgets/base",
            "_model_module_version": "1.2.0",
            "_model_name": "LayoutModel",
            "_view_count": null,
            "_view_module": "@jupyter-widgets/base",
            "_view_module_version": "1.2.0",
            "_view_name": "LayoutView",
            "align_content": null,
            "align_items": null,
            "align_self": null,
            "border": null,
            "bottom": null,
            "display": null,
            "flex": null,
            "flex_flow": null,
            "grid_area": null,
            "grid_auto_columns": null,
            "grid_auto_flow": null,
            "grid_auto_rows": null,
            "grid_column": null,
            "grid_gap": null,
            "grid_row": null,
            "grid_template_areas": null,
            "grid_template_columns": null,
            "grid_template_rows": null,
            "height": null,
            "justify_content": null,
            "justify_items": null,
            "left": null,
            "margin": null,
            "max_height": null,
            "max_width": null,
            "min_height": null,
            "min_width": null,
            "object_fit": null,
            "object_position": null,
            "order": null,
            "overflow": null,
            "overflow_x": null,
            "overflow_y": null,
            "padding": null,
            "right": null,
            "top": null,
            "visibility": null,
            "width": null
          }
        },
        "1bc52b24c1da4acebb1afe470232385d": {
          "model_module": "@jupyter-widgets/controls",
          "model_name": "DescriptionStyleModel",
          "model_module_version": "1.5.0",
          "state": {
            "_model_module": "@jupyter-widgets/controls",
            "_model_module_version": "1.5.0",
            "_model_name": "DescriptionStyleModel",
            "_view_count": null,
            "_view_module": "@jupyter-widgets/base",
            "_view_module_version": "1.2.0",
            "_view_name": "StyleView",
            "description_width": ""
          }
        },
        "398915ed27c54bd1ad3feb2a2295d944": {
          "model_module": "@jupyter-widgets/controls",
          "model_name": "HBoxModel",
          "model_module_version": "1.5.0",
          "state": {
            "_dom_classes": [],
            "_model_module": "@jupyter-widgets/controls",
            "_model_module_version": "1.5.0",
            "_model_name": "HBoxModel",
            "_view_count": null,
            "_view_module": "@jupyter-widgets/controls",
            "_view_module_version": "1.5.0",
            "_view_name": "HBoxView",
            "box_style": "",
            "children": [
              "IPY_MODEL_887d3dfb20194df5b88d16dc3d0045ff",
              "IPY_MODEL_969dc91a0ee04e568d3771673db6808a",
              "IPY_MODEL_1ba79df002eb47149e342cf846d952b5"
            ],
            "layout": "IPY_MODEL_0ea9b181e8a8459f8d41db8e5af56d95"
          }
        },
        "887d3dfb20194df5b88d16dc3d0045ff": {
          "model_module": "@jupyter-widgets/controls",
          "model_name": "HTMLModel",
          "model_module_version": "1.5.0",
          "state": {
            "_dom_classes": [],
            "_model_module": "@jupyter-widgets/controls",
            "_model_module_version": "1.5.0",
            "_model_name": "HTMLModel",
            "_view_count": null,
            "_view_module": "@jupyter-widgets/controls",
            "_view_module_version": "1.5.0",
            "_view_name": "HTMLView",
            "description": "",
            "description_tooltip": null,
            "layout": "IPY_MODEL_28293bc99a294f269aa62543e504996f",
            "placeholder": "​",
            "style": "IPY_MODEL_16ae26dff15b41b791c20242aa1f89e2",
            "value": "special_tokens_map.json: 100%"
          }
        },
        "969dc91a0ee04e568d3771673db6808a": {
          "model_module": "@jupyter-widgets/controls",
          "model_name": "FloatProgressModel",
          "model_module_version": "1.5.0",
          "state": {
            "_dom_classes": [],
            "_model_module": "@jupyter-widgets/controls",
            "_model_module_version": "1.5.0",
            "_model_name": "FloatProgressModel",
            "_view_count": null,
            "_view_module": "@jupyter-widgets/controls",
            "_view_module_version": "1.5.0",
            "_view_name": "ProgressView",
            "bar_style": "success",
            "description": "",
            "description_tooltip": null,
            "layout": "IPY_MODEL_8906a8ddc9c24c07b00389f7b0a8e58b",
            "max": 65,
            "min": 0,
            "orientation": "horizontal",
            "style": "IPY_MODEL_0923d72d580f401694eec964191b2a62",
            "value": 65
          }
        },
        "1ba79df002eb47149e342cf846d952b5": {
          "model_module": "@jupyter-widgets/controls",
          "model_name": "HTMLModel",
          "model_module_version": "1.5.0",
          "state": {
            "_dom_classes": [],
            "_model_module": "@jupyter-widgets/controls",
            "_model_module_version": "1.5.0",
            "_model_name": "HTMLModel",
            "_view_count": null,
            "_view_module": "@jupyter-widgets/controls",
            "_view_module_version": "1.5.0",
            "_view_name": "HTMLView",
            "description": "",
            "description_tooltip": null,
            "layout": "IPY_MODEL_b96fa25c3f7444dcadf57d8121c7296a",
            "placeholder": "​",
            "style": "IPY_MODEL_5748368b47634f44a65cb1d4029cb83f",
            "value": " 65.0/65.0 [00:00&lt;00:00, 6.29kB/s]"
          }
        },
        "0ea9b181e8a8459f8d41db8e5af56d95": {
          "model_module": "@jupyter-widgets/base",
          "model_name": "LayoutModel",
          "model_module_version": "1.2.0",
          "state": {
            "_model_module": "@jupyter-widgets/base",
            "_model_module_version": "1.2.0",
            "_model_name": "LayoutModel",
            "_view_count": null,
            "_view_module": "@jupyter-widgets/base",
            "_view_module_version": "1.2.0",
            "_view_name": "LayoutView",
            "align_content": null,
            "align_items": null,
            "align_self": null,
            "border": null,
            "bottom": null,
            "display": null,
            "flex": null,
            "flex_flow": null,
            "grid_area": null,
            "grid_auto_columns": null,
            "grid_auto_flow": null,
            "grid_auto_rows": null,
            "grid_column": null,
            "grid_gap": null,
            "grid_row": null,
            "grid_template_areas": null,
            "grid_template_columns": null,
            "grid_template_rows": null,
            "height": null,
            "justify_content": null,
            "justify_items": null,
            "left": null,
            "margin": null,
            "max_height": null,
            "max_width": null,
            "min_height": null,
            "min_width": null,
            "object_fit": null,
            "object_position": null,
            "order": null,
            "overflow": null,
            "overflow_x": null,
            "overflow_y": null,
            "padding": null,
            "right": null,
            "top": null,
            "visibility": null,
            "width": null
          }
        },
        "28293bc99a294f269aa62543e504996f": {
          "model_module": "@jupyter-widgets/base",
          "model_name": "LayoutModel",
          "model_module_version": "1.2.0",
          "state": {
            "_model_module": "@jupyter-widgets/base",
            "_model_module_version": "1.2.0",
            "_model_name": "LayoutModel",
            "_view_count": null,
            "_view_module": "@jupyter-widgets/base",
            "_view_module_version": "1.2.0",
            "_view_name": "LayoutView",
            "align_content": null,
            "align_items": null,
            "align_self": null,
            "border": null,
            "bottom": null,
            "display": null,
            "flex": null,
            "flex_flow": null,
            "grid_area": null,
            "grid_auto_columns": null,
            "grid_auto_flow": null,
            "grid_auto_rows": null,
            "grid_column": null,
            "grid_gap": null,
            "grid_row": null,
            "grid_template_areas": null,
            "grid_template_columns": null,
            "grid_template_rows": null,
            "height": null,
            "justify_content": null,
            "justify_items": null,
            "left": null,
            "margin": null,
            "max_height": null,
            "max_width": null,
            "min_height": null,
            "min_width": null,
            "object_fit": null,
            "object_position": null,
            "order": null,
            "overflow": null,
            "overflow_x": null,
            "overflow_y": null,
            "padding": null,
            "right": null,
            "top": null,
            "visibility": null,
            "width": null
          }
        },
        "16ae26dff15b41b791c20242aa1f89e2": {
          "model_module": "@jupyter-widgets/controls",
          "model_name": "DescriptionStyleModel",
          "model_module_version": "1.5.0",
          "state": {
            "_model_module": "@jupyter-widgets/controls",
            "_model_module_version": "1.5.0",
            "_model_name": "DescriptionStyleModel",
            "_view_count": null,
            "_view_module": "@jupyter-widgets/base",
            "_view_module_version": "1.2.0",
            "_view_name": "StyleView",
            "description_width": ""
          }
        },
        "8906a8ddc9c24c07b00389f7b0a8e58b": {
          "model_module": "@jupyter-widgets/base",
          "model_name": "LayoutModel",
          "model_module_version": "1.2.0",
          "state": {
            "_model_module": "@jupyter-widgets/base",
            "_model_module_version": "1.2.0",
            "_model_name": "LayoutModel",
            "_view_count": null,
            "_view_module": "@jupyter-widgets/base",
            "_view_module_version": "1.2.0",
            "_view_name": "LayoutView",
            "align_content": null,
            "align_items": null,
            "align_self": null,
            "border": null,
            "bottom": null,
            "display": null,
            "flex": null,
            "flex_flow": null,
            "grid_area": null,
            "grid_auto_columns": null,
            "grid_auto_flow": null,
            "grid_auto_rows": null,
            "grid_column": null,
            "grid_gap": null,
            "grid_row": null,
            "grid_template_areas": null,
            "grid_template_columns": null,
            "grid_template_rows": null,
            "height": null,
            "justify_content": null,
            "justify_items": null,
            "left": null,
            "margin": null,
            "max_height": null,
            "max_width": null,
            "min_height": null,
            "min_width": null,
            "object_fit": null,
            "object_position": null,
            "order": null,
            "overflow": null,
            "overflow_x": null,
            "overflow_y": null,
            "padding": null,
            "right": null,
            "top": null,
            "visibility": null,
            "width": null
          }
        },
        "0923d72d580f401694eec964191b2a62": {
          "model_module": "@jupyter-widgets/controls",
          "model_name": "ProgressStyleModel",
          "model_module_version": "1.5.0",
          "state": {
            "_model_module": "@jupyter-widgets/controls",
            "_model_module_version": "1.5.0",
            "_model_name": "ProgressStyleModel",
            "_view_count": null,
            "_view_module": "@jupyter-widgets/base",
            "_view_module_version": "1.2.0",
            "_view_name": "StyleView",
            "bar_color": null,
            "description_width": ""
          }
        },
        "b96fa25c3f7444dcadf57d8121c7296a": {
          "model_module": "@jupyter-widgets/base",
          "model_name": "LayoutModel",
          "model_module_version": "1.2.0",
          "state": {
            "_model_module": "@jupyter-widgets/base",
            "_model_module_version": "1.2.0",
            "_model_name": "LayoutModel",
            "_view_count": null,
            "_view_module": "@jupyter-widgets/base",
            "_view_module_version": "1.2.0",
            "_view_name": "LayoutView",
            "align_content": null,
            "align_items": null,
            "align_self": null,
            "border": null,
            "bottom": null,
            "display": null,
            "flex": null,
            "flex_flow": null,
            "grid_area": null,
            "grid_auto_columns": null,
            "grid_auto_flow": null,
            "grid_auto_rows": null,
            "grid_column": null,
            "grid_gap": null,
            "grid_row": null,
            "grid_template_areas": null,
            "grid_template_columns": null,
            "grid_template_rows": null,
            "height": null,
            "justify_content": null,
            "justify_items": null,
            "left": null,
            "margin": null,
            "max_height": null,
            "max_width": null,
            "min_height": null,
            "min_width": null,
            "object_fit": null,
            "object_position": null,
            "order": null,
            "overflow": null,
            "overflow_x": null,
            "overflow_y": null,
            "padding": null,
            "right": null,
            "top": null,
            "visibility": null,
            "width": null
          }
        },
        "5748368b47634f44a65cb1d4029cb83f": {
          "model_module": "@jupyter-widgets/controls",
          "model_name": "DescriptionStyleModel",
          "model_module_version": "1.5.0",
          "state": {
            "_model_module": "@jupyter-widgets/controls",
            "_model_module_version": "1.5.0",
            "_model_name": "DescriptionStyleModel",
            "_view_count": null,
            "_view_module": "@jupyter-widgets/base",
            "_view_module_version": "1.2.0",
            "_view_name": "StyleView",
            "description_width": ""
          }
        }
      }
    }
  },
  "nbformat": 4,
  "nbformat_minor": 0
}