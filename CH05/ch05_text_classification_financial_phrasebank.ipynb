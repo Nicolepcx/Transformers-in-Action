{
  "nbformat": 4,
  "nbformat_minor": 0,
  "metadata": {
    "colab": {
      "provenance": [],
      "toc_visible": true,
      "machine_shape": "hm",
      "gpuType": "T4"
    },
    "kernelspec": {
      "name": "python3",
      "display_name": "Python 3"
    },
    "language_info": {
      "name": "python"
    },
    "accelerator": "GPU",
    "gpuClass": "standard",
    "widgets": {
      "application/vnd.jupyter.widget-state+json": {
        "ae19f99daa6645f5afc5e04fe865f0ca": {
          "model_module": "@jupyter-widgets/controls",
          "model_name": "HBoxModel",
          "model_module_version": "1.5.0",
          "state": {
            "_dom_classes": [],
            "_model_module": "@jupyter-widgets/controls",
            "_model_module_version": "1.5.0",
            "_model_name": "HBoxModel",
            "_view_count": null,
            "_view_module": "@jupyter-widgets/controls",
            "_view_module_version": "1.5.0",
            "_view_name": "HBoxView",
            "box_style": "",
            "children": [
              "IPY_MODEL_c4a31d85be7a4cbd94a4b6c42b2d9877",
              "IPY_MODEL_aef2f6bedbb8494e81b8ffe1abfbbc10",
              "IPY_MODEL_d2554dd29d7e4a81a3f6c4e4acc26048"
            ],
            "layout": "IPY_MODEL_b4b49cdb5c4e4c75acdbc218297ba23e"
          }
        },
        "c4a31d85be7a4cbd94a4b6c42b2d9877": {
          "model_module": "@jupyter-widgets/controls",
          "model_name": "HTMLModel",
          "model_module_version": "1.5.0",
          "state": {
            "_dom_classes": [],
            "_model_module": "@jupyter-widgets/controls",
            "_model_module_version": "1.5.0",
            "_model_name": "HTMLModel",
            "_view_count": null,
            "_view_module": "@jupyter-widgets/controls",
            "_view_module_version": "1.5.0",
            "_view_name": "HTMLView",
            "description": "",
            "description_tooltip": null,
            "layout": "IPY_MODEL_0f238a2313e44797a2f5c5c961829d32",
            "placeholder": "​",
            "style": "IPY_MODEL_06750b26e33d40549624f0a15a81f512",
            "value": "100%"
          }
        },
        "aef2f6bedbb8494e81b8ffe1abfbbc10": {
          "model_module": "@jupyter-widgets/controls",
          "model_name": "FloatProgressModel",
          "model_module_version": "1.5.0",
          "state": {
            "_dom_classes": [],
            "_model_module": "@jupyter-widgets/controls",
            "_model_module_version": "1.5.0",
            "_model_name": "FloatProgressModel",
            "_view_count": null,
            "_view_module": "@jupyter-widgets/controls",
            "_view_module_version": "1.5.0",
            "_view_name": "ProgressView",
            "bar_style": "success",
            "description": "",
            "description_tooltip": null,
            "layout": "IPY_MODEL_f90ca3df64a54d35b767a5863e99de5e",
            "max": 1,
            "min": 0,
            "orientation": "horizontal",
            "style": "IPY_MODEL_10004def8bb64021a2bd3d2c05e3ef87",
            "value": 1
          }
        },
        "d2554dd29d7e4a81a3f6c4e4acc26048": {
          "model_module": "@jupyter-widgets/controls",
          "model_name": "HTMLModel",
          "model_module_version": "1.5.0",
          "state": {
            "_dom_classes": [],
            "_model_module": "@jupyter-widgets/controls",
            "_model_module_version": "1.5.0",
            "_model_name": "HTMLModel",
            "_view_count": null,
            "_view_module": "@jupyter-widgets/controls",
            "_view_module_version": "1.5.0",
            "_view_name": "HTMLView",
            "description": "",
            "description_tooltip": null,
            "layout": "IPY_MODEL_3ad6b405d7dd479bae106244cc6466da",
            "placeholder": "​",
            "style": "IPY_MODEL_084b57ec60b84067a7c92ed2ce27aa72",
            "value": " 1/1 [00:00&lt;00:00, 65.50it/s]"
          }
        },
        "b4b49cdb5c4e4c75acdbc218297ba23e": {
          "model_module": "@jupyter-widgets/base",
          "model_name": "LayoutModel",
          "model_module_version": "1.2.0",
          "state": {
            "_model_module": "@jupyter-widgets/base",
            "_model_module_version": "1.2.0",
            "_model_name": "LayoutModel",
            "_view_count": null,
            "_view_module": "@jupyter-widgets/base",
            "_view_module_version": "1.2.0",
            "_view_name": "LayoutView",
            "align_content": null,
            "align_items": null,
            "align_self": null,
            "border": null,
            "bottom": null,
            "display": null,
            "flex": null,
            "flex_flow": null,
            "grid_area": null,
            "grid_auto_columns": null,
            "grid_auto_flow": null,
            "grid_auto_rows": null,
            "grid_column": null,
            "grid_gap": null,
            "grid_row": null,
            "grid_template_areas": null,
            "grid_template_columns": null,
            "grid_template_rows": null,
            "height": null,
            "justify_content": null,
            "justify_items": null,
            "left": null,
            "margin": null,
            "max_height": null,
            "max_width": null,
            "min_height": null,
            "min_width": null,
            "object_fit": null,
            "object_position": null,
            "order": null,
            "overflow": null,
            "overflow_x": null,
            "overflow_y": null,
            "padding": null,
            "right": null,
            "top": null,
            "visibility": null,
            "width": null
          }
        },
        "0f238a2313e44797a2f5c5c961829d32": {
          "model_module": "@jupyter-widgets/base",
          "model_name": "LayoutModel",
          "model_module_version": "1.2.0",
          "state": {
            "_model_module": "@jupyter-widgets/base",
            "_model_module_version": "1.2.0",
            "_model_name": "LayoutModel",
            "_view_count": null,
            "_view_module": "@jupyter-widgets/base",
            "_view_module_version": "1.2.0",
            "_view_name": "LayoutView",
            "align_content": null,
            "align_items": null,
            "align_self": null,
            "border": null,
            "bottom": null,
            "display": null,
            "flex": null,
            "flex_flow": null,
            "grid_area": null,
            "grid_auto_columns": null,
            "grid_auto_flow": null,
            "grid_auto_rows": null,
            "grid_column": null,
            "grid_gap": null,
            "grid_row": null,
            "grid_template_areas": null,
            "grid_template_columns": null,
            "grid_template_rows": null,
            "height": null,
            "justify_content": null,
            "justify_items": null,
            "left": null,
            "margin": null,
            "max_height": null,
            "max_width": null,
            "min_height": null,
            "min_width": null,
            "object_fit": null,
            "object_position": null,
            "order": null,
            "overflow": null,
            "overflow_x": null,
            "overflow_y": null,
            "padding": null,
            "right": null,
            "top": null,
            "visibility": null,
            "width": null
          }
        },
        "06750b26e33d40549624f0a15a81f512": {
          "model_module": "@jupyter-widgets/controls",
          "model_name": "DescriptionStyleModel",
          "model_module_version": "1.5.0",
          "state": {
            "_model_module": "@jupyter-widgets/controls",
            "_model_module_version": "1.5.0",
            "_model_name": "DescriptionStyleModel",
            "_view_count": null,
            "_view_module": "@jupyter-widgets/base",
            "_view_module_version": "1.2.0",
            "_view_name": "StyleView",
            "description_width": ""
          }
        },
        "f90ca3df64a54d35b767a5863e99de5e": {
          "model_module": "@jupyter-widgets/base",
          "model_name": "LayoutModel",
          "model_module_version": "1.2.0",
          "state": {
            "_model_module": "@jupyter-widgets/base",
            "_model_module_version": "1.2.0",
            "_model_name": "LayoutModel",
            "_view_count": null,
            "_view_module": "@jupyter-widgets/base",
            "_view_module_version": "1.2.0",
            "_view_name": "LayoutView",
            "align_content": null,
            "align_items": null,
            "align_self": null,
            "border": null,
            "bottom": null,
            "display": null,
            "flex": null,
            "flex_flow": null,
            "grid_area": null,
            "grid_auto_columns": null,
            "grid_auto_flow": null,
            "grid_auto_rows": null,
            "grid_column": null,
            "grid_gap": null,
            "grid_row": null,
            "grid_template_areas": null,
            "grid_template_columns": null,
            "grid_template_rows": null,
            "height": null,
            "justify_content": null,
            "justify_items": null,
            "left": null,
            "margin": null,
            "max_height": null,
            "max_width": null,
            "min_height": null,
            "min_width": null,
            "object_fit": null,
            "object_position": null,
            "order": null,
            "overflow": null,
            "overflow_x": null,
            "overflow_y": null,
            "padding": null,
            "right": null,
            "top": null,
            "visibility": null,
            "width": null
          }
        },
        "10004def8bb64021a2bd3d2c05e3ef87": {
          "model_module": "@jupyter-widgets/controls",
          "model_name": "ProgressStyleModel",
          "model_module_version": "1.5.0",
          "state": {
            "_model_module": "@jupyter-widgets/controls",
            "_model_module_version": "1.5.0",
            "_model_name": "ProgressStyleModel",
            "_view_count": null,
            "_view_module": "@jupyter-widgets/base",
            "_view_module_version": "1.2.0",
            "_view_name": "StyleView",
            "bar_color": null,
            "description_width": ""
          }
        },
        "3ad6b405d7dd479bae106244cc6466da": {
          "model_module": "@jupyter-widgets/base",
          "model_name": "LayoutModel",
          "model_module_version": "1.2.0",
          "state": {
            "_model_module": "@jupyter-widgets/base",
            "_model_module_version": "1.2.0",
            "_model_name": "LayoutModel",
            "_view_count": null,
            "_view_module": "@jupyter-widgets/base",
            "_view_module_version": "1.2.0",
            "_view_name": "LayoutView",
            "align_content": null,
            "align_items": null,
            "align_self": null,
            "border": null,
            "bottom": null,
            "display": null,
            "flex": null,
            "flex_flow": null,
            "grid_area": null,
            "grid_auto_columns": null,
            "grid_auto_flow": null,
            "grid_auto_rows": null,
            "grid_column": null,
            "grid_gap": null,
            "grid_row": null,
            "grid_template_areas": null,
            "grid_template_columns": null,
            "grid_template_rows": null,
            "height": null,
            "justify_content": null,
            "justify_items": null,
            "left": null,
            "margin": null,
            "max_height": null,
            "max_width": null,
            "min_height": null,
            "min_width": null,
            "object_fit": null,
            "object_position": null,
            "order": null,
            "overflow": null,
            "overflow_x": null,
            "overflow_y": null,
            "padding": null,
            "right": null,
            "top": null,
            "visibility": null,
            "width": null
          }
        },
        "084b57ec60b84067a7c92ed2ce27aa72": {
          "model_module": "@jupyter-widgets/controls",
          "model_name": "DescriptionStyleModel",
          "model_module_version": "1.5.0",
          "state": {
            "_model_module": "@jupyter-widgets/controls",
            "_model_module_version": "1.5.0",
            "_model_name": "DescriptionStyleModel",
            "_view_count": null,
            "_view_module": "@jupyter-widgets/base",
            "_view_module_version": "1.2.0",
            "_view_name": "StyleView",
            "description_width": ""
          }
        }
      }
    }
  },
  "cells": [
    {
      "cell_type": "markdown",
      "source": [
        "## Open notebook in: \n",
        "| Colab                                 | Gradient                                                                                                                                         |\n",
        "|:-------------------------------------------------------------------------------------------------------------------------------------------------------------------------------------------------------------------|:-----------------------------------------------------------------------------------------------------------------------------------------------------------------------------------------------------------------------|\n",
        "[![Open In Colab](https://colab.research.google.com/assets/colab-badge.svg)](https://colab.research.google.com/github/Nicolepcx/Transformers-in-Action/blob/main/CH04/ch04_machine_translation.ipynb)                                              | [![Gradient](https://assets.paperspace.io/img/gradient-badge.svg)](https://console.paperspace.com/github/Nicolepcx/Transformers-in-Action/blob/main/CH04/ch04_machine_translation.ipynb)|             "
      ],
      "metadata": {
        "id": "CuDPraqqc9Dr"
      }
    },
    {
      "cell_type": "code",
      "source": [
        "# Clone repo, if it's not already cloned, to be sure all runs on smoothly\n",
        "# on Colab, Kaggle or Paperspace\n",
        "import os\n",
        "\n",
        "if not os.path.isdir('Transformers-in-Action'):\n",
        "    !git clone https://github.com/Nicolepcx/Transformers-in-Action.git\n",
        "else:\n",
        "    print('Repository already exists. Skipping clone.')\n",
        "\n",
        "\n",
        "current_path = %pwd\n",
        "if '/Transformers-in-Action' in current_path:\n",
        "    new_path = current_path + '/utils'\n",
        "else:\n",
        "    new_path = current_path + '/Transformers-in-Action/utils'\n",
        "%cd $new_path\n"
      ],
      "metadata": {
        "colab": {
          "base_uri": "https://localhost:8080/"
        },
        "id": "BZYnUtKddDbT",
        "outputId": "a6c0dad3-501b-4a7e-9957-918aa6606add"
      },
      "execution_count": 44,
      "outputs": [
        {
          "output_type": "stream",
          "name": "stdout",
          "text": [
            "Cloning into 'Transformers-in-Action'...\n",
            "remote: Enumerating objects: 264, done.\u001b[K\n",
            "remote: Counting objects: 100% (112/112), done.\u001b[K\n",
            "remote: Compressing objects: 100% (85/85), done.\u001b[K\n",
            "remote: Total 264 (delta 55), reused 63 (delta 27), pack-reused 152\u001b[K\n",
            "Receiving objects: 100% (264/264), 1.78 MiB | 2.80 MiB/s, done.\n",
            "Resolving deltas: 100% (127/127), done.\n",
            "[Errno 2] No such file or directory: '/content/Transformers-in-Action/utils/utils'\n",
            "/content/Transformers-in-Action/utils\n"
          ]
        }
      ]
    },
    {
      "cell_type": "markdown",
      "source": [
        "# About this notebook"
      ],
      "metadata": {
        "id": "e_qoZWNXdHHo"
      }
    },
    {
      "cell_type": "markdown",
      "source": [
        "This Jupyter notebook is designed to perform a comprehensive analysis of text classification on the Financial PhraseBank dataset using both traditional machine learning and Transformers. Here are some key points covered in the notebook:\n",
        "\n",
        "- __Baseline Model with Naive Bayes__: The notebook begins by creating a baseline model using Naive Bayes, a traditional machine learning algorithm frequently used for text classification tasks. This model serves as a benchmark for evaluating the performance of subsequent models.\n",
        "\n",
        "- __NewsClassifier for Transformer Models__: The notebook then utilizes the NewsClassifier class to evaluate the performance of various Transformer models on the Financial PhraseBank dataset \"out-of-the-box\" without any fine-tuning. This allows for an understanding of how well these pre-trained models perform on the task right away.\n",
        "\n",
        "- __Fine-Tuning RoBERTa and ELECTRA Models__: After this, we delve into fine-tuning two specific Transformer models: RoBERTa and ELECTRA. Fine-tuning involves further training these pre-trained models on the Financial PhraseBank dataset. This process allows these models to specialize their already learned knowledge towards the financial text classification task.\n",
        "\n",
        "- __Evaluation__: Lastly, we evaluate and compare the results from the fine-tuned RoBERTa and ELECTRA models against the baseline Naive Bayes model and the initial out-of-the-box Transformer models' performance. This comparison is performed using a confusion matrix created from a classification report from the `sklearn` library, with a particular focus on the weighted F1-score and accuracy as key performance metrics. This detailed comparison provides insight into how much improvement the fine-tuning process brought about, and the relative strengths and weaknesses of each model for this particular task.\n",
        "\n",
        "\n"
      ],
      "metadata": {
        "id": "EA7hfqZQO2RS"
      }
    },
    {
      "cell_type": "markdown",
      "source": [
        "# Install requirements"
      ],
      "metadata": {
        "id": "bFkkn_xslQJr"
      }
    },
    {
      "cell_type": "code",
      "source": [
        "from requirements import *"
      ],
      "metadata": {
        "id": "CJQrCNtIxt7u"
      },
      "execution_count": 45,
      "outputs": []
    },
    {
      "cell_type": "code",
      "source": [
        "install_required_packages_ch05()"
      ],
      "metadata": {
        "colab": {
          "base_uri": "https://localhost:8080/"
        },
        "id": "iC7eYoG2nP4g",
        "outputId": "f34f79cf-c4b9-442d-d292-2ab7579acde8"
      },
      "execution_count": 46,
      "outputs": [
        {
          "output_type": "stream",
          "name": "stdout",
          "text": [
            "\u001b[1mInstalling chapter 5 requirements...\n",
            "\u001b[0m\n",
            "✅ transformers == 4.26.1 installation completed successfully!\n",
            "\n",
            "✅ datasets == 2.10.1 installation completed successfully!\n",
            "\n",
            "✅ evaluate==0.4.0 installation completed successfully!\n",
            "\n",
            "✅ pyarrow==9.0.0 installation completed successfully!\n",
            "\n",
            "✅ sentencepiece installation completed successfully!\n",
            "\n"
          ]
        }
      ]
    },
    {
      "cell_type": "markdown",
      "source": [
        "# Imports"
      ],
      "metadata": {
        "id": "LXhy8Pu_lVcN"
      }
    },
    {
      "cell_type": "code",
      "source": [
        "from setup import *\n",
        "from utils import *\n",
        "from plotting import *"
      ],
      "metadata": {
        "id": "73osbzDDpDkp"
      },
      "execution_count": 47,
      "outputs": []
    },
    {
      "cell_type": "code",
      "source": [
        "useGPU()"
      ],
      "metadata": {
        "colab": {
          "base_uri": "https://localhost:8080/"
        },
        "id": "fVN6H8w-lcz8",
        "outputId": "a3581628-e689-455c-8be5-a41c6bc1fc40"
      },
      "execution_count": 48,
      "outputs": [
        {
          "output_type": "stream",
          "name": "stdout",
          "text": [
            "Have fun with this chapter!🥳\n"
          ]
        }
      ]
    },
    {
      "cell_type": "markdown",
      "source": [
        "# Allocate enough RAM"
      ],
      "metadata": {
        "id": "vazshSUmPs-s"
      }
    },
    {
      "cell_type": "markdown",
      "source": [
        "Let us try to get a __GPU__ with at least __15GB RAM__ for our notebook."
      ],
      "metadata": {
        "id": "KEBmtiOeOOV5"
      }
    },
    {
      "cell_type": "code",
      "source": [
        "# crash colab to get more RAM -> uncomment to use\n",
        "#!kill -9 -1"
      ],
      "metadata": {
        "id": "dqsj2G_XOV5M"
      },
      "execution_count": 49,
      "outputs": []
    },
    {
      "cell_type": "markdown",
      "source": [
        "We can execute the following command `!free -h`  to see if we have enough RAM and `!nvidia-smi` to get more info about our GPU type we got assigned.\n",
        "If the allocated GPU is too small, the above cell can be used to run the command to crash the notebook hoping to get a better GPU after the crash, since the GPU is randomly allocated.\n"
      ],
      "metadata": {
        "id": "RMzVL7cLObmK"
      }
    },
    {
      "cell_type": "code",
      "source": [
        "!free -h"
      ],
      "metadata": {
        "colab": {
          "base_uri": "https://localhost:8080/"
        },
        "id": "NrKOwtesglSu",
        "outputId": "a30628eb-2169-4af0-8e70-b7f476f5aeb0"
      },
      "execution_count": 50,
      "outputs": [
        {
          "output_type": "stream",
          "name": "stdout",
          "text": [
            "              total        used        free      shared  buff/cache   available\n",
            "Mem:           50Gi       5.7Gi        24Gi        17Mi        20Gi        44Gi\n",
            "Swap:            0B          0B          0B\n"
          ]
        }
      ]
    },
    {
      "cell_type": "code",
      "source": [
        "!nvidia-smi"
      ],
      "metadata": {
        "id": "LKRiHlhcOgMR",
        "colab": {
          "base_uri": "https://localhost:8080/"
        },
        "outputId": "c152a98d-e56e-403f-d7d8-75b40bbc29d7"
      },
      "execution_count": 51,
      "outputs": [
        {
          "output_type": "stream",
          "name": "stdout",
          "text": [
            "Thu Jun  8 09:30:56 2023       \n",
            "+-----------------------------------------------------------------------------+\n",
            "| NVIDIA-SMI 525.85.12    Driver Version: 525.85.12    CUDA Version: 12.0     |\n",
            "|-------------------------------+----------------------+----------------------+\n",
            "| GPU  Name        Persistence-M| Bus-Id        Disp.A | Volatile Uncorr. ECC |\n",
            "| Fan  Temp  Perf  Pwr:Usage/Cap|         Memory-Usage | GPU-Util  Compute M. |\n",
            "|                               |                      |               MIG M. |\n",
            "|===============================+======================+======================|\n",
            "|   0  Tesla T4            Off  | 00000000:00:04.0 Off |                    0 |\n",
            "| N/A   77C    P0    33W /  70W |   4309MiB / 15360MiB |      0%      Default |\n",
            "|                               |                      |                  N/A |\n",
            "+-------------------------------+----------------------+----------------------+\n",
            "                                                                               \n",
            "+-----------------------------------------------------------------------------+\n",
            "| Processes:                                                                  |\n",
            "|  GPU   GI   CI        PID   Type   Process name                  GPU Memory |\n",
            "|        ID   ID                                                   Usage      |\n",
            "|=============================================================================|\n",
            "+-----------------------------------------------------------------------------+\n"
          ]
        }
      ]
    },
    {
      "cell_type": "code",
      "source": [
        "import torch\n",
        "\n",
        "if torch.cuda.is_available():\n",
        "    gpu_device = torch.device('cuda')\n",
        "    gpu_info = torch.cuda.get_device_properties(gpu_device)\n",
        "    gpu_memory = gpu_info.total_memory / 1e9  # Convert bytes to gigabytes\n",
        "    print(f\"GPU: {gpu_info.name}, Total Memory: {gpu_memory:.2f} GB\")\n",
        "else:\n",
        "    print(\"No GPU detected.\")\n"
      ],
      "metadata": {
        "colab": {
          "base_uri": "https://localhost:8080/"
        },
        "id": "k9cX1XaSsodd",
        "outputId": "ff3db4d5-7c40-4ac1-a143-4f3d07b02d47"
      },
      "execution_count": 52,
      "outputs": [
        {
          "output_type": "stream",
          "name": "stdout",
          "text": [
            "GPU: Tesla T4, Total Memory: 15.84 GB\n"
          ]
        }
      ]
    },
    {
      "cell_type": "markdown",
      "source": [
        "# Imports"
      ],
      "metadata": {
        "id": "MVM58M7GePlZ"
      }
    },
    {
      "cell_type": "code",
      "source": [
        "# Basic imports\n",
        "import numpy as np  \n",
        "import pandas as pd\n",
        "from datasets import load_dataset\n",
        "\n",
        "# Torch imports\n",
        "from torch.utils.data import DataLoader, Dataset  \n",
        "\n",
        "# Transformers imports\n",
        "from transformers import (EarlyStoppingCallback, AutoTokenizer, AutoModelForSequenceClassification, BertTokenizer, \n",
        "                          BertForSequenceClassification, ElectraTokenizer, ElectraForSequenceClassification, \n",
        "                          RobertaTokenizer, RobertaForSequenceClassification, Trainer, TrainingArguments) \n",
        "\n",
        "# Evaluation imports\n",
        "from sklearn.metrics import accuracy_score, f1_score, confusion_matrix, classification_report\n",
        "from sklearn.exceptions import UndefinedMetricWarning\n",
        "from sklearn.model_selection import train_test_split\n",
        "from sklearn.feature_extraction.text import TfidfVectorizer\n",
        "from sklearn.naive_bayes import MultinomialNB\n",
        "from sklearn.pipeline import make_pipeline\n",
        "import evaluate  # Evaluation script from Hugging Face\n",
        "\n",
        "# Visualization imports\n",
        "import matplotlib.pyplot as plt  \n",
        "\n",
        "# Miscellaneous imports \n",
        "import random  \n",
        "import warnings  \n",
        "\n",
        "# Suppress warnings related to undefined metrics in classification reports\n",
        "warnings.filterwarnings(\"ignore\", category=UndefinedMetricWarning)\n",
        "\n",
        "# Suppress logging messages from the transformers library\n",
        "import transformers\n",
        "transformers.logging.set_verbosity(transformers.logging.ERROR)\n"
      ],
      "metadata": {
        "id": "26RQHMqseT_A"
      },
      "execution_count": 53,
      "outputs": []
    },
    {
      "cell_type": "code",
      "source": [
        "os.environ[\"CUDA_LAUNCH_BLOCKING\"] = \"1\""
      ],
      "metadata": {
        "id": "2Ha6AGXJZe5a"
      },
      "execution_count": 54,
      "outputs": []
    },
    {
      "cell_type": "markdown",
      "source": [
        "## Set seed function\n",
        "\n",
        "The `set_seed` function sets the seed for various random number generators used in the notebook to ensure that the results are reproducible. It first sets the seed for `numpy` and `torch`. If a GPU is available, it then sets the seed for all `cuda` operations and ensures that the results are deterministic.\n",
        "\n",
        "Setting the seed is important when working with random processes in order to ensure that the results are consistent between runs. This is especially important when training machine learning models, as different random seeds can result in different model performance."
      ],
      "metadata": {
        "id": "auoV1b6kkns2"
      }
    },
    {
      "cell_type": "code",
      "source": [
        "set_seed()"
      ],
      "metadata": {
        "id": "Lrx7opEl78cZ"
      },
      "execution_count": 55,
      "outputs": []
    },
    {
      "cell_type": "code",
      "source": [
        "accuracy_metric = evaluate.load(\"accuracy\")\n",
        "\n",
        "def compute_metrics(eval_pred):\n",
        "    logits, labels = eval_pred\n",
        "    predictions = np.argmax(logits, axis=-1)\n",
        "    return accuracy_metric.compute(predictions=predictions, references=labels)"
      ],
      "metadata": {
        "id": "MV3ItR973GbD"
      },
      "execution_count": 56,
      "outputs": []
    },
    {
      "cell_type": "markdown",
      "source": [
        "# Sentiment classification on financial phrasebank dataset"
      ],
      "metadata": {
        "id": "umSydbH9tHA3"
      }
    },
    {
      "cell_type": "markdown",
      "source": [
        "## Load dataset"
      ],
      "metadata": {
        "id": "ClQfmlwkKqx0"
      }
    },
    {
      "cell_type": "code",
      "source": [
        "# Load the Financial Phrasebank dataset using the Hugging Face Datasets library\n",
        "financial_dataset = load_dataset('financial_phrasebank', 'sentences_allagree')"
      ],
      "metadata": {
        "colab": {
          "base_uri": "https://localhost:8080/",
          "height": 86,
          "referenced_widgets": [
            "ae19f99daa6645f5afc5e04fe865f0ca",
            "c4a31d85be7a4cbd94a4b6c42b2d9877",
            "aef2f6bedbb8494e81b8ffe1abfbbc10",
            "d2554dd29d7e4a81a3f6c4e4acc26048",
            "b4b49cdb5c4e4c75acdbc218297ba23e",
            "0f238a2313e44797a2f5c5c961829d32",
            "06750b26e33d40549624f0a15a81f512",
            "f90ca3df64a54d35b767a5863e99de5e",
            "10004def8bb64021a2bd3d2c05e3ef87",
            "3ad6b405d7dd479bae106244cc6466da",
            "084b57ec60b84067a7c92ed2ce27aa72"
          ]
        },
        "id": "Sw1RTyl-cjNL",
        "outputId": "ce55fd2f-8372-49bf-fa60-ae6e726f5910"
      },
      "execution_count": 57,
      "outputs": [
        {
          "output_type": "stream",
          "name": "stderr",
          "text": [
            "WARNING:datasets.builder:Found cached dataset financial_phrasebank (/root/.cache/huggingface/datasets/financial_phrasebank/sentences_allagree/1.0.0/550bde12e6c30e2674da973a55f57edde5181d53f5a5a34c1531c53f93b7e141)\n"
          ]
        },
        {
          "output_type": "display_data",
          "data": {
            "text/plain": [
              "  0%|          | 0/1 [00:00<?, ?it/s]"
            ],
            "application/vnd.jupyter.widget-view+json": {
              "version_major": 2,
              "version_minor": 0,
              "model_id": "ae19f99daa6645f5afc5e04fe865f0ca"
            }
          },
          "metadata": {}
        }
      ]
    },
    {
      "cell_type": "code",
      "source": [
        "financial_dataset"
      ],
      "metadata": {
        "colab": {
          "base_uri": "https://localhost:8080/"
        },
        "id": "8Cxsgca7Anh6",
        "outputId": "5a9121d1-dce7-4b27-a18f-44531477a5fd"
      },
      "execution_count": 58,
      "outputs": [
        {
          "output_type": "execute_result",
          "data": {
            "text/plain": [
              "DatasetDict({\n",
              "    train: Dataset({\n",
              "        features: ['sentence', 'label'],\n",
              "        num_rows: 2264\n",
              "    })\n",
              "})"
            ]
          },
          "metadata": {},
          "execution_count": 58
        }
      ]
    },
    {
      "cell_type": "code",
      "source": [
        "# Convert the dataset to a Pandas dataframe for easier manipulation\n",
        "df = pd.DataFrame(financial_dataset['train'])\n",
        "\n",
        "# Split the dataset into train, validation, and test sets\n",
        "#train_df, test_df = train_test_split(df, test_size=0.2, random_state=42)\n"
      ],
      "metadata": {
        "id": "z6WzMnhUtIw_"
      },
      "execution_count": 59,
      "outputs": []
    },
    {
      "cell_type": "code",
      "source": [
        "df.head()"
      ],
      "metadata": {
        "colab": {
          "base_uri": "https://localhost:8080/",
          "height": 206
        },
        "id": "Rwl4rmNouSnd",
        "outputId": "186c4be3-d5d9-4418-ff7f-12d07fef74ed"
      },
      "execution_count": 60,
      "outputs": [
        {
          "output_type": "execute_result",
          "data": {
            "text/plain": [
              "                                            sentence  label\n",
              "0  According to Gran , the company has no plans t...      1\n",
              "1  For the last quarter of 2010 , Componenta 's n...      2\n",
              "2  In the third quarter of 2010 , net sales incre...      2\n",
              "3  Operating profit rose to EUR 13.1 mn from EUR ...      2\n",
              "4  Operating profit totalled EUR 21.1 mn , up fro...      2"
            ],
            "text/html": [
              "\n",
              "  <div id=\"df-934189e1-0e72-4428-a2ec-394c7dd3b893\">\n",
              "    <div class=\"colab-df-container\">\n",
              "      <div>\n",
              "<style scoped>\n",
              "    .dataframe tbody tr th:only-of-type {\n",
              "        vertical-align: middle;\n",
              "    }\n",
              "\n",
              "    .dataframe tbody tr th {\n",
              "        vertical-align: top;\n",
              "    }\n",
              "\n",
              "    .dataframe thead th {\n",
              "        text-align: right;\n",
              "    }\n",
              "</style>\n",
              "<table border=\"1\" class=\"dataframe\">\n",
              "  <thead>\n",
              "    <tr style=\"text-align: right;\">\n",
              "      <th></th>\n",
              "      <th>sentence</th>\n",
              "      <th>label</th>\n",
              "    </tr>\n",
              "  </thead>\n",
              "  <tbody>\n",
              "    <tr>\n",
              "      <th>0</th>\n",
              "      <td>According to Gran , the company has no plans t...</td>\n",
              "      <td>1</td>\n",
              "    </tr>\n",
              "    <tr>\n",
              "      <th>1</th>\n",
              "      <td>For the last quarter of 2010 , Componenta 's n...</td>\n",
              "      <td>2</td>\n",
              "    </tr>\n",
              "    <tr>\n",
              "      <th>2</th>\n",
              "      <td>In the third quarter of 2010 , net sales incre...</td>\n",
              "      <td>2</td>\n",
              "    </tr>\n",
              "    <tr>\n",
              "      <th>3</th>\n",
              "      <td>Operating profit rose to EUR 13.1 mn from EUR ...</td>\n",
              "      <td>2</td>\n",
              "    </tr>\n",
              "    <tr>\n",
              "      <th>4</th>\n",
              "      <td>Operating profit totalled EUR 21.1 mn , up fro...</td>\n",
              "      <td>2</td>\n",
              "    </tr>\n",
              "  </tbody>\n",
              "</table>\n",
              "</div>\n",
              "      <button class=\"colab-df-convert\" onclick=\"convertToInteractive('df-934189e1-0e72-4428-a2ec-394c7dd3b893')\"\n",
              "              title=\"Convert this dataframe to an interactive table.\"\n",
              "              style=\"display:none;\">\n",
              "        \n",
              "  <svg xmlns=\"http://www.w3.org/2000/svg\" height=\"24px\"viewBox=\"0 0 24 24\"\n",
              "       width=\"24px\">\n",
              "    <path d=\"M0 0h24v24H0V0z\" fill=\"none\"/>\n",
              "    <path d=\"M18.56 5.44l.94 2.06.94-2.06 2.06-.94-2.06-.94-.94-2.06-.94 2.06-2.06.94zm-11 1L8.5 8.5l.94-2.06 2.06-.94-2.06-.94L8.5 2.5l-.94 2.06-2.06.94zm10 10l.94 2.06.94-2.06 2.06-.94-2.06-.94-.94-2.06-.94 2.06-2.06.94z\"/><path d=\"M17.41 7.96l-1.37-1.37c-.4-.4-.92-.59-1.43-.59-.52 0-1.04.2-1.43.59L10.3 9.45l-7.72 7.72c-.78.78-.78 2.05 0 2.83L4 21.41c.39.39.9.59 1.41.59.51 0 1.02-.2 1.41-.59l7.78-7.78 2.81-2.81c.8-.78.8-2.07 0-2.86zM5.41 20L4 18.59l7.72-7.72 1.47 1.35L5.41 20z\"/>\n",
              "  </svg>\n",
              "      </button>\n",
              "      \n",
              "  <style>\n",
              "    .colab-df-container {\n",
              "      display:flex;\n",
              "      flex-wrap:wrap;\n",
              "      gap: 12px;\n",
              "    }\n",
              "\n",
              "    .colab-df-convert {\n",
              "      background-color: #E8F0FE;\n",
              "      border: none;\n",
              "      border-radius: 50%;\n",
              "      cursor: pointer;\n",
              "      display: none;\n",
              "      fill: #1967D2;\n",
              "      height: 32px;\n",
              "      padding: 0 0 0 0;\n",
              "      width: 32px;\n",
              "    }\n",
              "\n",
              "    .colab-df-convert:hover {\n",
              "      background-color: #E2EBFA;\n",
              "      box-shadow: 0px 1px 2px rgba(60, 64, 67, 0.3), 0px 1px 3px 1px rgba(60, 64, 67, 0.15);\n",
              "      fill: #174EA6;\n",
              "    }\n",
              "\n",
              "    [theme=dark] .colab-df-convert {\n",
              "      background-color: #3B4455;\n",
              "      fill: #D2E3FC;\n",
              "    }\n",
              "\n",
              "    [theme=dark] .colab-df-convert:hover {\n",
              "      background-color: #434B5C;\n",
              "      box-shadow: 0px 1px 3px 1px rgba(0, 0, 0, 0.15);\n",
              "      filter: drop-shadow(0px 1px 2px rgba(0, 0, 0, 0.3));\n",
              "      fill: #FFFFFF;\n",
              "    }\n",
              "  </style>\n",
              "\n",
              "      <script>\n",
              "        const buttonEl =\n",
              "          document.querySelector('#df-934189e1-0e72-4428-a2ec-394c7dd3b893 button.colab-df-convert');\n",
              "        buttonEl.style.display =\n",
              "          google.colab.kernel.accessAllowed ? 'block' : 'none';\n",
              "\n",
              "        async function convertToInteractive(key) {\n",
              "          const element = document.querySelector('#df-934189e1-0e72-4428-a2ec-394c7dd3b893');\n",
              "          const dataTable =\n",
              "            await google.colab.kernel.invokeFunction('convertToInteractive',\n",
              "                                                     [key], {});\n",
              "          if (!dataTable) return;\n",
              "\n",
              "          const docLinkHtml = 'Like what you see? Visit the ' +\n",
              "            '<a target=\"_blank\" href=https://colab.research.google.com/notebooks/data_table.ipynb>data table notebook</a>'\n",
              "            + ' to learn more about interactive tables.';\n",
              "          element.innerHTML = '';\n",
              "          dataTable['output_type'] = 'display_data';\n",
              "          await google.colab.output.renderOutput(dataTable, element);\n",
              "          const docLink = document.createElement('div');\n",
              "          docLink.innerHTML = docLinkHtml;\n",
              "          element.appendChild(docLink);\n",
              "        }\n",
              "      </script>\n",
              "    </div>\n",
              "  </div>\n",
              "  "
            ]
          },
          "metadata": {},
          "execution_count": 60
        }
      ]
    },
    {
      "cell_type": "code",
      "source": [
        "df.label.unique()"
      ],
      "metadata": {
        "colab": {
          "base_uri": "https://localhost:8080/"
        },
        "id": "nGl-oXGcu_o1",
        "outputId": "ecfc5a7c-6796-4276-adc7-1d025ff35749"
      },
      "execution_count": 61,
      "outputs": [
        {
          "output_type": "execute_result",
          "data": {
            "text/plain": [
              "array([1, 2, 0])"
            ]
          },
          "metadata": {},
          "execution_count": 61
        }
      ]
    },
    {
      "cell_type": "markdown",
      "source": [
        "## Plot data distribution"
      ],
      "metadata": {
        "id": "6qNiLj0ALGlP"
      }
    },
    {
      "cell_type": "code",
      "source": [
        "label_map = {\n",
        "    0: 'Negative',\n",
        "    1: 'Neutral',\n",
        "    2: 'Positive',\n",
        "}\n",
        "\n",
        "datasets = [df]\n",
        "dataset_names = [\"Train\"]\n",
        "\n",
        "plot_dataset_distribution(datasets, dataset_names, label_map=label_map)\n"
      ],
      "metadata": {
        "colab": {
          "base_uri": "https://localhost:8080/",
          "height": 487
        },
        "id": "6MiOOu-mscwu",
        "outputId": "bc208605-13ab-4a1d-838c-c1f1b8e8dd69"
      },
      "execution_count": 62,
      "outputs": [
        {
          "output_type": "display_data",
          "data": {
            "text/plain": [
              "<Figure size 500x500 with 1 Axes>"
            ],
            "image/png": "[encoded data removed]"
          },
          "metadata": {}
        }
      ]
    },
    {
      "cell_type": "markdown",
      "source": [
        "## Undersample dataset"
      ],
      "metadata": {
        "id": "l_FyNR5fK4Mw"
      }
    },
    {
      "cell_type": "code",
      "source": [
        "# Undersample the neutral class to 800 samples\n",
        "neutral_df = df[df['label'] == 1].sample(n=800, random_state=42)\n",
        "positive_df = df[df['label'] == 2]\n",
        "negative_df = df[df['label'] == 0]\n",
        "\n",
        "# Combine the undersampled classes into a new balanced dataset\n",
        "balanced_df = pd.concat([neutral_df, positive_df, negative_df])"
      ],
      "metadata": {
        "id": "Uc4xq1eI2KRo"
      },
      "execution_count": 63,
      "outputs": []
    },
    {
      "cell_type": "markdown",
      "source": [
        "### Plot distribution after undersampling"
      ],
      "metadata": {
        "id": "GXeuHGo1LOnB"
      }
    },
    {
      "cell_type": "code",
      "source": [
        "# Plot the label distribution\n",
        "datasets = [balanced_df]\n",
        "\n",
        "plot_dataset_distribution(datasets, dataset_names, label_map=label_map)\n"
      ],
      "metadata": {
        "colab": {
          "base_uri": "https://localhost:8080/",
          "height": 487
        },
        "id": "rCqKTtv_2NVZ",
        "outputId": "9c300e39-5620-41ef-d662-fe75bf272608"
      },
      "execution_count": 64,
      "outputs": [
        {
          "output_type": "display_data",
          "data": {
            "text/plain": [
              "<Figure size 500x500 with 1 Axes>"
            ],
            "image/png": "[encoded data removed]"
          },
          "metadata": {}
        }
      ]
    },
    {
      "cell_type": "code",
      "source": [
        "# Split the balanced dataset into train, validation, and test sets\n",
        "train_df, test_val_df = train_test_split(balanced_df, test_size=0.25, random_state=42)\n",
        "val_df, test_df = train_test_split(test_val_df, test_size=0.4, random_state=42)"
      ],
      "metadata": {
        "id": "BEJa0SaUuIZO"
      },
      "execution_count": 65,
      "outputs": []
    },
    {
      "cell_type": "code",
      "source": [
        "print(train_df.shape) # 75% = 1254.75\n",
        "print(val_df.shape) # 15% = 250.95\n",
        "print(test_df.shape) # 10% = 167.3"
      ],
      "metadata": {
        "colab": {
          "base_uri": "https://localhost:8080/"
        },
        "id": "Z1Pptepxt5h6",
        "outputId": "d4758a11-7f0b-4f71-e6b3-2ced68c28804"
      },
      "execution_count": 66,
      "outputs": [
        {
          "output_type": "stream",
          "name": "stdout",
          "text": [
            "(1254, 2)\n",
            "(251, 2)\n",
            "(168, 2)\n"
          ]
        }
      ]
    },
    {
      "cell_type": "code",
      "source": [
        "datasets = [train_df, val_df, test_df]\n",
        "dataset_names = [\"Train\", \"Validation\", \"Test\"]\n",
        "plot_dataset_distribution(datasets, dataset_names, label_map=label_map)"
      ],
      "metadata": {
        "colab": {
          "base_uri": "https://localhost:8080/",
          "height": 487
        },
        "id": "XM0nvy6c36Nu",
        "outputId": "060938f1-c684-44e8-95f3-0de40c729212"
      },
      "execution_count": 67,
      "outputs": [
        {
          "output_type": "display_data",
          "data": {
            "text/plain": [
              "<Figure size 1500x500 with 3 Axes>"
            ],
            "image/png": "[encoded data removed]"
          },
          "metadata": {}
        }
      ]
    },
    {
      "cell_type": "markdown",
      "source": [
        "# Using Naïve Bayes classifier as baseline\n",
        "\n",
        "Naive Bayes methods are a set of supervised learning algorithms often used for text classification, spam detection, and other similar tasks. These algorithms are based on applying Bayes' theorem with the \"naive\" assumption of conditional independence between every pair of features given the value of the class variable.\n",
        "\n",
        "Bayes' theorem states the following relationship, given class variable \\(y\\) and dependent feature vector \\(x_1\\) through \\(x_n\\):\n",
        "\n",
        "$$\n",
        "P(y | x_1, \\ldots, x_n) = \\frac{P(y) P(x_1, \\ldots, x_n | y)}{P(x_1, \\ldots, x_n)}\n",
        "$$\n",
        "\n",
        "Using the naive conditional independence assumption:\n",
        "\n",
        "$$\n",
        "P(x_i | y, x_1, \\ldots, x_{i-1}, x_{i+1}, \\ldots, x_n) = P(x_i | y),\n",
        "$$\n",
        "\n",
        "for all \\(i\\), this relationship is simplified to:\n",
        "\n",
        "$$\n",
        "P(y | x_1, \\ldots, x_n) = \\frac{P(y) \\prod_{i=1}^n P(x_i | y)}{P(x_1, \\ldots, x_n)}\n",
        "$$\n",
        "\n",
        "Now let's consider the case where the feature vector consists of words $(w_1, w_2, w_3, \\dots, w_n)$. The formula for the Naive Bayes method becomes:\n",
        "\n",
        "\\begin{align*}\n",
        "\\underset{y \\in\\{\\text {Pos,Neg}\\}}{\\arg \\max } P\\left(y \\mid w_1, w_2, w_3, \\dots, w_n\\right) &=\\underset{y \\in\\{\\text {Pos,Neg}\\}}{\\arg \\max } \\frac{P\\left(w_1, w_2, w_3, \\dots, w_n \\mid y\\right) \\cdot P(y)}{P\\left(w_1, w_2, w_3, \\dots, w_n\\right)} \\\\\n",
        "&=\\underset{y \\in\\{\\text {Pos,Neg}\\}}{\\arg \\max } P\\left(w_1, w_2, w_3, \\dots, w_n \\mid y\\right) \\cdot P(y) \\\\\n",
        "&=\\underset{y \\in\\{\\text {Pos,Neg}\\}}{\\arg \\max } P\\left(w_1 \\mid y\\right) \\cdot \\prod_{i=2}^n P\\left(w_i \\mid w_1, \\dots, w_{i-1}, y\\right) \\cdot P(y) \\\\\n",
        "&=\\underset{y \\in\\{\\text {Pos,Neg}\\}}{\\arg \\max } \\prod_{i=1}^n P\\left(w_i \\mid y\\right) \\cdot P(y)\n",
        "\\end{align*}\n",
        "\n",
        "In the second line, we remove the denominator $(P\\left(w_1, w_2, w_3, \\dots, w_n\\right))$ as it's constant given the input. In the third line, we apply the chain rule of probability. Finally, in the fourth line, we use the naive conditional independence assumption to simplify the product of conditional probabilities.\n",
        "\n"
      ],
      "metadata": {
        "id": "aHiVVQ_2U9vg"
      }
    },
    {
      "cell_type": "code",
      "source": [
        "plot_tsne_3d(nb_pipeline, test_df, test_predictions)"
      ],
      "metadata": {
        "colab": {
          "base_uri": "https://localhost:8080/",
          "height": 406
        },
        "id": "-PZp1SXy43U1",
        "outputId": "1fca8443-0cdc-445a-8e12-1490dba58091"
      },
      "execution_count": 68,
      "outputs": [
        {
          "output_type": "display_data",
          "data": {
            "text/plain": [
              "<Figure size 640x480 with 1 Axes>"
            ],
            "image/png": "[encoded data removed]"
          },
          "metadata": {}
        }
      ]
    },
    {
      "cell_type": "code",
      "source": [
        "# Call the function for Naive Bayes\n",
        "bayes_params = {\n",
        "    \"true_labels\": test_df[\"label\"],\n",
        "    \"pred_labels\": test_predictions,\n",
        "    \"target_names\": [\"Negative\", \"Neutral\", \"Positive\"],\n",
        "    \"model_name\": \"Naive Bayes\"\n",
        "}\n",
        "\n",
        "evaluation_df_bayes = create_evaluation_df_and_plot(**bayes_params)\n"
      ],
      "metadata": {
        "colab": {
          "base_uri": "https://localhost:8080/",
          "height": 766
        },
        "id": "0_lPYoI25I0m",
        "outputId": "47c8c93d-46ad-4240-d2cc-1c338b41fc43"
      },
      "execution_count": 69,
      "outputs": [
        {
          "output_type": "stream",
          "name": "stdout",
          "text": [
            "             Accuracy  F1 Score  Negative F1  Neutral F1  Positive F1\n",
            "Model\n",
            "Naive Bayes  0.720238  0.671115     0.129032    0.863388     0.655738\n",
            "Classification Report:\n",
            "              precision    recall  f1-score   support\n",
            "\n",
            "    Negative       1.00      0.07      0.13        29\n",
            "     Neutral       0.81      0.92      0.86        86\n",
            "    Positive       0.58      0.75      0.66        53\n",
            "\n",
            "    accuracy                           0.72       168\n",
            "   macro avg       0.80      0.58      0.55       168\n",
            "weighted avg       0.77      0.72      0.67       168\n",
            "\n"
          ]
        },
        {
          "output_type": "display_data",
          "data": {
            "text/plain": [
              "<Figure size 640x480 with 1 Axes>"
            ],
            "image/png": "[encoded data removed]"
          },
          "metadata": {}
        }
      ]
    },
    {
      "cell_type": "markdown",
      "source": [
        "# Evaluate different transformer models"
      ],
      "metadata": {
        "id": "oh9btmb8b3T7"
      }
    },
    {
      "cell_type": "markdown",
      "source": [
        "\n",
        "The `NewsClassifier` class is for evaluating multiple models on a news classification task. Its primary purpose is to streamline the process of model evaluation, providing quantitative and visual feedback on the performance of each model.\n",
        "\n",
        "### Attributes\n",
        "\n",
        "- `test_set`: This is the test dataset used for evaluating the models. It's expected to include 'sentence' and 'label' columns.\n",
        "\n",
        "- `models`: A dictionary of models to be evaluated. The keys are the model names and the values are the model checkpoint paths.\n",
        "\n",
        "- `target_names`: A list of class names that correspond to the labels in the 'label' column of the test dataset.\n",
        "\n",
        "- `num_examples` (optional): The number of examples to use from the test set for evaluation. The default is 100.\n",
        "\n",
        "- `seed_value` (optional): The seed value for random operations in numpy and torch. This ensures reproducibility. The default is 0.\n",
        "\n",
        "### Methods\n",
        "\n",
        "- `set_seed(seed_value=42)`: A static method that sets the seed for numpy, torch, and cudnn to ensure the reproducibility of results.\n",
        "\n",
        "- `evaluate_models(num_columns=3, figsize=(15, 10))`: This method evaluates all the models on the test set and provides a summary of the results. This includes the accuracy, F1 score, and a confusion matrix for each model. The results are also plotted for visual comparison between models.\n",
        "\n",
        "### Usage\n",
        "\n",
        "This class is useful for comparing and selecting the best model for a given news classification task. It visualizes the performance of each model in a clear and concise manner, providing insights not only into the overall accuracy of the models but also into their performance on individual classes. This can help identify models that perform exceptionally well or poorly on specific classes, facilitating the selection of the most appropriate model for the task at hand."
      ],
      "metadata": {
        "id": "NhJIZnVsVI9E"
      }
    },
    {
      "cell_type": "code",
      "source": [
        "class NewsClassifier:\n",
        "    def __init__(self, test_set, models, target_names, num_examples=100, seed_value=0):\n",
        "        self.set_seed(seed_value)\n",
        "        self.test_set = test_set\n",
        "        self.models = models\n",
        "        self.target_names = target_names\n",
        "        self.num_examples = num_examples\n",
        "\n",
        "    @staticmethod\n",
        "    def set_seed(seed_value=42):\n",
        "        np.random.seed(seed_value)\n",
        "        torch.manual_seed(seed_value)\n",
        "        torch.cuda.manual_seed_all(seed_value)\n",
        "        torch.backends.cudnn.deterministic = True\n",
        "        torch.backends.cudnn.benchmark = False\n",
        "\n",
        "    def evaluate_models(self, num_columns=3, figsize=(15, 10)):\n",
        "        evaluation_results = []\n",
        "\n",
        "        num_models = len(self.models)\n",
        "        num_rows = (num_models + num_columns - 1) // num_columns\n",
        "\n",
        "        fig, axes = plt.subplots(num_rows, num_columns, figsize=figsize, sharey=True)\n",
        "        fig.subplots_adjust(wspace=0.5, hspace=0.5)\n",
        "        check = u'\\u2705'\n",
        "\n",
        "        for idx, (model_name, model_checkpoint) in enumerate(self.models.items()):\n",
        "            print(f\"{check} Evaluating {model_name}...\")\n",
        "\n",
        "            tokenizer = AutoTokenizer.from_pretrained(model_checkpoint)\n",
        "            model = AutoModelForSequenceClassification.from_pretrained(model_checkpoint, num_labels=3)\n",
        "\n",
        "            test_texts = self.test_set[\"sentence\"].tolist()[:self.num_examples]\n",
        "            test_true_labels = self.test_set[\"label\"].tolist()[:self.num_examples]\n",
        "\n",
        "            test_inputs = tokenizer(test_texts, return_tensors=\"pt\", padding=True, truncation=True)\n",
        "            with torch.no_grad():\n",
        "                logits = model(**test_inputs).logits\n",
        "            test_pred_labels = np.argmax(logits.numpy(), axis=1)\n",
        "\n",
        "            accuracy = accuracy_score(test_true_labels, test_pred_labels)\n",
        "            f1 = f1_score(test_true_labels, test_pred_labels, average='weighted')\n",
        "            report = classification_report(test_true_labels, test_pred_labels, target_names=self.target_names, output_dict=True, digits=4)\n",
        "\n",
        "            evaluation_results.append({\n",
        "                \"Model\": model_name,\n",
        "                \"Accuracy\": accuracy,\n",
        "                \"F1 Score\": f1,\n",
        "                \"Negative F1\": report[\"Negative\"][\"f1-score\"],\n",
        "                \"Neutral F1\": report[\"Neutral\"][\"f1-score\"],\n",
        "                \"Positive F1\": report[\"Positive\"][\"f1-score\"],\n",
        "            })\n",
        "\n",
        "            ax = axes[idx // num_columns, idx % num_columns]\n",
        "            conf_matrix = confusion_matrix(test_true_labels, test_pred_labels)\n",
        "            im = ax.imshow(conf_matrix, interpolation='nearest', cmap=plt.cm.Blues)\n",
        "            ax.set_title(f\"{model_name}\\nAccuracy: {accuracy:.4f}\\nF1 Score: {f1:.4f}\")\n",
        "            tick_marks = np.arange(3)\n",
        "            ax.set_xticks(tick_marks)\n",
        "            ax.set_yticks(tick_marks)\n",
        "            ax.set_xticklabels(self.target_names)\n",
        "            ax.set_yticklabels(self.target_names)\n",
        "\n",
        "            # Display F1 scores in the confusion matrix\n",
        "            for i in range(conf_matrix.shape[0]):\n",
        "                for j in range(conf_matrix.shape[1]):\n",
        "                    text_color = \"white\" if conf_matrix[i, j] > conf_matrix.max() / 2 else \"black\"\n",
        "                    ax.text(j, i, f\"{conf_matrix[i, j]}\\n({report[self.target_names[i]]['f1-score']:.4f})\",\n",
        "                            ha=\"center\", va=\"center\", color=text_color, fontsize=10)\n",
        "          \n",
        "        for idx in range(num_models, num_rows * num_columns):\n",
        "            axes[idx // num_columns, idx % num_columns].axis(\"off\")\n",
        "\n",
        "        evaluation_df = pd.DataFrame(evaluation_results)\n",
        "        evaluation_df.set_index(\"Model\", inplace=True)\n",
        "\n",
        "        print(evaluation_df)\n",
        "        plt.show()\n",
        "        return evaluation_df\n"
      ],
      "metadata": {
        "id": "Dy0GKtKwjP6l"
      },
      "execution_count": 70,
      "outputs": []
    },
    {
      "cell_type": "code",
      "source": [
        "models = {\n",
        "    \"BERT\": \"bert-base-uncased\",\n",
        "    \"RoBERTa\": \"roberta-base\",\n",
        "    \"DistilBERT\": \"distilbert-base-uncased\",\n",
        "    \"DeBERTa\": \"microsoft/deberta-base\",\n",
        "    \"ALBERT\": \"albert-base-v2\",\n",
        "    \"ELECTRA\": \"google/electra-base-discriminator\",\n",
        "}\n",
        "\n",
        "financial_target_names = ['Negative', 'Neutral', 'Positive']\n",
        "\n",
        "news_classifier_params = {\n",
        "    'test_set': test_df,\n",
        "    'models': models,\n",
        "    'target_names': financial_target_names,\n",
        "    'num_examples': 100,\n",
        "    'seed_value': 0\n",
        "}\n",
        "\n",
        "financial_classifier = NewsClassifier(**news_classifier_params)\n",
        "\n",
        "evaluation_df_financial_phrasebank_before = financial_classifier.evaluate_models(num_columns=3, figsize=(15, 10))"
      ],
      "metadata": {
        "colab": {
          "base_uri": "https://localhost:8080/",
          "height": 1000
        },
        "id": "44a6BpcoyVZB",
        "outputId": "46d11f53-586f-4839-b37d-2405ae5355a8"
      },
      "execution_count": 71,
      "outputs": [
        {
          "output_type": "stream",
          "name": "stdout",
          "text": [
            "✅ Evaluating BERT...\n",
            "✅ Evaluating RoBERTa...\n",
            "✅ Evaluating DistilBERT...\n",
            "✅ Evaluating DeBERTa...\n",
            "✅ Evaluating ALBERT...\n",
            "✅ Evaluating ELECTRA...\n",
            "            Accuracy  F1 Score  Negative F1  Neutral F1  Positive F1\n",
            "Model\n",
            "BERT            0.55  0.512865     0.000000    0.623853     0.538462\n",
            "RoBERTa         0.52  0.355789     0.000000    0.684211     0.000000\n",
            "DistilBERT      0.13  0.029912     0.230088    0.000000     0.000000\n",
            "DeBERTa         0.35  0.181481     0.000000    0.000000     0.518519\n",
            "ALBERT          0.32  0.190609     0.173913    0.000000     0.480000\n",
            "ELECTRA         0.23  0.207854     0.168675    0.037037     0.476190\n"
          ]
        },
        {
          "output_type": "display_data",
          "data": {
            "text/plain": [
              "<Figure size 1500x1000 with 6 Axes>"
            ],
            "image/png": "[encoded data removed]"
          },
          "metadata": {}
        }
      ]
    },
    {
      "cell_type": "code",
      "source": [
        "# Create the TfidfVectorizer and MultinomialNB pipeline\n",
        "nb_pipeline = make_pipeline(TfidfVectorizer(), MultinomialNB())\n",
        "\n",
        "# Train the model\n",
        "nb_pipeline.fit(train_df[\"sentence\"], train_df[\"label\"])\n",
        "\n",
        "# Make predictions on the test dataset\n",
        "test_predictions = nb_pipeline.predict(test_df[\"sentence\"])\n"
      ],
      "metadata": {
        "id": "gfYrDosMhGHv"
      },
      "execution_count": 72,
      "outputs": []
    },
    {
      "cell_type": "markdown",
      "source": [
        "## Prepare data"
      ],
      "metadata": {
        "id": "T3uYKoKiLAEi"
      }
    },
    {
      "cell_type": "code",
      "source": [
        "# Define the Financial Phrasebank dataset class\n",
        "class FinancialPhrasebankDataset(Dataset):\n",
        "    \"\"\"\n",
        "    This class allows to transform text data into a format that is suitable for \n",
        "    training transformer-based models, such as BERT.\n",
        "    It inherits from PyTorch's Dataset class, making it compatible with PyTorch's \n",
        "    DataLoader for efficient data loading.\n",
        "\n",
        "    Attributes:\n",
        "    data : DataFrame\n",
        "    The dataset containing sentences and their corresponding labels.\n",
        "    tokenizer : transformers.PreTrainedTokenizer\n",
        "    The tokenizer corresponding to the transformer model to be used.\n",
        "    It will be used to convert text into tokens that the model can understand.\n",
        "    max_length : int\n",
        "    The maximum length of the sequences. Longer sequences will be truncated, and shorter ones will be padded.\n",
        "\n",
        "    Methods:\n",
        "    len()\n",
        "    Returns the number of examples in the dataset.\n",
        "    getitem(index)\n",
        "    Transforms the sentence at the given index in the dataset into a format suitable for transformer models.\n",
        "    It returns a dictionary containing the input_ids, attention_mask, and the label for the given sentence.\n",
        "    \n",
        "    \"\"\"\n",
        "    def __init__(self, data, tokenizer, max_length):\n",
        "        self.data = data\n",
        "        self.tokenizer = tokenizer\n",
        "        self.max_length = max_length\n",
        "\n",
        "    def __len__(self):\n",
        "        return len(self.data)\n",
        "\n",
        "    def __getitem__(self, index):\n",
        "        text = self.data.iloc[index]['sentence']\n",
        "        label = self.data.iloc[index]['label']\n",
        "        encoding = self.tokenizer.encode_plus(\n",
        "            text,\n",
        "            add_special_tokens=True,\n",
        "            max_length=self.max_length,\n",
        "            padding='max_length',\n",
        "            truncation=True,\n",
        "            return_attention_mask=True,\n",
        "            return_tensors='pt'\n",
        "        )\n",
        "        return {\n",
        "            'input_ids': encoding['input_ids'].flatten(),\n",
        "            'attention_mask': encoding['attention_mask'].flatten(),\n",
        "            'labels': torch.tensor(label, dtype=torch.long)\n",
        "        }"
      ],
      "metadata": {
        "id": "jOx2WvnG47PB"
      },
      "execution_count": 73,
      "outputs": []
    },
    {
      "cell_type": "markdown",
      "source": [
        "## Fine-tune RoBERTa"
      ],
      "metadata": {
        "id": "R4Csv1FGVga3"
      }
    },
    {
      "cell_type": "markdown",
      "source": [
        "In this section of the Jupyter notebook, we are setting up a pipeline for training a text classification model using the RoBERTa model from Hugging Face's transformers library. The task is to perform sentiment analysis on financial texts.\n",
        "\n",
        "First, we load the RoBERTa tokenizer and model. We are using the `roberta-base` version of the model, which is a smaller and faster variant that still delivers good results. The model is a sequence classification model, which is suitable for our task of text classification. We set the number of labels to 3, indicating that we are dealing with a three-class classification problem.\n",
        "\n",
        "Next, we define the maximum sequence length and batch size. The sequence length is the maximum number of tokens that the model can handle, and the batch size is the number of examples to process at once during training. These are hyperparameters that can be tuned to optimize performance.\n",
        "\n",
        "We then create Dataset objects for the training, validation, and test sets using the FinancialPhrasebankDataset class we defined earlier. These Dataset objects will be used to feed data into the model during training and evaluation.\n",
        "\n",
        "The EarlyStoppingCallback is set up to monitor the validation loss during training and stop the training process if it doesn't see significant improvement for 10 consecutive epochs. This helps to prevent overfitting.\n",
        "\n",
        "The TrainingArguments class is used to set various parameters for the training process, such as the number of epochs, the learning rate, and the batch size. We also specify that we want to save the model that achieves the best performance on the validation set.\n",
        "\n",
        "Finally, we initialize a Trainer object with our model, the training arguments, the training and validation datasets, and the compute_metrics function for evaluating performance during training. We also add the early stopping callback to the Trainer. The Trainer is then used to train the model. After training, the model that achieved the best performance on the validation set is loaded, ready for evaluation on the test set."
      ],
      "metadata": {
        "id": "Dof74_FSgaMV"
      }
    },
    {
      "cell_type": "code",
      "source": [
        "# Load the RoBERTa tokenizer\n",
        "tokenizer = RobertaTokenizer.from_pretrained('roberta-base')\n",
        "\n",
        "# Define the RoBERTa model with `ignore_mismatched_sizes=True`\n",
        "model = RobertaForSequenceClassification.from_pretrained('roberta-base', num_labels=3, ignore_mismatched_sizes=True)"
      ],
      "metadata": {
        "id": "IZLUd8RjOmuE"
      },
      "execution_count": 74,
      "outputs": []
    },
    {
      "cell_type": "code",
      "source": [
        "# Define the maximum sequence length and batch size\n",
        "max_length = 128\n",
        "batch_size = 16\n",
        "\n",
        "# Create the training, validation, and test datasets\n",
        "train_dataset = FinancialPhrasebankDataset(train_df, tokenizer, max_length)\n",
        "val_dataset = FinancialPhrasebankDataset(val_df, tokenizer, max_length)\n",
        "test_dataset = FinancialPhrasebankDataset(test_df, tokenizer, max_length)"
      ],
      "metadata": {
        "id": "QrM2gXGY4aLm"
      },
      "execution_count": 75,
      "outputs": []
    },
    {
      "cell_type": "code",
      "source": [
        "early_stopping_callback = EarlyStoppingCallback(\n",
        "    early_stopping_patience=10,  # Stop training if the metric doesn't improve for 10 epochs\n",
        "    early_stopping_threshold=2e-5,  # Minimum change in the monitored metric to be considered as an improvement\n",
        ")"
      ],
      "metadata": {
        "id": "xGSnIBv_MGCj"
      },
      "execution_count": 76,
      "outputs": []
    },
    {
      "cell_type": "code",
      "source": [
        "# Training arguments\n",
        "training_args = TrainingArguments(\n",
        "    output_dir=\"./results\",\n",
        "    overwrite_output_dir=True,\n",
        "    num_train_epochs=5,\n",
        "    per_device_train_batch_size=batch_size,\n",
        "    save_strategy=\"epoch\",  \n",
        "    save_total_limit=2,\n",
        "    evaluation_strategy=\"epoch\",\n",
        "    learning_rate=3e-5,\n",
        "    weight_decay=0.01,\n",
        "    logging_strategy=\"epoch\",\n",
        "    logging_steps=10,\n",
        "    load_best_model_at_end=True,  # Load the best model at the end of training\n",
        ")\n",
        "\n",
        "\n",
        "\n",
        "# Initialize the trainer with the compute_metrics function\n",
        "trainer = Trainer(\n",
        "    model=model,\n",
        "    args=training_args,\n",
        "    train_dataset=train_dataset,\n",
        "    eval_dataset=val_dataset,\n",
        "    compute_metrics=compute_metrics,  \n",
        "    callbacks=[early_stopping_callback]\n",
        ")\n",
        "\n",
        "# Train the model\n",
        "trainer.train()\n"
      ],
      "metadata": {
        "colab": {
          "base_uri": "https://localhost:8080/"
        },
        "id": "zddTAvMI4M5k",
        "outputId": "c558ce65-973b-4eba-c27d-cf3e216f67ba"
      },
      "execution_count": 77,
      "outputs": [
        {
          "output_type": "stream",
          "name": "stderr",
          "text": [
            "/usr/local/lib/python3.10/dist-packages/transformers/optimization.py:306: FutureWarning: This implementation of AdamW is deprecated and will be removed in a future version. Use the PyTorch implementation torch.optim.AdamW instead, or set `no_deprecation_warning=True` to disable this warning\n",
            "  warnings.warn(\n",
            "***** Running training *****\n",
            "  Num examples = 1254\n",
            "  Num Epochs = 5\n",
            "  Instantaneous batch size per device = 16\n",
            "  Total train batch size (w. parallel, distributed & accumulation) = 16\n",
            "  Gradient Accumulation steps = 1\n",
            "  Total optimization steps = 395\n",
            "  Number of trainable parameters = 124647939\n",
            "***** Running Evaluation *****\n",
            "  Num examples = 251\n",
            "  Batch size = 8\n"
          ]
        },
        {
          "output_type": "stream",
          "name": "stdout",
          "text": [
            "{'loss': 0.6087, 'learning_rate': 2.4e-05, 'epoch': 1.0}\n"
          ]
        },
        {
          "output_type": "stream",
          "name": "stderr",
          "text": [
            "Saving model checkpoint to ./results/checkpoint-79\n",
            "Configuration saved in ./results/checkpoint-79/config.json\n"
          ]
        },
        {
          "output_type": "stream",
          "name": "stdout",
          "text": [
            "{'eval_loss': 0.15329402685165405, 'eval_accuracy': 0.9561752988047809, 'eval_runtime': 2.1577, 'eval_samples_per_second': 116.326, 'eval_steps_per_second': 14.83, 'epoch': 1.0}\n"
          ]
        },
        {
          "output_type": "stream",
          "name": "stderr",
          "text": [
            "Model weights saved in ./results/checkpoint-79/pytorch_model.bin\n",
            "Deleting older checkpoint [results/checkpoint-237] due to args.save_total_limit\n",
            "***** Running Evaluation *****\n",
            "  Num examples = 251\n",
            "  Batch size = 8\n"
          ]
        },
        {
          "output_type": "stream",
          "name": "stdout",
          "text": [
            "{'loss': 0.1224, 'learning_rate': 1.8e-05, 'epoch': 2.0}\n"
          ]
        },
        {
          "output_type": "stream",
          "name": "stderr",
          "text": [
            "Saving model checkpoint to ./results/checkpoint-158\n",
            "Configuration saved in ./results/checkpoint-158/config.json\n"
          ]
        },
        {
          "output_type": "stream",
          "name": "stdout",
          "text": [
            "{'eval_loss': 0.23232971131801605, 'eval_accuracy': 0.952191235059761, 'eval_runtime': 2.051, 'eval_samples_per_second': 122.377, 'eval_steps_per_second': 15.602, 'epoch': 2.0}\n"
          ]
        },
        {
          "output_type": "stream",
          "name": "stderr",
          "text": [
            "Model weights saved in ./results/checkpoint-158/pytorch_model.bin\n",
            "Deleting older checkpoint [results/checkpoint-395] due to args.save_total_limit\n",
            "***** Running Evaluation *****\n",
            "  Num examples = 251\n",
            "  Batch size = 8\n"
          ]
        },
        {
          "output_type": "stream",
          "name": "stdout",
          "text": [
            "{'loss': 0.0584, 'learning_rate': 1.2e-05, 'epoch': 3.0}\n"
          ]
        },
        {
          "output_type": "stream",
          "name": "stderr",
          "text": [
            "Saving model checkpoint to ./results/checkpoint-237\n",
            "Configuration saved in ./results/checkpoint-237/config.json\n"
          ]
        },
        {
          "output_type": "stream",
          "name": "stdout",
          "text": [
            "{'eval_loss': 0.1561160683631897, 'eval_accuracy': 0.9641434262948207, 'eval_runtime': 2.0487, 'eval_samples_per_second': 122.518, 'eval_steps_per_second': 15.62, 'epoch': 3.0}\n"
          ]
        },
        {
          "output_type": "stream",
          "name": "stderr",
          "text": [
            "Model weights saved in ./results/checkpoint-237/pytorch_model.bin\n",
            "Deleting older checkpoint [results/checkpoint-158] due to args.save_total_limit\n",
            "***** Running Evaluation *****\n",
            "  Num examples = 251\n",
            "  Batch size = 8\n"
          ]
        },
        {
          "output_type": "stream",
          "name": "stdout",
          "text": [
            "{'loss': 0.0341, 'learning_rate': 6e-06, 'epoch': 4.0}\n"
          ]
        },
        {
          "output_type": "stream",
          "name": "stderr",
          "text": [
            "Saving model checkpoint to ./results/checkpoint-316\n",
            "Configuration saved in ./results/checkpoint-316/config.json\n"
          ]
        },
        {
          "output_type": "stream",
          "name": "stdout",
          "text": [
            "{'eval_loss': 0.14981137216091156, 'eval_accuracy': 0.9681274900398407, 'eval_runtime': 2.0298, 'eval_samples_per_second': 123.656, 'eval_steps_per_second': 15.765, 'epoch': 4.0}\n"
          ]
        },
        {
          "output_type": "stream",
          "name": "stderr",
          "text": [
            "Model weights saved in ./results/checkpoint-316/pytorch_model.bin\n",
            "Deleting older checkpoint [results/checkpoint-79] due to args.save_total_limit\n",
            "***** Running Evaluation *****\n",
            "  Num examples = 251\n",
            "  Batch size = 8\n"
          ]
        },
        {
          "output_type": "stream",
          "name": "stdout",
          "text": [
            "{'loss': 0.012, 'learning_rate': 0.0, 'epoch': 5.0}\n"
          ]
        },
        {
          "output_type": "stream",
          "name": "stderr",
          "text": [
            "Saving model checkpoint to ./results/checkpoint-395\n",
            "Configuration saved in ./results/checkpoint-395/config.json\n"
          ]
        },
        {
          "output_type": "stream",
          "name": "stdout",
          "text": [
            "{'eval_loss': 0.14422345161437988, 'eval_accuracy': 0.9721115537848606, 'eval_runtime': 2.0395, 'eval_samples_per_second': 123.071, 'eval_steps_per_second': 15.69, 'epoch': 5.0}\n"
          ]
        },
        {
          "output_type": "stream",
          "name": "stderr",
          "text": [
            "Model weights saved in ./results/checkpoint-395/pytorch_model.bin\n",
            "Deleting older checkpoint [results/checkpoint-237] due to args.save_total_limit\n",
            "\n",
            "\n",
            "Training completed. Do not forget to share your model on huggingface.co/models =)\n",
            "\n",
            "\n",
            "Loading best model from ./results/checkpoint-395 (score: 0.14422345161437988).\n"
          ]
        },
        {
          "output_type": "stream",
          "name": "stdout",
          "text": [
            "{'train_runtime': 184.1924, 'train_samples_per_second': 34.04, 'train_steps_per_second': 2.144, 'train_loss': 0.16711903282358676, 'epoch': 5.0}\n"
          ]
        },
        {
          "output_type": "execute_result",
          "data": {
            "text/plain": [
              "TrainOutput(global_step=395, training_loss=0.16711903282358676, metrics={'train_runtime': 184.1924, 'train_samples_per_second': 34.04, 'train_steps_per_second': 2.144, 'train_loss': 0.16711903282358676, 'epoch': 5.0})"
            ]
          },
          "metadata": {},
          "execution_count": 77
        }
      ]
    },
    {
      "cell_type": "markdown",
      "source": [
        "## Save fine-tuned model"
      ],
      "metadata": {
        "id": "gOp2G7daMM-o"
      }
    },
    {
      "cell_type": "code",
      "source": [
        "# Save the fine-tuned model\n",
        "model.save_pretrained(\"fine_tuned_roberta\")"
      ],
      "metadata": {
        "id": "xWM_PfPiLH8M",
        "colab": {
          "base_uri": "https://localhost:8080/"
        },
        "outputId": "a4cd19b2-26b7-428a-e329-f60476df8c85"
      },
      "execution_count": 78,
      "outputs": [
        {
          "output_type": "stream",
          "name": "stderr",
          "text": [
            "Configuration saved in fine_tuned_roberta/config.json\n",
            "Model weights saved in fine_tuned_roberta/pytorch_model.bin\n"
          ]
        }
      ]
    },
    {
      "cell_type": "markdown",
      "source": [
        "## Fine-tune ELECTRA"
      ],
      "metadata": {
        "id": "4Vh1K-OqN2EP"
      }
    },
    {
      "cell_type": "markdown",
      "source": [
        "In this section we fine-tune our `ELECTRA` model on the Financial Phrasebank, following the same appraoch as with our `RoBERTa` model. "
      ],
      "metadata": {
        "id": "e_pMmK-6VnpR"
      }
    },
    {
      "cell_type": "code",
      "source": [
        "# Empty cache\n",
        "torch.cuda.empty_cache()\n"
      ],
      "metadata": {
        "id": "Ukyjzg56ZzrG"
      },
      "execution_count": 79,
      "outputs": []
    },
    {
      "cell_type": "code",
      "source": [
        "# Load the ELECTRA tokenizer\n",
        "tokenizer = ElectraTokenizer.from_pretrained(\"google/electra-base-discriminator\")\n",
        "\n",
        "# Define the ELECTRA model\n",
        "model = ElectraForSequenceClassification.from_pretrained(\"google/electra-base-discriminator\", num_labels=3)\n"
      ],
      "metadata": {
        "id": "-dxLmOvZyxR-",
        "colab": {
          "base_uri": "https://localhost:8080/"
        },
        "outputId": "55671017-cbb3-4e31-d13c-505b76106954"
      },
      "execution_count": 80,
      "outputs": [
        {
          "output_type": "stream",
          "name": "stderr",
          "text": [
            "loading file vocab.txt from cache at /root/.cache/huggingface/hub/models--google--electra-base-discriminator/snapshots/1b48ef100dac4676d84125a8a7b7ab7c51e00386/vocab.txt\n",
            "loading file added_tokens.json from cache at None\n",
            "loading file special_tokens_map.json from cache at None\n",
            "loading file tokenizer_config.json from cache at /root/.cache/huggingface/hub/models--google--electra-base-discriminator/snapshots/1b48ef100dac4676d84125a8a7b7ab7c51e00386/tokenizer_config.json\n",
            "loading configuration file config.json from cache at /root/.cache/huggingface/hub/models--google--electra-base-discriminator/snapshots/1b48ef100dac4676d84125a8a7b7ab7c51e00386/config.json\n",
            "Model config ElectraConfig {\n",
            "  \"_name_or_path\": \"google/electra-base-discriminator\",\n",
            "  \"architectures\": [\n",
            "    \"ElectraForPreTraining\"\n",
            "  ],\n",
            "  \"attention_probs_dropout_prob\": 0.1,\n",
            "  \"classifier_dropout\": null,\n",
            "  \"embedding_size\": 768,\n",
            "  \"hidden_act\": \"gelu\",\n",
            "  \"hidden_dropout_prob\": 0.1,\n",
            "  \"hidden_size\": 768,\n",
            "  \"initializer_range\": 0.02,\n",
            "  \"intermediate_size\": 3072,\n",
            "  \"layer_norm_eps\": 1e-12,\n",
            "  \"max_position_embeddings\": 512,\n",
            "  \"model_type\": \"electra\",\n",
            "  \"num_attention_heads\": 12,\n",
            "  \"num_hidden_layers\": 12,\n",
            "  \"pad_token_id\": 0,\n",
            "  \"position_embedding_type\": \"absolute\",\n",
            "  \"summary_activation\": \"gelu\",\n",
            "  \"summary_last_dropout\": 0.1,\n",
            "  \"summary_type\": \"first\",\n",
            "  \"summary_use_proj\": true,\n",
            "  \"transformers_version\": \"4.26.1\",\n",
            "  \"type_vocab_size\": 2,\n",
            "  \"use_cache\": true,\n",
            "  \"vocab_size\": 30522\n",
            "}\n",
            "\n",
            "loading configuration file config.json from cache at /root/.cache/huggingface/hub/models--google--electra-base-discriminator/snapshots/1b48ef100dac4676d84125a8a7b7ab7c51e00386/config.json\n",
            "Model config ElectraConfig {\n",
            "  \"architectures\": [\n",
            "    \"ElectraForPreTraining\"\n",
            "  ],\n",
            "  \"attention_probs_dropout_prob\": 0.1,\n",
            "  \"classifier_dropout\": null,\n",
            "  \"embedding_size\": 768,\n",
            "  \"hidden_act\": \"gelu\",\n",
            "  \"hidden_dropout_prob\": 0.1,\n",
            "  \"hidden_size\": 768,\n",
            "  \"id2label\": {\n",
            "    \"0\": \"LABEL_0\",\n",
            "    \"1\": \"LABEL_1\",\n",
            "    \"2\": \"LABEL_2\"\n",
            "  },\n",
            "  \"initializer_range\": 0.02,\n",
            "  \"intermediate_size\": 3072,\n",
            "  \"label2id\": {\n",
            "    \"LABEL_0\": 0,\n",
            "    \"LABEL_1\": 1,\n",
            "    \"LABEL_2\": 2\n",
            "  },\n",
            "  \"layer_norm_eps\": 1e-12,\n",
            "  \"max_position_embeddings\": 512,\n",
            "  \"model_type\": \"electra\",\n",
            "  \"num_attention_heads\": 12,\n",
            "  \"num_hidden_layers\": 12,\n",
            "  \"pad_token_id\": 0,\n",
            "  \"position_embedding_type\": \"absolute\",\n",
            "  \"summary_activation\": \"gelu\",\n",
            "  \"summary_last_dropout\": 0.1,\n",
            "  \"summary_type\": \"first\",\n",
            "  \"summary_use_proj\": true,\n",
            "  \"transformers_version\": \"4.26.1\",\n",
            "  \"type_vocab_size\": 2,\n",
            "  \"use_cache\": true,\n",
            "  \"vocab_size\": 30522\n",
            "}\n",
            "\n",
            "loading weights file pytorch_model.bin from cache at /root/.cache/huggingface/hub/models--google--electra-base-discriminator/snapshots/1b48ef100dac4676d84125a8a7b7ab7c51e00386/pytorch_model.bin\n",
            "Some weights of the model checkpoint at google/electra-base-discriminator were not used when initializing ElectraForSequenceClassification: ['discriminator_predictions.dense_prediction.weight', 'discriminator_predictions.dense.weight', 'discriminator_predictions.dense.bias', 'discriminator_predictions.dense_prediction.bias']\n",
            "- This IS expected if you are initializing ElectraForSequenceClassification from the checkpoint of a model trained on another task or with another architecture (e.g. initializing a BertForSequenceClassification model from a BertForPreTraining model).\n",
            "- This IS NOT expected if you are initializing ElectraForSequenceClassification from the checkpoint of a model that you expect to be exactly identical (initializing a BertForSequenceClassification model from a BertForSequenceClassification model).\n",
            "Some weights of ElectraForSequenceClassification were not initialized from the model checkpoint at google/electra-base-discriminator and are newly initialized: ['classifier.out_proj.bias', 'classifier.dense.weight', 'classifier.dense.bias', 'classifier.out_proj.weight']\n",
            "You should probably TRAIN this model on a down-stream task to be able to use it for predictions and inference.\n"
          ]
        }
      ]
    },
    {
      "cell_type": "code",
      "source": [
        "# Define the maximum sequence length and batch size\n",
        "max_length = 128\n",
        "batch_size = 16\n",
        "\n",
        "# Create the training, validation, and test datasets\n",
        "train_dataset = FinancialPhrasebankDataset(train_df, tokenizer, max_length)\n",
        "val_dataset = FinancialPhrasebankDataset(val_df, tokenizer, max_length)\n",
        "test_dataset = FinancialPhrasebankDataset(test_df, tokenizer, max_length)"
      ],
      "metadata": {
        "id": "3HoPn56ddSeu"
      },
      "execution_count": 81,
      "outputs": []
    },
    {
      "cell_type": "code",
      "source": [
        "# Training arguments\n",
        "training_args = TrainingArguments(\n",
        "    output_dir=\"./results\",\n",
        "    overwrite_output_dir=True,\n",
        "    num_train_epochs=5,\n",
        "    per_device_train_batch_size=batch_size,\n",
        "    save_strategy=\"epoch\",  \n",
        "    save_total_limit=2,\n",
        "    evaluation_strategy=\"epoch\",\n",
        "    learning_rate=5e-5,\n",
        "    weight_decay=0.01,\n",
        "    logging_strategy=\"epoch\",\n",
        "    logging_steps=10,\n",
        "    load_best_model_at_end=True,  # Load the best model at the end of training\n",
        ")\n",
        "\n",
        "\n",
        "# Initialize the trainer with the compute_metrics function\n",
        "trainer = Trainer(\n",
        "    model=model,\n",
        "    args=training_args,\n",
        "    train_dataset=train_dataset,\n",
        "    eval_dataset=val_dataset,\n",
        "    compute_metrics=compute_metrics,  \n",
        "    callbacks=[early_stopping_callback]\n",
        ")\n",
        "\n",
        "\n",
        "# Train the model\n",
        "trainer.train()\n"
      ],
      "metadata": {
        "colab": {
          "base_uri": "https://localhost:8080/",
          "height": 1000
        },
        "id": "f-CVhGeC3Ss6",
        "outputId": "180f5f68-f827-4131-a28f-41b4a0bf1b45"
      },
      "execution_count": 82,
      "outputs": [
        {
          "output_type": "stream",
          "name": "stderr",
          "text": [
            "PyTorch: setting up devices\n",
            "The default value for the training argument `--report_to` will change in v5 (from all installed integrations to none). In v5, you will need to use `--report_to all` to get the same behavior as now. You should start updating your code and make this info disappear :-).\n",
            "/usr/local/lib/python3.10/dist-packages/transformers/optimization.py:306: FutureWarning: This implementation of AdamW is deprecated and will be removed in a future version. Use the PyTorch implementation torch.optim.AdamW instead, or set `no_deprecation_warning=True` to disable this warning\n",
            "  warnings.warn(\n",
            "***** Running training *****\n",
            "  Num examples = 1254\n",
            "  Num Epochs = 5\n",
            "  Instantaneous batch size per device = 16\n",
            "  Total train batch size (w. parallel, distributed & accumulation) = 16\n",
            "  Gradient Accumulation steps = 1\n",
            "  Total optimization steps = 395\n",
            "  Number of trainable parameters = 109484547\n"
          ]
        },
        {
          "output_type": "display_data",
          "data": {
            "text/plain": [
              "<IPython.core.display.HTML object>"
            ],
            "text/html": [
              "\n",
              "    <div>\n",
              "      \n",
              "      <progress value='395' max='395' style='width:300px; height:20px; vertical-align: middle;'></progress>\n",
              "      [395/395 02:57, Epoch 5/5]\n",
              "    </div>\n",
              "    <table border=\"1\" class=\"dataframe\">\n",
              "  <thead>\n",
              " <tr style=\"text-align: left;\">\n",
              "      <th>Epoch</th>\n",
              "      <th>Training Loss</th>\n",
              "      <th>Validation Loss</th>\n",
              "      <th>Accuracy</th>\n",
              "    </tr>\n",
              "  </thead>\n",
              "  <tbody>\n",
              "    <tr>\n",
              "      <td>1</td>\n",
              "      <td>0.552400</td>\n",
              "      <td>0.215294</td>\n",
              "      <td>0.948207</td>\n",
              "    </tr>\n",
              "    <tr>\n",
              "      <td>2</td>\n",
              "      <td>0.123500</td>\n",
              "      <td>0.257699</td>\n",
              "      <td>0.940239</td>\n",
              "    </tr>\n",
              "    <tr>\n",
              "      <td>3</td>\n",
              "      <td>0.049100</td>\n",
              "      <td>0.113062</td>\n",
              "      <td>0.976096</td>\n",
              "    </tr>\n",
              "    <tr>\n",
              "      <td>4</td>\n",
              "      <td>0.024000</td>\n",
              "      <td>0.189915</td>\n",
              "      <td>0.960159</td>\n",
              "    </tr>\n",
              "    <tr>\n",
              "      <td>5</td>\n",
              "      <td>0.022100</td>\n",
              "      <td>0.269889</td>\n",
              "      <td>0.948207</td>\n",
              "    </tr>\n",
              "  </tbody>\n",
              "</table><p>"
            ]
          },
          "metadata": {}
        },
        {
          "output_type": "stream",
          "name": "stderr",
          "text": [
            "***** Running Evaluation *****\n",
            "  Num examples = 251\n",
            "  Batch size = 8\n",
            "Saving model checkpoint to ./results/checkpoint-79\n",
            "Configuration saved in ./results/checkpoint-79/config.json\n",
            "Model weights saved in ./results/checkpoint-79/pytorch_model.bin\n",
            "Deleting older checkpoint [results/checkpoint-316] due to args.save_total_limit\n",
            "***** Running Evaluation *****\n",
            "  Num examples = 251\n",
            "  Batch size = 8\n",
            "Saving model checkpoint to ./results/checkpoint-158\n",
            "Configuration saved in ./results/checkpoint-158/config.json\n",
            "Model weights saved in ./results/checkpoint-158/pytorch_model.bin\n",
            "Deleting older checkpoint [results/checkpoint-395] due to args.save_total_limit\n",
            "***** Running Evaluation *****\n",
            "  Num examples = 251\n",
            "  Batch size = 8\n",
            "Saving model checkpoint to ./results/checkpoint-237\n",
            "Configuration saved in ./results/checkpoint-237/config.json\n",
            "Model weights saved in ./results/checkpoint-237/pytorch_model.bin\n",
            "Deleting older checkpoint [results/checkpoint-79] due to args.save_total_limit\n",
            "***** Running Evaluation *****\n",
            "  Num examples = 251\n",
            "  Batch size = 8\n",
            "Saving model checkpoint to ./results/checkpoint-316\n",
            "Configuration saved in ./results/checkpoint-316/config.json\n",
            "Model weights saved in ./results/checkpoint-316/pytorch_model.bin\n",
            "Deleting older checkpoint [results/checkpoint-158] due to args.save_total_limit\n",
            "***** Running Evaluation *****\n",
            "  Num examples = 251\n",
            "  Batch size = 8\n",
            "Saving model checkpoint to ./results/checkpoint-395\n",
            "Configuration saved in ./results/checkpoint-395/config.json\n",
            "Model weights saved in ./results/checkpoint-395/pytorch_model.bin\n",
            "Deleting older checkpoint [results/checkpoint-316] due to args.save_total_limit\n",
            "\n",
            "\n",
            "Training completed. Do not forget to share your model on huggingface.co/models =)\n",
            "\n",
            "\n",
            "Loading best model from ./results/checkpoint-237 (score: 0.11306212842464447).\n"
          ]
        },
        {
          "output_type": "execute_result",
          "data": {
            "text/plain": [
              "TrainOutput(global_step=395, training_loss=0.15422650530368467, metrics={'train_runtime': 177.5564, 'train_samples_per_second': 35.313, 'train_steps_per_second': 2.225, 'total_flos': 412430282288640.0, 'train_loss': 0.15422650530368467, 'epoch': 5.0})"
            ]
          },
          "metadata": {},
          "execution_count": 82
        }
      ]
    },
    {
      "cell_type": "code",
      "source": [
        "# Save the fine-tuned model\n",
        "model.save_pretrained(\"fine_tuned_electra\")"
      ],
      "metadata": {
        "id": "U2LzKTXc3VfS",
        "colab": {
          "base_uri": "https://localhost:8080/"
        },
        "outputId": "e600ecc5-4c68-4422-d4be-fa54ad095306"
      },
      "execution_count": 83,
      "outputs": [
        {
          "output_type": "stream",
          "name": "stderr",
          "text": [
            "Configuration saved in fine_tuned_electra/config.json\n",
            "Model weights saved in fine_tuned_electra/pytorch_model.bin\n"
          ]
        }
      ]
    },
    {
      "cell_type": "markdown",
      "source": [
        "## Evaluate fine-tuned models"
      ],
      "metadata": {
        "id": "MTXdnAM4MVQQ"
      }
    },
    {
      "cell_type": "code",
      "source": [
        "model = AutoModelForSequenceClassification.from_pretrained(\"fine_tuned_roberta\", num_labels=3)\n",
        "tokenizer = AutoTokenizer.from_pretrained('roberta-base')\n",
        "evaluation_df_financial_phrasebank_roberta = evaluate_model(\n",
        "    model, tokenizer, test_df, [\"Negative\", \"Neutral\", \"Positive\"], model_name=\"Fine-tuned RoBERTa\", is_dataframe=True)\n"
      ],
      "metadata": {
        "colab": {
          "base_uri": "https://localhost:8080/",
          "height": 1000
        },
        "id": "MsKJf3R5Mo0y",
        "outputId": "d5f10894-62e3-4e1d-9147-ffea6ae4a2f5"
      },
      "execution_count": 84,
      "outputs": [
        {
          "output_type": "stream",
          "name": "stderr",
          "text": [
            "loading configuration file fine_tuned_roberta/config.json\n",
            "Model config RobertaConfig {\n",
            "  \"_name_or_path\": \"fine_tuned_roberta\",\n",
            "  \"architectures\": [\n",
            "    \"RobertaForSequenceClassification\"\n",
            "  ],\n",
            "  \"attention_probs_dropout_prob\": 0.1,\n",
            "  \"bos_token_id\": 0,\n",
            "  \"classifier_dropout\": null,\n",
            "  \"eos_token_id\": 2,\n",
            "  \"hidden_act\": \"gelu\",\n",
            "  \"hidden_dropout_prob\": 0.1,\n",
            "  \"hidden_size\": 768,\n",
            "  \"id2label\": {\n",
            "    \"0\": \"LABEL_0\",\n",
            "    \"1\": \"LABEL_1\",\n",
            "    \"2\": \"LABEL_2\"\n",
            "  },\n",
            "  \"initializer_range\": 0.02,\n",
            "  \"intermediate_size\": 3072,\n",
            "  \"label2id\": {\n",
            "    \"LABEL_0\": 0,\n",
            "    \"LABEL_1\": 1,\n",
            "    \"LABEL_2\": 2\n",
            "  },\n",
            "  \"layer_norm_eps\": 1e-05,\n",
            "  \"max_position_embeddings\": 514,\n",
            "  \"model_type\": \"roberta\",\n",
            "  \"num_attention_heads\": 12,\n",
            "  \"num_hidden_layers\": 12,\n",
            "  \"pad_token_id\": 1,\n",
            "  \"position_embedding_type\": \"absolute\",\n",
            "  \"problem_type\": \"single_label_classification\",\n",
            "  \"torch_dtype\": \"float32\",\n",
            "  \"transformers_version\": \"4.26.1\",\n",
            "  \"type_vocab_size\": 1,\n",
            "  \"use_cache\": true,\n",
            "  \"vocab_size\": 50265\n",
            "}\n",
            "\n",
            "loading weights file fine_tuned_roberta/pytorch_model.bin\n",
            "All model checkpoint weights were used when initializing RobertaForSequenceClassification.\n",
            "\n",
            "All the weights of RobertaForSequenceClassification were initialized from the model checkpoint at fine_tuned_roberta.\n",
            "If your task is similar to the task the model of the checkpoint was trained on, you can already use RobertaForSequenceClassification for predictions without further training.\n",
            "Could not locate the tokenizer configuration file, will try to use the model config instead.\n",
            "loading configuration file config.json from cache at /root/.cache/huggingface/hub/models--roberta-base/snapshots/bc2764f8af2e92b6eb5679868df33e224075ca68/config.json\n",
            "Model config RobertaConfig {\n",
            "  \"_name_or_path\": \"roberta-base\",\n",
            "  \"architectures\": [\n",
            "    \"RobertaForMaskedLM\"\n",
            "  ],\n",
            "  \"attention_probs_dropout_prob\": 0.1,\n",
            "  \"bos_token_id\": 0,\n",
            "  \"classifier_dropout\": null,\n",
            "  \"eos_token_id\": 2,\n",
            "  \"hidden_act\": \"gelu\",\n",
            "  \"hidden_dropout_prob\": 0.1,\n",
            "  \"hidden_size\": 768,\n",
            "  \"initializer_range\": 0.02,\n",
            "  \"intermediate_size\": 3072,\n",
            "  \"layer_norm_eps\": 1e-05,\n",
            "  \"max_position_embeddings\": 514,\n",
            "  \"model_type\": \"roberta\",\n",
            "  \"num_attention_heads\": 12,\n",
            "  \"num_hidden_layers\": 12,\n",
            "  \"pad_token_id\": 1,\n",
            "  \"position_embedding_type\": \"absolute\",\n",
            "  \"transformers_version\": \"4.26.1\",\n",
            "  \"type_vocab_size\": 1,\n",
            "  \"use_cache\": true,\n",
            "  \"vocab_size\": 50265\n",
            "}\n",
            "\n",
            "loading file vocab.json from cache at /root/.cache/huggingface/hub/models--roberta-base/snapshots/bc2764f8af2e92b6eb5679868df33e224075ca68/vocab.json\n",
            "loading file merges.txt from cache at /root/.cache/huggingface/hub/models--roberta-base/snapshots/bc2764f8af2e92b6eb5679868df33e224075ca68/merges.txt\n",
            "loading file tokenizer.json from cache at /root/.cache/huggingface/hub/models--roberta-base/snapshots/bc2764f8af2e92b6eb5679868df33e224075ca68/tokenizer.json\n",
            "loading file added_tokens.json from cache at None\n",
            "loading file special_tokens_map.json from cache at None\n",
            "loading file tokenizer_config.json from cache at None\n",
            "loading configuration file config.json from cache at /root/.cache/huggingface/hub/models--roberta-base/snapshots/bc2764f8af2e92b6eb5679868df33e224075ca68/config.json\n",
            "Model config RobertaConfig {\n",
            "  \"_name_or_path\": \"roberta-base\",\n",
            "  \"architectures\": [\n",
            "    \"RobertaForMaskedLM\"\n",
            "  ],\n",
            "  \"attention_probs_dropout_prob\": 0.1,\n",
            "  \"bos_token_id\": 0,\n",
            "  \"classifier_dropout\": null,\n",
            "  \"eos_token_id\": 2,\n",
            "  \"hidden_act\": \"gelu\",\n",
            "  \"hidden_dropout_prob\": 0.1,\n",
            "  \"hidden_size\": 768,\n",
            "  \"initializer_range\": 0.02,\n",
            "  \"intermediate_size\": 3072,\n",
            "  \"layer_norm_eps\": 1e-05,\n",
            "  \"max_position_embeddings\": 514,\n",
            "  \"model_type\": \"roberta\",\n",
            "  \"num_attention_heads\": 12,\n",
            "  \"num_hidden_layers\": 12,\n",
            "  \"pad_token_id\": 1,\n",
            "  \"position_embedding_type\": \"absolute\",\n",
            "  \"transformers_version\": \"4.26.1\",\n",
            "  \"type_vocab_size\": 1,\n",
            "  \"use_cache\": true,\n",
            "  \"vocab_size\": 50265\n",
            "}\n",
            "\n"
          ]
        },
        {
          "output_type": "stream",
          "name": "stdout",
          "text": [
            "                    Accuracy  F1 Score  Negative F1  Neutral F1\n",
            "Positive F1\n",
            "Model\n",
            "Fine-tuned RoBERTa  0.982143  0.982207     0.983051    0.988235\n",
            "0.971963\n",
            "Classification Report:\n",
            "              precision    recall  f1-score   support\n",
            "\n",
            "    Negative     0.9667    1.0000    0.9831        29\n",
            "     Neutral     1.0000    0.9767    0.9882        86\n",
            "    Positive     0.9630    0.9811    0.9720        53\n",
            "\n",
            "    accuracy                         0.9821       168\n",
            "   macro avg     0.9765    0.9860    0.9811       168\n",
            "weighted avg     0.9826    0.9821    0.9822       168\n",
            "\n"
          ]
        },
        {
          "output_type": "display_data",
          "data": {
            "text/plain": [
              "<Figure size 640x480 with 1 Axes>"
            ],
            "image/png": "[encoded data removed]"
          },
          "metadata": {}
        }
      ]
    },
    {
      "cell_type": "code",
      "source": [
        "model = AutoModelForSequenceClassification.from_pretrained(\"fine_tuned_electra\", num_labels=3)\n",
        "tokenizer = AutoTokenizer.from_pretrained('google/electra-base-discriminator')\n",
        "evaluation_df_financial_phrasebank_electra = evaluate_model(\n",
        "    model, tokenizer, test_df, [\"Negative\", \"Neutral\", \"Positive\"], model_name=\"Fine-tuned ELECTRA\", is_dataframe=True)"
      ],
      "metadata": {
        "colab": {
          "base_uri": "https://localhost:8080/",
          "height": 1000
        },
        "id": "WXMVYK_oeXfy",
        "outputId": "6c36cbfe-1e45-4acb-9b4f-5d0fefccda70"
      },
      "execution_count": 85,
      "outputs": [
        {
          "output_type": "stream",
          "name": "stderr",
          "text": [
            "loading configuration file fine_tuned_electra/config.json\n",
            "Model config ElectraConfig {\n",
            "  \"_name_or_path\": \"fine_tuned_electra\",\n",
            "  \"architectures\": [\n",
            "    \"ElectraForSequenceClassification\"\n",
            "  ],\n",
            "  \"attention_probs_dropout_prob\": 0.1,\n",
            "  \"classifier_dropout\": null,\n",
            "  \"embedding_size\": 768,\n",
            "  \"hidden_act\": \"gelu\",\n",
            "  \"hidden_dropout_prob\": 0.1,\n",
            "  \"hidden_size\": 768,\n",
            "  \"id2label\": {\n",
            "    \"0\": \"LABEL_0\",\n",
            "    \"1\": \"LABEL_1\",\n",
            "    \"2\": \"LABEL_2\"\n",
            "  },\n",
            "  \"initializer_range\": 0.02,\n",
            "  \"intermediate_size\": 3072,\n",
            "  \"label2id\": {\n",
            "    \"LABEL_0\": 0,\n",
            "    \"LABEL_1\": 1,\n",
            "    \"LABEL_2\": 2\n",
            "  },\n",
            "  \"layer_norm_eps\": 1e-12,\n",
            "  \"max_position_embeddings\": 512,\n",
            "  \"model_type\": \"electra\",\n",
            "  \"num_attention_heads\": 12,\n",
            "  \"num_hidden_layers\": 12,\n",
            "  \"pad_token_id\": 0,\n",
            "  \"position_embedding_type\": \"absolute\",\n",
            "  \"problem_type\": \"single_label_classification\",\n",
            "  \"summary_activation\": \"gelu\",\n",
            "  \"summary_last_dropout\": 0.1,\n",
            "  \"summary_type\": \"first\",\n",
            "  \"summary_use_proj\": true,\n",
            "  \"torch_dtype\": \"float32\",\n",
            "  \"transformers_version\": \"4.26.1\",\n",
            "  \"type_vocab_size\": 2,\n",
            "  \"use_cache\": true,\n",
            "  \"vocab_size\": 30522\n",
            "}\n",
            "\n",
            "loading weights file fine_tuned_electra/pytorch_model.bin\n",
            "All model checkpoint weights were used when initializing ElectraForSequenceClassification.\n",
            "\n",
            "All the weights of ElectraForSequenceClassification were initialized from the model checkpoint at fine_tuned_electra.\n",
            "If your task is similar to the task the model of the checkpoint was trained on, you can already use ElectraForSequenceClassification for predictions without further training.\n",
            "loading configuration file config.json from cache at /root/.cache/huggingface/hub/models--google--electra-base-discriminator/snapshots/1b48ef100dac4676d84125a8a7b7ab7c51e00386/config.json\n",
            "Model config ElectraConfig {\n",
            "  \"_name_or_path\": \"google/electra-base-discriminator\",\n",
            "  \"architectures\": [\n",
            "    \"ElectraForPreTraining\"\n",
            "  ],\n",
            "  \"attention_probs_dropout_prob\": 0.1,\n",
            "  \"classifier_dropout\": null,\n",
            "  \"embedding_size\": 768,\n",
            "  \"hidden_act\": \"gelu\",\n",
            "  \"hidden_dropout_prob\": 0.1,\n",
            "  \"hidden_size\": 768,\n",
            "  \"initializer_range\": 0.02,\n",
            "  \"intermediate_size\": 3072,\n",
            "  \"layer_norm_eps\": 1e-12,\n",
            "  \"max_position_embeddings\": 512,\n",
            "  \"model_type\": \"electra\",\n",
            "  \"num_attention_heads\": 12,\n",
            "  \"num_hidden_layers\": 12,\n",
            "  \"pad_token_id\": 0,\n",
            "  \"position_embedding_type\": \"absolute\",\n",
            "  \"summary_activation\": \"gelu\",\n",
            "  \"summary_last_dropout\": 0.1,\n",
            "  \"summary_type\": \"first\",\n",
            "  \"summary_use_proj\": true,\n",
            "  \"transformers_version\": \"4.26.1\",\n",
            "  \"type_vocab_size\": 2,\n",
            "  \"use_cache\": true,\n",
            "  \"vocab_size\": 30522\n",
            "}\n",
            "\n",
            "loading file vocab.txt from cache at /root/.cache/huggingface/hub/models--google--electra-base-discriminator/snapshots/1b48ef100dac4676d84125a8a7b7ab7c51e00386/vocab.txt\n",
            "loading file tokenizer.json from cache at /root/.cache/huggingface/hub/models--google--electra-base-discriminator/snapshots/1b48ef100dac4676d84125a8a7b7ab7c51e00386/tokenizer.json\n",
            "loading file added_tokens.json from cache at None\n",
            "loading file special_tokens_map.json from cache at None\n",
            "loading file tokenizer_config.json from cache at /root/.cache/huggingface/hub/models--google--electra-base-discriminator/snapshots/1b48ef100dac4676d84125a8a7b7ab7c51e00386/tokenizer_config.json\n",
            "loading configuration file config.json from cache at /root/.cache/huggingface/hub/models--google--electra-base-discriminator/snapshots/1b48ef100dac4676d84125a8a7b7ab7c51e00386/config.json\n",
            "Model config ElectraConfig {\n",
            "  \"_name_or_path\": \"google/electra-base-discriminator\",\n",
            "  \"architectures\": [\n",
            "    \"ElectraForPreTraining\"\n",
            "  ],\n",
            "  \"attention_probs_dropout_prob\": 0.1,\n",
            "  \"classifier_dropout\": null,\n",
            "  \"embedding_size\": 768,\n",
            "  \"hidden_act\": \"gelu\",\n",
            "  \"hidden_dropout_prob\": 0.1,\n",
            "  \"hidden_size\": 768,\n",
            "  \"initializer_range\": 0.02,\n",
            "  \"intermediate_size\": 3072,\n",
            "  \"layer_norm_eps\": 1e-12,\n",
            "  \"max_position_embeddings\": 512,\n",
            "  \"model_type\": \"electra\",\n",
            "  \"num_attention_heads\": 12,\n",
            "  \"num_hidden_layers\": 12,\n",
            "  \"pad_token_id\": 0,\n",
            "  \"position_embedding_type\": \"absolute\",\n",
            "  \"summary_activation\": \"gelu\",\n",
            "  \"summary_last_dropout\": 0.1,\n",
            "  \"summary_type\": \"first\",\n",
            "  \"summary_use_proj\": true,\n",
            "  \"transformers_version\": \"4.26.1\",\n",
            "  \"type_vocab_size\": 2,\n",
            "  \"use_cache\": true,\n",
            "  \"vocab_size\": 30522\n",
            "}\n",
            "\n"
          ]
        },
        {
          "output_type": "stream",
          "name": "stdout",
          "text": [
            "                    Accuracy  F1 Score  Negative F1  Neutral F1\n",
            "Positive F1\n",
            "Model\n",
            "Fine-tuned ELECTRA  0.988095  0.988095     0.965517         1.0\n",
            "0.981132\n",
            "Classification Report:\n",
            "              precision    recall  f1-score   support\n",
            "\n",
            "    Negative     0.9655    0.9655    0.9655        29\n",
            "     Neutral     1.0000    1.0000    1.0000        86\n",
            "    Positive     0.9811    0.9811    0.9811        53\n",
            "\n",
            "    accuracy                         0.9881       168\n",
            "   macro avg     0.9822    0.9822    0.9822       168\n",
            "weighted avg     0.9881    0.9881    0.9881       168\n",
            "\n"
          ]
        },
        {
          "output_type": "display_data",
          "data": {
            "text/plain": [
              "<Figure size 640x480 with 1 Axes>"
            ],
            "image/png": "[encoded data removed]"
          },
          "metadata": {}
        }
      ]
    },
    {
      "cell_type": "markdown",
      "source": [
        "## Concat dataframes for evaluation"
      ],
      "metadata": {
        "id": "cjsWjLQE892N"
      }
    },
    {
      "cell_type": "code",
      "source": [
        "evaluation_df_financial_phrasebank_all = evaluation_df_financial_phrasebank_before.append(evaluation_df_financial_phrasebank_roberta) \n",
        "evaluation_df_financial_phrasebank_all = evaluation_df_financial_phrasebank_all.append(evaluation_df_financial_phrasebank_electra)\n",
        "evaluation_df_financial_phrasebank_all = evaluation_df_financial_phrasebank_all.append(evaluation_df_bayes)\n",
        "evaluation_df_financial_phrasebank_all"
      ],
      "metadata": {
        "colab": {
          "base_uri": "https://localhost:8080/",
          "height": 487
        },
        "id": "SzOASsoe6pIK",
        "outputId": "0a9ee239-cc18-4d38-f6b8-0d40ec57fdd0"
      },
      "execution_count": 86,
      "outputs": [
        {
          "output_type": "stream",
          "name": "stderr",
          "text": [
            "<ipython-input-86-066f453a892c>:1: FutureWarning: The frame.append method is deprecated and will be removed from pandas in a future version. Use pandas.concat instead.\n",
            "  evaluation_df_financial_phrasebank_all = evaluation_df_financial_phrasebank_before.append(evaluation_df_financial_phrasebank_roberta)\n",
            "<ipython-input-86-066f453a892c>:2: FutureWarning: The frame.append method is deprecated and will be removed from pandas in a future version. Use pandas.concat instead.\n",
            "  evaluation_df_financial_phrasebank_all = evaluation_df_financial_phrasebank_all.append(evaluation_df_financial_phrasebank_electra)\n",
            "<ipython-input-86-066f453a892c>:3: FutureWarning: The frame.append method is deprecated and will be removed from pandas in a future version. Use pandas.concat instead.\n",
            "  evaluation_df_financial_phrasebank_all = evaluation_df_financial_phrasebank_all.append(evaluation_df_bayes)\n"
          ]
        },
        {
          "output_type": "execute_result",
          "data": {
            "text/plain": [
              "                    Accuracy  F1 Score  Negative F1  Neutral F1  Positive F1\n",
              "Model                                                                       \n",
              "BERT                0.550000  0.512865     0.000000    0.623853     0.538462\n",
              "RoBERTa             0.520000  0.355789     0.000000    0.684211     0.000000\n",
              "DistilBERT          0.130000  0.029912     0.230088    0.000000     0.000000\n",
              "DeBERTa             0.350000  0.181481     0.000000    0.000000     0.518519\n",
              "ALBERT              0.320000  0.190609     0.173913    0.000000     0.480000\n",
              "ELECTRA             0.230000  0.207854     0.168675    0.037037     0.476190\n",
              "Fine-tuned RoBERTa  0.982143  0.982207     0.983051    0.988235     0.971963\n",
              "Fine-tuned ELECTRA  0.988095  0.988095     0.965517    1.000000     0.981132\n",
              "Naive Bayes         0.720238  0.671115     0.129032    0.863388     0.655738"
            ],
            "text/html": [
              "\n",
              "  <div id=\"df-3d4efb37-073f-494d-9434-da61eaa335a9\">\n",
              "    <div class=\"colab-df-container\">\n",
              "      <div>\n",
              "<style scoped>\n",
              "    .dataframe tbody tr th:only-of-type {\n",
              "        vertical-align: middle;\n",
              "    }\n",
              "\n",
              "    .dataframe tbody tr th {\n",
              "        vertical-align: top;\n",
              "    }\n",
              "\n",
              "    .dataframe thead th {\n",
              "        text-align: right;\n",
              "    }\n",
              "</style>\n",
              "<table border=\"1\" class=\"dataframe\">\n",
              "  <thead>\n",
              "    <tr style=\"text-align: right;\">\n",
              "      <th></th>\n",
              "      <th>Accuracy</th>\n",
              "      <th>F1 Score</th>\n",
              "      <th>Negative F1</th>\n",
              "      <th>Neutral F1</th>\n",
              "      <th>Positive F1</th>\n",
              "    </tr>\n",
              "    <tr>\n",
              "      <th>Model</th>\n",
              "      <th></th>\n",
              "      <th></th>\n",
              "      <th></th>\n",
              "      <th></th>\n",
              "      <th></th>\n",
              "    </tr>\n",
              "  </thead>\n",
              "  <tbody>\n",
              "    <tr>\n",
              "      <th>BERT</th>\n",
              "      <td>0.550000</td>\n",
              "      <td>0.512865</td>\n",
              "      <td>0.000000</td>\n",
              "      <td>0.623853</td>\n",
              "      <td>0.538462</td>\n",
              "    </tr>\n",
              "    <tr>\n",
              "      <th>RoBERTa</th>\n",
              "      <td>0.520000</td>\n",
              "      <td>0.355789</td>\n",
              "      <td>0.000000</td>\n",
              "      <td>0.684211</td>\n",
              "      <td>0.000000</td>\n",
              "    </tr>\n",
              "    <tr>\n",
              "      <th>DistilBERT</th>\n",
              "      <td>0.130000</td>\n",
              "      <td>0.029912</td>\n",
              "      <td>0.230088</td>\n",
              "      <td>0.000000</td>\n",
              "      <td>0.000000</td>\n",
              "    </tr>\n",
              "    <tr>\n",
              "      <th>DeBERTa</th>\n",
              "      <td>0.350000</td>\n",
              "      <td>0.181481</td>\n",
              "      <td>0.000000</td>\n",
              "      <td>0.000000</td>\n",
              "      <td>0.518519</td>\n",
              "    </tr>\n",
              "    <tr>\n",
              "      <th>ALBERT</th>\n",
              "      <td>0.320000</td>\n",
              "      <td>0.190609</td>\n",
              "      <td>0.173913</td>\n",
              "      <td>0.000000</td>\n",
              "      <td>0.480000</td>\n",
              "    </tr>\n",
              "    <tr>\n",
              "      <th>ELECTRA</th>\n",
              "      <td>0.230000</td>\n",
              "      <td>0.207854</td>\n",
              "      <td>0.168675</td>\n",
              "      <td>0.037037</td>\n",
              "      <td>0.476190</td>\n",
              "    </tr>\n",
              "    <tr>\n",
              "      <th>Fine-tuned RoBERTa</th>\n",
              "      <td>0.982143</td>\n",
              "      <td>0.982207</td>\n",
              "      <td>0.983051</td>\n",
              "      <td>0.988235</td>\n",
              "      <td>0.971963</td>\n",
              "    </tr>\n",
              "    <tr>\n",
              "      <th>Fine-tuned ELECTRA</th>\n",
              "      <td>0.988095</td>\n",
              "      <td>0.988095</td>\n",
              "      <td>0.965517</td>\n",
              "      <td>1.000000</td>\n",
              "      <td>0.981132</td>\n",
              "    </tr>\n",
              "    <tr>\n",
              "      <th>Naive Bayes</th>\n",
              "      <td>0.720238</td>\n",
              "      <td>0.671115</td>\n",
              "      <td>0.129032</td>\n",
              "      <td>0.863388</td>\n",
              "      <td>0.655738</td>\n",
              "    </tr>\n",
              "  </tbody>\n",
              "</table>\n",
              "</div>\n",
              "      <button class=\"colab-df-convert\" onclick=\"convertToInteractive('df-3d4efb37-073f-494d-9434-da61eaa335a9')\"\n",
              "              title=\"Convert this dataframe to an interactive table.\"\n",
              "              style=\"display:none;\">\n",
              "        \n",
              "  <svg xmlns=\"http://www.w3.org/2000/svg\" height=\"24px\"viewBox=\"0 0 24 24\"\n",
              "       width=\"24px\">\n",
              "    <path d=\"M0 0h24v24H0V0z\" fill=\"none\"/>\n",
              "    <path d=\"M18.56 5.44l.94 2.06.94-2.06 2.06-.94-2.06-.94-.94-2.06-.94 2.06-2.06.94zm-11 1L8.5 8.5l.94-2.06 2.06-.94-2.06-.94L8.5 2.5l-.94 2.06-2.06.94zm10 10l.94 2.06.94-2.06 2.06-.94-2.06-.94-.94-2.06-.94 2.06-2.06.94z\"/><path d=\"M17.41 7.96l-1.37-1.37c-.4-.4-.92-.59-1.43-.59-.52 0-1.04.2-1.43.59L10.3 9.45l-7.72 7.72c-.78.78-.78 2.05 0 2.83L4 21.41c.39.39.9.59 1.41.59.51 0 1.02-.2 1.41-.59l7.78-7.78 2.81-2.81c.8-.78.8-2.07 0-2.86zM5.41 20L4 18.59l7.72-7.72 1.47 1.35L5.41 20z\"/>\n",
              "  </svg>\n",
              "      </button>\n",
              "      \n",
              "  <style>\n",
              "    .colab-df-container {\n",
              "      display:flex;\n",
              "      flex-wrap:wrap;\n",
              "      gap: 12px;\n",
              "    }\n",
              "\n",
              "    .colab-df-convert {\n",
              "      background-color: #E8F0FE;\n",
              "      border: none;\n",
              "      border-radius: 50%;\n",
              "      cursor: pointer;\n",
              "      display: none;\n",
              "      fill: #1967D2;\n",
              "      height: 32px;\n",
              "      padding: 0 0 0 0;\n",
              "      width: 32px;\n",
              "    }\n",
              "\n",
              "    .colab-df-convert:hover {\n",
              "      background-color: #E2EBFA;\n",
              "      box-shadow: 0px 1px 2px rgba(60, 64, 67, 0.3), 0px 1px 3px 1px rgba(60, 64, 67, 0.15);\n",
              "      fill: #174EA6;\n",
              "    }\n",
              "\n",
              "    [theme=dark] .colab-df-convert {\n",
              "      background-color: #3B4455;\n",
              "      fill: #D2E3FC;\n",
              "    }\n",
              "\n",
              "    [theme=dark] .colab-df-convert:hover {\n",
              "      background-color: #434B5C;\n",
              "      box-shadow: 0px 1px 3px 1px rgba(0, 0, 0, 0.15);\n",
              "      filter: drop-shadow(0px 1px 2px rgba(0, 0, 0, 0.3));\n",
              "      fill: #FFFFFF;\n",
              "    }\n",
              "  </style>\n",
              "\n",
              "      <script>\n",
              "        const buttonEl =\n",
              "          document.querySelector('#df-3d4efb37-073f-494d-9434-da61eaa335a9 button.colab-df-convert');\n",
              "        buttonEl.style.display =\n",
              "          google.colab.kernel.accessAllowed ? 'block' : 'none';\n",
              "\n",
              "        async function convertToInteractive(key) {\n",
              "          const element = document.querySelector('#df-3d4efb37-073f-494d-9434-da61eaa335a9');\n",
              "          const dataTable =\n",
              "            await google.colab.kernel.invokeFunction('convertToInteractive',\n",
              "                                                     [key], {});\n",
              "          if (!dataTable) return;\n",
              "\n",
              "          const docLinkHtml = 'Like what you see? Visit the ' +\n",
              "            '<a target=\"_blank\" href=https://colab.research.google.com/notebooks/data_table.ipynb>data table notebook</a>'\n",
              "            + ' to learn more about interactive tables.';\n",
              "          element.innerHTML = '';\n",
              "          dataTable['output_type'] = 'display_data';\n",
              "          await google.colab.output.renderOutput(dataTable, element);\n",
              "          const docLink = document.createElement('div');\n",
              "          docLink.innerHTML = docLinkHtml;\n",
              "          element.appendChild(docLink);\n",
              "        }\n",
              "      </script>\n",
              "    </div>\n",
              "  </div>\n",
              "  "
            ]
          },
          "metadata": {},
          "execution_count": 86
        }
      ]
    }
  ]
}