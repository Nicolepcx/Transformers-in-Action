{
  "nbformat": 4,
  "nbformat_minor": 0,
  "metadata": {
    "colab": {
      "provenance": []
    },
    "kernelspec": {
      "name": "python3",
      "display_name": "Python 3"
    },
    "language_info": {
      "name": "python"
    }
  },
  "cells": [
    {
      "cell_type": "markdown",
      "source": [
        "## Open notebook in:\n",
        "| Colab                                  Gradient                                                                                                                    \n",
        "|:-------------------------------------------------------------------------------------------------------------------------------------------------------------------------------------------------------------------|\n",
        "[![Open In Colab](https://colab.research.google.com/assets/colab-badge.svg)](https://colab.research.google.com/github/Nicolepcx/Transformers-in-Action/blob/main/CH04/ch_04_Tree_of_Thought_prompting.ipynb)                                                         [link text](https://)"
      ],
      "metadata": {
        "id": "Gyg1oxapa9iL"
      }
    },
    {
      "cell_type": "markdown",
      "source": [
        "# About this notebook\n",
        "\n",
        "In this notebook you will use tree of thoughts to prompt ChatGPT with a math problem. __NOTE:__ You need an [API from OpenAI](https://platform.openai.com/api-keys) and you will have to increase your limit in your API account and add some funds and credit card to your API account [here](https://platform.openai.com/usage). Running this short experiment will amount for about $1.5.  "
      ],
      "metadata": {
        "id": "tbX2Jhn-bZlT"
      }
    },
    {
      "cell_type": "markdown",
      "source": [
        "#Install requirements"
      ],
      "metadata": {
        "id": "KuqHMk8hbet3"
      }
    },
    {
      "cell_type": "code",
      "execution_count": 1,
      "metadata": {
        "id": "CJQrCNtIxt7u",
        "colab": {
          "base_uri": "https://localhost:8080/"
        },
        "outputId": "f70832f1-2c3d-4299-97a0-97a295ce4ad3"
      },
      "outputs": [
        {
          "output_type": "stream",
          "name": "stdout",
          "text": [
            "fatal: destination path 'tree-of-thought-llm' already exists and is not an empty directory.\n",
            "/content/tree-of-thought-llm\n",
            "Requirement already satisfied: aiohttp in /usr/local/lib/python3.12/dist-packages (from -r requirements.txt (line 1)) (3.12.13)\n",
            "Requirement already satisfied: aiosignal==1.3.1 in /usr/local/lib/python3.12/dist-packages (from -r requirements.txt (line 2)) (1.3.1)\n",
            "Requirement already satisfied: async-timeout==4.0.2 in /usr/local/lib/python3.12/dist-packages (from -r requirements.txt (line 3)) (4.0.2)\n",
            "Requirement already satisfied: attrs==23.1.0 in /usr/local/lib/python3.12/dist-packages (from -r requirements.txt (line 4)) (23.1.0)\n",
            "Requirement already satisfied: backoff==2.2.1 in /usr/local/lib/python3.12/dist-packages (from -r requirements.txt (line 5)) (2.2.1)\n",
            "Requirement already satisfied: certifi==2023.5.7 in /usr/local/lib/python3.12/dist-packages (from -r requirements.txt (line 6)) (2023.5.7)\n",
            "Requirement already satisfied: charset-normalizer==3.1.0 in /usr/local/lib/python3.12/dist-packages (from -r requirements.txt (line 7)) (3.1.0)\n",
            "Requirement already satisfied: frozenlist in /usr/local/lib/python3.12/dist-packages (from -r requirements.txt (line 8)) (1.7.0)\n",
            "Requirement already satisfied: idna==3.4 in /usr/local/lib/python3.12/dist-packages (from -r requirements.txt (line 9)) (3.4)\n",
            "Requirement already satisfied: mpmath==1.3.0 in /usr/local/lib/python3.12/dist-packages (from -r requirements.txt (line 10)) (1.3.0)\n",
            "Requirement already satisfied: multidict==6.0.4 in /usr/local/lib/python3.12/dist-packages (from -r requirements.txt (line 11)) (6.0.4)\n",
            "Requirement already satisfied: numpy in /usr/local/lib/python3.12/dist-packages (from -r requirements.txt (line 12)) (2.0.2)\n",
            "Requirement already satisfied: openai in /usr/local/lib/python3.12/dist-packages (from -r requirements.txt (line 13)) (1.106.1)\n",
            "Requirement already satisfied: requests==2.31.0 in /usr/local/lib/python3.12/dist-packages (from -r requirements.txt (line 14)) (2.31.0)\n",
            "Requirement already satisfied: sympy==1.12 in /usr/local/lib/python3.12/dist-packages (from -r requirements.txt (line 15)) (1.12)\n",
            "Requirement already satisfied: tqdm in /usr/local/lib/python3.12/dist-packages (from -r requirements.txt (line 16)) (4.67.1)\n",
            "Requirement already satisfied: urllib3 in /usr/local/lib/python3.12/dist-packages (from -r requirements.txt (line 17)) (2.5.0)\n",
            "Requirement already satisfied: yarl in /usr/local/lib/python3.12/dist-packages (from -r requirements.txt (line 18)) (1.20.1)\n",
            "Requirement already satisfied: pandas in /usr/local/lib/python3.12/dist-packages (from -r requirements.txt (line 19)) (2.2.2)\n",
            "Requirement already satisfied: aiohappyeyeballs>=2.5.0 in /usr/local/lib/python3.12/dist-packages (from aiohttp->-r requirements.txt (line 1)) (2.6.1)\n",
            "Requirement already satisfied: propcache>=0.2.0 in /usr/local/lib/python3.12/dist-packages (from aiohttp->-r requirements.txt (line 1)) (0.3.2)\n",
            "Requirement already satisfied: anyio<5,>=3.5.0 in /usr/local/lib/python3.12/dist-packages (from openai->-r requirements.txt (line 13)) (4.10.0)\n",
            "Requirement already satisfied: distro<2,>=1.7.0 in /usr/local/lib/python3.12/dist-packages (from openai->-r requirements.txt (line 13)) (1.9.0)\n",
            "Requirement already satisfied: httpx<1,>=0.23.0 in /usr/local/lib/python3.12/dist-packages (from openai->-r requirements.txt (line 13)) (0.28.1)\n",
            "Requirement already satisfied: jiter<1,>=0.4.0 in /usr/local/lib/python3.12/dist-packages (from openai->-r requirements.txt (line 13)) (0.10.0)\n",
            "Requirement already satisfied: pydantic<3,>=1.9.0 in /usr/local/lib/python3.12/dist-packages (from openai->-r requirements.txt (line 13)) (2.11.7)\n",
            "Requirement already satisfied: sniffio in /usr/local/lib/python3.12/dist-packages (from openai->-r requirements.txt (line 13)) (1.3.1)\n",
            "Requirement already satisfied: typing-extensions<5,>=4.11 in /usr/local/lib/python3.12/dist-packages (from openai->-r requirements.txt (line 13)) (4.15.0)\n",
            "Requirement already satisfied: python-dateutil>=2.8.2 in /usr/local/lib/python3.12/dist-packages (from pandas->-r requirements.txt (line 19)) (2.9.0.post0)\n",
            "Requirement already satisfied: pytz>=2020.1 in /usr/local/lib/python3.12/dist-packages (from pandas->-r requirements.txt (line 19)) (2025.2)\n",
            "Requirement already satisfied: tzdata>=2022.7 in /usr/local/lib/python3.12/dist-packages (from pandas->-r requirements.txt (line 19)) (2025.2)\n",
            "Requirement already satisfied: httpcore==1.* in /usr/local/lib/python3.12/dist-packages (from httpx<1,>=0.23.0->openai->-r requirements.txt (line 13)) (1.0.9)\n",
            "Requirement already satisfied: h11>=0.16 in /usr/local/lib/python3.12/dist-packages (from httpcore==1.*->httpx<1,>=0.23.0->openai->-r requirements.txt (line 13)) (0.16.0)\n",
            "Requirement already satisfied: annotated-types>=0.6.0 in /usr/local/lib/python3.12/dist-packages (from pydantic<3,>=1.9.0->openai->-r requirements.txt (line 13)) (0.7.0)\n",
            "Requirement already satisfied: pydantic-core==2.33.2 in /usr/local/lib/python3.12/dist-packages (from pydantic<3,>=1.9.0->openai->-r requirements.txt (line 13)) (2.33.2)\n",
            "Requirement already satisfied: typing-inspection>=0.4.0 in /usr/local/lib/python3.12/dist-packages (from pydantic<3,>=1.9.0->openai->-r requirements.txt (line 13)) (0.4.1)\n",
            "Requirement already satisfied: six>=1.5 in /usr/local/lib/python3.12/dist-packages (from python-dateutil>=2.8.2->pandas->-r requirements.txt (line 19)) (1.17.0)\n",
            "Obtaining file:///content/tree-of-thought-llm\n",
            "  Installing build dependencies ... \u001b[?25l\u001b[?25hdone\n",
            "  Checking if build backend supports build_editable ... \u001b[?25l\u001b[?25hdone\n",
            "  Getting requirements to build editable ... \u001b[?25l\u001b[?25hdone\n",
            "  Preparing editable metadata (pyproject.toml) ... \u001b[?25l\u001b[?25hdone\n",
            "Requirement already satisfied: aiohttp in /usr/local/lib/python3.12/dist-packages (from tree-of-thoughts-llm==0.1.0) (3.12.13)\n",
            "Requirement already satisfied: aiosignal==1.3.1 in /usr/local/lib/python3.12/dist-packages (from tree-of-thoughts-llm==0.1.0) (1.3.1)\n",
            "Requirement already satisfied: async-timeout==4.0.2 in /usr/local/lib/python3.12/dist-packages (from tree-of-thoughts-llm==0.1.0) (4.0.2)\n",
            "Requirement already satisfied: attrs==23.1.0 in /usr/local/lib/python3.12/dist-packages (from tree-of-thoughts-llm==0.1.0) (23.1.0)\n",
            "Requirement already satisfied: backoff==2.2.1 in /usr/local/lib/python3.12/dist-packages (from tree-of-thoughts-llm==0.1.0) (2.2.1)\n",
            "Requirement already satisfied: certifi==2023.5.7 in /usr/local/lib/python3.12/dist-packages (from tree-of-thoughts-llm==0.1.0) (2023.5.7)\n",
            "Requirement already satisfied: charset-normalizer==3.1.0 in /usr/local/lib/python3.12/dist-packages (from tree-of-thoughts-llm==0.1.0) (3.1.0)\n",
            "Requirement already satisfied: frozenlist in /usr/local/lib/python3.12/dist-packages (from tree-of-thoughts-llm==0.1.0) (1.7.0)\n",
            "Requirement already satisfied: idna==3.4 in /usr/local/lib/python3.12/dist-packages (from tree-of-thoughts-llm==0.1.0) (3.4)\n",
            "Requirement already satisfied: mpmath==1.3.0 in /usr/local/lib/python3.12/dist-packages (from tree-of-thoughts-llm==0.1.0) (1.3.0)\n",
            "Requirement already satisfied: multidict==6.0.4 in /usr/local/lib/python3.12/dist-packages (from tree-of-thoughts-llm==0.1.0) (6.0.4)\n",
            "Requirement already satisfied: numpy in /usr/local/lib/python3.12/dist-packages (from tree-of-thoughts-llm==0.1.0) (2.0.2)\n",
            "Requirement already satisfied: openai in /usr/local/lib/python3.12/dist-packages (from tree-of-thoughts-llm==0.1.0) (1.106.1)\n",
            "Requirement already satisfied: requests==2.31.0 in /usr/local/lib/python3.12/dist-packages (from tree-of-thoughts-llm==0.1.0) (2.31.0)\n",
            "Requirement already satisfied: sympy==1.12 in /usr/local/lib/python3.12/dist-packages (from tree-of-thoughts-llm==0.1.0) (1.12)\n",
            "Requirement already satisfied: tqdm in /usr/local/lib/python3.12/dist-packages (from tree-of-thoughts-llm==0.1.0) (4.67.1)\n",
            "Requirement already satisfied: urllib3 in /usr/local/lib/python3.12/dist-packages (from tree-of-thoughts-llm==0.1.0) (2.5.0)\n",
            "Requirement already satisfied: yarl in /usr/local/lib/python3.12/dist-packages (from tree-of-thoughts-llm==0.1.0) (1.20.1)\n",
            "Requirement already satisfied: pandas in /usr/local/lib/python3.12/dist-packages (from tree-of-thoughts-llm==0.1.0) (2.2.2)\n",
            "Requirement already satisfied: aiohappyeyeballs>=2.5.0 in /usr/local/lib/python3.12/dist-packages (from aiohttp->tree-of-thoughts-llm==0.1.0) (2.6.1)\n",
            "Requirement already satisfied: propcache>=0.2.0 in /usr/local/lib/python3.12/dist-packages (from aiohttp->tree-of-thoughts-llm==0.1.0) (0.3.2)\n",
            "Requirement already satisfied: anyio<5,>=3.5.0 in /usr/local/lib/python3.12/dist-packages (from openai->tree-of-thoughts-llm==0.1.0) (4.10.0)\n",
            "Requirement already satisfied: distro<2,>=1.7.0 in /usr/local/lib/python3.12/dist-packages (from openai->tree-of-thoughts-llm==0.1.0) (1.9.0)\n",
            "Requirement already satisfied: httpx<1,>=0.23.0 in /usr/local/lib/python3.12/dist-packages (from openai->tree-of-thoughts-llm==0.1.0) (0.28.1)\n",
            "Requirement already satisfied: jiter<1,>=0.4.0 in /usr/local/lib/python3.12/dist-packages (from openai->tree-of-thoughts-llm==0.1.0) (0.10.0)\n",
            "Requirement already satisfied: pydantic<3,>=1.9.0 in /usr/local/lib/python3.12/dist-packages (from openai->tree-of-thoughts-llm==0.1.0) (2.11.7)\n",
            "Requirement already satisfied: sniffio in /usr/local/lib/python3.12/dist-packages (from openai->tree-of-thoughts-llm==0.1.0) (1.3.1)\n",
            "Requirement already satisfied: typing-extensions<5,>=4.11 in /usr/local/lib/python3.12/dist-packages (from openai->tree-of-thoughts-llm==0.1.0) (4.15.0)\n",
            "Requirement already satisfied: python-dateutil>=2.8.2 in /usr/local/lib/python3.12/dist-packages (from pandas->tree-of-thoughts-llm==0.1.0) (2.9.0.post0)\n",
            "Requirement already satisfied: pytz>=2020.1 in /usr/local/lib/python3.12/dist-packages (from pandas->tree-of-thoughts-llm==0.1.0) (2025.2)\n",
            "Requirement already satisfied: tzdata>=2022.7 in /usr/local/lib/python3.12/dist-packages (from pandas->tree-of-thoughts-llm==0.1.0) (2025.2)\n",
            "Requirement already satisfied: httpcore==1.* in /usr/local/lib/python3.12/dist-packages (from httpx<1,>=0.23.0->openai->tree-of-thoughts-llm==0.1.0) (1.0.9)\n",
            "Requirement already satisfied: h11>=0.16 in /usr/local/lib/python3.12/dist-packages (from httpcore==1.*->httpx<1,>=0.23.0->openai->tree-of-thoughts-llm==0.1.0) (0.16.0)\n",
            "Requirement already satisfied: annotated-types>=0.6.0 in /usr/local/lib/python3.12/dist-packages (from pydantic<3,>=1.9.0->openai->tree-of-thoughts-llm==0.1.0) (0.7.0)\n",
            "Requirement already satisfied: pydantic-core==2.33.2 in /usr/local/lib/python3.12/dist-packages (from pydantic<3,>=1.9.0->openai->tree-of-thoughts-llm==0.1.0) (2.33.2)\n",
            "Requirement already satisfied: typing-inspection>=0.4.0 in /usr/local/lib/python3.12/dist-packages (from pydantic<3,>=1.9.0->openai->tree-of-thoughts-llm==0.1.0) (0.4.1)\n",
            "Requirement already satisfied: six>=1.5 in /usr/local/lib/python3.12/dist-packages (from python-dateutil>=2.8.2->pandas->tree-of-thoughts-llm==0.1.0) (1.17.0)\n",
            "Building wheels for collected packages: tree-of-thoughts-llm\n",
            "  Building editable for tree-of-thoughts-llm (pyproject.toml) ... \u001b[?25l\u001b[?25hdone\n",
            "  Created wheel for tree-of-thoughts-llm: filename=tree_of_thoughts_llm-0.1.0-0.editable-py3-none-any.whl size=4951 sha256=ce50e3b8ef947d737f91fe40cf680169645abf85b6cc8a61e87b2ae1f8e7f0b9\n",
            "  Stored in directory: /tmp/pip-ephem-wheel-cache-e_2pb6de/wheels/bc/b2/60/7a78b892dd4d92da47e5cb59ac81546b6c0ea7521f758a1b0b\n",
            "Successfully built tree-of-thoughts-llm\n",
            "Installing collected packages: tree-of-thoughts-llm\n",
            "Successfully installed tree-of-thoughts-llm-0.1.0\n"
          ]
        }
      ],
      "source": [
        "!git clone https://github.com/Nicolepcx/tree-of-thought-llm\n",
        "%cd tree-of-thought-llm\n",
        "!pip install -r requirements.txt\n",
        "!pip install -e .  # install `tot` package"
      ]
    },
    {
      "cell_type": "markdown",
      "source": [
        "# Imports"
      ],
      "metadata": {
        "id": "mTXoxyv7oNu3"
      }
    },
    {
      "cell_type": "code",
      "source": [
        "%cd src/"
      ],
      "metadata": {
        "colab": {
          "base_uri": "https://localhost:8080/"
        },
        "id": "mkJYfCIrQfK3",
        "outputId": "429ba0ed-231b-4cb9-e704-ab81e2fbf278"
      },
      "execution_count": 5,
      "outputs": [
        {
          "output_type": "stream",
          "name": "stdout",
          "text": [
            "/content/tree-of-thought-llm/src\n"
          ]
        }
      ]
    },
    {
      "cell_type": "code",
      "source": [
        "import os\n",
        "# Replace 'your-api-key' with your actual OpenAI API key.\n",
        "os.environ['OPENAI_API_KEY'] = 'your-api-key'"
      ],
      "metadata": {
        "id": "pIQxLVQkFUXT"
      },
      "execution_count": 7,
      "outputs": []
    },
    {
      "cell_type": "code",
      "source": [
        "import argparse\n",
        "from tot.methods.bfs import solve\n",
        "from tot.tasks.game24 import Game24Task"
      ],
      "metadata": {
        "id": "8K64IJb0oLVn"
      },
      "execution_count": 9,
      "outputs": []
    },
    {
      "cell_type": "markdown",
      "source": [
        "# Set up OpenAI API key and store it in the environment variable"
      ],
      "metadata": {
        "id": "14cT0JOGoTmm"
      }
    },
    {
      "cell_type": "markdown",
      "source": [
        "# Run the experiment"
      ],
      "metadata": {
        "id": "9HwZ5XpKoVz8"
      }
    },
    {
      "cell_type": "code",
      "source": [
        "# Parse the arguments to run the experiment\n",
        "args = argparse.Namespace(backend='gpt-4', temperature=0.7, task='game24', naive_run=False, prompt_sample=None, method_generate='propose', method_evaluate='value', method_select='greedy', n_generate_sample=1, n_evaluate_sample=3, n_select_sample=5)\n",
        "\n",
        "# Call the functions to run the experiment\n",
        "task = Game24Task()\n",
        "\n",
        "# 999 is the index from the repo's CSV file to select the number input: 4 9 10 13\n",
        "ys, infos = solve(args, task, 999)\n",
        "print(ys[0])"
      ],
      "metadata": {
        "colab": {
          "base_uri": "https://localhost:8080/"
        },
        "id": "Lo8vDDD0FihU",
        "outputId": "0bc172bc-955b-4436-b0d9-84990c473612"
      },
      "execution_count": 10,
      "outputs": [
        {
          "output_type": "stream",
          "name": "stdout",
          "text": [
            "functools.partial(<function gpt at 0x79fff2d802c0>, model='gpt-4', temperature=0.7)\n",
            "-- new_ys --: ('10 - 4 = 6 (left: 6 9 13)\\n', '9 - 4 = 5 (left: 5 10 13)\\n', '13 / 4 = 3.25 (left: 3.25 9 10)\\n', '13 - 4 = 9 (left: 9 9 10)\\n', '4 + 9 = 13 (left: 10 13 13)\\n', '4 * 9 = 36 (left: 10 13 36)\\n', '13 + 4 = 17 (left: 9 10 17)\\n', '10 + 4 = 14 (left: 9 13 14)\\n')\n",
            "-- sol values --: (22.0, 3.0, 3.0, 1.002, 0.003, 0.003, 0.003, 0.003)\n",
            "-- choices --: ['10 - 4 = 6 (left: 6 9 13)\\n', '9 - 4 = 5 (left: 5 10 13)\\n', '13 / 4 = 3.25 (left: 3.25 9 10)\\n', '13 - 4 = 9 (left: 9 9 10)\\n', '4 + 9 = 13 (left: 10 13 13)\\n']\n",
            "\n",
            "-- new_ys --: ('10 - 4 = 6 (left: 6 9 13)\\n13 - 9 = 4 (left: 4 6)\\n', '13 / 4 = 3.25 (left: 3.25 9 10)\\n10 / 3.25 = 3.07 (left: 3.07 9)\\n', '13 / 4 = 3.25 (left: 3.25 9 10)\\n9 - 3.25 = 5.75 (left: 5.75 10)\\n', '9 - 4 = 5 (left: 5 10 13)\\n10 / 5 = 2 (left: 2 13)\\n', '9 - 4 = 5 (left: 5 10 13)\\n13 / 5 = 2.6 (left: 2.6 10)\\n', '13 / 4 = 3.25 (left: 3.25 9 10)\\n3.25 + 10 = 13.25 (left: 9 13.25)\\n', '13 - 4 = 9 (left: 9 9 10)\\n10 / 9 = 1.11 (approx) (left: 1.11 9)\\n', '10 - 4 = 6 (left: 6 9 13)\\n6 + 9 = 15 (left: 13 15)\\n', '10 - 4 = 6 (left: 6 9 13)\\n9 - 6 = 3 (left: 3 13)\\n', '10 - 4 = 6 (left: 6 9 13)\\n13 - 6 = 7 (left: 7 9)\\n', '10 - 4 = 6 (left: 6 9 13)\\n6 * 9 = 54 (left: 13 54)\\n', '10 - 4 = 6 (left: 6 9 13)\\n9 / 6 = 1.5 (left: 1.5 13)\\n', '10 - 4 = 6 (left: 6 9 13)\\n13 / 6 = 2.17 (left: 2.17 9)\\n', '9 - 4 = 5 (left: 5 10 13)\\n5 + 10 = 15 (left: 13 15)\\n', '9 - 4 = 5 (left: 5 10 13)\\n10 - 5 = 5 (left: 5 13)\\n', '9 - 4 = 5 (left: 5 10 13)\\n13 - 5 = 8 (left: 8 10)\\n', '9 - 4 = 5 (left: 5 10 13)\\n13 - 10 = 3 (left: 3 5)\\n', '9 - 4 = 5 (left: 5 10 13)\\n5 * 10 = 50 (left: 13 50)\\n', '9 - 4 = 5 (left: 5 10 13)\\n10 * 13 = 130 (left: 5 130)\\n', '13 / 4 = 3.25 (left: 3.25 9 10)\\n3.25 + 9 = 12.25 (left: 10 12.25)\\n', '13 / 4 = 3.25 (left: 3.25 9 10)\\n10 - 3.25 = 6.75 (left: 6.75 9)\\n', '13 / 4 = 3.25 (left: 3.25 9 10)\\n9 / 3.25 = 2.77 (left: 2.77 10)\\n', '13 / 4 = 3.25 (left: 3.25 9 10)\\n10 - 9 = 1 (left: 1 3.25)\\n', '13 / 4 = 3.25 (left: 3.25 9 10)\\n3.25 * 9 = 29.25 (left: 10 29.25)\\n', '13 / 4 = 3.25 (left: 3.25 9 10)\\n9 * 10 = 90 (left: 3.25 90)\\n', '13 - 4 = 9 (left: 9 9 10)\\n9 + 9 = 18 (left: 10 18)\\n', '13 - 4 = 9 (left: 9 9 10)\\n9 - 9 = 0 (left: 0 10)\\n', '13 - 4 = 9 (left: 9 9 10)\\n10 - 9 = 1 (left: 1 9)\\n', '13 - 4 = 9 (left: 9 9 10)\\n9 * 9 = 81 (left: 10 81)\\n', '13 - 4 = 9 (left: 9 9 10)\\n10 + 9 = 19 (left: 9 19)\\n', '4 + 9 = 13 (left: 10 13 13)\\n10 + 13 = 23 (left: 13 23)\\n', '4 + 9 = 13 (left: 10 13 13)\\n13 - 10 = 3 (left: 3 13)\\n', '4 + 9 = 13 (left: 10 13 13)\\n10 * 13 = 130 (left: 13 130)\\n', '4 + 9 = 13 (left: 10 13 13)\\n13 / 10 = 1.3 (left: 1.3 13)\\n', '13 - 4 = 9 (left: 9 9 10)\\n10 - 9 = 1 (left: 1 9)\\n')\n",
            "-- sol values --: (60.0, 3.0, 2.001, 1.002, 1.002, 1.002, 1.002, 0.003, 0.003, 0.003, 0.003, 0.003, 0.003, 0.003, 0.003, 0.003, 0.003, 0.003, 0.003, 0.003, 0.003, 0.003, 0.003, 0.003, 0.003, 0.003, 0.003, 0.003, 0.003, 0.003, 0.003, 0.003, 0.003, 0.003, 0)\n",
            "-- choices --: ['10 - 4 = 6 (left: 6 9 13)\\n13 - 9 = 4 (left: 4 6)\\n', '13 / 4 = 3.25 (left: 3.25 9 10)\\n10 / 3.25 = 3.07 (left: 3.07 9)\\n', '13 / 4 = 3.25 (left: 3.25 9 10)\\n9 - 3.25 = 5.75 (left: 5.75 10)\\n', '9 - 4 = 5 (left: 5 10 13)\\n10 / 5 = 2 (left: 2 13)\\n', '9 - 4 = 5 (left: 5 10 13)\\n13 / 5 = 2.6 (left: 2.6 10)\\n']\n",
            "\n",
            "-- new_ys --: ('10 - 4 = 6 (left: 6 9 13)\\n13 - 9 = 4 (left: 4 6)\\n4 * 6 = 24 (left: 24)\\n', '9 - 4 = 5 (left: 5 10 13)\\n10 / 5 = 2 (left: 2 13)\\n2 + 13 = 15 (left: 15)\\n', '10 - 4 = 6 (left: 6 9 13)\\n13 - 9 = 4 (left: 4 6)\\n4 + 6 = 10 (left: 10)\\n', '10 - 4 = 6 (left: 6 9 13)\\n13 - 9 = 4 (left: 4 6)\\n6 - 4 = 2 (left: 2)\\n', '13 / 4 = 3.25 (left: 3.25 9 10)\\n10 / 3.25 = 3.07 (left: 3.07 9)\\n3.07 + 9 = 12.07 (left: 12.07)\\n', '13 / 4 = 3.25 (left: 3.25 9 10)\\n10 / 3.25 = 3.07 (left: 3.07 9)\\n9 - 3.07 = 5.93 (left: 5.93)\\n', '13 / 4 = 3.25 (left: 3.25 9 10)\\n10 / 3.25 = 3.07 (left: 3.07 9)\\n9 / 3.07 = 2.93 (approx) (left: 2.93)\\n', '13 / 4 = 3.25 (left: 3.25 9 10)\\n10 / 3.25 = 3.07 (left: 3.07 9)\\n3.07 * 9 = 27.63 (left: 27.63)\\n', '13 / 4 = 3.25 (left: 3.25 9 10)\\n9 - 3.25 = 5.75 (left: 5.75 10)\\n10 - 5.75 = 4.25 (left: 4.25)\\n', '13 / 4 = 3.25 (left: 3.25 9 10)\\n9 - 3.25 = 5.75 (left: 5.75 10)\\n10 / 5.75 = 1.73913 (left: 1.73913)\\n', '13 / 4 = 3.25 (left: 3.25 9 10)\\n9 - 3.25 = 5.75 (left: 5.75 10)\\n5.75 * 10 = 57.5 (left: 57.5)\\n', '9 - 4 = 5 (left: 5 10 13)\\n10 / 5 = 2 (left: 2 13)\\n13 - 2 = 11 (left: 11)\\n', '9 - 4 = 5 (left: 5 10 13)\\n10 / 5 = 2 (left: 2 13)\\n13 / 2 = 6.5 (left: 6.5)\\n', '9 - 4 = 5 (left: 5 10 13)\\n10 / 5 = 2 (left: 2 13)\\n2 * 13 = 26 (left: 26)\\n', '9 - 4 = 5 (left: 5 10 13)\\n13 / 5 = 2.6 (left: 2.6 10)\\n2.6 + 10 = 12.6 (left: 12.6)\\n', '9 - 4 = 5 (left: 5 10 13)\\n13 / 5 = 2.6 (left: 2.6 10)\\n10 - 2.6 = 7.4 (left: 7.4)\\n', '9 - 4 = 5 (left: 5 10 13)\\n13 / 5 = 2.6 (left: 2.6 10)\\n2.6 * 10 = 26 (left: 26)\\n', '10 - 4 = 6 (left: 6 9 13)\\n13 - 9 = 4 (left: 4 6)\\n6 / 4 = 1.5 (left: 1.5)\\n', '13 / 4 = 3.25 (left: 3.25 9 10)\\n9 - 3.25 = 5.75 (left: 5.75 10)\\n5.75 + 10 = 15.75 (left: 15.75)\\n', '9 - 4 = 5 (left: 5 10 13)\\n13 / 5 = 2.6 (left: 2.6 10)\\n10 / 2.6 = 3.8461538461538463 (left: 3.8461538461538463)\\n')\n",
            "-- sol values --: (60.0, 1.002, 0.003, 0.003, 0.003, 0.003, 0.003, 0.003, 0.003, 0.003, 0.003, 0.003, 0.003, 0.003, 0.003, 0.003, 0.003, 0.002, 0.002, 0.002)\n",
            "-- choices --: ['10 - 4 = 6 (left: 6 9 13)\\n13 - 9 = 4 (left: 4 6)\\n4 * 6 = 24 (left: 24)\\n', '9 - 4 = 5 (left: 5 10 13)\\n10 / 5 = 2 (left: 2 13)\\n2 + 13 = 15 (left: 15)\\n', '10 - 4 = 6 (left: 6 9 13)\\n13 - 9 = 4 (left: 4 6)\\n4 + 6 = 10 (left: 10)\\n', '10 - 4 = 6 (left: 6 9 13)\\n13 - 9 = 4 (left: 4 6)\\n6 - 4 = 2 (left: 2)\\n', '13 / 4 = 3.25 (left: 3.25 9 10)\\n10 / 3.25 = 3.07 (left: 3.07 9)\\n3.07 + 9 = 12.07 (left: 12.07)\\n']\n",
            "\n",
            "-- new_ys --: ('10 - 4 = 6 (left: 6 9 13)\\n13 - 9 = 4 (left: 4 6)\\n4 * 6 = 24 (left: 24)\\nAnswer: (10 - 4) * (13 - 9) = 24\\n', '9 - 4 = 5 (left: 5 10 13)\\n10 / 5 = 2 (left: 2 13)\\n2 + 13 = 15 (left: 15)\\nNo further steps as there is only one number left.\\n', '10 - 4 = 6 (left: 6 9 13)\\n13 - 9 = 4 (left: 4 6)\\n4 + 6 = 10 (left: 10)\\n10 + 2 = 12 (left: 8 12 14)\\n', '10 - 4 = 6 (left: 6 9 13)\\n13 - 9 = 4 (left: 4 6)\\n4 + 6 = 10 (left: 10)\\n10 / 2 = 5 (left: 5 8 14)\\n', '10 - 4 = 6 (left: 6 9 13)\\n13 - 9 = 4 (left: 4 6)\\n4 + 6 = 10 (left: 10)\\n14 - 10 = 4 (left: 4 8 8)\\n', '10 - 4 = 6 (left: 6 9 13)\\n13 - 9 = 4 (left: 4 6)\\n4 + 6 = 10 (left: 10)\\n14 / 10 = 1.4 (left: 1.4 8 8)\\n', '10 - 4 = 6 (left: 6 9 13)\\n13 - 9 = 4 (left: 4 6)\\n4 + 6 = 10 (left: 10)\\n10 - 2 = 8 (left: 8 8 14)\\n', '10 - 4 = 6 (left: 6 9 13)\\n13 - 9 = 4 (left: 4 6)\\n4 + 6 = 10 (left: 10)\\n10 - 8 = 2 (left: 2 8 14)\\n', '10 - 4 = 6 (left: 6 9 13)\\n13 - 9 = 4 (left: 4 6)\\n4 + 6 = 10 (left: 10)\\n8 - 10 = -2 (left: -2 8 14)\\n', '10 - 4 = 6 (left: 6 9 13)\\n13 - 9 = 4 (left: 4 6)\\n6 - 4 = 2 (left: 2)\\nThere are no possible next steps as there is only one number.\\n', '13 / 4 = 3.25 (left: 3.25 9 10)\\n10 / 3.25 = 3.07 (left: 3.07 9)\\n3.07 + 9 = 12.07 (left: 12.07)\\nSince the input is a single number, there are no possible mathematical operations that can be performed.\\n')\n",
            "-- sol values --: (60.0, 0, 0, 0, 0, 0, 0, 0, 0, 0, 0)\n",
            "-- choices --: ['10 - 4 = 6 (left: 6 9 13)\\n13 - 9 = 4 (left: 4 6)\\n4 * 6 = 24 (left: 24)\\nAnswer: (10 - 4) * (13 - 9) = 24\\n', '9 - 4 = 5 (left: 5 10 13)\\n10 / 5 = 2 (left: 2 13)\\n2 + 13 = 15 (left: 15)\\nNo further steps as there is only one number left.\\n', '10 - 4 = 6 (left: 6 9 13)\\n13 - 9 = 4 (left: 4 6)\\n4 + 6 = 10 (left: 10)\\n10 + 2 = 12 (left: 8 12 14)\\n', '10 - 4 = 6 (left: 6 9 13)\\n13 - 9 = 4 (left: 4 6)\\n4 + 6 = 10 (left: 10)\\n10 / 2 = 5 (left: 5 8 14)\\n', '10 - 4 = 6 (left: 6 9 13)\\n13 - 9 = 4 (left: 4 6)\\n4 + 6 = 10 (left: 10)\\n14 - 10 = 4 (left: 4 8 8)\\n']\n",
            "\n",
            "['10 - 4 = 6 (left: 6 9 13)\\n13 - 9 = 4 (left: 4 6)\\n4 * 6 = 24 (left: 24)\\nAnswer: (10 - 4) * (13 - 9) = 24\\n', '9 - 4 = 5 (left: 5 10 13)\\n10 / 5 = 2 (left: 2 13)\\n2 + 13 = 15 (left: 15)\\nNo further steps as there is only one number left.\\n', '10 - 4 = 6 (left: 6 9 13)\\n13 - 9 = 4 (left: 4 6)\\n4 + 6 = 10 (left: 10)\\n10 + 2 = 12 (left: 8 12 14)\\n', '10 - 4 = 6 (left: 6 9 13)\\n13 - 9 = 4 (left: 4 6)\\n4 + 6 = 10 (left: 10)\\n10 / 2 = 5 (left: 5 8 14)\\n', '10 - 4 = 6 (left: 6 9 13)\\n13 - 9 = 4 (left: 4 6)\\n4 + 6 = 10 (left: 10)\\n14 - 10 = 4 (left: 4 8 8)\\n']\n",
            "10 - 4 = 6 (left: 6 9 13)\n",
            "13 - 9 = 4 (left: 4 6)\n",
            "4 * 6 = 24 (left: 24)\n",
            "Answer: (10 - 4) * (13 - 9) = 24\n",
            "\n"
          ]
        }
      ]
    },
    {
      "cell_type": "code",
      "source": [],
      "metadata": {
        "id": "U2BdmfCXRyvY"
      },
      "execution_count": null,
      "outputs": []
    }
  ]
}