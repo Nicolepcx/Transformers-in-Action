{
  "nbformat": 4,
  "nbformat_minor": 0,
  "metadata": {
    "colab": {
      "provenance": []
    },
    "kernelspec": {
      "name": "python3",
      "display_name": "Python 3"
    },
    "language_info": {
      "name": "python"
    }
  },
  "cells": [
    {
      "cell_type": "markdown",
      "source": [
        "## Open notebook in:\n",
        "| Colab                                  Gradient                                                                                                                    \n",
        "|:-------------------------------------------------------------------------------------------------------------------------------------------------------------------------------------------------------------------|\n",
        "[![Open In Colab](https://colab.research.google.com/assets/colab-badge.svg)](https://colab.research.google.com/github/Nicolepcx/Transformers-in-Action/blob/main/CH04/ch04_instructor_CoT.ipynb)"
      ],
      "metadata": {
        "id": "yIF4mRTmXTUd"
      }
    },
    {
      "cell_type": "markdown",
      "source": [
        "# About the Notebook\n",
        "\n",
        "This notebook demonstrates how to use the `instructor` library together with the OpenAI SDK and `pydantic` to obtain structured model outputs.  \n",
        "We define a `ReasonedAnswer` schema containing both a detailed reasoning chain and a final answer.  \n",
        "The model is then queried with a user prompt, and the response is automatically validated and parsed into the schema, making it easier to work with structured reasoning in downstream tasks.\n"
      ],
      "metadata": {
        "id": "-jOfwOXsW2PF"
      }
    },
    {
      "cell_type": "markdown",
      "source": [
        "# Dependencies"
      ],
      "metadata": {
        "id": "erLMzHflWJb0"
      }
    },
    {
      "cell_type": "code",
      "source": [
        "!pip install -q openai==1.106.1 instructor==1.11.3"
      ],
      "metadata": {
        "id": "4A5lbMULTDkH"
      },
      "execution_count": 8,
      "outputs": []
    },
    {
      "cell_type": "markdown",
      "source": [
        "# API Setup"
      ],
      "metadata": {
        "id": "vCBtmjhAWt31"
      }
    },
    {
      "cell_type": "code",
      "source": [
        "import os\n",
        "os.environ['OPENAI_API_KEY'] = 'your-api-key'"
      ],
      "metadata": {
        "id": "btqX1v7NV0n9"
      },
      "execution_count": 5,
      "outputs": []
    },
    {
      "cell_type": "markdown",
      "source": [
        "# Imports"
      ],
      "metadata": {
        "id": "Ak7a3NklWwoU"
      }
    },
    {
      "cell_type": "code",
      "source": [
        "import instructor\n",
        "from openai import OpenAI\n",
        "from pydantic import BaseModel, Field"
      ],
      "metadata": {
        "id": "HzmgLz3TWyoF"
      },
      "execution_count": null,
      "outputs": []
    },
    {
      "cell_type": "code",
      "execution_count": 6,
      "metadata": {
        "colab": {
          "base_uri": "https://localhost:8080/"
        },
        "id": "KyfkxRFiSWor",
        "outputId": "a1d9616a-866c-44b3-862b-8b4e7fa4f3b5"
      },
      "outputs": [
        {
          "output_type": "stream",
          "name": "stdout",
          "text": [
            "Reasoning: The cube root of a number is the value that when cubed (multiplied by itself twice) gives the original number. In this case, we want to find a number that multiplied by itself twice gives 27.\n",
            "Answer: The cube root of 27 is 3, because 3*3*3 = 27.\n"
          ]
        }
      ],
      "source": [
        "# Define a schema with fields for reasoning and final answer\n",
        "class ReasonedAnswer(BaseModel):\n",
        "    \"\"\"Answer the following question with detailed reasoning.\"\"\"\n",
        "\n",
        "    chain_of_thought: str = Field(\n",
        "        description=\"Step-by-step reasoning process to solve the problem\"\n",
        "    )\n",
        "    final_answer: str = Field(\n",
        "        description=\"The final conclusion after reasoning\"\n",
        "    )\n",
        "\n",
        "# Create an OpenAI client wrapped with Instructor\n",
        "client = instructor.from_openai(OpenAI())\n",
        "\n",
        "# Query the model using the structured schema\n",
        "response = client.chat.completions.create(\n",
        "    model=\"gpt-4\",\n",
        "    response_model=ReasonedAnswer,\n",
        "    messages=[\n",
        "        {\"role\": \"user\", \"content\": \"What is the cube root of 27?\"}\n",
        "    ]\n",
        ")\n",
        "\n",
        "# Print out the structured results\n",
        "print(f\"Reasoning: {response.chain_of_thought}\")\n",
        "print(f\"Answer: {response.final_answer}\")\n"
      ]
    },
    {
      "cell_type": "code",
      "source": [],
      "metadata": {
        "id": "nNbKh9EDSe0H"
      },
      "execution_count": null,
      "outputs": []
    }
  ]
}