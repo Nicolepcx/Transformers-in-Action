{
  "nbformat": 4,
  "nbformat_minor": 0,
  "metadata": {
    "colab": {
      "provenance": [],
      "toc_visible": true
    },
    "kernelspec": {
      "name": "python3",
      "display_name": "Python 3"
    },
    "language_info": {
      "name": "python"
    },
    "accelerator": "GPU",
    "gpuClass": "standard"
  },
  "cells": [
    {
      "cell_type": "code",
      "source": [
        "%%capture\n",
        "!pip install sentencepiece watermark"
      ],
      "metadata": {
        "id": "ezgZbfYkg2AS"
      },
      "execution_count": 1,
      "outputs": []
    },
    {
      "cell_type": "markdown",
      "source": [
        "# Imports"
      ],
      "metadata": {
        "id": "tRYipz4WPg0T"
      }
    },
    {
      "cell_type": "code",
      "source": [
        "import numpy as np\n",
        "import re, collections\n",
        "import torch\n",
        "import torch.nn as nn\n",
        "import torch.optim as optim\n",
        "import torchvision\n",
        "import torchvision.transforms as transforms\n",
        "import sentencepiece as spm\n",
        "import matplotlib.pyplot as plt"
      ],
      "metadata": {
        "id": "hb7OgbFsSJ5U"
      },
      "execution_count": 2,
      "outputs": []
    },
    {
      "cell_type": "markdown",
      "source": [
        "# About this notebook\n",
        "\n",
        "Welcome to this notebook, which contains examples from the 4th chapter of our book. This chapter focuses on important concepts and techniques that are essential for pretraining a transformer model for NLP tasks. The examples presented in this notebook are designed to help you gain a deeper understanding of the underlying principles and methodologies that contribute to the success of transformer-based models.\n",
        "\n",
        "Throughout this notebook, we will explore various topics such as denoising autoencoders, tokenization, Byte Pair Encoding (BPE), SentencePiece. Each of these concepts plays a significant role in the pretraining process of a transformer, helping to improve the model's generalization and ability to handle a wide range of languages and text data.\n",
        "\n",
        "By working through the examples in this notebook, you will gain valuable insights and build a strong foundation for applying transformer models to real-world natural language processing tasks. Specifically in this notebook you'll find:\n",
        "\n",
        "\n",
        "- Autoencoder: Implementing a simple autoencoder neural network for unsupervised learning using PyTorch. The autoencoder is composed of an encoder and a decoder, where the encoder maps input data to a lower-dimensional latent space and the decoder reconstructs the input data from the latent space representation.\n",
        "- Subword tokenization: Visualizing the subword tokenization of multiple text examples. This helps to understand how tokenization techniques, such as Byte Pair Encoding (BPE) and SentencePiece, break down words into smaller units (tokens) for better generalization in natural language processing tasks.\n",
        "- Byte Pair Encoding (BPE): Implementing basic BPE functions to compute character pair frequencies in a given vocabulary and merge the most frequent character pairs iteratively, thereby reducing the problem of out-of-vocabulary words and improving model generalization.\n"
      ],
      "metadata": {
        "id": "bMiyFOylVXsw"
      }
    },
    {
      "cell_type": "code",
      "source": [
        "%load_ext watermark\n",
        "%watermark -a \"Nicole Koenigstein\" -u -d -v -m "
      ],
      "metadata": {
        "colab": {
          "base_uri": "https://localhost:8080/"
        },
        "id": "6FPQGuufXIY1",
        "outputId": "b7204ccc-e731-47e1-9779-03aaa0e81c66"
      },
      "execution_count": 12,
      "outputs": [
        {
          "output_type": "stream",
          "name": "stdout",
          "text": [
            "The watermark extension is already loaded. To reload it, use:\n",
            "  %reload_ext watermark\n",
            "Author: Nicole Koenigstein\n",
            "\n",
            "Last updated: 2023-04-17\n",
            "\n",
            "Python implementation: CPython\n",
            "Python version       : 3.9.16\n",
            "IPython version      : 7.34.0\n",
            "\n",
            "Compiler    : GCC 9.4.0\n",
            "OS          : Linux\n",
            "Release     : 5.10.147+\n",
            "Machine     : x86_64\n",
            "Processor   : x86_64\n",
            "CPU cores   : 2\n",
            "Architecture: 64bit\n",
            "\n"
          ]
        }
      ]
    },
    {
      "cell_type": "markdown",
      "source": [
        "## Denoising Autoencoder"
      ],
      "metadata": {
        "id": "8ihn7SbMWqYF"
      }
    },
    {
      "cell_type": "code",
      "source": [
        "# Define the autoencoder model\n",
        "class Autoencoder(nn.Module):\n",
        "    \"\"\"\n",
        "    An autoencoder neural network model for unsupervised learning, which consists of an encoder and a decoder. \n",
        "    The encoder maps input data to a lower-dimensional latent space, while the decoder reconstructs the input \n",
        "    data from the latent space representation. This class inherits from PyTorch's nn.Module.\n",
        "\n",
        "    Attributes:\n",
        "        encoder (nn.Sequential): A sequential neural network module that maps input data to a latent space\n",
        "            representation. It consists of two linear layers with 128 and 64 neurons, respectively, followed \n",
        "            by ReLU activation functions.\n",
        "        decoder (nn.Sequential): A sequential neural network module that reconstructs input data from the \n",
        "            latent space representation. It consists of two linear layers with 128 neurons and the original \n",
        "            input dimension (28*28), respectively, followed by a ReLU activation function for the first layer \n",
        "            and a Sigmoid activation function for the final layer.\n",
        "\n",
        "    Usage:\n",
        "        autoencoder = Autoencoder()\n",
        "        output = autoencoder(input_data)\n",
        "    \"\"\"\n",
        "    def __init__(self):\n",
        "        super(Autoencoder, self).__init__()\n",
        "        self.encoder = nn.Sequential(\n",
        "            nn.Linear(28 * 28, 128),\n",
        "            nn.ReLU(),\n",
        "            nn.Linear(128, 64),\n",
        "            nn.ReLU(),\n",
        "        )\n",
        "        self.decoder = nn.Sequential(\n",
        "            nn.Linear(64, 128),\n",
        "            nn.ReLU(),\n",
        "            nn.Linear(128, 28 * 28),\n",
        "            nn.Sigmoid(),\n",
        "        )\n",
        "\n",
        "    def forward(self, x):\n",
        "        x = self.encoder(x)\n",
        "        x = self.decoder(x)\n",
        "        return x"
      ],
      "metadata": {
        "id": "Z1lk4BpwcOg8"
      },
      "execution_count": 6,
      "outputs": []
    },
    {
      "cell_type": "code",
      "source": [
        "# Load the MNIST dataset\n",
        "transform = transforms.Compose([transforms.ToTensor()])\n",
        "trainset = torchvision.datasets.MNIST(root='./data', train=True, download=True, transform=transform)\n",
        "trainloader = torch.utils.data.DataLoader(trainset, batch_size=100, shuffle=True)"
      ],
      "metadata": {
        "colab": {
          "base_uri": "https://localhost:8080/"
        },
        "id": "XAV3tCdPcRli",
        "outputId": "e63e9855-e53e-4104-8317-5ef8d7566f43"
      },
      "execution_count": 7,
      "outputs": [
        {
          "output_type": "stream",
          "name": "stdout",
          "text": [
            "Downloading http://yann.lecun.com/exdb/mnist/train-images-idx3-ubyte.gz\n",
            "Downloading http://yann.lecun.com/exdb/mnist/train-images-idx3-ubyte.gz to ./data/MNIST/raw/train-images-idx3-ubyte.gz\n"
          ]
        },
        {
          "output_type": "stream",
          "name": "stderr",
          "text": [
            "100%|██████████| 9912422/9912422 [00:00<00:00, 326855645.44it/s]"
          ]
        },
        {
          "output_type": "stream",
          "name": "stdout",
          "text": [
            "Extracting ./data/MNIST/raw/train-images-idx3-ubyte.gz to ./data/MNIST/raw\n"
          ]
        },
        {
          "output_type": "stream",
          "name": "stderr",
          "text": [
            "\n"
          ]
        },
        {
          "output_type": "stream",
          "name": "stdout",
          "text": [
            "\n",
            "Downloading http://yann.lecun.com/exdb/mnist/train-labels-idx1-ubyte.gz\n",
            "Downloading http://yann.lecun.com/exdb/mnist/train-labels-idx1-ubyte.gz to ./data/MNIST/raw/train-labels-idx1-ubyte.gz\n"
          ]
        },
        {
          "output_type": "stream",
          "name": "stderr",
          "text": [
            "100%|██████████| 28881/28881 [00:00<00:00, 30163270.37it/s]\n"
          ]
        },
        {
          "output_type": "stream",
          "name": "stdout",
          "text": [
            "Extracting ./data/MNIST/raw/train-labels-idx1-ubyte.gz to ./data/MNIST/raw\n",
            "\n",
            "Downloading http://yann.lecun.com/exdb/mnist/t10k-images-idx3-ubyte.gz\n",
            "Downloading http://yann.lecun.com/exdb/mnist/t10k-images-idx3-ubyte.gz to ./data/MNIST/raw/t10k-images-idx3-ubyte.gz\n"
          ]
        },
        {
          "output_type": "stream",
          "name": "stderr",
          "text": [
            "100%|██████████| 1648877/1648877 [00:00<00:00, 135282097.66it/s]"
          ]
        },
        {
          "output_type": "stream",
          "name": "stdout",
          "text": [
            "Extracting ./data/MNIST/raw/t10k-images-idx3-ubyte.gz to ./data/MNIST/raw\n",
            "\n",
            "Downloading http://yann.lecun.com/exdb/mnist/t10k-labels-idx1-ubyte.gz\n",
            "Downloading http://yann.lecun.com/exdb/mnist/t10k-labels-idx1-ubyte.gz to ./data/MNIST/raw/t10k-labels-idx1-ubyte.gz\n"
          ]
        },
        {
          "output_type": "stream",
          "name": "stderr",
          "text": [
            "\n",
            "100%|██████████| 4542/4542 [00:00<00:00, 8137773.93it/s]\n"
          ]
        },
        {
          "output_type": "stream",
          "name": "stdout",
          "text": [
            "Extracting ./data/MNIST/raw/t10k-labels-idx1-ubyte.gz to ./data/MNIST/raw\n",
            "\n"
          ]
        }
      ]
    },
    {
      "cell_type": "code",
      "source": [
        "# Initialize the autoencoder and optimizer\n",
        "model = Autoencoder()\n",
        "criterion = nn.MSELoss()\n",
        "optimizer = optim.Adam(model.parameters(), lr=0.001)\n",
        "\n",
        "# Training\n",
        "num_epochs = 10\n",
        "for epoch in range(num_epochs):\n",
        "    for data in trainloader:\n",
        "        img, _ = data\n",
        "        noisy_img = img + 0.3 * torch.randn(img.shape)\n",
        "        noisy_img = np.clip(noisy_img, 0., 1.)\n",
        "        img = img.view(img.size(0), -1)\n",
        "        noisy_img = noisy_img.view(noisy_img.size(0), -1)\n",
        "        output = model(noisy_img)\n",
        "        loss = criterion(output, img)\n",
        "\n",
        "        optimizer.zero_grad()\n",
        "        loss.backward()\n",
        "        optimizer.step()\n",
        "\n",
        "# Test with a single image\n",
        "model.eval()\n",
        "test_img, _ = trainset[0]\n",
        "noisy_test_img = test_img + 0.3 * torch.randn(test_img.shape)\n",
        "noisy_test_img = np.clip(noisy_test_img, 0., 1.)\n",
        "test_img = test_img.view(1, -1)\n",
        "noisy_test_img = noisy_test_img.view(1, -1)\n",
        "output_img = model(noisy_test_img)\n"
      ],
      "metadata": {
        "id": "BG6Ajjm2cUNO"
      },
      "execution_count": 8,
      "outputs": []
    },
    {
      "cell_type": "code",
      "source": [
        "def plot_images(original, noisy, recovered):\n",
        "    \"\"\"\n",
        "    Plots three images side-by-side: the original image, a noisy version of the original image,\n",
        "    and the recovered image after processing through an autoencoder or other denoising method.\n",
        "\n",
        "    Args:\n",
        "        original (torch.Tensor): A PyTorch tensor representing the original image.\n",
        "        noisy (torch.Tensor): A PyTorch tensor representing the noisy version of the original image.\n",
        "        recovered (torch.Tensor): A PyTorch tensor representing the recovered image after denoising.\n",
        "\n",
        "    Returns:\n",
        "        None. Displays the images side-by-side in a single row using matplotlib.\n",
        "    \"\"\"\n",
        "    fig, axes = plt.subplots(1, 3, figsize=(15, 5))\n",
        "\n",
        "    img_list = [original, noisy, recovered]\n",
        "    titles = ['Original Image', 'Noisy Image', 'Recovered Image']\n",
        "\n",
        "    for i, (img, title) in enumerate(zip(img_list, titles)):\n",
        "        img = img.detach().numpy().reshape(28, 28)\n",
        "        axes[i].imshow(img, cmap='gray')\n",
        "        axes[i].set_title(title)\n",
        "        axes[i].axis('off')\n",
        "\n",
        "    plt.show()\n",
        "\n",
        "# Call the new plotting function\n",
        "plot_images(test_img, noisy_test_img, output_img)\n"
      ],
      "metadata": {
        "id": "Wqnz6MZXYoYt",
        "colab": {
          "base_uri": "https://localhost:8080/",
          "height": 401
        },
        "outputId": "dc2ed623-a5ee-476b-d1db-7decb1d0720e"
      },
      "execution_count": 9,
      "outputs": [
        {
          "output_type": "display_data",
          "data": {
            "text/plain": [
              "<Figure size 1500x500 with 3 Axes>"
            ],
            "image/png": "[encoded data removed]"
          },
          "metadata": {}
        }
      ]
    },
    {
      "cell_type": "markdown",
      "source": [
        "# Examples for \"Dealing with language related challenges\""
      ],
      "metadata": {
        "id": "SmTXBhRWTt9y"
      }
    },
    {
      "cell_type": "markdown",
      "source": [
        "## SentencePiece"
      ],
      "metadata": {
        "id": "pn2raJatT6ya"
      }
    },
    {
      "cell_type": "code",
      "source": [
        "# Toy sentences from The Hitchhiker's Guide to the Galaxy\n",
        "sentences = [\n",
        "    \"The Answer to the Ultimate Question of Life, the Universe, and Everything is 42.\",\n",
        "    \"The Babel fish is small, yellow, leech-like, and probably the oddest thing in the universe.\",\n",
        "    \"A towel is about the most massively useful thing an interstellar hitchhiker can have.\",\n",
        "    \"The Earth is demolished to make way for a new hyperspace bypass.\",\n",
        "    \"Transformers are widely used in machine translation tasks.\",\n",
        "    \"Multilingual transformers have shown great success in natural language processing.\",\n",
        "    \"Transformers have taken the world of artificial intelligence by storm.\",\n",
        "]\n",
        "\n",
        "# Save sentences to a text file\n",
        "with open(\"hitchhikers_sentences.txt\", \"w\") as f:\n",
        "    for sentence in sentences:\n",
        "        f.write(sentence + \"\\n\")\n",
        "\n",
        "# Train SentencePiece tokenizer\n",
        "spm.SentencePieceTrainer.train(input=\"hitchhikers_sentences.txt\", model_prefix=\"hitchhikers\", vocab_size=100)\n",
        "\n",
        "# Load trained tokenizer\n",
        "tokenizer = spm.SentencePieceProcessor()\n",
        "tokenizer.load(\"hitchhikers.model\")\n",
        "\n",
        "# Subword regularization and BPE-dropout\n",
        "word = \"transformers\"\n",
        "tokenized_word_examples = []\n",
        "for n in range(5):\n",
        "    tokenized_word_examples.append(tokenizer.encode(word, out_type=str, enable_sampling=True, alpha=0.5, nbest_size=-1))\n",
        "\n",
        "# Print tokenized word examples\n",
        "for example in tokenized_word_examples:\n",
        "    print(example)\n"
      ],
      "metadata": {
        "colab": {
          "base_uri": "https://localhost:8080/"
        },
        "id": "emlPG4Dpsnrk",
        "outputId": "16fd103e-d1cc-4509-ce51-7afa5f9bda7a"
      },
      "execution_count": 3,
      "outputs": [
        {
          "output_type": "stream",
          "name": "stdout",
          "text": [
            "['▁t', 'r', 'an', 's', 'f', 'or', 'm', 'er', 's']\n",
            "['▁t', 'r', 'an', 's', 'f', 'or', 'm', 'er', 's']\n",
            "['▁t', 'r', 'a', 'n', 's', 'f', 'or', 'm', 'er', 's']\n",
            "['▁', 't', 'r', 'a', 'n', 's', 'f', 'or', 'm', 'er', 's']\n",
            "['▁t', 'r', 'an', 's', 'f', 'or', 'm', 'er', 's']\n"
          ]
        }
      ]
    },
    {
      "cell_type": "code",
      "source": [
        "def plot_subword_tokenization(tokenized_word_examples):\n",
        "    \"\"\"\n",
        "    Visualizes the subword tokenization of multiple examples using different colors for each unique token.\n",
        "    The function takes a list of lists containing tokenized word examples and plots them with unique\n",
        "    colors for each token.\n",
        "\n",
        "    Args:\n",
        "        tokenized_word_examples (List[List[str]]): A list of lists containing tokenized word examples,\n",
        "            where each inner list contains the subword tokens of a word.\n",
        "\n",
        "    Returns:\n",
        "        None. Displays the visualization of subword tokenization using matplotlib.\n",
        "    \"\"\"\n",
        "\n",
        "    fig, ax = plt.subplots(len(tokenized_word_examples), figsize=(4.5, len(tokenized_word_examples) * 0.4))\n",
        "\n",
        "    # Create a custom color scheme\n",
        "    np.random.seed(9)\n",
        "    num_colors = sum(len(example) for example in tokenized_word_examples)\n",
        "    colors = np.random.rand(num_colors, 3)\n",
        "    \n",
        "\n",
        "    # Assign a unique color to each token\n",
        "    unique_tokens = set(token for example in tokenized_word_examples for token in example)\n",
        "    token_colors = {token: colors[idx] for idx, token in enumerate(unique_tokens)}\n",
        "\n",
        "    for i, tokens in enumerate(tokenized_word_examples):\n",
        "        x_position = 0\n",
        "        for token in tokens:\n",
        "            color = token_colors[token]\n",
        "            ax[i].text(x_position, 0.1, token, fontsize=14, bbox=dict(facecolor=color, edgecolor=color, alpha=0.25))\n",
        "            x_position += (len(token) * 0.04) + 0.1  # Adjust spacing between tokens\n",
        "        ax[i].axis(\"off\")\n",
        "\n",
        "    plt.tight_layout()\n",
        "    plt.show()\n",
        "\n",
        "plot_subword_tokenization(tokenized_word_examples)\n"
      ],
      "metadata": {
        "colab": {
          "base_uri": "https://localhost:8080/",
          "height": 207
        },
        "id": "Gxwns7zI0xH5",
        "outputId": "263d091a-1547-4ddc-a6f5-4ba3eb67893f"
      },
      "execution_count": 4,
      "outputs": [
        {
          "output_type": "display_data",
          "data": {
            "text/plain": [
              "<Figure size 450x200 with 5 Axes>"
            ],
            "image/png": "[encoded data removed]"
          },
          "metadata": {}
        }
      ]
    },
    {
      "cell_type": "markdown",
      "source": [
        "## Byte Pair Encoding"
      ],
      "metadata": {
        "id": "1LzuFy76UBkl"
      }
    },
    {
      "cell_type": "code",
      "source": [
        "def get_stats(vocab):\n",
        "    \"\"\"\n",
        "    Computes the frequency of character pairs (bigrams) in a given vocabulary.\n",
        "\n",
        "    Args:\n",
        "        vocab (dict): A dictionary with space-separated words as keys and their frequencies as values.\n",
        "\n",
        "    Returns:\n",
        "        pairs (collections.defaultdict): A defaultdict that stores character pairs as keys and\n",
        "            their frequencies as values.\n",
        "    \"\"\"\n",
        "\n",
        "    pairs = collections.defaultdict(int)\n",
        "    for word, freq in vocab.items():\n",
        "        symbols = word.split()\n",
        "        for i in range(len(symbols) - 1):\n",
        "            pairs[symbols[i], symbols[i + 1]] += freq\n",
        "    return pairs\n",
        "\n",
        "def merge_vocab(pair, v_in):\n",
        "    \"\"\"\n",
        "    Merges a given character pair in the words of a vocabulary.\n",
        "\n",
        "    Args:\n",
        "        pair (tuple): A tuple containing the character pair to be merged.\n",
        "        v_in (dict): A dictionary with space-separated words as keys and their frequencies as values.\n",
        "\n",
        "    Returns:\n",
        "        v_out (dict): A dictionary with the same keys as v_in, but with the character pair merged\n",
        "            in the words.\n",
        "    \"\"\"\n",
        "    \n",
        "    v_out = {}\n",
        "    bigram = re.escape(' '.join(pair))\n",
        "    p = re.compile(r'(?<!\\S)' + bigram + r'(?!\\S)')\n",
        "    for word in v_in:\n",
        "        w_out = p.sub(''.join(pair), word)\n",
        "        v_out[w_out] = v_in[word]\n",
        "    return v_out\n",
        "\n",
        "vocab = {'l o w </w>': 5, 'l o w e r </w>': 2,\n",
        "         'n e w e s t </w>': 6, 'w i d e s t </w>': 3}\n",
        "num_merges = 10\n",
        "for i in range(num_merges):\n",
        "    pairs = get_stats(vocab)\n",
        "    if not pairs:  \n",
        "        break\n",
        "    best = max(pairs, key=pairs.get)\n",
        "    vocab = merge_vocab(best, vocab)\n",
        "    print(best)\n"
      ],
      "metadata": {
        "colab": {
          "base_uri": "https://localhost:8080/"
        },
        "id": "47_4fh51vfIK",
        "outputId": "f29a2e2d-87f6-4de9-8673-198d1b4a9d82"
      },
      "execution_count": 5,
      "outputs": [
        {
          "output_type": "stream",
          "name": "stdout",
          "text": [
            "('e', 's')\n",
            "('es', 't')\n",
            "('est', '</w>')\n",
            "('l', 'o')\n",
            "('lo', 'w')\n",
            "('n', 'e')\n",
            "('ne', 'w')\n",
            "('new', 'est</w>')\n",
            "('low', '</w>')\n",
            "('w', 'i')\n"
          ]
        }
      ]
    }
  ]
}