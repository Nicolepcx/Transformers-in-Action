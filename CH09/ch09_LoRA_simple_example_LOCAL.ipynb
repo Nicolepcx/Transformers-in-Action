{
 "cells": [
  {
   "cell_type": "markdown",
   "metadata": {
    "id": "tbX2Jhn-bZlT"
   },
   "source": [
    "# About this notebook\n",
    "\n",
    "\n",
    "In this notebook you see a simplified version of LoRA.\n"
   ]
  },
  {
   "cell_type": "markdown",
   "metadata": {
    "id": "3KN5LWLPsOki"
   },
   "source": [
    "# Imports"
   ]
  },
  {
   "cell_type": "code",
   "execution_count": null,
   "metadata": {
    "id": "f-EV0TA2zG2F"
   },
   "outputs": [],
   "source": [
    "import numpy as np"
   ]
  },
  {
   "cell_type": "code",
   "execution_count": null,
   "metadata": {
    "colab": {
     "base_uri": "https://localhost:8080/"
    },
    "id": "05EdjU36bnYd",
    "outputId": "7976cdf2-2be3-4ac1-a2f6-933a3d9bcad7"
   },
   "outputs": [
    {
     "name": "stdout",
     "output_type": "stream",
     "text": [
      "Original matrix W:\n",
      "[[2 8 2 4 5 1]\n",
      " [7 4 6 7 1 5]\n",
      " [7 1 8 7 0 3]\n",
      " [5 1 0 0 0 5]\n",
      " [5 3 1 0 5 7]\n",
      " [7 5 3 2 1 2]]\n",
      "\n",
      "Matrix B (after decomposition):\n",
      "[[-1.63975843 -1.33957697 -2.07707937 -0.16573653  0.18276492]\n",
      " [-2.69725086  0.70080261 -0.06759739 -0.29920634  0.81155888]\n",
      " [-2.43915942  1.84683617  0.07585973 -0.41680288 -0.57780471]\n",
      " [-1.08102782 -0.56800259  1.53387208  0.50825529  0.6897052 ]\n",
      " [-1.67257669 -1.79246668  1.13205129 -0.86851545 -0.54666945]\n",
      " [-1.85552222 -0.31598708 -0.07997718  1.61607965 -0.49072672]]\n",
      "\n",
      "Matrix A (after decomposition):\n",
      "[[-2.82949436 -1.78893697 -1.98157622 -1.98198396 -0.90532274 -1.85518664]\n",
      " [ 0.12216945 -1.4565141   1.45308667  1.26912081 -1.63691814 -0.89096464]\n",
      " [ 1.08890724 -1.54181904 -0.38426074 -1.0558866  -0.61174412  1.66300157]\n",
      " [ 1.06453149  0.77740217 -0.37838641 -0.62396052 -0.98449913 -0.82204055]\n",
      " [-0.35179518  0.35596623 -0.68899414  0.67894206 -0.734205    0.56217305]]\n",
      "\n",
      "Low-rank approximation of W (W_approx):\n",
      "[[ 1.97355752  8.02323197  2.03771342  3.97055002  4.97691009  1.02037504]\n",
      " [ 7.03984842  3.96498977  5.94316643  7.04438069  1.03479616  4.96929512]\n",
      " [ 6.96938812  1.02689514  8.04366001  6.9659064  -0.02673069  3.02358774]\n",
      " [ 4.95803279  1.03687176  0.05985548 -0.04674046 -0.03664631  5.0323375 ]\n",
      " [ 5.01401415  2.98768737  0.9800124   0.01560809  5.01223734  6.98920151]\n",
      " [ 7.01750091  4.98462396  2.97503944  2.01949142  1.01528202  1.98651482]]\n",
      "\n",
      "Low-rank approximation of W (W_approx) converted to integer:\n",
      "[[2 8 2 4 5 1]\n",
      " [7 4 6 7 1 5]\n",
      " [7 1 8 7 0 3]\n",
      " [5 1 0 0 0 5]\n",
      " [5 3 1 0 5 7]\n",
      " [7 5 3 2 1 2]]\n"
     ]
    }
   ],
   "source": [
    "# Function to decompose a matrix W into low-rank matrices A and B\n",
    "def lora_decomposition(W, r):\n",
    "    # Initialize B with zeros (d x r) and A with random Gaussian values (r x d)\n",
    "    B = np.zeros((W.shape[0], r))\n",
    "    A = np.random.normal(0, 1, (r, W.shape[1]))\n",
    "\n",
    "    # For an illustrative example, we compute A and B using SVD for the optimal low-rank approximation\n",
    "    U, S, Vt = np.linalg.svd(W, full_matrices=False)\n",
    "    B[:, :r] = U[:, :r] * np.sqrt(S[:r])\n",
    "    A[:r, :] = np.sqrt(S[:r])[:, np.newaxis] * Vt[:r, :]\n",
    "\n",
    "    # Compute the low-rank approximation of W\n",
    "    W_approx = B @ A\n",
    "\n",
    "    return B, A, W_approx\n",
    "\n",
    "# Create a random integer square matrix W with dimension d x d\n",
    "d = 6  # Dimension of the square matrix\n",
    "W = np.random.randint(0, 10, size=(d, d))\n",
    "\n",
    "# Choose a rank r for the low-rank approximation, with r < d\n",
    "r = 5  # Rank for the decomposition\n",
    "\n",
    "# Perform the decomposition\n",
    "B, A, W_approx = lora_decomposition(W, r)\n",
    "\n",
    "# Output the matrices and the approximation\n",
    "print(\"Original matrix W:\")\n",
    "print(W)\n",
    "print(\"\\nMatrix B (after decomposition):\")\n",
    "print(B)\n",
    "print(\"\\nMatrix A (after decomposition):\")\n",
    "print(A)\n",
    "print(\"\\nLow-rank approximation of W (W_approx):\")\n",
    "print(W_approx)\n",
    "print(\"\\nLow-rank approximation of W (W_approx) converted to integer:\")\n",
    "print(W_approx.round(0).astype(int))\n",
    "\n"
   ]
  }
 ],
 "metadata": {
  "colab": {
   "provenance": []
  },
  "kernelspec": {
   "display_name": "Python 3 (ipykernel)",
   "language": "python",
   "name": "python3"
  },
  "language_info": {
   "codemirror_mode": {
    "name": "ipython",
    "version": 3
   },
   "file_extension": ".py",
   "mimetype": "text/x-python",
   "name": "python",
   "nbconvert_exporter": "python",
   "pygments_lexer": "ipython3",
   "version": "3.10.12"
  }
 },
 "nbformat": 4,
 "nbformat_minor": 4
}
